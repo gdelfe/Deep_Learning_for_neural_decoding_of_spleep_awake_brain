{
 "cells": [
  {
   "cell_type": "code",
   "execution_count": null,
   "metadata": {},
   "outputs": [],
   "source": []
  },
  {
   "cell_type": "code",
   "execution_count": 2,
   "metadata": {},
   "outputs": [
    {
     "name": "stdout",
     "output_type": "stream",
     "text": [
      "Hello world\n"
     ]
    }
   ],
   "source": [
    "print(\"Hello world\")"
   ]
  },
  {
   "cell_type": "markdown",
   "metadata": {},
   "source": [
    "This notebook is running on ss2.cns.nyu.edu, and I ssh'ed into it from remore desktop. Lot's of remote access, but cool to see it working. "
   ]
  },
  {
   "cell_type": "markdown",
   "metadata": {},
   "source": [
    "# How to run Jupyter\n",
    "\n",
    "\n",
    "    - activate capstone anaconda environment, enter \"monkey\" in command line to do this. \n",
    "    - cd to whatever repoository you want as your root for local host\n",
    "    - run the command \n",
    "            jupyter notebook --no-browser --port=8080\n",
    "            \n",
    "    - Leaving this tab open, open a new window, and enter the command \n",
    "          ssh -L 8080:localhost:8080 bijanadmin@ss2.cns.nyu.edu\n",
    "          \n",
    "     Now leave this tab open\n",
    "     \n",
    "     \n",
    "     \n",
    "     Head back to the first tab, and find the following output from the jupyter command, \n",
    "     \n",
    "      http://127.0.0.1:8080/?token=3d069466832bafe22894de968f6ed158630b48f0bd7c1695\n",
    "\n",
    "    Paste this into your browser, and have fun working :-). The token will be different every time. \n",
    "    \n",
    "    \n",
    "   Some other stuff to consider is for each of us to use different ports so as to not interfere with othere's work. Doing this is as simple as changing the port to 9090 or another number."
   ]
  },
  {
   "cell_type": "code",
   "execution_count": null,
   "metadata": {},
   "outputs": [],
   "source": []
  }
 ],
 "metadata": {
  "kernelspec": {
   "display_name": "Python 3",
   "language": "python",
   "name": "python3"
  },
  "language_info": {
   "codemirror_mode": {
    "name": "ipython",
    "version": 3
   },
   "file_extension": ".py",
   "mimetype": "text/x-python",
   "name": "python",
   "nbconvert_exporter": "python",
   "pygments_lexer": "ipython3",
   "version": "3.8.5"
  }
 },
 "nbformat": 4,
 "nbformat_minor": 4
}
