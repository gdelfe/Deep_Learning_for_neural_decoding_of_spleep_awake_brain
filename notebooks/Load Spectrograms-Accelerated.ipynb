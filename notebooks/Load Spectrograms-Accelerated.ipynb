{
 "cells": [
  {
   "cell_type": "markdown",
   "metadata": {},
   "source": [
    "# Make a faster version of spectrogram generation code, using notes from Monday's meeting such as \n",
    "\n",
    "1) Load in all video files to start\n",
    "\n",
    "2) Save all channels simultaneously\n",
    "\n",
    "3) badtimes based on index in mat file\n",
    "\n",
    "4) ..."
   ]
  },
  {
   "cell_type": "code",
   "execution_count": 1,
   "metadata": {},
   "outputs": [],
   "source": [
    "import numpy as np\n",
    "import pandas as pd\n",
    "import matplotlib.pyplot as plt\n",
    "%matplotlib inline\n",
    "import torch\n",
    "import os\n",
    "from scipy.stats import zscore\n"
   ]
  },
  {
   "cell_type": "code",
   "execution_count": 2,
   "metadata": {},
   "outputs": [],
   "source": [
    "import scipy"
   ]
  },
  {
   "cell_type": "code",
   "execution_count": 3,
   "metadata": {},
   "outputs": [],
   "source": [
    "from scipy.io import loadmat"
   ]
  },
  {
   "cell_type": "code",
   "execution_count": 4,
   "metadata": {},
   "outputs": [],
   "source": [
    "spec_data = loadmat('../../../Spectrogram_mat_data/N10W1dn1_180326_rec005.mat')"
   ]
  },
  {
   "cell_type": "code",
   "execution_count": null,
   "metadata": {},
   "outputs": [],
   "source": []
  },
  {
   "cell_type": "markdown",
   "metadata": {},
   "source": [
    "Zooming in, looks like bad time removal spectrogram helps"
   ]
  },
  {
   "cell_type": "code",
   "execution_count": null,
   "metadata": {},
   "outputs": [
    {
     "name": "stdout",
     "output_type": "stream",
     "text": [
      "N10W1dn1_180326_rec008.mat\n",
      "Shape ti:  (1, 7197)\n",
      "Skipping  N10W1dn1_180326_rec008.mat  (no mstart)\n",
      "This spec is either entirely moving or not moving.\n",
      "N10W1dn1_180331_rec003.mat\n",
      "Shape ti:  (1, 7196)\n",
      "N10W1dn1_180326_rec004.mat\n",
      "Shape ti:  (1, 7197)\n",
      "N10W1dn1_180326_rec010.mat\n",
      "Shape ti:  (1, 3776)\n",
      "Skipping  N10W1dn1_180326_rec010.mat  (no mstart)\n",
      "This spec is either entirely moving or not moving.\n",
      "N10W1dn1_180409_rec005.mat\n",
      "N10W1dn1_180326_rec002.mat\n",
      "Shape ti:  (1, 7197)\n",
      "Skipping  N10W1dn1_180326_rec002.mat  (no mstart)\n",
      "This spec is either entirely moving or not moving.\n",
      "N10W1dn1_180326_rec003.mat\n",
      "Shape ti:  (1, 7197)\n",
      "N10W1dn1_180326_rec005.mat\n",
      "Shape ti:  (1, 7197)\n",
      "N10W1dn1_180326_rec006.mat\n",
      "Shape ti:  (1, 7197)\n",
      "Skipping  N10W1dn1_180326_rec006.mat  (no mstart)\n",
      "This spec is either entirely moving or not moving.\n",
      "N10W1dn1_180410_rec005.mat\n",
      "N10W1dn1_180331_rec001.mat\n",
      "Shape ti:  (1, 7191)\n",
      "N10W1dn1_180411_rec003.mat\n",
      "N10W1dn1_180327_rec004.mat\n",
      "Shape ti:  (1, 7197)\n",
      "N10W1dn1_180413_rec006.mat\n",
      "N10W1dn1_180412_rec003.mat\n",
      "N10W1dn1_180330_rec011.mat\n",
      "no field of name ti\n",
      "N10W1dn1_180412_rec004.mat\n",
      "N10W1dn1_180330_rec008.mat\n",
      "no field of name ti\n",
      "N10W1dn1_180330_rec010.mat\n",
      "no field of name ti\n",
      "N10W1dn1_180331_rec006.mat\n",
      "Shape ti:  (1, 7197)\n",
      "N10W1dn1_180331_rec008.mat\n",
      "Shape ti:  (1, 4350)\n",
      "Skipping  N10W1dn1_180331_rec008.mat  (no mstart)\n",
      "This spec is either entirely moving or not moving.\n",
      "N10W1dn1_180326_rec009.mat\n",
      "Shape ti:  (1, 7197)\n",
      "Skipping  N10W1dn1_180326_rec009.mat  (no mstart)\n",
      "This spec is either entirely moving or not moving.\n",
      "N10W1dn1_180327_rec001.mat\n",
      "Shape ti:  (1, 7191)\n",
      "N10W1dn1_180413_rec002.mat\n",
      "N10W1dn1_180411_rec006.mat\n",
      "N10W1dn1_180409_rec004.mat\n",
      "N10W1dn1_180409_rec003.mat\n",
      "N10W1dn1_180330_rec003.mat\n",
      "no field of name ti\n",
      "N10W1dn1_180330_rec004.mat\n",
      "no field of name ti\n",
      "N10W1dn1_180413_rec009.mat\n",
      "N10W1dn1_180329_rec003.mat\n",
      "no field of name ti\n",
      "N10W1dn1_180414_rec003.mat\n",
      "N10W1dn1_180410_rec004.mat\n",
      "N10W1dn1_180414_rec001.mat\n",
      "N10W1dn1_180414_rec002.mat\n",
      "N10W1dn1_180412_rec001.mat\n",
      "N10W1dn1_180409_rec001.mat\n",
      "N10W1dn1_180411_rec005.mat\n",
      "N10W1dn1_180411_rec002.mat\n",
      "N10W1dn1_180409_rec006.mat\n",
      "N10W1dn1_180413_rec003.mat\n",
      "N10W1dn1_180412_rec005.mat\n",
      "N10W1dn1_180330_rec009.mat\n",
      "no field of name ti\n",
      "N10W1dn1_180331_rec004.mat\n",
      "Shape ti:  (1, 7197)\n",
      "N10W1dn1_180412_rec006.mat\n",
      "N10W1dn1_180327_rec002.mat\n",
      "Shape ti:  (1, 7191)\n",
      "N10W1dn1_180410_rec003.mat\n",
      "N10W1dn1_180327_rec008.mat\n",
      "Shape ti:  (1, 7197)\n",
      "N10W1dn1_180329_rec006.mat\n",
      "no field of name ti\n",
      "N10W1dn1_180414_rec004.mat\n",
      "N10W1dn1_180414_rec007.mat\n",
      "N10W1dn1_180413_rec010.mat\n",
      "N10W1dn1_180330_rec007.mat\n",
      "no field of name ti\n",
      "N10W1dn1_180331_rec002.mat\n",
      "Shape ti:  (1, 7190)\n",
      "N10W1dn1_180409_rec007.mat\n",
      "N10W1dn1_180327_rec005.mat\n",
      "Shape ti:  (1, 7197)\n"
     ]
    }
   ],
   "source": [
    "spec_path = '../../../Spectrogram_mat_data/'\n",
    "window=10\n",
    "\n",
    "for file in os.listdir(spec_path)[:]:\n",
    "    if file[-4:] == '.mat':\n",
    "        night = file.split('_')[1]\n",
    "        rec = file.split('_')[2].split('.')[0][-3:]\n",
    "        #ti,f,ztotSpec,badtimes,btrm_ztotSpec,m_start,m_stop = read_spec(spec_path + f)\n",
    "        print(file)\n",
    "        if '1803' not in file:\n",
    "            continue \n",
    "        ch = 0\n",
    "        # TODO: Read spec main data\n",
    "        spec_data = loadmat(spec_path + file)\n",
    "     #   [‘Spec_per_Ch’][‘Ch1’][0][0][‘ti’]\n",
    "        try:\n",
    "            ti = spec_data['Spec_per_Ch']['Ch1'][0][0]['ti'][0][0]\n",
    "        except Exception as e:\n",
    "            \n",
    "            print(e)\n",
    "            continue\n",
    "        print(\"Shape ti: \", ti.shape)\n",
    "        f = spec_data['Spec_per_Ch']['Ch1'][0][0]['f'][0][0]#[0][0][ch][0][0][1]\n",
    "        times = ti[0][:]//1000\n",
    "        badtimes = spec_data['Spec_per_Ch']['Ch1'][0][0]['badtimes'][0][0]#[0][0][ch][0][0][3]\n",
    "        m_start = spec_data['Spec_per_Ch']['Ch1'][0][0]['m_start'][0][0]#[0][0][5]\n",
    "        if m_start.shape[0] == 0:\n",
    "            \n",
    "            print(\"Skipping \", file, \" (no mstart)\")\n",
    "            print(\"This spec is either entirely moving or not moving.\")\n",
    "            continue\n",
    "\n",
    "        m_stop = spec_data['Spec_per_Ch']['Ch1'][0][0]['m_stop'][0][0]#[0][0][6]\n",
    "        \n",
    "        \n",
    "        # next loop through channels, concat\n",
    "        specs = []\n",
    "        for ch in range(1,62):\n",
    "            ztotSpec = spec_data['Spec_per_Ch']['Ch'+str(ch)][0][0]['ztotSpec'][0][0]\n",
    "            specs.append(ztotSpec)\n",
    "        ztotSpecs = np.stack(specs)\n",
    "        \n",
    "        m_start_idx = []\n",
    "        for start in m_start[0]:\n",
    "            idx = (np.abs(times-start)).argmin()\n",
    "            m_start_idx.append(idx)\n",
    "\n",
    "        m_stop_idx = []\n",
    "        for stop in m_stop[0]:\n",
    "            idx = (np.abs(times-stop)).argmin()\n",
    "            m_stop_idx.append(idx)\n",
    "\n",
    "\n",
    "        badtime_idx = []\n",
    "\n",
    "        for badtime in badtimes[0]:\n",
    "            idx = (np.abs(times-badtime)).argmin()\n",
    "            badtime_idx.append(idx)\n",
    "\n",
    "        for idx in badtime_idx:\n",
    "            ztotSpecs[:,idx,:] = np.nan\n",
    "\n",
    "\n",
    "        prior_mvmt_idx = 0\n",
    "        for start_idx, stop_idx in zip(m_start_idx,m_stop_idx):\n",
    "\n",
    "            asleep = torch.from_numpy(ztotSpecs[:,int(round(prior_mvmt_idx)):int(round(start_idx)),:])\n",
    "            moving = torch.from_numpy(ztotSpecs[:,int(round(start_idx)):int(round(stop_idx)),:])\n",
    "            prior_mvmt_idx = stop_idx\n",
    "\n",
    "           # print(asleep.sum(),moving.sum())\n",
    "            asleeps = torch.split(asleep,split_size_or_sections=window,dim=1)\n",
    "            movings = torch.split(moving,split_size_or_sections=window,dim=1)\n",
    "            # Now of these two arrays, split and save, assuming it does not include a badtime index\n",
    "\n",
    "                                # loop over these windows and save \n",
    "            for i, arr in enumerate(asleeps):\n",
    "                if not torch.isnan(arr.sum()) and arr.shape[1] == window:\n",
    "                    np.save('../../data/sleep/' + night + '_' + rec + '_' + str(ch) + '_win'+str(i) +'_sleep.npy',arr.numpy()) \n",
    "            for i, arr in enumerate(movings):\n",
    "                if not torch.isnan(arr.sum()) and arr.shape[1] == window:\n",
    "                    np.save('../../data/move/' + night + '_' + rec + '_' + str(ch) + '_win'+str(i) +'_move.npy',arr.numpy()) \n",
    "\n"
   ]
  },
  {
   "cell_type": "code",
   "execution_count": null,
   "metadata": {},
   "outputs": [],
   "source": []
  },
  {
   "cell_type": "code",
   "execution_count": 17,
   "metadata": {},
   "outputs": [
    {
     "data": {
      "text/plain": [
       "'003'"
      ]
     },
     "execution_count": 17,
     "metadata": {},
     "output_type": "execute_result"
    }
   ],
   "source": [
    "file.split('_')[2].split('.')[0][-3:]"
   ]
  },
  {
   "cell_type": "code",
   "execution_count": null,
   "metadata": {},
   "outputs": [],
   "source": [
    "plt.imshow(np.load('../../data/sleep/180327_003_61_win100_sleep.npy')[].shape"
   ]
  },
  {
   "cell_type": "code",
   "execution_count": null,
   "metadata": {},
   "outputs": [],
   "source": [
    "ztotSpec = spec_data['Spec_per_Ch']['Ch'+str(ch)][0][0]['ztotSpec'][0][0]"
   ]
  },
  {
   "cell_type": "code",
   "execution_count": null,
   "metadata": {},
   "outputs": [],
   "source": [
    "plt.imshow(ztotSpec.T[:,:1003])"
   ]
  },
  {
   "cell_type": "code",
   "execution_count": null,
   "metadata": {},
   "outputs": [],
   "source": [
    "specs = []\n",
    "for ch in range(1,62):\n",
    "    ztotSpec = spec_data['Spec_per_Ch']['Ch'+str(ch)][0][0]['ztotSpec'][0][0]\n",
    "    specs.append(ztotSpec)\n",
    "ztotSpecs = np.stack(specs)"
   ]
  },
  {
   "cell_type": "code",
   "execution_count": null,
   "metadata": {},
   "outputs": [],
   "source": [
    "ztotSpecs.shape"
   ]
  },
  {
   "cell_type": "code",
   "execution_count": null,
   "metadata": {},
   "outputs": [],
   "source": [
    "times = ti[0][:]//1000"
   ]
  },
  {
   "cell_type": "code",
   "execution_count": null,
   "metadata": {},
   "outputs": [],
   "source": [
    "m_start_idx = []\n",
    "for start in m_start[0]:\n",
    "    idx = (np.abs(times-start)).argmin()\n",
    "    m_start_idx.append(idx)\n",
    "    \n",
    "m_stop_idx = []\n",
    "for stop in m_stop[0]:\n",
    "    idx = (np.abs(times-stop)).argmin()\n",
    "    m_stop_idx.append(idx)\n",
    "    \n",
    "    \n",
    "badtime_idx = []\n",
    "\n",
    "for badtime in badtimes[0]:\n",
    "    idx = (np.abs(times-badtime)).argmin()\n",
    "    badtime_idx.append(idx)\n",
    "    \n",
    "for idx in badtime_idx:\n",
    "    ztotSpecs[:,idx,:] = np.nan\n",
    "\n",
    "    "
   ]
  },
  {
   "cell_type": "markdown",
   "metadata": {},
   "source": [
    "Impute NaN on columns with badtimes, that way they are discarded. "
   ]
  },
  {
   "cell_type": "code",
   "execution_count": null,
   "metadata": {},
   "outputs": [],
   "source": [
    "window=10\n",
    "asleeps = torch.split(asleep,split_size_or_sections=window,dim=1)"
   ]
  },
  {
   "cell_type": "code",
   "execution_count": null,
   "metadata": {},
   "outputs": [],
   "source": []
  },
  {
   "cell_type": "code",
   "execution_count": null,
   "metadata": {},
   "outputs": [],
   "source": [
    "prior_mvmt_idx = 0\n",
    "window=10\n",
    "\n",
    "for start_idx, stop_idx in zip(m_start_idx,m_stop_idx):\n",
    "    \n",
    "    asleep = torch.from_numpy(btrm_ztotSpecs[:,int(round(prior_mvmt_idx)):int(round(start_idx)),:])\n",
    "    moving = torch.from_numpy(btrm_ztotSpecs[:,int(round(start_idx)):int(round(stop_idx)),:])\n",
    "    prior_mvmt_idx = stop_idx\n",
    "    \n",
    "    print(asleep.sum(),moving.sum())\n",
    "    asleeps = torch.split(asleep,split_size_or_sections=window,dim=1)\n",
    "    movings = torch.split(moving,split_size_or_sections=window,dim=1)\n",
    "    # Now of these two arrays, split and save, assuming it does not include a badtime index\n",
    "\n",
    "                        # loop over these windows and save \n",
    "    for i, arr in enumerate(asleeps):\n",
    "        if not torch.isnan(arr.sum()) and arr.shape[1] == window:\n",
    "            np.save('../../data/sleep/' + night + '_' + rec + '_' + str(ch) + '_win'+str(i) +'_sleep.npy',arr.numpy().T) \n",
    "    for i, arr in enumerate(movings):\n",
    "        if not torch.isnan(arr.sum()) and arr.shape[1] == window:\n",
    "            np.save('../../data/move/' + night + '_' + rec + '_' + str(ch) + '_win'+str(i) +'_move.npy',arr.numpy().T) \n",
    "\n",
    "    \n",
    "    "
   ]
  },
  {
   "cell_type": "code",
   "execution_count": null,
   "metadata": {},
   "outputs": [],
   "source": [
    "arr.shape"
   ]
  },
  {
   "cell_type": "code",
   "execution_count": null,
   "metadata": {},
   "outputs": [],
   "source": [
    "stop_idx"
   ]
  },
  {
   "cell_type": "code",
   "execution_count": null,
   "metadata": {},
   "outputs": [],
   "source": [
    "#root = '/vol/sas2b/Goose_Multiscale_M1_Wireless'\n",
    "#for night in os.listdir(root):\n",
    "#    os.listdir(root + '/' + night)\n",
    "#    break\n",
    "night = '180327'\n",
    "rec = '003'\n",
    "\n",
    "os.listdir('/vol/sas2b/Goose_Multiscale_M1_Wireless/'+night+'/'+rec)\n",
    "\n",
    "#+#'/rec'+rec+'.NightEvents.mat' \n",
    "\n",
    "EventFile = '/vol/sas2b/Goose_Multiscale_M1_Wireless/'+night+'/'+'rec'+rec+'.NightEvents.mat'"
   ]
  },
  {
   "cell_type": "code",
   "execution_count": null,
   "metadata": {},
   "outputs": [],
   "source": [
    "EventFile"
   ]
  },
  {
   "cell_type": "code",
   "execution_count": null,
   "metadata": {
    "scrolled": true
   },
   "outputs": [],
   "source": [
    "movement_df = pd.DataFrame()\n",
    "\n",
    "nights = ['1803'+str(i) for i in range(25,31)]\n",
    "recs = ['00'+str(i) for i in range(1,10)]\n",
    "for night in nights:\n",
    "    for rec in recs:\n",
    "        print(night, rec)\n",
    "        EventFile = '/vol/sas2b/Goose_Multiscale_M1_Wireless/'+night+'/'+rec+'/rec'+rec+'.NightEvents.mat'\n",
    "\n",
    "        if os.path.exists(EventFile):\n",
    "\n",
    "            NightEvents = loadmat(EventFile)\n",
    "           # print(\"found night events file for \", night, ' ', rec )\n",
    "           # video_start = NightEvents['NightEvents'][0][0][3][0][0][0][0][0]\n",
    "           # video_stop = NightEvents['NightEvents'][0][0][3][0][0][1][0][0]\n",
    "           # video_length = video_stop - video_start\n",
    "           # print(night,rec,video_start,video_stop)\n",
    "            try:\n",
    "                starts = NightEvents['NightEvents'][0][0][1][0][0][0][0]\n",
    "                stops = NightEvents['NightEvents'][0][0][1][0][0][1][0]\n",
    "\n",
    "                #print(starts.shape)\n",
    "                #if starts.shape[0] >= 1:\n",
    "                print(starts.shape,stops.shape)\n",
    "               # print('start = ', starts)\n",
    "               # print('end = ', stops)\n",
    "            except:\n",
    "                try:\n",
    "                    starts = NightEvents['NightEvents'][0][0][4][0][0][0][0]\n",
    "                    stops = NightEvents['NightEvents'][0][0][4][0][0][1][0]\n",
    "                   # print('start = ', starts)\n",
    "                   # print('end = ', stops)\n",
    "                    #print(starts.shape)\n",
    "                   # if starts.shape[0] >= 1:\n",
    "                    print(starts.shape,stops.shape)\n",
    "                except:\n",
    "                    #print(\"No mvmt found for \", night, ' ', rec)\n",
    "                    pass\n",
    "          #  break\n",
    "       # break\n",
    "\n",
    "        else: # Exception as e:\n",
    "            #print(e)\n",
    "            #print(\"No event file found for \", night, ' ', rec)\n",
    "            pass\n",
    "            \n"
   ]
  },
  {
   "cell_type": "code",
   "execution_count": null,
   "metadata": {},
   "outputs": [],
   "source": [
    "starts,stops"
   ]
  },
  {
   "cell_type": "code",
   "execution_count": null,
   "metadata": {},
   "outputs": [],
   "source": [
    "def startstop(starts,stops):\n",
    "    for start, stop in zip(starts,stops):\n",
    "        "
   ]
  },
  {
   "cell_type": "code",
   "execution_count": null,
   "metadata": {},
   "outputs": [],
   "source": [
    "print(starts.shape)"
   ]
  },
  {
   "cell_type": "code",
   "execution_count": null,
   "metadata": {
    "scrolled": true
   },
   "outputs": [],
   "source": [
    "starts = NightEvents['NightEvents'][0][0][1][0][0][0][0]"
   ]
  },
  {
   "cell_type": "code",
   "execution_count": null,
   "metadata": {},
   "outputs": [],
   "source": [
    "stops = NightEvents['NightEvents'][0][0][1][0][0][1][0]"
   ]
  },
  {
   "cell_type": "code",
   "execution_count": null,
   "metadata": {},
   "outputs": [],
   "source": [
    "video_start = NightEvents['NightEvents'][0][0][3][0][0][0][0][0]\n",
    "video_stop = NightEvents['NightEvents'][0][0][3][0][0][1][0][0]"
   ]
  },
  {
   "cell_type": "code",
   "execution_count": null,
   "metadata": {},
   "outputs": [],
   "source": [
    "NightEvents['NightEvents'][0][0][0][0][0][0][0].keys"
   ]
  },
  {
   "cell_type": "code",
   "execution_count": null,
   "metadata": {},
   "outputs": [],
   "source": [
    "movements = NightEvents['NightEvents'][0][0][4]"
   ]
  },
  {
   "cell_type": "code",
   "execution_count": null,
   "metadata": {},
   "outputs": [],
   "source": [
    "print(movements)"
   ]
  },
  {
   "cell_type": "code",
   "execution_count": null,
   "metadata": {},
   "outputs": [],
   "source": [
    "\n",
    "                mvmt_starts = night_events['NightEvents'][0][0][1][0][0][0][0]\n",
    "                mvmt_ends = night_events['NightEvents'][0][0][1][0][0][1][0]\n",
    "                has_movements = True #transitions "
   ]
  },
  {
   "cell_type": "code",
   "execution_count": null,
   "metadata": {},
   "outputs": [],
   "source": [
    "def save_night_events():\n",
    "    \"\"\"\n",
    "    Loop through all night events files, \n",
    "    \"\"\""
   ]
  },
  {
   "cell_type": "markdown",
   "metadata": {},
   "source": [
    "# .mat file ordering\n",
    "\n",
    "We can load three spectrograms for each channel, of which there are 62 channels. These three spectrograms are the entire spectrogram, no movement, movement. We only want the entire spec, which we have now, and now we want to coincide those with the movement times. "
   ]
  },
  {
   "cell_type": "markdown",
   "metadata": {},
   "source": [
    "# Main Loop\n",
    "\n",
    "EDIT: This works assuming we have access to all the spectrograms of all the movments + all the night event files of those recordings, which is not the case. Instead, please see below where I have essentially the same loop, but only for recordings we finished labelling. "
   ]
  },
  {
   "cell_type": "markdown",
   "metadata": {},
   "source": [
    "TODO:\n",
    "\n",
    "Compute z score across, use as indicator on whether or not to save. '\n",
    "\n",
    "Or alternatively, look at pre-computed bad times, but I'm not seeing this yet?"
   ]
  },
  {
   "cell_type": "code",
   "execution_count": null,
   "metadata": {
    "scrolled": true
   },
   "outputs": [],
   "source": [
    "nights = ['1803'+str(i) for i in range(26,32)]\n",
    "recs = ['00'+str(i) for i in range(1,10)]\n",
    "WINDOW_LENGTH = 10\n",
    "thresh = 5 # start here .. \n",
    "for night in nights: # loop over nights (180327)\n",
    "    for rec in recs: #loop over recordings (003)\n",
    "        try: \n",
    "            # load spectrogram + night movements of that night recording\n",
    "            allspec = loadmat('../Spectrogram_mat_data/N10W1dn1_'+ night + '_rec'+rec+'.mat')\n",
    "            night_events = loadmat('/vol/sas2b/Goose_Multiscale_M1_Wireless/'+night+'/'+rec+'/rec'+rec+'.NightEvents.mat')\n",
    "            video_start = night_events['NightEvents'][0][0][0][0][0][0][0][0]\n",
    "            video_stop = night_events['NightEvents'][0][0][0][0][0][1][0][0]\n",
    "            video_length = video_stop - video_start\n",
    "            try:\n",
    "                mvmt_starts = night_events['NightEvents'][0][0][1][0][0][0][0]\n",
    "                mvmt_ends = night_events['NightEvents'][0][0][1][0][0][1][0]\n",
    "                has_movements = True #transitions \n",
    "            except:\n",
    "                has_movements = False\n",
    "                \n",
    "            for ch in range(1): # iterate over channels (just one for now)\n",
    "                spec = allspec['Spec_per_Ch'][0][0][ch][0][0][0]  \n",
    "                prior_mvmt = 0\n",
    "                if has_movements:\n",
    "                    for start, end in zip(mvmt_starts,mvmt_ends): # loop over movements\n",
    "                        mvmt_start = (spec.shape[0] / video_length) * start\n",
    "                        mvmt_end = (spec.shape[0] / video_length) * end #\n",
    "                        window = int(round(spec.shape[0] / video_length)) *WINDOW_LENGTH\n",
    "                        asleep = torch.from_numpy(spec[int(round(prior_mvmt)):int(round(mvmt_start)),:])\n",
    "                        moving = torch.from_numpy(spec[int(round(mvmt_start)):int(round(mvmt_end)),:])\n",
    "                        #print(' window size = ', window)\n",
    "                        # after indexing split into windows\n",
    "                        asleeps = torch.split(asleep,split_size_or_sections=window,dim=0)\n",
    "                        movings = torch.split(moving,split_size_or_sections=window,dim=0)\n",
    "                        prior_mvmt  = mvmt_end # for the next loop\n",
    "\n",
    "                        # loop over these windows and save \n",
    "                        for i, sleep_arr in enumerate(asleeps):\n",
    "                            if not torch.isnan(sleep_arr.sum()):\n",
    "                                totz = zscore(abs(sleep_arr.sum(axis=1))) #flip abs before sum\n",
    "                                if not np.any(abs(totz) > thresh):\n",
    "                                    if sleep_arr.shape[0] == window:\n",
    "                                        np.save('data/sleep/' + night + '_' + rec + '_' + str(ch) + '_win'+str(i) +'_sleep.npy',sleep_arr.numpy().T) \n",
    "                                else:\n",
    "                                    print(night, rec, i, \"has badtimes.\")\n",
    "                        for i, sleep_arr in enumerate(movings):\n",
    "                            if not torch.isnan(sleep_arr.sum()):\n",
    "                                totz = zscore(abs(sleep_arr.sum(axis=1)))\n",
    "                                if not np.any(abs(totz) > thresh):\n",
    "                                #  print(sleep_arr.shape)\n",
    "                                    if sleep_arr.shape[0] == window:\n",
    "                                        np.save('data/move/' + night + '_' + rec + '_' + str(ch) + '_win'+str(i) +'_move.npy',sleep_arr.numpy().T)\n",
    "                                else:\n",
    "                                    print(night, rec, i, \"has badtimes.\")\n",
    "                else:\n",
    "                    prior_rec = '00' + str(int(rec) - 1)\n",
    "                    print(\"Using prior rec..\")\n",
    "                    night_events = loadmat('/vol/sas2b/Goose_Multiscale_M1_Wireless/'+night+'/'+prior_rec+'/rec'+prior_rec+'.NightEvents.mat')\n",
    "                    video_start = night_events['NightEvents'][0][0][0][0][0][0][0][0]\n",
    "                    video_stop = night_events['NightEvents'][0][0][0][0][0][1][0][0]\n",
    "                    video_length = video_stop - video_start\n",
    "\n",
    "                    mvmt_starts = night_events['NightEvents'][0][0][1][0][0][0][0]\n",
    "                    mvmt_ends = night_events['NightEvents'][0][0][1][0][0][1][0]\n",
    "                    if mvmt_ends[-1] < video_stop:\n",
    "                        print(\"Saving new events.\")\n",
    "                        asleeps = torch.split(asleep,split_size_or_sections=window,dim=0)\n",
    "                        for i, sleep_arr in enumerate(asleeps):\n",
    "                            if not torch.isnan(sleep_arr.sum()):\n",
    "                                totz = zscore(abs(sleep_arr.sum(axis=1)))\n",
    "                                if not np.any(abs(totz) > thresh):\n",
    "                                #  print(sleep_arr.shape)\n",
    "                                    if sleep_arr.shape[0] == window:\n",
    "                                        np.save('data/sleep/' + night + '_' + rec + '_' + str(ch) + '_win'+str(i) +'_sleep.npy',sleep_arr.numpy().T)\n",
    "                                else:\n",
    "                                    print(night, rec, i, \"has badtimes.\")\n",
    "                    else:\n",
    "                        movings = torch.split(moving,split_size_or_sections=window,dim=0)\n",
    "                        for i, sleep_arr in enumerate(movings):\n",
    "                            if not torch.isnan(sleep_arr.sum()): # print where this happens\n",
    "                                totz = zscore(abs(sleep_arr.sum(axis=1)))\n",
    "                                if not np.any(abs(totz) > thresh):\n",
    "                                \n",
    "                                    #  print(sleep_arr.shape)\n",
    "                                    if sleep_arr.shape[0] == window:\n",
    "                                        np.save('data/move/' + night + '_' + rec + '_' + str(ch) + '_win'+str(i) +'_move.npy',sleep_arr.numpy().T)\n",
    "                                else:\n",
    "                                    print(night, rec, i, \"has badtimes.\")\n",
    "            # From here I suspect it would be easy to load in \n",
    "        except Exception as e:\n",
    "            print(e)\n",
    "            print(\"Couldn't do \", night, \" \", rec)\n",
    "            # This means I look at this night separately, and from it I can infer what state\n",
    "            # the monkey is in based on how it was as the end of the previous recording\n",
    "            pass"
   ]
  },
  {
   "cell_type": "markdown",
   "metadata": {},
   "source": [
    "Now let's see if this makes sense when reading in a random file..."
   ]
  },
  {
   "cell_type": "code",
   "execution_count": null,
   "metadata": {
    "scrolled": true
   },
   "outputs": [],
   "source": [
    "for move_spec in os.listdir('data/move/')[:25]:\n",
    "    plt.figure()\n",
    "    plt.title(move_spec)\n",
    "    plt.imshow(np.load('data/move/'+move_spec))\n",
    "    #break"
   ]
  },
  {
   "cell_type": "code",
   "execution_count": null,
   "metadata": {
    "scrolled": false
   },
   "outputs": [],
   "source": [
    "for sleep_spec in os.listdir('data/sleep/')[:25]:\n",
    "    plt.figure()\n",
    "    plt.title(sleep_spec)\n",
    "    plt.imshow(np.load('data/sleep/'+sleep_spec))\n",
    "    #break"
   ]
  },
  {
   "cell_type": "code",
   "execution_count": null,
   "metadata": {},
   "outputs": [],
   "source": [
    "test_sleep_spec = np.load('data/sleep/180326_003_0_win103_sleep.npy')"
   ]
  },
  {
   "cell_type": "code",
   "execution_count": null,
   "metadata": {},
   "outputs": [],
   "source": [
    "plt.imshow(test_sleep_spec)"
   ]
  },
  {
   "cell_type": "code",
   "execution_count": null,
   "metadata": {},
   "outputs": [],
   "source": []
  },
  {
   "cell_type": "code",
   "execution_count": null,
   "metadata": {},
   "outputs": [],
   "source": []
  },
  {
   "cell_type": "markdown",
   "metadata": {},
   "source": [
    "### Fixing the mistake\n",
    "\n",
    "So there are two possible failure cases \n",
    "\n",
    "1) No night events file created yet, which just means there's nothing to match to a label just yet.\n",
    "\n",
    "2) There is a night events file, but there is no movement files. If that's the case, then it means the monkey is in the same state they were in at the end of the prior recording. \n",
    "\n",
    "3) After doing 2, it's possible that the prior recording also wasn't labeled. "
   ]
  },
  {
   "cell_type": "code",
   "execution_count": null,
   "metadata": {},
   "outputs": [],
   "source": [
    "# start with 180327   006\n",
    "night = '180328'\n",
    "rec = '001'\n",
    "allspec = loadmat('../Spectrogram_mat_data/N10W1dn1_'+ night + '_rec'+rec+'.mat')\n",
    "night_events = loadmat('/vol/sas2b/Goose_Multiscale_M1_Wireless/'+night+'/'+rec+'/rec'+rec+'.NightEvents.mat')\n",
    "video_start = night_events['NightEvents'][0][0][0][0][0][0][0][0]\n",
    "video_stop = night_events['NightEvents'][0][0][0][0][0][1][0][0]\n",
    "video_length = video_stop - video_start\n",
    "\n",
    "#mvmt_starts = night_events['NightEvents'][0][0][1][0][0][0][0]\n",
    "#mvmt_ends = night_events['NightEvents'][0][0][1][0][0][1][0]\n",
    "# So there are no night events. \n",
    "\n",
    "# In this case, head to the prior recording, load in those movements\n",
    "\n"
   ]
  },
  {
   "cell_type": "code",
   "execution_count": null,
   "metadata": {},
   "outputs": [],
   "source": [
    "allspec"
   ]
  },
  {
   "cell_type": "code",
   "execution_count": null,
   "metadata": {},
   "outputs": [],
   "source": [
    "prior_rec = '00' + str(int(rec) - 1)\n",
    "\n",
    "night_events = loadmat('/vol/sas2b/Goose_Multiscale_M1_Wireless/'+night+'/'+prior_rec+'/rec'+prior_rec+'.NightEvents.mat')\n",
    "video_start = night_events['NightEvents'][0][0][0][0][0][0][0][0]\n",
    "video_stop = night_events['NightEvents'][0][0][0][0][0][1][0][0]\n",
    "video_length = video_stop - video_start\n",
    "\n",
    "mvmt_starts = night_events['NightEvents'][0][0][1][0][0][0][0]\n",
    "mvmt_ends = night_events['NightEvents'][0][0][1][0][0][1][0]\n"
   ]
  },
  {
   "cell_type": "code",
   "execution_count": null,
   "metadata": {},
   "outputs": [],
   "source": [
    "plt.imshow(np.load('data/sleeping/180327_009_0_win7_sleep.npy'))"
   ]
  },
  {
   "cell_type": "code",
   "execution_count": null,
   "metadata": {},
   "outputs": [],
   "source": [
    "video_stop"
   ]
  },
  {
   "cell_type": "code",
   "execution_count": null,
   "metadata": {},
   "outputs": [],
   "source": [
    "if mvmt_ends[-1] < video_stop:\n",
    "    print(\"Monkey was asleep as the end of \", prior_rec, ' so label all of ', rec, ' as asleep')"
   ]
  },
  {
   "cell_type": "markdown",
   "metadata": {},
   "source": [
    "Use just available data, "
   ]
  },
  {
   "cell_type": "code",
   "execution_count": null,
   "metadata": {},
   "outputs": [],
   "source": [
    "for file in os.listdir('../Spectrogram_mat_data/'):\n",
    "    night = file.split('_')[1]\n",
    "    rec = file.split('.')[0][-3:]\n",
    "    allspec = loadmat('../Spectrogram_mat_data/N10W1dn1_'+ night + '_rec'+rec+'.mat')\n",
    "    night_events = loadmat('/vol/sas2b/Goose_Multiscale_M1_Wireless/'+night+'/'+rec+'/rec'+rec+'.NightEvents.mat')\n",
    "    video_start = night_events['NightEvents'][0][0][0][0][0][0][0][0]\n",
    "    video_stop = night_events['NightEvents'][0][0][0][0][0][1][0][0]\n",
    "    video_length = video_stop - video_start\n",
    "\n",
    "    mvmt_starts = night_events['NightEvents'][0][0][1][0][0][0][0]\n",
    "    mvmt_ends = night_events['NightEvents'][0][0][1][0][0][1][0]\n",
    "\n",
    "\n",
    "    for ch in range(1): # iterate over channels (just one for now)\n",
    "        spec = allspec['Spec_per_Ch'][0][0][ch][0][0][0]  \n",
    "        prior_mvmt = 0\n",
    "        for start, end in zip(mvmt_starts,mvmt_ends): # loop over movements\n",
    "            mvmt_start = (spec.shape[0] / video_length) * start\n",
    "            mvmt_end = (spec.shape[0] / video_length) * end\n",
    "            window = int(round(spec.shape[0] / video_length)) *WINDOW_LENGTH\n",
    "\n",
    "            asleep = torch.from_numpy(spec[int(round(prior_mvmt)):int(round(mvmt_start)),:])\n",
    "            moving = torch.from_numpy(spec[int(round(mvmt_start)):int(round(mvmt_end)),:])\n",
    "\n",
    "            # after indexing split into windows\n",
    "            asleeps = torch.split(asleep,split_size_or_sections=window,dim=0)\n",
    "\n",
    "            movings = torch.split(moving,split_size_or_sections=window,dim=0)\n",
    "            prior_mvmt  = mvmt_end # for the next loop\n",
    "\n",
    "            # loop over these windows and I guess save? \n",
    "            for sleep_arr in asleeps:\n",
    "              #  print(sleep_arr.shape)\n",
    "                if sleep_arr.shape[0] == WINDOW_LENGTH:\n",
    "                    np.save('data/sleeping/' + night + '_' + rec + '_' + str(ch) + '_sleep.npy',sleep_arr.numpy().T)\n",
    "                    # save as a npy file?\n",
    "            for sleep_arr in movings:\n",
    "               # print(sleep_arr.shape)\n",
    "                if sleep_arr.shape[0] == WINDOW_LENGTH:\n",
    "\n",
    "                    # save as a npy file? \n",
    "                    np.save('data/moving/' + night + '_' + rec + '_' + str(ch) + '_move.npy',sleep_arr.numpy().T)\n",
    "\n",
    "    # From here I suspect it would be easy to load in \n",
    "\n"
   ]
  },
  {
   "cell_type": "markdown",
   "metadata": {},
   "source": [
    "Rec 8 on 326, is there no movement or all movemnt? What should we say in this case? "
   ]
  },
  {
   "cell_type": "code",
   "execution_count": null,
   "metadata": {},
   "outputs": [],
   "source": [
    " spec = allspec['Spec_per_Ch'][0][0][ch][0][0][0]"
   ]
  },
  {
   "cell_type": "code",
   "execution_count": null,
   "metadata": {},
   "outputs": [],
   "source": [
    "plt.imshow(spec.T[:,0:100])"
   ]
  },
  {
   "cell_type": "code",
   "execution_count": null,
   "metadata": {},
   "outputs": [],
   "source": [
    "plt.imshow(np.load('data/moving/180327_001_0_move.npy'))"
   ]
  },
  {
   "cell_type": "code",
   "execution_count": null,
   "metadata": {},
   "outputs": [],
   "source": [
    "plt.imshow(np.load('data/sleeping/180327_001_0_win117_sleep.npy'))"
   ]
  },
  {
   "cell_type": "markdown",
   "metadata": {},
   "source": [
    "Possibilities, if in recording 1 no movement mentioned, then we assume the monkey was moving the whole time. "
   ]
  },
  {
   "cell_type": "code",
   "execution_count": null,
   "metadata": {},
   "outputs": [],
   "source": [
    "len(os.listdir('data/moving/'))"
   ]
  },
  {
   "cell_type": "code",
   "execution_count": null,
   "metadata": {},
   "outputs": [],
   "source": [
    "len(os.listdir('data/sleeping/'))"
   ]
  },
  {
   "cell_type": "code",
   "execution_count": null,
   "metadata": {},
   "outputs": [],
   "source": []
  }
 ],
 "metadata": {
  "kernelspec": {
   "display_name": "Python 3",
   "language": "python",
   "name": "python3"
  },
  "language_info": {
   "codemirror_mode": {
    "name": "ipython",
    "version": 3
   },
   "file_extension": ".py",
   "mimetype": "text/x-python",
   "name": "python",
   "nbconvert_exporter": "python",
   "pygments_lexer": "ipython3",
   "version": "3.8.5"
  }
 },
 "nbformat": 4,
 "nbformat_minor": 4
}
