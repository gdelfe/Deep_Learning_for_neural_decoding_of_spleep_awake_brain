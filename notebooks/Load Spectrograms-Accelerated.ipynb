{
 "cells": [
  {
   "cell_type": "markdown",
   "metadata": {},
   "source": [
    "# Make a faster version of spectrogram generation code, using notes from Monday's meeting such as \n",
    "\n",
    "1) Load in all video files to start\n",
    "\n",
    "2) Save all channels simultaneously\n",
    "\n",
    "3) badtimes based on index in mat file\n",
    "\n",
    "4) ..."
   ]
  },
  {
   "cell_type": "code",
   "execution_count": 89,
   "metadata": {},
   "outputs": [],
   "source": [
    "import numpy as np\n",
    "import pandas as pd\n",
    "import matplotlib.pyplot as plt\n",
    "%matplotlib inline\n",
    "import torch\n",
    "import os\n",
    "from scipy.stats import zscore\n"
   ]
  },
  {
   "cell_type": "code",
   "execution_count": 90,
   "metadata": {},
   "outputs": [],
   "source": [
    "import scipy"
   ]
  },
  {
   "cell_type": "code",
   "execution_count": 91,
   "metadata": {},
   "outputs": [],
   "source": [
    "from scipy.io import loadmat"
   ]
  },
  {
   "cell_type": "code",
   "execution_count": 92,
   "metadata": {},
   "outputs": [],
   "source": [
    "spec_data = loadmat('../../../Spectrogram_mat_data/N10W1dn1_180326_rec005.mat')"
   ]
  },
  {
   "cell_type": "code",
   "execution_count": 93,
   "metadata": {},
   "outputs": [],
   "source": [
    "    night = file.split('_')[1]\n",
    "    rec = file.split('_')[2].split('.')[0][-3:]"
   ]
  },
  {
   "cell_type": "code",
   "execution_count": 38,
   "metadata": {},
   "outputs": [
    {
     "data": {
      "text/plain": [
       "'002'"
      ]
     },
     "execution_count": 38,
     "metadata": {},
     "output_type": "execute_result"
    }
   ],
   "source": [
    "\"00\" + str(int(rec) - 1)"
   ]
  },
  {
   "cell_type": "code",
   "execution_count": 94,
   "metadata": {},
   "outputs": [
    {
     "name": "stdout",
     "output_type": "stream",
     "text": [
      "Monkey is sleeping for the entire new recording!\n"
     ]
    },
    {
     "data": {
      "text/plain": [
       "(array([0]), array([0]))"
      ]
     },
     "execution_count": 94,
     "metadata": {},
     "output_type": "execute_result"
    }
   ],
   "source": [
    "spec_path = '../../../Spectrogram_mat_data/'\n",
    "\n",
    "def no_transitions(file,night,rec):\n",
    "    ## Given a file, figure out what label it is for entire recording, save it all as that\n",
    "    \n",
    "   # if os.path.exists()\n",
    "   # rec - 1\n",
    "    prev_file = 'N10W1dn1_'+night+'_rec'+ '00' + str(int(rec) - 1)+'.mat'\n",
    "    \n",
    "    # load in prev file, check transitions\n",
    "    if os.path.exists(spec_path + prev_file):\n",
    "        prev_spec_data = loadmat(spec_path + prev_file)\n",
    "        ti = prev_spec_data['Spec_per_Ch']['Ch1'][0][0]['ti'][0][0]\n",
    "        vid_stop = ti[0][-1]/ 1000\n",
    "        m_stop = prev_spec_data['Spec_per_Ch']['Ch1'][0][0]['m_stop'][0][0][0][-1] #[0][0][6]\n",
    "    \n",
    "        if m_stop < vid_stop:\n",
    "            print('Monkey is sleeping for the entire new recording!')\n",
    "            \n",
    "            \n",
    "            return np.array([0]), np.array([0])\n",
    "   # else:\n",
    "    #    continue\n",
    "\n",
    "no_transitions(file,night,rec)"
   ]
  },
  {
   "cell_type": "code",
   "execution_count": 47,
   "metadata": {},
   "outputs": [],
   "source": [
    "ti = prev_spec_data['Spec_per_Ch']['Ch1'][0][0]['ti'][0][0]"
   ]
  },
  {
   "cell_type": "code",
   "execution_count": 104,
   "metadata": {},
   "outputs": [
    {
     "data": {
      "text/plain": [
       "dict_keys(['__header__', '__version__', '__globals__', 'Spec_per_Ch'])"
      ]
     },
     "execution_count": 104,
     "metadata": {},
     "output_type": "execute_result"
    }
   ],
   "source": [
    "spec_data.keys()"
   ]
  },
  {
   "cell_type": "code",
   "execution_count": 50,
   "metadata": {},
   "outputs": [],
   "source": [
    "m_stop = prev_spec_data['Spec_per_Ch']['Ch1'][0][0]['m_stop'][0][0]#[0][0][6]\n"
   ]
  },
  {
   "cell_type": "code",
   "execution_count": 54,
   "metadata": {},
   "outputs": [
    {
     "data": {
      "text/plain": [
       "5970.338"
      ]
     },
     "execution_count": 54,
     "metadata": {},
     "output_type": "execute_result"
    }
   ],
   "source": [
    "m_stop[0][-1]"
   ]
  },
  {
   "cell_type": "code",
   "execution_count": null,
   "metadata": {},
   "outputs": [],
   "source": []
  },
  {
   "cell_type": "markdown",
   "metadata": {},
   "source": [
    "Zooming in, looks like bad time removal spectrogram helps"
   ]
  },
  {
   "cell_type": "code",
   "execution_count": null,
   "metadata": {},
   "outputs": [],
   "source": []
  },
  {
   "cell_type": "code",
   "execution_count": null,
   "metadata": {},
   "outputs": [],
   "source": []
  },
  {
   "cell_type": "code",
   "execution_count": null,
   "metadata": {},
   "outputs": [],
   "source": []
  },
  {
   "cell_type": "code",
   "execution_count": 99,
   "metadata": {},
   "outputs": [
    {
     "name": "stdout",
     "output_type": "stream",
     "text": [
      "N10W1dn1_180326_rec008.mat\n",
      "Shape ti:  (1, 7197)\n",
      "This spec is either entirely moving or not moving.\n",
      "index 0 is out of bounds for axis 0 with size 0\n",
      "N10W1dn1_180331_rec003.mat\n",
      "Shape ti:  (1, 7196)\n",
      "N10W1dn1_180326_rec004.mat\n",
      "Shape ti:  (1, 7197)\n",
      "N10W1dn1_180326_rec010.mat\n",
      "Shape ti:  (1, 3776)\n",
      "This spec is either entirely moving or not moving.\n",
      "index 0 is out of bounds for axis 0 with size 0\n",
      "N10W1dn1_180409_rec005.mat\n",
      "no field of name ti\n",
      "N10W1dn1_180326_rec002.mat\n",
      "Shape ti:  (1, 7197)\n",
      "This spec is either entirely moving or not moving.\n",
      "cannot unpack non-iterable NoneType object\n",
      "N10W1dn1_180326_rec003.mat\n",
      "Shape ti:  (1, 7197)\n",
      "N10W1dn1_180326_rec005.mat\n",
      "Shape ti:  (1, 7197)\n",
      "N10W1dn1_180326_rec006.mat\n",
      "Shape ti:  (1, 7197)\n",
      "This spec is either entirely moving or not moving.\n",
      "Monkey is sleeping for the entire new recording!\n",
      "Was able to use prior rec, saving.\n",
      "N10W1dn1_180410_rec005.mat\n",
      "Shape ti:  (1, 7190)\n",
      "N10W1dn1_180331_rec001.mat\n",
      "Shape ti:  (1, 7191)\n",
      "N10W1dn1_180411_rec003.mat\n",
      "Shape ti:  (1, 7197)\n",
      "N10W1dn1_180327_rec004.mat\n",
      "Shape ti:  (1, 7197)\n",
      "N10W1dn1_180413_rec006.mat\n",
      "Shape ti:  (1, 7197)\n",
      "N10W1dn1_180412_rec003.mat\n",
      "Shape ti:  (1, 7187)\n",
      "N10W1dn1_180330_rec011.mat\n",
      "Shape ti:  (1, 1333)\n",
      "N10W1dn1_180412_rec004.mat\n",
      "Shape ti:  (1, 7190)\n",
      "N10W1dn1_180330_rec008.mat\n",
      "Shape ti:  (1, 7190)\n",
      "N10W1dn1_180330_rec010.mat\n",
      "Shape ti:  (1, 7194)\n",
      "N10W1dn1_180331_rec006.mat\n",
      "Shape ti:  (1, 7197)\n",
      "N10W1dn1_180330_rec005.mat\n",
      "Shape ti:  (1, 7190)\n",
      "N10W1dn1_180331_rec008.mat\n",
      "Shape ti:  (1, 4350)\n",
      "This spec is either entirely moving or not moving.\n",
      "Monkey is sleeping for the entire new recording!\n",
      "Was able to use prior rec, saving.\n",
      "N10W1dn1_180326_rec009.mat\n",
      "Shape ti:  (1, 7197)\n",
      "This spec is either entirely moving or not moving.\n",
      "index 0 is out of bounds for axis 0 with size 0\n",
      "N10W1dn1_180327_rec001.mat\n",
      "Shape ti:  (1, 7191)\n",
      "N10W1dn1_180413_rec002.mat\n",
      "Shape ti:  (1, 7191)\n",
      "N10W1dn1_180411_rec006.mat\n",
      "Shape ti:  (1, 7197)\n",
      "N10W1dn1_180409_rec004.mat\n",
      "Shape ti:  (1, 7197)\n",
      "N10W1dn1_180409_rec003.mat\n",
      "Shape ti:  (1, 7196)\n",
      "N10W1dn1_180330_rec003.mat\n",
      "Shape ti:  (1, 7191)\n",
      "N10W1dn1_180330_rec004.mat\n",
      "Shape ti:  (1, 7191)\n",
      "N10W1dn1_180413_rec009.mat\n",
      "Shape ti:  (1, 7197)\n",
      "N10W1dn1_180329_rec003.mat\n",
      "Shape ti:  (1, 7197)\n",
      "N10W1dn1_180414_rec003.mat\n",
      "Shape ti:  (1, 7191)\n",
      "N10W1dn1_180410_rec004.mat\n",
      "Shape ti:  (1, 7191)\n",
      "N10W1dn1_180414_rec001.mat\n",
      "Shape ti:  (1, 7191)\n",
      "N10W1dn1_180414_rec002.mat\n",
      "Shape ti:  (1, 7191)\n",
      "N10W1dn1_180412_rec001.mat\n",
      "Shape ti:  (1, 7191)\n",
      "N10W1dn1_180409_rec001.mat\n",
      "Shape ti:  (1, 7190)\n",
      "N10W1dn1_180411_rec005.mat\n",
      "Shape ti:  (1, 7197)\n",
      "N10W1dn1_180330_rec001.mat\n",
      "Shape ti:  (1, 7193)\n",
      "N10W1dn1_180411_rec002.mat\n",
      "Shape ti:  (1, 7191)\n",
      "N10W1dn1_180409_rec006.mat\n",
      "no field of name ti\n",
      "N10W1dn1_180413_rec003.mat\n",
      "Shape ti:  (1, 7196)\n",
      "N10W1dn1_180412_rec005.mat\n",
      "Shape ti:  (1, 7191)\n",
      "N10W1dn1_180330_rec009.mat\n",
      "Shape ti:  (1, 7189)\n",
      "N10W1dn1_180331_rec004.mat\n",
      "Shape ti:  (1, 7197)\n",
      "N10W1dn1_180412_rec006.mat\n",
      "Shape ti:  (1, 6670)\n",
      "N10W1dn1_180327_rec002.mat\n",
      "Shape ti:  (1, 7191)\n",
      "N10W1dn1_180410_rec003.mat\n",
      "Shape ti:  (1, 7190)\n",
      "N10W1dn1_180327_rec008.mat\n",
      "Shape ti:  (1, 7197)\n",
      "N10W1dn1_180329_rec006.mat\n",
      "Shape ti:  (1, 7197)\n",
      "N10W1dn1_180414_rec004.mat\n",
      "Shape ti:  (1, 7191)\n",
      "N10W1dn1_180414_rec007.mat\n",
      "Shape ti:  (1, 6402)\n",
      "N10W1dn1_180413_rec010.mat\n",
      "Shape ti:  (1, 3219)\n",
      "N10W1dn1_180330_rec007.mat\n",
      "Shape ti:  (1, 7191)\n",
      "N10W1dn1_180331_rec002.mat\n",
      "Shape ti:  (1, 7190)\n",
      "N10W1dn1_180409_rec007.mat\n",
      "no field of name ti\n",
      "N10W1dn1_180327_rec005.mat\n",
      "Shape ti:  (1, 7197)\n",
      "N10W1dn1_180326_rec007.mat\n",
      "Shape ti:  (1, 7197)\n",
      "This spec is either entirely moving or not moving.\n",
      "index 0 is out of bounds for axis 0 with size 0\n",
      "N10W1dn1_180331_rec007.mat\n",
      "Shape ti:  (1, 7197)\n",
      "N10W1dn1_180327_rec007.mat\n",
      "Shape ti:  (1, 7197)\n",
      "N10W1dn1_180414_rec006.mat\n",
      "Shape ti:  (1, 7191)\n",
      "N10W1dn1_180409_rec002.mat\n",
      "Shape ti:  (1, 7191)\n",
      "N10W1dn1_180413_rec001.mat\n",
      "Shape ti:  (1, 7191)\n",
      "N10W1dn1_180412_rec002.mat\n",
      "Shape ti:  (1, 7191)\n",
      "N10W1dn1_180411_rec004.mat\n",
      "Shape ti:  (1, 7197)\n",
      "N10W1dn1_180327_rec009.mat\n",
      "Shape ti:  (1, 2904)\n",
      "This spec is either entirely moving or not moving.\n",
      "Monkey is sleeping for the entire new recording!\n",
      "Was able to use prior rec, saving.\n",
      "N10W1dn1_180329_rec005.mat\n",
      "Shape ti:  (1, 7197)\n",
      "N10W1dn1_180330_rec006.mat\n",
      "Shape ti:  (1, 7191)\n",
      "N10W1dn1_180413_rec007.mat\n",
      "Shape ti:  (1, 7197)\n",
      "N10W1dn1_180329_rec004.mat\n",
      "Shape ti:  (1, 7197)\n",
      "N10W1dn1_180413_rec004.mat\n",
      "Shape ti:  (1, 7197)\n",
      "N10W1dn1_180414_rec005.mat\n",
      "Shape ti:  (1, 7191)\n",
      "N10W1dn1_180413_rec005.mat\n",
      "Shape ti:  (1, 7197)\n",
      "N10W1dn1_180410_rec002.mat\n",
      "Shape ti:  (1, 7191)\n",
      "N10W1dn1_180410_rec007.mat\n",
      "Shape ti:  (1, 2525)\n",
      "This spec is either entirely moving or not moving.\n",
      "cannot unpack non-iterable NoneType object\n",
      "N10W1dn1_180329_rec002.mat\n",
      "Shape ti:  (1, 7196)\n",
      "N10W1dn1_180327_rec003.mat\n",
      "Shape ti:  (1, 7191)\n"
     ]
    }
   ],
   "source": [
    "spec_path = '../../../Spectrogram_mat_data/'\n",
    "window=10\n",
    "\n",
    "for file in os.listdir(spec_path)[:]:\n",
    "    if file[-4:] != '.mat':\n",
    "        continue\n",
    "    night = file.split('_')[1]\n",
    "    rec = file.split('_')[2].split('.')[0][-3:]\n",
    "    #ti,f,ztotSpec,badtimes,btrm_ztotSpec,m_start,m_stop = read_spec(spec_path + f)\n",
    "    print(file)\n",
    "    if '1803' not in file:\n",
    "        pass\n",
    "        #continue \n",
    "    ch = 0\n",
    "    # TODO: Read spec main data\n",
    "    spec_data = loadmat(spec_path + file)\n",
    " #   [‘Spec_per_Ch’][‘Ch1’][0][0][‘ti’]\n",
    "    try:\n",
    "        ti = spec_data['Spec_per_Ch']['Ch1'][0][0]['ti'][0][0]\n",
    "    except Exception as e:\n",
    "        print(e)\n",
    "        continue\n",
    "    print(\"Shape ti: \", ti.shape)\n",
    "    f = spec_data['Spec_per_Ch']['Ch1'][0][0]['f'][0][0]#[0][0][ch][0][0][1]\n",
    "    times = ti[0][:]//1000\n",
    "    badtimes = spec_data['Spec_per_Ch']['Ch1'][0][0]['badtimes'][0][0]#[0][0][ch][0][0][3]\n",
    "    m_start = spec_data['Spec_per_Ch']['Ch1'][0][0]['m_start'][0][0]\n",
    "    m_stop = spec_data['Spec_per_Ch']['Ch1'][0][0]['m_stop'][0][0]#[0][0][6]\n",
    "    #[0][0][5]\n",
    "    if m_start.shape[0] == 0:\n",
    "\n",
    "       # print(\"Skipping \", file, \" (no mstart)\")\n",
    "        print(\"This spec is either entirely moving or not moving.\")\n",
    "        \n",
    "        try:\n",
    "            m_start, m_stop = no_transitions(file,night,rec) \n",
    "            print(\"Was able to use prior rec, saving.\")\n",
    "        except Exception as e:\n",
    "            print(e)\n",
    "            continue\n",
    "    else:\n",
    "        m_start = m_start[0]\n",
    "        m_stop = m_stop[0]\n",
    "\n",
    "\n",
    "    # next loop through channels, concat\n",
    "    specs = []\n",
    "    for ch in range(1,63): #TODO: What if there are only 61 channels? So far there's no \n",
    "        # errors here, so does that mean Daisy currently makes all NaN? \n",
    "        ztotSpec = spec_data['Spec_per_Ch']['Ch'+str(ch)][0][0]['ztotSpec'][0][0]\n",
    "        specs.append(ztotSpec)\n",
    "    ztotSpecs = np.stack(specs)\n",
    "\n",
    "    m_start_idx = []\n",
    "    for start in m_start:\n",
    "        idx = (np.abs(times-start)).argmin()\n",
    "        m_start_idx.append(idx)\n",
    "\n",
    "    m_stop_idx = []\n",
    "    for stop in m_stop:\n",
    "        idx = (np.abs(times-stop)).argmin()\n",
    "        m_stop_idx.append(idx)\n",
    "\n",
    "\n",
    "    badtime_idx = []\n",
    "\n",
    "    for badtime in badtimes[0]:\n",
    "        idx = (np.abs(times-badtime)).argmin()\n",
    "        badtime_idx.append(idx)\n",
    "\n",
    "    for idx in badtime_idx:\n",
    "        ztotSpecs[:,idx,:] = np.nan\n",
    "\n",
    "\n",
    "    prior_mvmt_idx = 0\n",
    "    for start_idx, stop_idx in zip(m_start_idx,m_stop_idx):\n",
    "\n",
    "        asleep = torch.from_numpy(ztotSpecs[:,int(round(prior_mvmt_idx)):int(round(start_idx)),:])\n",
    "        moving = torch.from_numpy(ztotSpecs[:,int(round(start_idx)):int(round(stop_idx)),:])\n",
    "        prior_mvmt_idx = stop_idx\n",
    "\n",
    "       # print(asleep.sum(),moving.sum())\n",
    "        asleeps = torch.split(asleep,split_size_or_sections=window,dim=1)\n",
    "        movings = torch.split(moving,split_size_or_sections=window,dim=1)\n",
    "        # Now of these two arrays, split and save, assuming it does not include a badtime index\n",
    "\n",
    "                            # loop over these windows and save \n",
    "        for i, arr in enumerate(asleeps):\n",
    "            if not torch.isnan(arr.sum()) and arr.shape[1] == window:\n",
    "                np.save('../../data/sleep/' + night + '_' + rec + '_' + str(ch) + '_win'+str(i) +'_sleep.npy',arr.numpy()) \n",
    "        for i, arr in enumerate(movings):\n",
    "            if not torch.isnan(arr.sum()) and arr.shape[1] == window:\n",
    "                np.save('../../data/move/' + night + '_' + rec + '_' + str(ch) + '_win'+str(i) +'_move.npy',arr.numpy()) \n",
    "\n"
   ]
  },
  {
   "cell_type": "markdown",
   "metadata": {},
   "source": [
    "I still can't do april"
   ]
  },
  {
   "cell_type": "code",
   "execution_count": 110,
   "metadata": {
    "scrolled": true
   },
   "outputs": [
    {
     "data": {
      "text/plain": [
       "tensor([[[-1.8815e-01, -2.0678e-01, -2.1392e-01,  ...,  3.1768e-01,\n",
       "           3.7706e-01,  2.4056e-01],\n",
       "         [-2.1297e-01, -2.3307e-01, -2.1801e-01,  ...,  2.5953e-01,\n",
       "           3.5472e-01,  2.1494e-01],\n",
       "         [-1.7886e-01, -1.9076e-01, -1.8420e-01,  ...,  3.0860e-01,\n",
       "           3.4411e-01,  2.2037e-01],\n",
       "         ...,\n",
       "         [-3.7386e-01, -3.9340e-01, -3.8010e-01,  ...,  1.6924e-01,\n",
       "           1.6264e-01,  1.4001e-01],\n",
       "         [-4.5051e-01, -4.1557e-01, -4.1757e-01,  ...,  1.7870e-01,\n",
       "           1.5264e-01,  1.0795e-01],\n",
       "         [-4.7378e-01, -4.7998e-01, -4.7349e-01,  ...,  1.1681e-01,\n",
       "           1.4751e-01,  3.4985e-02]],\n",
       "\n",
       "        [[-2.8956e-01, -2.9758e-01, -3.0790e-01,  ...,  3.0020e-01,\n",
       "           3.9749e-01,  2.2639e-01],\n",
       "         [-3.2316e-01, -3.3398e-01, -3.2129e-01,  ...,  2.5280e-01,\n",
       "           3.7521e-01,  1.7360e-01],\n",
       "         [-2.6733e-01, -2.7646e-01, -2.5815e-01,  ...,  3.0701e-01,\n",
       "           3.4901e-01,  1.8842e-01],\n",
       "         ...,\n",
       "         [-5.0283e-01, -5.1164e-01, -5.1426e-01,  ...,  1.6920e-01,\n",
       "           1.2964e-01,  6.9076e-02],\n",
       "         [-6.1342e-01, -5.7831e-01, -5.9620e-01,  ...,  1.7048e-01,\n",
       "           1.4455e-01,  4.0968e-02],\n",
       "         [-6.8782e-01, -6.8015e-01, -6.9237e-01,  ...,  9.2127e-02,\n",
       "           1.0207e-01, -6.0585e-02]],\n",
       "\n",
       "        [[        nan,         nan,         nan,  ...,         nan,\n",
       "                  nan,         nan],\n",
       "         [        nan,         nan,         nan,  ...,         nan,\n",
       "                  nan,         nan],\n",
       "         [        nan,         nan,         nan,  ...,         nan,\n",
       "                  nan,         nan],\n",
       "         ...,\n",
       "         [        nan,         nan,         nan,  ...,         nan,\n",
       "                  nan,         nan],\n",
       "         [        nan,         nan,         nan,  ...,         nan,\n",
       "                  nan,         nan],\n",
       "         [        nan,         nan,         nan,  ...,         nan,\n",
       "                  nan,         nan]],\n",
       "\n",
       "        ...,\n",
       "\n",
       "        [[-1.2513e-01, -5.5398e-02, -1.4365e-04,  ...,  8.8769e-02,\n",
       "           1.6725e-01,  9.3872e-02],\n",
       "         [-1.0554e-01, -8.7680e-02, -2.0696e-02,  ...,  5.9104e-02,\n",
       "           1.3260e-01,  1.0142e-01],\n",
       "         [-8.2411e-02, -7.5947e-02, -1.4822e-02,  ...,  5.5459e-02,\n",
       "           1.0371e-01,  1.1718e-01],\n",
       "         ...,\n",
       "         [-1.3174e-01, -1.5337e-01, -8.4494e-02,  ...,  5.1571e-02,\n",
       "           5.4682e-02,  8.9011e-02],\n",
       "         [-1.0449e-01, -1.2260e-01, -6.6050e-02,  ...,  5.8219e-02,\n",
       "           1.7671e-02,  7.8112e-02],\n",
       "         [-1.4789e-01, -1.6189e-01, -1.3443e-01,  ...,  1.2329e-02,\n",
       "           2.1910e-02,  8.3854e-02]],\n",
       "\n",
       "        [[-1.0297e-01, -5.9615e-02, -5.7581e-02,  ...,  2.2842e-01,\n",
       "           1.8617e-01,  4.9468e-02],\n",
       "         [-7.7865e-02, -6.4862e-02, -5.8545e-02,  ...,  1.9810e-01,\n",
       "           1.2628e-01,  8.3135e-02],\n",
       "         [-4.0045e-02, -4.6570e-02, -4.3869e-02,  ...,  2.0985e-01,\n",
       "           1.0937e-01,  8.6050e-02],\n",
       "         ...,\n",
       "         [-1.1834e-01, -1.2722e-01, -9.6316e-02,  ...,  6.2885e-02,\n",
       "           6.8250e-02,  1.1137e-01],\n",
       "         [-1.0206e-01, -9.8218e-02, -9.8249e-02,  ...,  6.6119e-02,\n",
       "           1.2293e-01,  9.9023e-02],\n",
       "         [-1.3280e-01, -1.3448e-01, -1.3823e-01,  ...,  5.2807e-02,\n",
       "           1.2635e-01,  9.3192e-02]],\n",
       "\n",
       "        [[-1.3388e-01, -9.9962e-02, -8.8684e-02,  ...,  1.1120e-01,\n",
       "           1.4094e-01,  1.7645e-02],\n",
       "         [-1.2447e-01, -1.1280e-01, -8.9608e-02,  ...,  1.1714e-01,\n",
       "           1.1914e-01, -2.7374e-02],\n",
       "         [-1.0122e-01, -8.6926e-02, -7.5861e-02,  ...,  1.2262e-01,\n",
       "           9.2276e-02, -3.9230e-03],\n",
       "         ...,\n",
       "         [-1.5109e-01, -1.1150e-01, -1.0766e-01,  ...,  2.2817e-02,\n",
       "           4.9978e-03, -2.8496e-02],\n",
       "         [-1.4142e-01, -1.1306e-01, -1.1127e-01,  ...,  2.2281e-02,\n",
       "          -1.8915e-02, -3.4895e-02],\n",
       "         [-1.9917e-01, -1.8014e-01, -1.9547e-01,  ..., -2.8984e-02,\n",
       "           2.6773e-03, -5.0011e-03]]], dtype=torch.float64)"
      ]
     },
     "execution_count": 110,
     "metadata": {},
     "output_type": "execute_result"
    }
   ],
   "source": [
    "arr"
   ]
  },
  {
   "cell_type": "code",
   "execution_count": 107,
   "metadata": {},
   "outputs": [
    {
     "data": {
      "text/plain": [
       "(9165, 2214)"
      ]
     },
     "execution_count": 107,
     "metadata": {},
     "output_type": "execute_result"
    }
   ],
   "source": [
    "len(os.listdir('../../data/sleep')),len(os.listdir('../../data/move'))"
   ]
  },
  {
   "cell_type": "code",
   "execution_count": 77,
   "metadata": {},
   "outputs": [
    {
     "data": {
      "text/plain": [
       "537.7"
      ]
     },
     "execution_count": 77,
     "metadata": {},
     "output_type": "execute_result"
    }
   ],
   "source": [
    "(4386 + 991) / 10,"
   ]
  },
  {
   "cell_type": "code",
   "execution_count": 17,
   "metadata": {},
   "outputs": [
    {
     "data": {
      "text/plain": [
       "'003'"
      ]
     },
     "execution_count": 17,
     "metadata": {},
     "output_type": "execute_result"
    }
   ],
   "source": [
    "file.split('_')[2].split('.')[0][-3:]"
   ]
  },
  {
   "cell_type": "code",
   "execution_count": 117,
   "metadata": {},
   "outputs": [],
   "source": [
    "move = np.load('../../data/move/180326_003_62_win2_move.npy')"
   ]
  },
  {
   "cell_type": "code",
   "execution_count": null,
   "metadata": {},
   "outputs": [],
   "source": []
  },
  {
   "cell_type": "code",
   "execution_count": 118,
   "metadata": {
    "scrolled": false
   },
   "outputs": [
    {
     "data": {
      "text/plain": [
       "(array([   96.,  1173.,  3901.,  9507., 14676., 14672.,  8268.,  6764.,\n",
       "         2669.,   274.]),\n",
       " array([-2.45351294, -2.03711126, -1.62070958, -1.2043079 , -0.78790622,\n",
       "        -0.37150454,  0.04489714,  0.46129882,  0.8777005 ,  1.29410218,\n",
       "         1.71050387]),\n",
       " <BarContainer object of 10 artists>)"
      ]
     },
     "execution_count": 118,
     "metadata": {},
     "output_type": "execute_result"
    },
    {
     "data": {
      "image/png": "[encoded data removed]",
      "text/plain": [
       "<Figure size 432x288 with 1 Axes>"
      ]
     },
     "metadata": {
      "needs_background": "light"
     },
     "output_type": "display_data"
    }
   ],
   "source": [
    "plt.hist(move.flatten())"
   ]
  },
  {
   "cell_type": "code",
   "execution_count": 119,
   "metadata": {},
   "outputs": [],
   "source": [
    "sleep = np.load('../../data/sleep/180326_003_62_win112_sleep.npy')\n",
    "                   \n",
    "             "
   ]
  },
  {
   "cell_type": "code",
   "execution_count": 120,
   "metadata": {},
   "outputs": [
    {
     "data": {
      "text/plain": [
       "(array([   24.,   212.,  1826.,  6834., 12971., 14731., 15880.,  8672.,\n",
       "          821.,    29.]),\n",
       " array([-1.48712557, -1.22836123, -0.96959689, -0.71083254, -0.4520682 ,\n",
       "        -0.19330386,  0.06546048,  0.32422482,  0.58298916,  0.8417535 ,\n",
       "         1.10051784]),\n",
       " <BarContainer object of 10 artists>)"
      ]
     },
     "execution_count": 120,
     "metadata": {},
     "output_type": "execute_result"
    },
    {
     "data": {
      "image/png": "[encoded data removed]",
      "text/plain": [
       "<Figure size 432x288 with 1 Axes>"
      ]
     },
     "metadata": {
      "needs_background": "light"
     },
     "output_type": "display_data"
    }
   ],
   "source": [
    "plt.hist(sleep.flatten())"
   ]
  },
  {
   "cell_type": "code",
   "execution_count": null,
   "metadata": {},
   "outputs": [],
   "source": []
  },
  {
   "cell_type": "code",
   "execution_count": null,
   "metadata": {},
   "outputs": [],
   "source": [
    "plt.imshow(ztotSpec.T[:,:1003])"
   ]
  },
  {
   "cell_type": "code",
   "execution_count": null,
   "metadata": {},
   "outputs": [],
   "source": [
    "specs = []\n",
    "for ch in range(1,62):\n",
    "    ztotSpec = spec_data['Spec_per_Ch']['Ch'+str(ch)][0][0]['ztotSpec'][0][0]\n",
    "    specs.append(ztotSpec)\n",
    "ztotSpecs = np.stack(specs)"
   ]
  },
  {
   "cell_type": "code",
   "execution_count": null,
   "metadata": {},
   "outputs": [],
   "source": [
    "ztotSpecs.shape"
   ]
  },
  {
   "cell_type": "code",
   "execution_count": null,
   "metadata": {},
   "outputs": [],
   "source": [
    "times = ti[0][:]//1000"
   ]
  },
  {
   "cell_type": "code",
   "execution_count": null,
   "metadata": {},
   "outputs": [],
   "source": [
    "m_start_idx = []\n",
    "for start in m_start[0]:\n",
    "    idx = (np.abs(times-start)).argmin()\n",
    "    m_start_idx.append(idx)\n",
    "    \n",
    "m_stop_idx = []\n",
    "for stop in m_stop[0]:\n",
    "    idx = (np.abs(times-stop)).argmin()\n",
    "    m_stop_idx.append(idx)\n",
    "    \n",
    "    \n",
    "badtime_idx = []\n",
    "\n",
    "for badtime in badtimes[0]:\n",
    "    idx = (np.abs(times-badtime)).argmin()\n",
    "    badtime_idx.append(idx)\n",
    "    \n",
    "for idx in badtime_idx:\n",
    "    ztotSpecs[:,idx,:] = np.nan\n",
    "\n",
    "    "
   ]
  },
  {
   "cell_type": "markdown",
   "metadata": {},
   "source": [
    "Impute NaN on columns with badtimes, that way they are discarded. "
   ]
  },
  {
   "cell_type": "code",
   "execution_count": null,
   "metadata": {},
   "outputs": [],
   "source": [
    "window=10\n",
    "asleeps = torch.split(asleep,split_size_or_sections=window,dim=1)"
   ]
  },
  {
   "cell_type": "code",
   "execution_count": null,
   "metadata": {},
   "outputs": [],
   "source": []
  },
  {
   "cell_type": "code",
   "execution_count": null,
   "metadata": {},
   "outputs": [],
   "source": [
    "prior_mvmt_idx = 0\n",
    "window=10\n",
    "\n",
    "for start_idx, stop_idx in zip(m_start_idx,m_stop_idx):\n",
    "    \n",
    "    asleep = torch.from_numpy(btrm_ztotSpecs[:,int(round(prior_mvmt_idx)):int(round(start_idx)),:])\n",
    "    moving = torch.from_numpy(btrm_ztotSpecs[:,int(round(start_idx)):int(round(stop_idx)),:])\n",
    "    prior_mvmt_idx = stop_idx\n",
    "    \n",
    "    print(asleep.sum(),moving.sum())\n",
    "    asleeps = torch.split(asleep,split_size_or_sections=window,dim=1)\n",
    "    movings = torch.split(moving,split_size_or_sections=window,dim=1)\n",
    "    # Now of these two arrays, split and save, assuming it does not include a badtime index\n",
    "\n",
    "                        # loop over these windows and save \n",
    "    for i, arr in enumerate(asleeps):\n",
    "        if not torch.isnan(arr.sum()) and arr.shape[1] == window:\n",
    "            np.save('../../data/sleep/' + night + '_' + rec + '_' + str(ch) + '_win'+str(i) +'_sleep.npy',arr.numpy().T) \n",
    "    for i, arr in enumerate(movings):\n",
    "        if not torch.isnan(arr.sum()) and arr.shape[1] == window:\n",
    "            np.save('../../data/move/' + night + '_' + rec + '_' + str(ch) + '_win'+str(i) +'_move.npy',arr.numpy().T) \n",
    "\n",
    "    \n",
    "    "
   ]
  },
  {
   "cell_type": "code",
   "execution_count": null,
   "metadata": {},
   "outputs": [],
   "source": [
    "arr.shape"
   ]
  },
  {
   "cell_type": "code",
   "execution_count": null,
   "metadata": {},
   "outputs": [],
   "source": [
    "stop_idx"
   ]
  },
  {
   "cell_type": "code",
   "execution_count": null,
   "metadata": {},
   "outputs": [],
   "source": [
    "#root = '/vol/sas2b/Goose_Multiscale_M1_Wireless'\n",
    "#for night in os.listdir(root):\n",
    "#    os.listdir(root + '/' + night)\n",
    "#    break\n",
    "night = '180327'\n",
    "rec = '003'\n",
    "\n",
    "os.listdir('/vol/sas2b/Goose_Multiscale_M1_Wireless/'+night+'/'+rec)\n",
    "\n",
    "#+#'/rec'+rec+'.NightEvents.mat' \n",
    "\n",
    "EventFile = '/vol/sas2b/Goose_Multiscale_M1_Wireless/'+night+'/'+'rec'+rec+'.NightEvents.mat'"
   ]
  },
  {
   "cell_type": "code",
   "execution_count": 88,
   "metadata": {},
   "outputs": [
    {
     "data": {
      "text/plain": [
       "'N10W1dn1_180410_rec005.mat'"
      ]
     },
     "execution_count": 88,
     "metadata": {},
     "output_type": "execute_result"
    }
   ],
   "source": [
    "file"
   ]
  },
  {
   "cell_type": "code",
   "execution_count": null,
   "metadata": {
    "scrolled": true
   },
   "outputs": [],
   "source": [
    "movement_df = pd.DataFrame()\n",
    "\n",
    "nights = ['1803'+str(i) for i in range(25,31)]\n",
    "recs = ['00'+str(i) for i in range(1,10)]\n",
    "for night in nights:\n",
    "    for rec in recs:\n",
    "        print(night, rec)\n",
    "        EventFile = '/vol/sas2b/Goose_Multiscale_M1_Wireless/'+night+'/'+rec+'/rec'+rec+'.NightEvents.mat'\n",
    "\n",
    "        if os.path.exists(EventFile):\n",
    "\n",
    "            NightEvents = loadmat(EventFile)\n",
    "           # print(\"found night events file for \", night, ' ', rec )\n",
    "           # video_start = NightEvents['NightEvents'][0][0][3][0][0][0][0][0]\n",
    "           # video_stop = NightEvents['NightEvents'][0][0][3][0][0][1][0][0]\n",
    "           # video_length = video_stop - video_start\n",
    "           # print(night,rec,video_start,video_stop)\n",
    "            try:\n",
    "                starts = NightEvents['NightEvents'][0][0][1][0][0][0][0]\n",
    "                stops = NightEvents['NightEvents'][0][0][1][0][0][1][0]\n",
    "\n",
    "                #print(starts.shape)\n",
    "                #if starts.shape[0] >= 1:\n",
    "                print(starts.shape,stops.shape)\n",
    "               # print('start = ', starts)\n",
    "               # print('end = ', stops)\n",
    "            except:\n",
    "                try:\n",
    "                    starts = NightEvents['NightEvents'][0][0][4][0][0][0][0]\n",
    "                    stops = NightEvents['NightEvents'][0][0][4][0][0][1][0]\n",
    "                   # print('start = ', starts)\n",
    "                   # print('end = ', stops)\n",
    "                    #print(starts.shape)\n",
    "                   # if starts.shape[0] >= 1:\n",
    "                    print(starts.shape,stops.shape)\n",
    "                except:\n",
    "                    #print(\"No mvmt found for \", night, ' ', rec)\n",
    "                    pass\n",
    "          #  break\n",
    "       # break\n",
    "\n",
    "        else: # Exception as e:\n",
    "            #print(e)\n",
    "            #print(\"No event file found for \", night, ' ', rec)\n",
    "            pass\n",
    "            \n"
   ]
  },
  {
   "cell_type": "code",
   "execution_count": null,
   "metadata": {},
   "outputs": [],
   "source": [
    "starts,stops"
   ]
  },
  {
   "cell_type": "code",
   "execution_count": null,
   "metadata": {},
   "outputs": [],
   "source": [
    "def startstop(starts,stops):\n",
    "    for start, stop in zip(starts,stops):\n",
    "        "
   ]
  },
  {
   "cell_type": "code",
   "execution_count": null,
   "metadata": {},
   "outputs": [],
   "source": [
    "print(starts.shape)"
   ]
  },
  {
   "cell_type": "code",
   "execution_count": null,
   "metadata": {
    "scrolled": true
   },
   "outputs": [],
   "source": [
    "starts = NightEvents['NightEvents'][0][0][1][0][0][0][0]"
   ]
  },
  {
   "cell_type": "code",
   "execution_count": null,
   "metadata": {},
   "outputs": [],
   "source": [
    "stops = NightEvents['NightEvents'][0][0][1][0][0][1][0]"
   ]
  },
  {
   "cell_type": "code",
   "execution_count": null,
   "metadata": {},
   "outputs": [],
   "source": [
    "video_start = NightEvents['NightEvents'][0][0][3][0][0][0][0][0]\n",
    "video_stop = NightEvents['NightEvents'][0][0][3][0][0][1][0][0]"
   ]
  },
  {
   "cell_type": "code",
   "execution_count": null,
   "metadata": {},
   "outputs": [],
   "source": [
    "NightEvents['NightEvents'][0][0][0][0][0][0][0].keys"
   ]
  },
  {
   "cell_type": "code",
   "execution_count": null,
   "metadata": {},
   "outputs": [],
   "source": [
    "movements = NightEvents['NightEvents'][0][0][4]"
   ]
  },
  {
   "cell_type": "code",
   "execution_count": null,
   "metadata": {},
   "outputs": [],
   "source": [
    "print(movements)"
   ]
  },
  {
   "cell_type": "code",
   "execution_count": null,
   "metadata": {},
   "outputs": [],
   "source": [
    "\n",
    "                mvmt_starts = night_events['NightEvents'][0][0][1][0][0][0][0]\n",
    "                mvmt_ends = night_events['NightEvents'][0][0][1][0][0][1][0]\n",
    "                has_movements = True #transitions "
   ]
  },
  {
   "cell_type": "code",
   "execution_count": null,
   "metadata": {},
   "outputs": [],
   "source": [
    "def save_night_events():\n",
    "    \"\"\"\n",
    "    Loop through all night events files, \n",
    "    \"\"\""
   ]
  },
  {
   "cell_type": "markdown",
   "metadata": {},
   "source": [
    "# .mat file ordering\n",
    "\n",
    "We can load three spectrograms for each channel, of which there are 62 channels. These three spectrograms are the entire spectrogram, no movement, movement. We only want the entire spec, which we have now, and now we want to coincide those with the movement times. "
   ]
  },
  {
   "cell_type": "markdown",
   "metadata": {},
   "source": [
    "# Main Loop\n",
    "\n",
    "EDIT: This works assuming we have access to all the spectrograms of all the movments + all the night event files of those recordings, which is not the case. Instead, please see below where I have essentially the same loop, but only for recordings we finished labelling. "
   ]
  },
  {
   "cell_type": "markdown",
   "metadata": {},
   "source": [
    "TODO:\n",
    "\n",
    "Compute z score across, use as indicator on whether or not to save. '\n",
    "\n",
    "Or alternatively, look at pre-computed bad times, but I'm not seeing this yet?"
   ]
  },
  {
   "cell_type": "code",
   "execution_count": null,
   "metadata": {
    "scrolled": true
   },
   "outputs": [],
   "source": [
    "nights = ['1803'+str(i) for i in range(26,32)]\n",
    "recs = ['00'+str(i) for i in range(1,10)]\n",
    "WINDOW_LENGTH = 10\n",
    "thresh = 5 # start here .. \n",
    "for night in nights: # loop over nights (180327)\n",
    "    for rec in recs: #loop over recordings (003)\n",
    "        try: \n",
    "            # load spectrogram + night movements of that night recording\n",
    "            allspec = loadmat('../Spectrogram_mat_data/N10W1dn1_'+ night + '_rec'+rec+'.mat')\n",
    "            night_events = loadmat('/vol/sas2b/Goose_Multiscale_M1_Wireless/'+night+'/'+rec+'/rec'+rec+'.NightEvents.mat')\n",
    "            video_start = night_events['NightEvents'][0][0][0][0][0][0][0][0]\n",
    "            video_stop = night_events['NightEvents'][0][0][0][0][0][1][0][0]\n",
    "            video_length = video_stop - video_start\n",
    "            try:\n",
    "                mvmt_starts = night_events['NightEvents'][0][0][1][0][0][0][0]\n",
    "                mvmt_ends = night_events['NightEvents'][0][0][1][0][0][1][0]\n",
    "                has_movements = True #transitions \n",
    "            except:\n",
    "                has_movements = False\n",
    "                \n",
    "            for ch in range(1): # iterate over channels (just one for now)\n",
    "                spec = allspec['Spec_per_Ch'][0][0][ch][0][0][0]  \n",
    "                prior_mvmt = 0\n",
    "                if has_movements:\n",
    "                    for start, end in zip(mvmt_starts,mvmt_ends): # loop over movements\n",
    "                        mvmt_start = (spec.shape[0] / video_length) * start\n",
    "                        mvmt_end = (spec.shape[0] / video_length) * end #\n",
    "                        window = int(round(spec.shape[0] / video_length)) *WINDOW_LENGTH\n",
    "                        asleep = torch.from_numpy(spec[int(round(prior_mvmt)):int(round(mvmt_start)),:])\n",
    "                        moving = torch.from_numpy(spec[int(round(mvmt_start)):int(round(mvmt_end)),:])\n",
    "                        #print(' window size = ', window)\n",
    "                        # after indexing split into windows\n",
    "                        asleeps = torch.split(asleep,split_size_or_sections=window,dim=0)\n",
    "                        movings = torch.split(moving,split_size_or_sections=window,dim=0)\n",
    "                        prior_mvmt  = mvmt_end # for the next loop\n",
    "\n",
    "                        # loop over these windows and save \n",
    "                        for i, sleep_arr in enumerate(asleeps):\n",
    "                            if not torch.isnan(sleep_arr.sum()):\n",
    "                                totz = zscore(abs(sleep_arr.sum(axis=1))) #flip abs before sum\n",
    "                                if not np.any(abs(totz) > thresh):\n",
    "                                    if sleep_arr.shape[0] == window:\n",
    "                                        np.save('data/sleep/' + night + '_' + rec + '_' + str(ch) + '_win'+str(i) +'_sleep.npy',sleep_arr.numpy().T) \n",
    "                                else:\n",
    "                                    print(night, rec, i, \"has badtimes.\")\n",
    "                        for i, sleep_arr in enumerate(movings):\n",
    "                            if not torch.isnan(sleep_arr.sum()):\n",
    "                                totz = zscore(abs(sleep_arr.sum(axis=1)))\n",
    "                                if not np.any(abs(totz) > thresh):\n",
    "                                #  print(sleep_arr.shape)\n",
    "                                    if sleep_arr.shape[0] == window:\n",
    "                                        np.save('data/move/' + night + '_' + rec + '_' + str(ch) + '_win'+str(i) +'_move.npy',sleep_arr.numpy().T)\n",
    "                                else:\n",
    "                                    print(night, rec, i, \"has badtimes.\")\n",
    "                else:\n",
    "                    prior_rec = '00' + str(int(rec) - 1)\n",
    "                    print(\"Using prior rec..\")\n",
    "                    night_events = loadmat('/vol/sas2b/Goose_Multiscale_M1_Wireless/'+night+'/'+prior_rec+'/rec'+prior_rec+'.NightEvents.mat')\n",
    "                    video_start = night_events['NightEvents'][0][0][0][0][0][0][0][0]\n",
    "                    video_stop = night_events['NightEvents'][0][0][0][0][0][1][0][0]\n",
    "                    video_length = video_stop - video_start\n",
    "\n",
    "                    mvmt_starts = night_events['NightEvents'][0][0][1][0][0][0][0]\n",
    "                    mvmt_ends = night_events['NightEvents'][0][0][1][0][0][1][0]\n",
    "                    if mvmt_ends[-1] < video_stop:\n",
    "                        print(\"Saving new events.\")\n",
    "                        asleeps = torch.split(asleep,split_size_or_sections=window,dim=0)\n",
    "                        for i, sleep_arr in enumerate(asleeps):\n",
    "                            if not torch.isnan(sleep_arr.sum()):\n",
    "                                totz = zscore(abs(sleep_arr.sum(axis=1)))\n",
    "                                if not np.any(abs(totz) > thresh):\n",
    "                                #  print(sleep_arr.shape)\n",
    "                                    if sleep_arr.shape[0] == window:\n",
    "                                        np.save('data/sleep/' + night + '_' + rec + '_' + str(ch) + '_win'+str(i) +'_sleep.npy',sleep_arr.numpy().T)\n",
    "                                else:\n",
    "                                    print(night, rec, i, \"has badtimes.\")\n",
    "                    else:\n",
    "                        movings = torch.split(moving,split_size_or_sections=window,dim=0)\n",
    "                        for i, sleep_arr in enumerate(movings):\n",
    "                            if not torch.isnan(sleep_arr.sum()): # print where this happens\n",
    "                                totz = zscore(abs(sleep_arr.sum(axis=1)))\n",
    "                                if not np.any(abs(totz) > thresh):\n",
    "                                \n",
    "                                    #  print(sleep_arr.shape)\n",
    "                                    if sleep_arr.shape[0] == window:\n",
    "                                        np.save('data/move/' + night + '_' + rec + '_' + str(ch) + '_win'+str(i) +'_move.npy',sleep_arr.numpy().T)\n",
    "                                else:\n",
    "                                    print(night, rec, i, \"has badtimes.\")\n",
    "            # From here I suspect it would be easy to load in \n",
    "        except Exception as e:\n",
    "            print(e)\n",
    "            print(\"Couldn't do \", night, \" \", rec)\n",
    "            # This means I look at this night separately, and from it I can infer what state\n",
    "            # the monkey is in based on how it was as the end of the previous recording\n",
    "            pass"
   ]
  },
  {
   "cell_type": "markdown",
   "metadata": {},
   "source": [
    "Now let's see if this makes sense when reading in a random file..."
   ]
  },
  {
   "cell_type": "code",
   "execution_count": null,
   "metadata": {
    "scrolled": true
   },
   "outputs": [],
   "source": [
    "for move_spec in os.listdir('data/move/')[:25]:\n",
    "    plt.figure()\n",
    "    plt.title(move_spec)\n",
    "    plt.imshow(np.load('data/move/'+move_spec))\n",
    "    #break"
   ]
  },
  {
   "cell_type": "code",
   "execution_count": null,
   "metadata": {
    "scrolled": false
   },
   "outputs": [],
   "source": [
    "for sleep_spec in os.listdir('data/sleep/')[:25]:\n",
    "    plt.figure()\n",
    "    plt.title(sleep_spec)\n",
    "    plt.imshow(np.load('data/sleep/'+sleep_spec))\n",
    "    #break"
   ]
  },
  {
   "cell_type": "code",
   "execution_count": null,
   "metadata": {},
   "outputs": [],
   "source": [
    "test_sleep_spec = np.load('data/sleep/180326_003_0_win103_sleep.npy')"
   ]
  },
  {
   "cell_type": "code",
   "execution_count": null,
   "metadata": {},
   "outputs": [],
   "source": [
    "plt.imshow(test_sleep_spec)"
   ]
  },
  {
   "cell_type": "code",
   "execution_count": null,
   "metadata": {},
   "outputs": [],
   "source": []
  },
  {
   "cell_type": "code",
   "execution_count": null,
   "metadata": {},
   "outputs": [],
   "source": []
  },
  {
   "cell_type": "markdown",
   "metadata": {},
   "source": [
    "### Fixing the mistake\n",
    "\n",
    "So there are two possible failure cases \n",
    "\n",
    "1) No night events file created yet, which just means there's nothing to match to a label just yet.\n",
    "\n",
    "2) There is a night events file, but there is no movement files. If that's the case, then it means the monkey is in the same state they were in at the end of the prior recording. \n",
    "\n",
    "3) After doing 2, it's possible that the prior recording also wasn't labeled. "
   ]
  },
  {
   "cell_type": "code",
   "execution_count": null,
   "metadata": {},
   "outputs": [],
   "source": [
    "# start with 180327   006\n",
    "night = '180328'\n",
    "rec = '001'\n",
    "allspec = loadmat('../Spectrogram_mat_data/N10W1dn1_'+ night + '_rec'+rec+'.mat')\n",
    "night_events = loadmat('/vol/sas2b/Goose_Multiscale_M1_Wireless/'+night+'/'+rec+'/rec'+rec+'.NightEvents.mat')\n",
    "video_start = night_events['NightEvents'][0][0][0][0][0][0][0][0]\n",
    "video_stop = night_events['NightEvents'][0][0][0][0][0][1][0][0]\n",
    "video_length = video_stop - video_start\n",
    "\n",
    "#mvmt_starts = night_events['NightEvents'][0][0][1][0][0][0][0]\n",
    "#mvmt_ends = night_events['NightEvents'][0][0][1][0][0][1][0]\n",
    "# So there are no night events. \n",
    "\n",
    "# In this case, head to the prior recording, load in those movements\n",
    "\n"
   ]
  },
  {
   "cell_type": "code",
   "execution_count": null,
   "metadata": {},
   "outputs": [],
   "source": [
    "allspec"
   ]
  },
  {
   "cell_type": "code",
   "execution_count": null,
   "metadata": {},
   "outputs": [],
   "source": [
    "prior_rec = '00' + str(int(rec) - 1)\n",
    "\n",
    "night_events = loadmat('/vol/sas2b/Goose_Multiscale_M1_Wireless/'+night+'/'+prior_rec+'/rec'+prior_rec+'.NightEvents.mat')\n",
    "video_start = night_events['NightEvents'][0][0][0][0][0][0][0][0]\n",
    "video_stop = night_events['NightEvents'][0][0][0][0][0][1][0][0]\n",
    "video_length = video_stop - video_start\n",
    "\n",
    "mvmt_starts = night_events['NightEvents'][0][0][1][0][0][0][0]\n",
    "mvmt_ends = night_events['NightEvents'][0][0][1][0][0][1][0]\n"
   ]
  },
  {
   "cell_type": "code",
   "execution_count": null,
   "metadata": {},
   "outputs": [],
   "source": [
    "plt.imshow(np.load('data/sleeping/180327_009_0_win7_sleep.npy'))"
   ]
  },
  {
   "cell_type": "code",
   "execution_count": null,
   "metadata": {},
   "outputs": [],
   "source": [
    "video_stop"
   ]
  },
  {
   "cell_type": "code",
   "execution_count": null,
   "metadata": {},
   "outputs": [],
   "source": [
    "if mvmt_ends[-1] < video_stop:\n",
    "    print(\"Monkey was asleep as the end of \", prior_rec, ' so label all of ', rec, ' as asleep')"
   ]
  },
  {
   "cell_type": "markdown",
   "metadata": {},
   "source": [
    "Use just available data, "
   ]
  },
  {
   "cell_type": "code",
   "execution_count": null,
   "metadata": {},
   "outputs": [],
   "source": [
    "for file in os.listdir('../Spectrogram_mat_data/'):\n",
    "    night = file.split('_')[1]\n",
    "    rec = file.split('.')[0][-3:]\n",
    "    allspec = loadmat('../Spectrogram_mat_data/N10W1dn1_'+ night + '_rec'+rec+'.mat')\n",
    "    night_events = loadmat('/vol/sas2b/Goose_Multiscale_M1_Wireless/'+night+'/'+rec+'/rec'+rec+'.NightEvents.mat')\n",
    "    video_start = night_events['NightEvents'][0][0][0][0][0][0][0][0]\n",
    "    video_stop = night_events['NightEvents'][0][0][0][0][0][1][0][0]\n",
    "    video_length = video_stop - video_start\n",
    "\n",
    "    mvmt_starts = night_events['NightEvents'][0][0][1][0][0][0][0]\n",
    "    mvmt_ends = night_events['NightEvents'][0][0][1][0][0][1][0]\n",
    "\n",
    "\n",
    "    for ch in range(1): # iterate over channels (just one for now)\n",
    "        spec = allspec['Spec_per_Ch'][0][0][ch][0][0][0]  \n",
    "        prior_mvmt = 0\n",
    "        for start, end in zip(mvmt_starts,mvmt_ends): # loop over movements\n",
    "            mvmt_start = (spec.shape[0] / video_length) * start\n",
    "            mvmt_end = (spec.shape[0] / video_length) * end\n",
    "            window = int(round(spec.shape[0] / video_length)) *WINDOW_LENGTH\n",
    "\n",
    "            asleep = torch.from_numpy(spec[int(round(prior_mvmt)):int(round(mvmt_start)),:])\n",
    "            moving = torch.from_numpy(spec[int(round(mvmt_start)):int(round(mvmt_end)),:])\n",
    "\n",
    "            # after indexing split into windows\n",
    "            asleeps = torch.split(asleep,split_size_or_sections=window,dim=0)\n",
    "\n",
    "            movings = torch.split(moving,split_size_or_sections=window,dim=0)\n",
    "            prior_mvmt  = mvmt_end # for the next loop\n",
    "\n",
    "            # loop over these windows and I guess save? \n",
    "            for sleep_arr in asleeps:\n",
    "              #  print(sleep_arr.shape)\n",
    "                if sleep_arr.shape[0] == WINDOW_LENGTH:\n",
    "                    np.save('data/sleeping/' + night + '_' + rec + '_' + str(ch) + '_sleep.npy',sleep_arr.numpy().T)\n",
    "                    # save as a npy file?\n",
    "            for sleep_arr in movings:\n",
    "               # print(sleep_arr.shape)\n",
    "                if sleep_arr.shape[0] == WINDOW_LENGTH:\n",
    "\n",
    "                    # save as a npy file? \n",
    "                    np.save('data/moving/' + night + '_' + rec + '_' + str(ch) + '_move.npy',sleep_arr.numpy().T)\n",
    "\n",
    "    # From here I suspect it would be easy to load in \n",
    "\n"
   ]
  },
  {
   "cell_type": "markdown",
   "metadata": {},
   "source": [
    "Rec 8 on 326, is there no movement or all movemnt? What should we say in this case? "
   ]
  },
  {
   "cell_type": "code",
   "execution_count": null,
   "metadata": {},
   "outputs": [],
   "source": [
    " spec = allspec['Spec_per_Ch'][0][0][ch][0][0][0]"
   ]
  },
  {
   "cell_type": "code",
   "execution_count": null,
   "metadata": {},
   "outputs": [],
   "source": [
    "plt.imshow(spec.T[:,0:100])"
   ]
  },
  {
   "cell_type": "code",
   "execution_count": null,
   "metadata": {},
   "outputs": [],
   "source": [
    "plt.imshow(np.load('data/moving/180327_001_0_move.npy'))"
   ]
  },
  {
   "cell_type": "code",
   "execution_count": null,
   "metadata": {},
   "outputs": [],
   "source": [
    "plt.imshow(np.load('data/sleeping/180327_001_0_win117_sleep.npy'))"
   ]
  },
  {
   "cell_type": "markdown",
   "metadata": {},
   "source": [
    "Possibilities, if in recording 1 no movement mentioned, then we assume the monkey was moving the whole time. "
   ]
  },
  {
   "cell_type": "code",
   "execution_count": null,
   "metadata": {},
   "outputs": [],
   "source": [
    "len(os.listdir('data/moving/'))"
   ]
  },
  {
   "cell_type": "code",
   "execution_count": null,
   "metadata": {},
   "outputs": [],
   "source": [
    "len(os.listdir('data/sleeping/'))"
   ]
  },
  {
   "cell_type": "code",
   "execution_count": null,
   "metadata": {},
   "outputs": [],
   "source": []
  }
 ],
 "metadata": {
  "kernelspec": {
   "display_name": "Python 3",
   "language": "python",
   "name": "python3"
  },
  "language_info": {
   "codemirror_mode": {
    "name": "ipython",
    "version": 3
   },
   "file_extension": ".py",
   "mimetype": "text/x-python",
   "name": "python",
   "nbconvert_exporter": "python",
   "pygments_lexer": "ipython3",
   "version": "3.8.5"
  }
 },
 "nbformat": 4,
 "nbformat_minor": 4
}
