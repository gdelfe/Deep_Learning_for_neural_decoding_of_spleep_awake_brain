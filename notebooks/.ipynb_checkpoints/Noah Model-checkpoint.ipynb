{
 "cells": [
  {
   "cell_type": "code",
   "execution_count": 1,
   "metadata": {},
   "outputs": [],
   "source": [
    "import numpy as np\n",
    "import pandas as pd\n",
    "import matplotlib.pyplot as plt\n",
    "import torch\n",
    "from torch.utils.data import Dataset, DataLoader\n",
    "from torch import nn\n",
    "from torch.nn.functional import relu\n",
    "from scipy.io import loadmat\n",
    "import os\n",
    "from os import listdir\n",
    "import pandas as pd\n",
    "from skimage import io\n",
    "from PIL import Image"
   ]
  },
  {
   "cell_type": "code",
   "execution_count": 3,
   "metadata": {},
   "outputs": [
    {
     "data": {
      "text/plain": [
       "'/mnt/pesaranlab/People/Capstone_students/Aajan/Sleeping-Monkeys/notebooks'"
      ]
     },
     "execution_count": 3,
     "metadata": {},
     "output_type": "execute_result"
    }
   ],
   "source": [
    "pwd"
   ]
  },
  {
   "cell_type": "code",
   "execution_count": 4,
   "metadata": {},
   "outputs": [],
   "source": [
    "data_path = '../../../Noah/data/move'"
   ]
  },
  {
   "cell_type": "code",
   "execution_count": 2,
   "metadata": {
    "scrolled": false
   },
   "outputs": [
    {
     "ename": "FileNotFoundError",
     "evalue": "[Errno 2] No such file or directory: 'data/move/'",
     "output_type": "error",
     "traceback": [
      "\u001b[0;31m---------------------------------------------------------------------------\u001b[0m",
      "\u001b[0;31mFileNotFoundError\u001b[0m                         Traceback (most recent call last)",
      "\u001b[0;32m<ipython-input-2-4a156399bb44>\u001b[0m in \u001b[0;36m<module>\u001b[0;34m\u001b[0m\n\u001b[1;32m      1\u001b[0m \u001b[0mmoving_files\u001b[0m \u001b[0;34m=\u001b[0m \u001b[0;34m[\u001b[0m\u001b[0;34m]\u001b[0m\u001b[0;34m\u001b[0m\u001b[0;34m\u001b[0m\u001b[0m\n\u001b[0;32m----> 2\u001b[0;31m \u001b[0;32mfor\u001b[0m \u001b[0mf\u001b[0m \u001b[0;32min\u001b[0m \u001b[0mos\u001b[0m\u001b[0;34m.\u001b[0m\u001b[0mlistdir\u001b[0m\u001b[0;34m(\u001b[0m\u001b[0;34m'data/move/'\u001b[0m\u001b[0;34m)\u001b[0m\u001b[0;34m:\u001b[0m\u001b[0;34m\u001b[0m\u001b[0;34m\u001b[0m\u001b[0m\n\u001b[0m\u001b[1;32m      3\u001b[0m     \u001b[0;32mif\u001b[0m \u001b[0mnp\u001b[0m\u001b[0;34m.\u001b[0m\u001b[0mload\u001b[0m\u001b[0;34m(\u001b[0m\u001b[0;34m'data/move/'\u001b[0m\u001b[0;34m+\u001b[0m\u001b[0mf\u001b[0m\u001b[0;34m)\u001b[0m\u001b[0;34m.\u001b[0m\u001b[0mshape\u001b[0m\u001b[0;34m[\u001b[0m\u001b[0;36m0\u001b[0m\u001b[0;34m]\u001b[0m \u001b[0;34m==\u001b[0m \u001b[0;36m100\u001b[0m\u001b[0;34m:\u001b[0m\u001b[0;34m\u001b[0m\u001b[0;34m\u001b[0m\u001b[0m\n\u001b[1;32m      4\u001b[0m         \u001b[0mmoving_files\u001b[0m\u001b[0;34m.\u001b[0m\u001b[0mappend\u001b[0m\u001b[0;34m(\u001b[0m\u001b[0mf\u001b[0m\u001b[0;34m)\u001b[0m\u001b[0;34m\u001b[0m\u001b[0;34m\u001b[0m\u001b[0m\n\u001b[1;32m      5\u001b[0m \u001b[0;34m\u001b[0m\u001b[0m\n",
      "\u001b[0;31mFileNotFoundError\u001b[0m: [Errno 2] No such file or directory: 'data/move/'"
     ]
    }
   ],
   "source": [
    "moving_files = []\n",
    "for f in os.listdir(data_path):\n",
    "    if np.load('data/move/'+f).shape[0] == 100:\n",
    "        moving_files.append(f)\n",
    "        \n",
    "sleeping_files = []\n",
    "for f in os.listdir('data/sleep/'):\n",
    "    if np.load('data/sleep/'+f).shape[0] == 100:\n",
    "        sleeping_files.append(f)"
   ]
  },
  {
   "cell_type": "code",
   "execution_count": 3,
   "metadata": {},
   "outputs": [],
   "source": [
    "class NoahSpectrogramDataset(Dataset):\n",
    "    def __init__(self, mode='train' ,moving_files=moving_files,sleeping_files=sleeping_files):\n",
    "        self.movement_files = moving_files\n",
    "        self.sleeping_files = sleeping_files\n",
    "        all_files = self.sleeping_files + self.movement_files\n",
    "        if mode == 'train':\n",
    "            self.all_files = [f for f in all_files if '0326' not in f if '0328' not in f]\n",
    "        elif mode == 'valid':\n",
    "            self.all_files = [f for f in all_files if '0326' in f]\n",
    "        if mode == 'test':\n",
    "            self.all_files = [f for f in all_files if '0328' in f]\n",
    "            \n",
    "        # clean\n",
    "    def __len__(self):\n",
    "        return len(self.all_files)\n",
    "    \n",
    "    def __getitem__(self, idx):\n",
    "       # labe\n",
    "       # spec = torch.from_numpy(np.load('data/'self.all_files[idx])).unsqueeze(0)\n",
    "        mvmt_type  = self.all_files[idx].split('_')[-1].split('.')[0] #check this out\n",
    "        spec = torch.from_numpy(np.load('data/'+ mvmt_type +'/' +self.all_files[idx])) \n",
    "        if mvmt_type == 'move':\n",
    "            label = torch.Tensor([0])\n",
    "        elif mvmt_type == 'sleep':\n",
    "            label = torch.Tensor([1])\n",
    "        else:\n",
    "            label = torch.Tensor([-1])\n",
    "        return  spec.resize(1,100,10) , label"
   ]
  },
  {
   "cell_type": "code",
   "execution_count": 4,
   "metadata": {},
   "outputs": [],
   "source": [
    "train_dataset = NoahSpectrogramDataset(mode='train')\n",
    "valid_dataset = NoahSpectrogramDataset(mode='valid')\n",
    "test_dataset  = NoahSpectrogramDataset(mode='test')\n"
   ]
  },
  {
   "cell_type": "code",
   "execution_count": 5,
   "metadata": {},
   "outputs": [],
   "source": [
    "train_loader = DataLoader(dataset = train_dataset, batch_size = 32, shuffle = True)\n",
    "val_loader = DataLoader(dataset = test_dataset, batch_size = 32, shuffle = False)"
   ]
  },
  {
   "cell_type": "code",
   "execution_count": 6,
   "metadata": {},
   "outputs": [],
   "source": [
    "class CNN(nn.Module):\n",
    "    def __init__(self, in_channels = 1, num_classes = 1):\n",
    "        super(CNN, self).__init__()\n",
    "        self.conv1 = nn.Conv2d(in_channels=1, out_channels=4, kernel_size=(3,3), stride = (1,1), padding = (1,1))\n",
    "        self.dropout1 = nn.Dropout2d(.5)\n",
    "        self.conv2 = nn.Conv2d(in_channels=4, out_channels=8, kernel_size=(3,3), stride = (1,1), padding = (1,1))\n",
    "        self.fc1 = nn.Linear(8*100*10, num_classes)\n",
    "        self.dropout2 = nn.Dropout2d(.5)\n",
    "        self.sigmoid = nn.Sigmoid()\n",
    "        \n",
    "    def forward(self, x):\n",
    "        x = x.float()\n",
    "        x = self.dropout1(relu(self.conv1(x)))\n",
    "        x = self.dropout2(relu(self.conv2(x)))\n",
    "        x = x.reshape(x.shape[0], -1)\n",
    "        x = self.fc1(x).flatten()\n",
    "        x = self.sigmoid(x)\n",
    "        return x\n",
    "    \n",
    "class LogReg(nn.Module):\n",
    "    def __init__(self, input_dim=100*10, output_dim=1):\n",
    "        super(LogReg, self).__init__()\n",
    "        self.linear = torch.nn.Linear(input_dim, output_dim)\n",
    "\n",
    "    def forward(self, x):\n",
    "        x = x.resize(x.shape[0],1,10*100).float()\n",
    "        outputs = torch.sigmoid(self.linear(x))\n",
    "        return outputs\n",
    "    \n",
    "class MLP(nn.Module):\n",
    "    def __init__(self, num_classes = 1):\n",
    "        super(MLP, self).__init__()\n",
    "        self.fc1 = nn.Linear(100*10, 200)\n",
    "        self.fc2 = nn.Linear(200, num_classes)\n",
    "        self.sigmoid = nn.Sigmoid()\n",
    "        \n",
    "    def forward(self, x, verbose=True):\n",
    "        x = x.float().reshape(x.shape[0], -1)\n",
    "        x = relu(self.fc1(x))\n",
    "        x = relu(self.fc2(x)).flatten()\n",
    "        x = self.sigmoid(x)\n",
    "        return x"
   ]
  },
  {
   "cell_type": "code",
   "execution_count": 13,
   "metadata": {},
   "outputs": [],
   "source": [
    "device = torch.device('cuda' if torch.cuda.is_available() else 'cpu')\n",
    "\n",
    "input_size = 1000 #(10x100)\n",
    "num_classes = 1\n",
    "learning_rate = 0.001\n",
    "num_epochs = 10\n",
    "\n",
    "model = CNN().to(device)\n",
    "criterion = nn.BCELoss()\n",
    "optimizer = torch.optim.Adam(model.parameters(), lr = learning_rate)"
   ]
  },
  {
   "cell_type": "code",
   "execution_count": 14,
   "metadata": {},
   "outputs": [],
   "source": [
    "\n",
    "def get_accuracy(loader):\n",
    "    correct = 0\n",
    "    total = 0\n",
    "    with torch.no_grad():\n",
    "        for data in loader:\n",
    "            images, labels = data\n",
    "            outputs = model(images)\n",
    "            predictions = []\n",
    "            for o in outputs:\n",
    "                if o.item() > .5:\n",
    "                    predictions.append(1)\n",
    "                else:\n",
    "                    predictions.append(0)\n",
    "            predictions = np.array(predictions)\n",
    "            total += labels.size(0)\n",
    "            correct += (predictions.flatten() == labels.flatten().numpy()).sum().item()\n",
    "    return correct / total\n"
   ]
  },
  {
   "cell_type": "code",
   "execution_count": 15,
   "metadata": {},
   "outputs": [],
   "source": [
    "def train(epoch):\n",
    "    model.train()\n",
    "    batch_losses = []\n",
    "    \n",
    "    for batch_idx, (data, labels) in enumerate(train_loader):\n",
    "        data = data.to(device)\n",
    "        labels = labels.to(device).float()\n",
    "        \n",
    "        if (torch.isinf(data).any()) or (torch.isnan(data).any()):\n",
    "#             if epoch == 0:\n",
    "#                 bad_data[batch_idx] = data\n",
    "            continue\n",
    "        \n",
    "        preds = model(data)\n",
    "        loss = criterion(preds, labels)\n",
    "        \n",
    "        optimizer.zero_grad()\n",
    "        loss.backward()\n",
    "        optimizer.step()\n",
    "        \n",
    "        batch_losses.append(loss)\n",
    "        \n",
    "    epoch_loss = sum(batch_losses)/len(batch_losses)\n",
    "    acc = get_accuracy(train_loader) \n",
    "    return epoch_loss,acc\n",
    "\n",
    "def test(loader):\n",
    "    model.eval()\n",
    "    batch_losses = []\n",
    "    \n",
    "    with torch.no_grad():\n",
    "        for batch_idx, (data, labels) in enumerate(loader):\n",
    "            data = data.to(device)\n",
    "            labels = labels.to(device).float()\n",
    "            \n",
    "            if (torch.isinf(data).any()) or (torch.isnan(data).any()):\n",
    "                continue\n",
    "            \n",
    "            preds = model(data)\n",
    "            loss = criterion(preds, labels)\n",
    "            \n",
    "            batch_losses.append(loss)\n",
    "        \n",
    "        epoch_loss = sum(batch_losses)/len(batch_losses)\n",
    "        \n",
    "    acc = get_accuracy(loader)\n",
    "    return epoch_loss,acc"
   ]
  },
  {
   "cell_type": "code",
   "execution_count": 16,
   "metadata": {},
   "outputs": [
    {
     "name": "stdout",
     "output_type": "stream",
     "text": [
      "Train loss for epoch 0: 0.43002206087112427\n",
      "Val loss for epoch 0: 0.5623630881309509\n",
      "Train loss for epoch 1: 0.37126389145851135\n",
      "Val loss for epoch 1: 0.48004448413848877\n",
      "Train loss for epoch 2: 0.3535903990268707\n",
      "Val loss for epoch 2: 0.5811789035797119\n",
      "Train loss for epoch 3: 0.3480073809623718\n",
      "Val loss for epoch 3: 0.5363171100616455\n",
      "Train loss for epoch 4: 0.328165203332901\n",
      "Val loss for epoch 4: 0.6430889368057251\n",
      "Train loss for epoch 5: 0.3196205794811249\n",
      "Val loss for epoch 5: 0.4364182651042938\n",
      "Train loss for epoch 6: 0.32313570380210876\n",
      "Val loss for epoch 6: 0.49656862020492554\n",
      "Train loss for epoch 7: 0.31025591492652893\n",
      "Val loss for epoch 7: 0.5209197402000427\n",
      "Train loss for epoch 8: 0.3138890564441681\n",
      "Val loss for epoch 8: 0.47314217686653137\n",
      "Train loss for epoch 9: 0.3146974444389343\n",
      "Val loss for epoch 9: 0.4061792194843292\n"
     ]
    }
   ],
   "source": [
    "epochs = []\n",
    "training_losses = []\n",
    "training_acc = []\n",
    "val_losses = []\n",
    "validation_acc = []\n",
    "for epoch in range(num_epochs):\n",
    "    avg_train_loss, train_acc = train(epoch)\n",
    "    print('Train loss for epoch {}: {}'.format(epoch, avg_train_loss))\n",
    "    val_loss, val_acc = test(val_loader)\n",
    "    print('Val loss for epoch {}: {}'.format(epoch, val_loss))\n",
    "    epochs.append(epoch)\n",
    "    training_losses.append(avg_train_loss)\n",
    "    training_acc.append(train_acc)\n",
    "    val_losses.append(val_loss)\n",
    "    validation_acc.append(val_acc)"
   ]
  },
  {
   "cell_type": "code",
   "execution_count": 18,
   "metadata": {},
   "outputs": [
    {
     "ename": "ModuleAttributeError",
     "evalue": "'CNN' object has no attribute 'features'",
     "output_type": "error",
     "traceback": [
      "\u001b[0;31m---------------------------------------------------------------------------\u001b[0m",
      "\u001b[0;31mModuleAttributeError\u001b[0m                      Traceback (most recent call last)",
      "\u001b[0;32m<ipython-input-18-53ce816a686b>\u001b[0m in \u001b[0;36m<module>\u001b[0;34m\u001b[0m\n\u001b[1;32m     25\u001b[0m \u001b[0;34m\u001b[0m\u001b[0m\n\u001b[1;32m     26\u001b[0m \u001b[0;31m#visualize weights for alexnet - first conv layer\u001b[0m\u001b[0;34m\u001b[0m\u001b[0;34m\u001b[0m\u001b[0;34m\u001b[0m\u001b[0m\n\u001b[0;32m---> 27\u001b[0;31m \u001b[0mplot_weights\u001b[0m\u001b[0;34m(\u001b[0m\u001b[0mmodel\u001b[0m\u001b[0;34m,\u001b[0m \u001b[0;36m0\u001b[0m\u001b[0;34m,\u001b[0m \u001b[0msingle_channel\u001b[0m \u001b[0;34m=\u001b[0m \u001b[0;32mTrue\u001b[0m\u001b[0;34m)\u001b[0m\u001b[0;34m\u001b[0m\u001b[0;34m\u001b[0m\u001b[0m\n\u001b[0m",
      "\u001b[0;32m<ipython-input-18-53ce816a686b>\u001b[0m in \u001b[0;36mplot_weights\u001b[0;34m(model, layer_num, single_channel, collated)\u001b[0m\n\u001b[1;32m      2\u001b[0m \u001b[0;34m\u001b[0m\u001b[0m\n\u001b[1;32m      3\u001b[0m     \u001b[0;31m#extracting the model features at the particular layer number\u001b[0m\u001b[0;34m\u001b[0m\u001b[0;34m\u001b[0m\u001b[0;34m\u001b[0m\u001b[0m\n\u001b[0;32m----> 4\u001b[0;31m     \u001b[0mlayer\u001b[0m \u001b[0;34m=\u001b[0m \u001b[0mmodel\u001b[0m\u001b[0;34m.\u001b[0m\u001b[0mfeatures\u001b[0m\u001b[0;34m[\u001b[0m\u001b[0mlayer_num\u001b[0m\u001b[0;34m]\u001b[0m\u001b[0;34m\u001b[0m\u001b[0;34m\u001b[0m\u001b[0m\n\u001b[0m\u001b[1;32m      5\u001b[0m \u001b[0;34m\u001b[0m\u001b[0m\n\u001b[1;32m      6\u001b[0m     \u001b[0;31m#checking whether the layer is convolution layer or not\u001b[0m\u001b[0;34m\u001b[0m\u001b[0;34m\u001b[0m\u001b[0;34m\u001b[0m\u001b[0m\n",
      "\u001b[0;32m~/anaconda3/envs/monkey/lib/python3.8/site-packages/torch/nn/modules/module.py\u001b[0m in \u001b[0;36m__getattr__\u001b[0;34m(self, name)\u001b[0m\n\u001b[1;32m    769\u001b[0m             \u001b[0;32mif\u001b[0m \u001b[0mname\u001b[0m \u001b[0;32min\u001b[0m \u001b[0mmodules\u001b[0m\u001b[0;34m:\u001b[0m\u001b[0;34m\u001b[0m\u001b[0;34m\u001b[0m\u001b[0m\n\u001b[1;32m    770\u001b[0m                 \u001b[0;32mreturn\u001b[0m \u001b[0mmodules\u001b[0m\u001b[0;34m[\u001b[0m\u001b[0mname\u001b[0m\u001b[0;34m]\u001b[0m\u001b[0;34m\u001b[0m\u001b[0;34m\u001b[0m\u001b[0m\n\u001b[0;32m--> 771\u001b[0;31m         raise ModuleAttributeError(\"'{}' object has no attribute '{}'\".format(\n\u001b[0m\u001b[1;32m    772\u001b[0m             type(self).__name__, name))\n\u001b[1;32m    773\u001b[0m \u001b[0;34m\u001b[0m\u001b[0m\n",
      "\u001b[0;31mModuleAttributeError\u001b[0m: 'CNN' object has no attribute 'features'"
     ]
    }
   ],
   "source": [
    "def plot_weights(model, layer_num, single_channel = True, collated = False):\n",
    "  \n",
    "    #extracting the model features at the particular layer number\n",
    "    layer = model.features[layer_num]\n",
    "  \n",
    "    #checking whether the layer is convolution layer or not \n",
    "    if isinstance(layer, nn.Conv2d):\n",
    "        #getting the weight tensor data\n",
    "        weight_tensor = model.features[layer_num].weight.data\n",
    "    \n",
    "        if single_channel:\n",
    "            if collated:\n",
    "                plot_filters_single_channel_big(weight_tensor)\n",
    "            else:\n",
    "                plot_filters_single_channel(weight_tensor)\n",
    "        \n",
    "        else:\n",
    "            if weight_tensor.shape[1] == 3:\n",
    "                plot_filters_multi_channel(weight_tensor)\n",
    "            else:\n",
    "                print(\"Can only plot weights with three channels with single channel = False\")\n",
    "        \n",
    "    else:\n",
    "        print(\"Can only visualize layers which are convolutional\")\n",
    "        \n",
    "#visualize weights for alexnet - first conv layer\n",
    "plot_weights(model, 0, single_channel = True)"
   ]
  },
  {
   "cell_type": "code",
   "execution_count": 146,
   "metadata": {},
   "outputs": [],
   "source": [
    "plt.style.use('dark_background')\n"
   ]
  },
  {
   "cell_type": "code",
   "execution_count": 149,
   "metadata": {},
   "outputs": [
    {
     "data": {
      "text/plain": [
       "<matplotlib.legend.Legend at 0x7f12abb5b2b0>"
      ]
     },
     "execution_count": 149,
     "metadata": {},
     "output_type": "execute_result"
    },
    {
     "data": {
      "image/png": "[encoded data removed]",
      "text/plain": [
       "<Figure size 432x288 with 1 Axes>"
      ]
     },
     "metadata": {},
     "output_type": "display_data"
    },
    {
     "data": {
      "image/png": "[encoded data removed]",
      "text/plain": [
       "<Figure size 432x288 with 1 Axes>"
      ]
     },
     "metadata": {},
     "output_type": "display_data"
    }
   ],
   "source": [
    "plt.figure()\n",
    "plt.title(\"CNN\", fontsize = 15)\n",
    "plt.plot(training_acc,linewidth = 1.5,label = 'train')\n",
    "plt.plot(validation_acc,linewidth = 1.5,label = 'valid')\n",
    "plt.xlabel(\"Epoch\",fontsize = 15)\n",
    "plt.ylabel(\"Accuracy\", fontsize = 15)\n",
    "plt.legend()\n",
    "\n",
    "plt.figure()\n",
    "plt.title(\"CNN\", fontsize = 15)\n",
    "plt.plot(training_losses,linewidth = 1.5,label = 'train')\n",
    "plt.plot(val_losses,linewidth = 1.5,label = 'valid')\n",
    "plt.xlabel(\"Epoch\",fontsize = 15)\n",
    "plt.ylabel(\"Loss\", fontsize = 15)\n",
    "plt.legend()"
   ]
  },
  {
   "cell_type": "code",
   "execution_count": 8,
   "metadata": {},
   "outputs": [],
   "source": [
    "model = MLP().to(device)"
   ]
  },
  {
   "cell_type": "code",
   "execution_count": 12,
   "metadata": {},
   "outputs": [
    {
     "name": "stdout",
     "output_type": "stream",
     "text": [
      "Train loss for epoch 0: 0.6925397515296936\n"
     ]
    },
    {
     "name": "stderr",
     "output_type": "stream",
     "text": [
      "/home/bijanadmin/anaconda3/envs/monkey/lib/python3.8/site-packages/torch/nn/modules/loss.py:529: UserWarning: Using a target size (torch.Size([9, 1])) that is different to the input size (torch.Size([9])) is deprecated. Please ensure they have the same size.\n",
      "  return F.binary_cross_entropy(input, target, weight=self.weight, reduction=self.reduction)\n"
     ]
    },
    {
     "name": "stdout",
     "output_type": "stream",
     "text": [
      "Val loss for epoch 0: 0.6933594346046448\n",
      "Train loss for epoch 1: 0.6925438642501831\n",
      "Val loss for epoch 1: 0.6933594346046448\n",
      "Train loss for epoch 2: 0.6925637722015381\n",
      "Val loss for epoch 2: 0.6933594346046448\n",
      "Train loss for epoch 3: 0.6925548911094666\n",
      "Val loss for epoch 3: 0.6933594346046448\n",
      "Train loss for epoch 4: 0.6925438642501831\n",
      "Val loss for epoch 4: 0.6933594346046448\n",
      "Train loss for epoch 5: 0.6925179958343506\n",
      "Val loss for epoch 5: 0.6933594346046448\n",
      "Train loss for epoch 6: 0.6925466656684875\n",
      "Val loss for epoch 6: 0.6933594346046448\n",
      "Train loss for epoch 7: 0.6925514936447144\n",
      "Val loss for epoch 7: 0.6933594346046448\n",
      "Train loss for epoch 8: 0.6925720572471619\n",
      "Val loss for epoch 8: 0.6933594346046448\n",
      "Train loss for epoch 9: 0.6925402879714966\n",
      "Val loss for epoch 9: 0.6933594346046448\n"
     ]
    }
   ],
   "source": [
    "epochs = []\n",
    "training_losses = []\n",
    "training_acc = []\n",
    "val_losses = []\n",
    "validation_acc = []\n",
    "for epoch in range(num_epochs):\n",
    "    avg_train_loss, train_acc = train(epoch)\n",
    "    print('Train loss for epoch {}: {}'.format(epoch, avg_train_loss))\n",
    "    val_loss, val_acc = test(val_loader)\n",
    "    print('Val loss for epoch {}: {}'.format(epoch, val_loss))\n",
    "    epochs.append(epoch)\n",
    "    training_losses.append(avg_train_loss)\n",
    "    training_acc.append(train_acc)\n",
    "    val_losses.append(val_loss)\n",
    "    validation_acc.append(val_acc)"
   ]
  },
  {
   "cell_type": "code",
   "execution_count": null,
   "metadata": {},
   "outputs": [],
   "source": []
  }
 ],
 "metadata": {
  "kernelspec": {
   "display_name": "Python 3",
   "language": "python",
   "name": "python3"
  },
  "language_info": {
   "codemirror_mode": {
    "name": "ipython",
    "version": 3
   },
   "file_extension": ".py",
   "mimetype": "text/x-python",
   "name": "python",
   "nbconvert_exporter": "python",
   "pygments_lexer": "ipython3",
   "version": "3.8.5"
  }
 },
 "nbformat": 4,
 "nbformat_minor": 4
}
