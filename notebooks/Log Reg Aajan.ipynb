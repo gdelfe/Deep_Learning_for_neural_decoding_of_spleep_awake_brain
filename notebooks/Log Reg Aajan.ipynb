{
 "cells": [
  {
   "cell_type": "code",
   "execution_count": 1,
   "metadata": {},
   "outputs": [],
   "source": [
    "import numpy as np\n",
    "import pandas as pd\n",
    "import matplotlib.pyplot as plt\n",
    "import torch\n",
    "from torch.utils.data import Dataset, DataLoader\n",
    "from torch import nn\n",
    "from torch.nn.functional import relu\n",
    "from scipy.io import loadmat\n",
    "import os\n",
    "from os import listdir\n",
    "import pandas as pd\n",
    "from skimage import io\n",
    "from PIL import Image"
   ]
  },
  {
   "cell_type": "code",
   "execution_count": 2,
   "metadata": {},
   "outputs": [],
   "source": [
    "moving_files = []\n",
    "for f in os.listdir('/mnt/pesaranlab/People/Capstone_students/Noah/data/move/'):\n",
    "    if np.load('/mnt/pesaranlab/People/Capstone_students/Noah/data/move/'+f).shape[2] == 100:\n",
    "        moving_files.append(f)\n",
    "        \n",
    "sleeping_files = []\n",
    "for f in os.listdir('/mnt/pesaranlab/People/Capstone_students/Noah/data/sleep/'):\n",
    "    if np.load('/mnt/pesaranlab/People/Capstone_students/Noah/data/sleep/'+f).shape[2] == 100:\n",
    "        sleeping_files.append(f)"
   ]
  },
  {
   "cell_type": "code",
   "execution_count": 3,
   "metadata": {},
   "outputs": [],
   "source": [
    "import random\n",
    "diff = len(sleeping_files)-len(moving_files)\n",
    "i = 0\n",
    "while i < diff:\n",
    "    ind = random.randint(1,len(moving_files)-1)\n",
    "    x = moving_files[ind]\n",
    "    if ('0326' not in x) and ('0328' not in x):\n",
    "        moving_files.append(x)\n",
    "        i += 1"
   ]
  },
  {
   "cell_type": "code",
   "execution_count": 4,
   "metadata": {},
   "outputs": [
    {
     "data": {
      "text/plain": [
       "(17148, 17148)"
      ]
     },
     "execution_count": 4,
     "metadata": {},
     "output_type": "execute_result"
    }
   ],
   "source": [
    "len(moving_files), len(sleeping_files)"
   ]
  },
  {
   "cell_type": "code",
   "execution_count": 5,
   "metadata": {},
   "outputs": [],
   "source": [
    "m, s = 0, 0\n",
    "for ind in range(len(moving_files)):\n",
    "    x,y = moving_files[ind], sleeping_files[ind]\n",
    "    if ('0326' not in x) and ('0328' not in x):\n",
    "        m += 1\n",
    "    if ('0326' not in y) and ('0328' not in y):\n",
    "        s += 1"
   ]
  },
  {
   "cell_type": "code",
   "execution_count": 6,
   "metadata": {},
   "outputs": [
    {
     "data": {
      "text/plain": [
       "(17104, 14325)"
      ]
     },
     "execution_count": 6,
     "metadata": {},
     "output_type": "execute_result"
    }
   ],
   "source": [
    "m,s"
   ]
  },
  {
   "cell_type": "code",
   "execution_count": 18,
   "metadata": {},
   "outputs": [],
   "source": [
    "class NoahSpectrogramDataset(Dataset):\n",
    "    def __init__(self, mode='train' ,moving_files=moving_files,sleeping_files=sleeping_files):\n",
    "        self.movement_files = moving_files\n",
    "        self.sleeping_files = sleeping_files\n",
    "        all_files = self.sleeping_files + self.movement_files\n",
    "        if mode == 'train':\n",
    "            self.all_files = [f for f in all_files if '0326' not in f if '0328' not in f]\n",
    "        elif mode == 'valid':\n",
    "            self.all_files = [f for f in all_files if '0326' in f]\n",
    "        elif mode == 'test':\n",
    "            self.all_files = [f for f in all_files if '0328' in f]\n",
    "            \n",
    "    def __len__(self):\n",
    "        return len(self.all_files)\n",
    "    \n",
    "    def __getitem__(self, idx):\n",
    "        mvmt_type  = self.all_files[idx].split('_')[-1].split('.')[0]\n",
    "        spec = torch.from_numpy(np.load('/mnt/pesaranlab/People/Capstone_students/Noah/data/'+ mvmt_type +'/' +self.all_files[idx])) \n",
    "        if mvmt_type == 'move':\n",
    "            label = torch.Tensor([0])\n",
    "        elif mvmt_type == 'sleep':\n",
    "            label = torch.Tensor([1])\n",
    "        else:\n",
    "            label = torch.Tensor([-1])\n",
    "        return  spec.resize(spec.shape[0],100,10), label"
   ]
  },
  {
   "cell_type": "code",
   "execution_count": 19,
   "metadata": {},
   "outputs": [],
   "source": [
    "train_dataset = NoahSpectrogramDataset(mode='train')\n",
    "valid_dataset = NoahSpectrogramDataset(mode='valid')\n",
    "test_dataset  = NoahSpectrogramDataset(mode='test')"
   ]
  },
  {
   "cell_type": "code",
   "execution_count": 20,
   "metadata": {},
   "outputs": [
    {
     "data": {
      "text/plain": [
       "0"
      ]
     },
     "execution_count": 20,
     "metadata": {},
     "output_type": "execute_result"
    }
   ],
   "source": [
    "len(test_dataset)"
   ]
  },
  {
   "cell_type": "code",
   "execution_count": 9,
   "metadata": {},
   "outputs": [],
   "source": [
    "train_loader = DataLoader(dataset = train_dataset, batch_size = 32, shuffle = True)\n",
    "val_loader = DataLoader(dataset = valid_dataset, batch_size = 32, shuffle = False)\n",
    "test_loader = DataLoader(dataset = test_dataset, batch_size = 32, shuffle = False)"
   ]
  },
  {
   "cell_type": "code",
   "execution_count": 17,
   "metadata": {},
   "outputs": [
    {
     "data": {
      "text/plain": [
       "0"
      ]
     },
     "execution_count": 17,
     "metadata": {},
     "output_type": "execute_result"
    }
   ],
   "source": [
    "len(test_loader)"
   ]
  },
  {
   "cell_type": "code",
   "execution_count": 10,
   "metadata": {},
   "outputs": [
    {
     "name": "stderr",
     "output_type": "stream",
     "text": [
      "/home/bijanadmin/anaconda3/lib/python3.7/site-packages/torch/tensor.py:358: UserWarning: non-inplace resize is deprecated\n",
      "  warnings.warn(\"non-inplace resize is deprecated\")\n"
     ]
    },
    {
     "name": "stdout",
     "output_type": "stream",
     "text": [
      "torch.Size([32, 62, 100, 10])\n",
      "torch.Size([32, 1, 62000])\n",
      "torch.Size([32, 1])\n"
     ]
    }
   ],
   "source": [
    "for batch_idx, (data, labels) in enumerate(train_loader):\n",
    "    print(data.shape)\n",
    "    print(data.reshape([data.shape[0],1,-1]).shape)\n",
    "    print(labels.shape)\n",
    "    break"
   ]
  },
  {
   "cell_type": "markdown",
   "metadata": {},
   "source": [
    "## Train and test functions"
   ]
  },
  {
   "cell_type": "code",
   "execution_count": 11,
   "metadata": {},
   "outputs": [],
   "source": [
    "def train(loader):\n",
    "    model.train()\n",
    "    batch_losses = []\n",
    "    \n",
    "    correct = 0\n",
    "    total = 0\n",
    "    \n",
    "    for batch_idx, (data, labels) in enumerate(loader):\n",
    "        data = data.to(device)\n",
    "        labels = labels.to(device).float()\n",
    "        \n",
    "        if (torch.isinf(data).any()) or (torch.isnan(data).any()):\n",
    "            continue\n",
    "        \n",
    "        output = model(data)\n",
    "        loss = criterion(output.reshape(output.shape[0],-1), labels)\n",
    "        \n",
    "        optimizer.zero_grad()\n",
    "        loss.backward()\n",
    "        optimizer.step()\n",
    "        \n",
    "        batch_losses.append(loss)\n",
    "        \n",
    "        predictions = []\n",
    "        for o in output:\n",
    "            if o.item() > .5:\n",
    "                predictions.append(1)\n",
    "            else:\n",
    "                predictions.append(0)\n",
    "        predictions = np.array(predictions)\n",
    "        total += labels.size(0)\n",
    "        correct += (predictions.flatten() == labels.flatten().cpu().numpy()).sum().item()\n",
    "        \n",
    "    \n",
    "    epoch_loss = sum(batch_losses)/len(batch_losses)\n",
    "    accuracy = correct / total\n",
    "    \n",
    "    return(epoch_loss, accuracy)"
   ]
  },
  {
   "cell_type": "code",
   "execution_count": 12,
   "metadata": {},
   "outputs": [],
   "source": [
    "def test(loader):\n",
    "    model.eval()\n",
    "    batch_losses = []\n",
    "    \n",
    "    correct = 0\n",
    "    total = 0\n",
    "    \n",
    "    with torch.no_grad():\n",
    "        for batch_idx, (data, labels) in enumerate(loader):\n",
    "            data = data.to(device)\n",
    "            labels = labels.to(device).float().flatten()\n",
    "            \n",
    "            if (torch.isinf(data).any()) or (torch.isnan(data).any()):\n",
    "                continue\n",
    "            \n",
    "            output = model(data)\n",
    "            loss = criterion(output, labels)\n",
    "            \n",
    "            batch_losses.append(loss)\n",
    "            \n",
    "            #get accuracy\n",
    "            predictions = []\n",
    "            for o in output:\n",
    "                if o.item() > .5:\n",
    "                    predictions.append(1)\n",
    "                else:\n",
    "                    predictions.append(0)\n",
    "            predictions = np.array(predictions)\n",
    "            total += labels.size(0)\n",
    "            correct += (predictions.flatten() == labels.flatten().cpu().numpy()).sum().item()\n",
    "        \n",
    "        epoch_loss = sum(batch_losses)/len(batch_losses)\n",
    "        accuracy = correct/total\n",
    "        \n",
    "        return epoch_loss, accuracy"
   ]
  },
  {
   "cell_type": "code",
   "execution_count": 13,
   "metadata": {},
   "outputs": [],
   "source": [
    "class LogReg(nn.Module):\n",
    "    def __init__(self, num_classes = 1):\n",
    "        super(LogReg, self).__init__()\n",
    "        self.fc1 = nn.Linear(100*10*62, num_classes)\n",
    "        self.sigmoid = nn.Sigmoid()\n",
    "        \n",
    "    def forward(self, x, verbose=True):\n",
    "        x = x.float().reshape(x.shape[0], 1, 100*10*62)\n",
    "        x = self.fc1(x)\n",
    "        x = self.sigmoid(x)\n",
    "        return x"
   ]
  },
  {
   "cell_type": "code",
   "execution_count": 14,
   "metadata": {},
   "outputs": [
    {
     "name": "stdout",
     "output_type": "stream",
     "text": [
      "cuda\n"
     ]
    }
   ],
   "source": [
    "input_size = 1000 #(10x100)\n",
    "num_classes = 1\n",
    "learning_rate = 0.0005\n",
    "num_epochs = 10\n",
    "\n",
    "device = torch.device('cuda' if torch.cuda.is_available() else 'cpu')\n",
    "print(device)"
   ]
  },
  {
   "cell_type": "code",
   "execution_count": 13,
   "metadata": {
    "scrolled": false
   },
   "outputs": [
    {
     "name": "stdout",
     "output_type": "stream",
     "text": [
      "Train loss for epoch 0: 1.185036063194275\n"
     ]
    },
    {
     "name": "stderr",
     "output_type": "stream",
     "text": [
      "/home/bijanadmin/anaconda3/lib/python3.7/site-packages/torch/nn/modules/loss.py:529: UserWarning: Using a target size (torch.Size([32])) that is different to the input size (torch.Size([32, 1, 1])) is deprecated. Please ensure they have the same size.\n",
      "  return F.binary_cross_entropy(input, target, weight=self.weight, reduction=self.reduction)\n",
      "/home/bijanadmin/anaconda3/lib/python3.7/site-packages/torch/nn/modules/loss.py:529: UserWarning: Using a target size (torch.Size([12])) that is different to the input size (torch.Size([12, 1, 1])) is deprecated. Please ensure they have the same size.\n",
      "  return F.binary_cross_entropy(input, target, weight=self.weight, reduction=self.reduction)\n"
     ]
    },
    {
     "name": "stdout",
     "output_type": "stream",
     "text": [
      "Val loss for epoch 0: 2.1118462085723877\n",
      "Train loss for epoch 1: 1.146826148033142\n",
      "Val loss for epoch 1: 1.7659541368484497\n",
      "Train loss for epoch 2: 1.2342395782470703\n",
      "Val loss for epoch 2: 1.2367976903915405\n",
      "Train loss for epoch 3: 0.9290778040885925\n",
      "Val loss for epoch 3: 2.3812167644500732\n",
      "Train loss for epoch 4: 1.0764780044555664\n",
      "Val loss for epoch 4: 1.5056226253509521\n",
      "Train loss for epoch 5: 0.8283095359802246\n",
      "Val loss for epoch 5: 2.221039295196533\n",
      "Train loss for epoch 6: 0.874661922454834\n",
      "Val loss for epoch 6: 1.7693417072296143\n",
      "Train loss for epoch 7: 0.8483171463012695\n",
      "Val loss for epoch 7: 0.9321001172065735\n",
      "Train loss for epoch 8: 0.9070748686790466\n",
      "Val loss for epoch 8: 2.3408305644989014\n",
      "Train loss for epoch 9: 0.8035086989402771\n",
      "Val loss for epoch 9: 1.5409234762191772\n"
     ]
    }
   ],
   "source": [
    "model = LogReg().to(device)\n",
    "criterion = nn.BCELoss()\n",
    "optimizer = torch.optim.Adam(model.parameters(), lr = learning_rate)\n",
    "\n",
    "\n",
    "epochs = []\n",
    "training_losses = []\n",
    "val_losses = []\n",
    "training_acc = []\n",
    "val_acc = []\n",
    "\n",
    "for epoch in range(num_epochs):\n",
    "    avg_train_loss, train_accuracy = train(train_loader)\n",
    "    print('Train loss for epoch {}: {}'.format(epoch, avg_train_loss))\n",
    "    val_loss, val_accuracy = test(val_loader)\n",
    "    print('Val loss for epoch {}: {}'.format(epoch, val_loss))\n",
    "    epochs.append(epoch)\n",
    "    \n",
    "    training_losses.append(avg_train_loss)\n",
    "    training_acc.append(train_accuracy)\n",
    "    val_losses.append(val_loss)\n",
    "    val_acc.append(val_accuracy)"
   ]
  },
  {
   "cell_type": "code",
   "execution_count": 16,
   "metadata": {},
   "outputs": [
    {
     "data": {
      "image/png": "[encoded data removed]",
      "text/plain": [
       "<Figure size 864x288 with 2 Axes>"
      ]
     },
     "metadata": {
      "needs_background": "light"
     },
     "output_type": "display_data"
    }
   ],
   "source": [
    "plt.figure(figsize=(12,4))\n",
    "plt.subplot(1,2,1)\n",
    "plt.title(\"LR\", fontsize = 15)\n",
    "plt.plot(training_losses,linewidth = 1.5,label = 'train')\n",
    "plt.plot(val_losses,linewidth = 1.5,label = 'valid')\n",
    "plt.xlabel(\"Epoch\",fontsize = 15)\n",
    "plt.ylabel(\"Loss\", fontsize = 15)\n",
    "plt.legend()\n",
    "plt.subplot(1,2,2)\n",
    "plt.title(\"LR\", fontsize = 15)\n",
    "plt.plot(training_acc,linewidth = 1.5,label = 'train')\n",
    "plt.plot(val_acc,linewidth = 1.5,label = 'valid')\n",
    "plt.xlabel(\"Epoch\",fontsize = 15)\n",
    "plt.ylabel(\"Accuracy\", fontsize = 15)\n",
    "plt.legend()\n",
    "plt.show()"
   ]
  },
  {
   "cell_type": "code",
   "execution_count": 15,
   "metadata": {},
   "outputs": [
    {
     "data": {
      "text/plain": [
       "[<matplotlib.lines.Line2D at 0x7fd8f82db850>]"
      ]
     },
     "execution_count": 15,
     "metadata": {},
     "output_type": "execute_result"
    },
    {
     "data": {
      "image/png": "[encoded data removed]",
      "text/plain": [
       "<Figure size 432x288 with 1 Axes>"
      ]
     },
     "metadata": {
      "needs_background": "light"
     },
     "output_type": "display_data"
    }
   ],
   "source": [
    "plt.plot(val_losses)"
   ]
  },
  {
   "cell_type": "code",
   "execution_count": 15,
   "metadata": {},
   "outputs": [],
   "source": [
    "class MLP(nn.Module):\n",
    "    def __init__(self, num_classes = 1):\n",
    "        super(MLP, self).__init__()\n",
    "        self.fc1 = nn.Linear(100*10*62, 1000)\n",
    "        self.fc2 = nn.Linear(1000, num_classes)\n",
    "        self.sigmoid = nn.Sigmoid()\n",
    "        \n",
    "    def forward(self, x, verbose=True):\n",
    "        x = x.float().reshape(x.shape[0], 1, 100*10*62)\n",
    "        x = relu(self.fc1(x))\n",
    "        x = self.sigmoid(self.fc2(x))\n",
    "        return x"
   ]
  },
  {
   "cell_type": "code",
   "execution_count": 18,
   "metadata": {
    "scrolled": true
   },
   "outputs": [
    {
     "name": "stdout",
     "output_type": "stream",
     "text": [
      "Train loss for epoch 0: 16.274961471557617\n",
      "Val loss for epoch 0: 2.8556551933288574\n",
      "Train loss for epoch 1: 9.46731185913086\n",
      "Val loss for epoch 1: 1.891010046005249\n",
      "Train loss for epoch 2: 9.665800094604492\n",
      "Val loss for epoch 2: 3.628735303878784\n",
      "Train loss for epoch 3: 8.886783599853516\n",
      "Val loss for epoch 3: 1.9376804828643799\n",
      "Train loss for epoch 4: 9.840510368347168\n",
      "Val loss for epoch 4: 1.8803417682647705\n",
      "Train loss for epoch 5: 9.690045356750488\n",
      "Val loss for epoch 5: 1.9218599796295166\n",
      "Train loss for epoch 6: 9.784384727478027\n",
      "Val loss for epoch 6: 1.6717780828475952\n",
      "Train loss for epoch 7: 9.620352745056152\n",
      "Val loss for epoch 7: 1.7076737880706787\n",
      "Train loss for epoch 8: 10.059483528137207\n",
      "Val loss for epoch 8: 1.9822275638580322\n",
      "Train loss for epoch 9: 9.878331184387207\n",
      "Val loss for epoch 9: 2.037362813949585\n"
     ]
    }
   ],
   "source": [
    "model = MLP().to(device)\n",
    "criterion = nn.BCELoss()\n",
    "optimizer = torch.optim.Adam(model.parameters(), lr = learning_rate)\n",
    "\n",
    "\n",
    "epochs = []\n",
    "training_losses = []\n",
    "val_losses = []\n",
    "training_acc = []\n",
    "val_acc = []\n",
    "\n",
    "for epoch in range(num_epochs):\n",
    "    avg_train_loss, train_accuracy = train(train_loader)\n",
    "    print('Train loss for epoch {}: {}'.format(epoch, avg_train_loss))\n",
    "    val_loss, val_accuracy = test(val_loader)\n",
    "    print('Val loss for epoch {}: {}'.format(epoch, val_loss))\n",
    "    epochs.append(epoch)\n",
    "    \n",
    "    training_losses.append(avg_train_loss)\n",
    "    training_acc.append(train_accuracy)\n",
    "    val_losses.append(val_loss)\n",
    "    val_acc.append(val_accuracy)"
   ]
  },
  {
   "cell_type": "code",
   "execution_count": 21,
   "metadata": {},
   "outputs": [
    {
     "data": {
      "image/png": "[encoded data removed]",
      "text/plain": [
       "<Figure size 864x288 with 2 Axes>"
      ]
     },
     "metadata": {
      "needs_background": "light"
     },
     "output_type": "display_data"
    }
   ],
   "source": [
    "plt.figure(figsize=(12,4))\n",
    "plt.subplot(1,2,1)\n",
    "plt.title(\"MLP, constant lr\", fontsize = 15)\n",
    "plt.plot(training_losses,linewidth = 1.5,label = 'train')\n",
    "plt.plot(val_losses,linewidth = 1.5,label = 'valid')\n",
    "plt.xlabel(\"Epoch\",fontsize = 15)\n",
    "plt.ylabel(\"Loss\", fontsize = 15)\n",
    "plt.legend()\n",
    "plt.subplot(1,2,2)\n",
    "plt.title(\"MLP, Constant lr\", fontsize = 15)\n",
    "plt.plot(training_acc,linewidth = 1.5,label = 'train')\n",
    "plt.plot(val_acc,linewidth = 1.5,label = 'valid')\n",
    "plt.xlabel(\"Epoch\",fontsize = 15)\n",
    "plt.ylabel(\"Accuracy\", fontsize = 15)\n",
    "plt.legend()\n",
    "plt.show()"
   ]
  },
  {
   "cell_type": "code",
   "execution_count": 21,
   "metadata": {},
   "outputs": [
    {
     "name": "stdout",
     "output_type": "stream",
     "text": [
      "Learning Rate: 0.0005\n",
      "Train loss for epoch 0: 20.655139923095703\n",
      "Val loss for epoch 0: 15.661205291748047\n",
      "Learning Rate: 0.0005\n",
      "Train loss for epoch 1: 19.15169906616211\n",
      "Val loss for epoch 1: 16.122947692871094\n",
      "Learning Rate: 0.0005\n",
      "Train loss for epoch 2: 17.522554397583008\n",
      "Val loss for epoch 2: 1.2294986248016357\n",
      "Learning Rate: 0.0005\n",
      "Train loss for epoch 3: 14.297297477722168\n",
      "Val loss for epoch 3: 1.9700162410736084\n",
      "Learning Rate: 0.0005\n",
      "Train loss for epoch 4: 10.056283950805664\n",
      "Val loss for epoch 4: 4.8047027587890625\n",
      "Learning Rate: 0.0005\n",
      "Train loss for epoch 5: 9.851273536682129\n",
      "Val loss for epoch 5: 3.965311050415039\n",
      "Learning Rate: 0.0005\n",
      "Train loss for epoch 6: 9.279043197631836\n",
      "Val loss for epoch 6: 2.9345109462738037\n",
      "Learning Rate: 0.00035\n",
      "Train loss for epoch 7: 8.85105037689209\n",
      "Val loss for epoch 7: 2.942730188369751\n",
      "Learning Rate: 0.00035\n",
      "Train loss for epoch 8: 9.177160263061523\n",
      "Val loss for epoch 8: 3.906432628631592\n",
      "Learning Rate: 0.00035\n",
      "Train loss for epoch 9: 9.041533470153809\n",
      "Val loss for epoch 9: 3.9315102100372314\n",
      "Learning Rate: 0.00035\n",
      "Train loss for epoch 10: 9.037760734558105\n",
      "Val loss for epoch 10: 3.136355400085449\n",
      "Learning Rate: 0.000245\n",
      "Train loss for epoch 11: 9.00517463684082\n",
      "Val loss for epoch 11: 0.9530115127563477\n",
      "Learning Rate: 0.000245\n",
      "Train loss for epoch 12: 9.329736709594727\n",
      "Val loss for epoch 12: 0.8622322082519531\n",
      "Learning Rate: 0.000245\n",
      "Train loss for epoch 13: 9.700418472290039\n",
      "Val loss for epoch 13: 0.8053092956542969\n",
      "Learning Rate: 0.000245\n",
      "Train loss for epoch 14: 9.294999122619629\n",
      "Val loss for epoch 14: 1.1802090406417847\n",
      "Learning Rate: 0.000245\n",
      "Train loss for epoch 15: 9.055319786071777\n",
      "Val loss for epoch 15: 1.0940226316452026\n",
      "Learning Rate: 0.000245\n",
      "Train loss for epoch 16: 8.797680854797363\n",
      "Val loss for epoch 16: 2.0269527435302734\n",
      "Learning Rate: 0.000245\n",
      "Train loss for epoch 17: 8.774311065673828\n",
      "Val loss for epoch 17: 1.0605446100234985\n",
      "Learning Rate: 0.0001715\n",
      "Train loss for epoch 18: 9.227629661560059\n",
      "Val loss for epoch 18: 1.1116282939910889\n",
      "Learning Rate: 0.0001715\n",
      "Train loss for epoch 19: 9.423399925231934\n",
      "Val loss for epoch 19: 1.499738097190857\n",
      "Learning Rate: 0.0001715\n",
      "Train loss for epoch 20: 8.739242553710938\n",
      "Val loss for epoch 20: 2.1687090396881104\n",
      "Learning Rate: 0.0001715\n",
      "Train loss for epoch 21: 8.77893352508545\n",
      "Val loss for epoch 21: 0.9378595948219299\n",
      "Learning Rate: 0.00012004999999999999\n",
      "Train loss for epoch 22: 9.073144912719727\n",
      "Val loss for epoch 22: 1.0389976501464844\n",
      "Learning Rate: 0.00012004999999999999\n",
      "Train loss for epoch 23: 8.890689849853516\n",
      "Val loss for epoch 23: 1.1330310106277466\n",
      "Learning Rate: 0.00012004999999999999\n",
      "Train loss for epoch 24: 8.811984062194824\n",
      "Val loss for epoch 24: 1.1550897359848022\n",
      "Learning Rate: 0.00012004999999999999\n",
      "Train loss for epoch 25: 8.765731811523438\n",
      "Val loss for epoch 25: 1.2974483966827393\n",
      "Learning Rate: 8.403499999999999e-05\n",
      "Train loss for epoch 26: 8.611786842346191\n",
      "Val loss for epoch 26: 1.7881898880004883\n",
      "Learning Rate: 8.403499999999999e-05\n",
      "Train loss for epoch 27: 8.59179401397705\n",
      "Val loss for epoch 27: 1.5639933347702026\n",
      "Learning Rate: 8.403499999999999e-05\n",
      "Train loss for epoch 28: 8.551630020141602\n",
      "Val loss for epoch 28: 1.612742304801941\n",
      "Learning Rate: 8.403499999999999e-05\n",
      "Train loss for epoch 29: 8.734315872192383\n",
      "Val loss for epoch 29: 0.9494542479515076\n"
     ]
    }
   ],
   "source": [
    "model = MLP().to(device)\n",
    "criterion = nn.BCELoss()\n",
    "optimizer = torch.optim.Adam(model.parameters(), lr=0.0005)\n",
    "scheduler = torch.optim.lr_scheduler.ReduceLROnPlateau(optimizer, factor=0.7, patience=3, min_lr=0.00001)\n",
    "\n",
    "\n",
    "epochs = []\n",
    "training_losses = []\n",
    "val_losses = []\n",
    "test_losses = []\n",
    "training_acc = []\n",
    "val_acc = []\n",
    "test_acc = []\n",
    "\n",
    "for epoch in range(30):\n",
    "    lr = scheduler.optimizer.param_groups[0]['lr']\n",
    "    print('Learning Rate: ' + str(lr))\n",
    "    avg_train_loss, train_accuracy = train(train_loader)\n",
    "    print('Train loss for epoch {}: {}'.format(epoch, avg_train_loss))\n",
    "    val_loss, val_accuracy = test(val_loader)\n",
    "    print('Val loss for epoch {}: {}'.format(epoch, val_loss))\n",
    "    scheduler.step(val_loss)\n",
    "#     test_loss, test_accuracy = test(test_loader)\n",
    "    training_losses.append(avg_train_loss)\n",
    "    training_acc.append(train_accuracy)\n",
    "    val_losses.append(val_loss)\n",
    "    val_acc.append(val_accuracy)\n",
    "#     test_losses.append(test_loss)\n",
    "#     test_acc.append(test_accuracy)"
   ]
  },
  {
   "cell_type": "code",
   "execution_count": null,
   "metadata": {},
   "outputs": [],
   "source": []
  }
 ],
 "metadata": {
  "kernelspec": {
   "display_name": "Python 3",
   "language": "python",
   "name": "python3"
  },
  "language_info": {
   "codemirror_mode": {
    "name": "ipython",
    "version": 3
   },
   "file_extension": ".py",
   "mimetype": "text/x-python",
   "name": "python",
   "nbconvert_exporter": "python",
   "pygments_lexer": "ipython3",
   "version": "3.7.9"
  }
 },
 "nbformat": 4,
 "nbformat_minor": 4
}
