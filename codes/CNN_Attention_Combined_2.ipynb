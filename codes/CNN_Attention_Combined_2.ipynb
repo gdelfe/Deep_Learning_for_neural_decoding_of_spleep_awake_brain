{
 "cells": [
  {
   "cell_type": "code",
   "execution_count": 18,
   "metadata": {},
   "outputs": [],
   "source": [
    "import numpy as np\n",
    "import pandas as pd\n",
    "import matplotlib.pyplot as plt\n",
    "import torch\n",
    "from torch.utils.data import Dataset, DataLoader\n",
    "import torch.nn as nn \n",
    "import torch.nn.functional as F\n",
    "from scipy.io import loadmat\n",
    "import os\n",
    "from os import listdir\n",
    "import pandas as pd\n",
    "from skimage import io\n",
    "from PIL import Image\n",
    "from sklearn.metrics import confusion_matrix\n",
    "import seaborn as sn\n",
    "import pickle\n",
    "import operator\n",
    "import pdb\n",
    "import random\n",
    "\n",
    "from utils import *"
   ]
  },
  {
   "cell_type": "markdown",
   "metadata": {},
   "source": [
    "### Define \n",
    "channel, width of each spectrogram in the time direction and bad dates (with artifacts), validation dates, test dates, paths"
   ]
  },
  {
   "cell_type": "code",
   "execution_count": 19,
   "metadata": {},
   "outputs": [],
   "source": [
    "CH = 23\n",
    "time_window = 10 # width of the spectrogram in the time direction \n",
    "T_length = 3 # how many spectrograms grouped together\n",
    "proceed = 1 # Parameter controlling overlap across spectrogram. 1 = max overalp, T_length-1 = no overlap\n",
    "device = torch.device('cuda')\n",
    "bad_dates = ['180326', '180328', '171019', '180715', '180716', '180717']"
   ]
  },
  {
   "cell_type": "code",
   "execution_count": 20,
   "metadata": {},
   "outputs": [],
   "source": [
    "val_dates = ['180327','180329']\n",
    "test_dates = ['180330','180331']\n",
    "load_path = '/home/bijanadmin/Desktop/Goose_data/data_Goose_1st_2/'\n",
    "# save_path = '/mnt/pesaranlab/People/Capstone_students/Yue/model/model_presentation_yue/model_Goose_1st'"
   ]
  },
  {
   "cell_type": "code",
   "execution_count": 21,
   "metadata": {},
   "outputs": [
    {
     "name": "stdout",
     "output_type": "stream",
     "text": [
      "180324_003_62_time1036.0_sleep.npy\n"
     ]
    },
    {
     "data": {
      "text/plain": [
       "'sleep'"
      ]
     },
     "execution_count": 21,
     "metadata": {},
     "output_type": "execute_result"
    }
   ],
   "source": [
    "sleep_files = os.listdir(load_path+'sleep/')\n",
    "move_files = os.listdir(load_path+'move/')\n",
    "all_files = sleep_files+move_files\n",
    "f = all_files[0]\n",
    "print(f)\n",
    "f.split('_')[-1].split('.')[0]"
   ]
  },
  {
   "cell_type": "markdown",
   "metadata": {},
   "source": [
    "### Clear GPU cache"
   ]
  },
  {
   "cell_type": "code",
   "execution_count": 22,
   "metadata": {},
   "outputs": [
    {
     "name": "stdout",
     "output_type": "stream",
     "text": [
      "cuda\n"
     ]
    }
   ],
   "source": [
    "print(device)\n",
    "torch.cuda.empty_cache()"
   ]
  },
  {
   "cell_type": "markdown",
   "metadata": {},
   "source": [
    "### Function to create the data set and make it into grouped spectrograms (windows)\n",
    "The function assigns the label 1 to sleep and label 0 to movement, creates a dictionary to store the data set and groups the data into sets of spectrograms by calling the function create_files_new_helper"
   ]
  },
  {
   "cell_type": "code",
   "execution_count": 23,
   "metadata": {},
   "outputs": [],
   "source": [
    "def create_files_new(load_path, bad_dates, T_length=10, proceed=1): \n",
    "    sleep_files = os.listdir(load_path+'sleep/')\n",
    "    move_files = os.listdir(load_path+'move/')\n",
    "    all_files = sleep_files+move_files\n",
    "    \n",
    "    dic = {}\n",
    "    for f in all_files:\n",
    "        mvmt_type = f.split('_')[-1].split('.')[0]\n",
    "        date = f.split('_')[0]\n",
    "        rec = f.split('_')[1].split('_')[0]\n",
    "        time = float(f.split('_')[3][4:])\n",
    "        if date in bad_dates:\n",
    "            continue\n",
    "        if mvmt_type == 'sleep':\n",
    "            label = 1\n",
    "        else:\n",
    "            label = 0\n",
    "        if date in dic:\n",
    "            if rec in dic[date]:\n",
    "                dic[date][rec].append([f, label, mvmt_type, date, rec, time])\n",
    "            else:\n",
    "                dic[date][rec] = [[f, label, mvmt_type, date, rec, time]]\n",
    "        else:\n",
    "            dic[date] = {rec: [[f, label, mvmt_type, date, rec, time]]}\n",
    "        \n",
    "    for d in dic:\n",
    "        for r in dic[d]:\n",
    "            dic[d][r] = sorted(dic[d][r], key=operator.itemgetter(3, 4, 5))\n",
    "    \n",
    "    move_data, sleep_data = [], []\n",
    "    for d in dic:\n",
    "        for r in dic[d]:\n",
    "            sleep_grouped, move_grouped = create_files_new_helper(dic[d][r], T_length=T_length, proceed=proceed)\n",
    "            sleep_data.append(sleep_grouped)\n",
    "            move_data.append(move_grouped)\n",
    "    \n",
    "    return move_data, sleep_data"
   ]
  },
  {
   "cell_type": "markdown",
   "metadata": {},
   "source": [
    "### Function to group  a set of spectrogram windows together\n",
    "T_length = number of spectrograms grouped together <br>\n",
    "time_window = width of each spectrogram in the time direction <br>\n",
    "proceed =  number of time overlaps across different windows. <br> Proceed = 1, max overlap. Proceed = time_window-1, no overlap"
   ]
  },
  {
   "cell_type": "code",
   "execution_count": 24,
   "metadata": {},
   "outputs": [],
   "source": [
    "def create_files_new_helper(L, T_length, proceed):\n",
    "    L_labels = np.array([L[i][1] for i in range(len(L))])\n",
    "    L_times = np.array([L[i][-1] for i in range(len(L))])\n",
    "    \n",
    "    L_new_sleep, L_new_move = [], []\n",
    "    start = 0\n",
    "    while start <= len(L)-T_length:\n",
    "        end = start + T_length\n",
    "        #pdb.pm()\n",
    "        if sum(L_times[start+1:end]-L_times[start:end-1]-time_window) != 0:\n",
    "            start += 1\n",
    "            continue\n",
    "        if sum(L_labels[start:end]) == T_length:\n",
    "            L_new_sleep.append(L[start:end])\n",
    "        elif sum(L_labels[start:end]) == 0:\n",
    "            L_new_move.append(L[start:end])\n",
    "        start += proceed\n",
    "        \n",
    "    return L_new_sleep, L_new_move"
   ]
  },
  {
   "cell_type": "markdown",
   "metadata": {},
   "source": [
    "### Split the data into train, validation, and test"
   ]
  },
  {
   "cell_type": "code",
   "execution_count": 29,
   "metadata": {},
   "outputs": [],
   "source": [
    "move_files, sleep_files = create_files_new(load_path, bad_dates, T_length=T_length, proceed=proceed)\n",
    "train_files, val_files, test_files = [], [], []\n",
    "for f in move_files+sleep_files:\n",
    "    if f:\n",
    "        if f[0][1][3] in val_dates:\n",
    "            val_files.extend(f)\n",
    "        elif f[0][1][3] in test_dates:\n",
    "            test_files.extend(f)\n",
    "        else:\n",
    "            train_files.extend(f)           "
   ]
  },
  {
   "cell_type": "markdown",
   "metadata": {},
   "source": [
    "### Shuffle data sets "
   ]
  },
  {
   "cell_type": "code",
   "execution_count": 30,
   "metadata": {},
   "outputs": [],
   "source": [
    "# random shuffle the data across groups\n",
    "random.shuffle(train_files)\n",
    "random.shuffle(val_files)\n",
    "random.shuffle(test_files)"
   ]
  },
  {
   "cell_type": "code",
   "execution_count": 31,
   "metadata": {},
   "outputs": [
    {
     "data": {
      "text/plain": [
       "202440"
      ]
     },
     "execution_count": 31,
     "metadata": {},
     "output_type": "execute_result"
    }
   ],
   "source": [
    "len(train_files)*10 + len(val_files)*10 + len(test_files)*10"
   ]
  },
  {
   "cell_type": "markdown",
   "metadata": {},
   "source": [
    "### Upsample smaller TRAINING data set (movement) in order to have a balanced sleep/movement data set"
   ]
  },
  {
   "cell_type": "code",
   "execution_count": 32,
   "metadata": {},
   "outputs": [],
   "source": [
    "def upsample(train_files):\n",
    "    train_sleep = [i for i in train_files if i[0][1] == 1]\n",
    "    train_move = [i for i in train_files if i[0][1] == 0]\n",
    "    diff = abs(len(train_sleep)-len(train_move))\n",
    "    train_new = []\n",
    "    d = 0\n",
    "    while d < diff:\n",
    "        if len(train_sleep) > len(train_move):\n",
    "            ind = random.randint(0, len(train_move)-1)\n",
    "            x = train_move[ind]\n",
    "            d += 1\n",
    "        else:\n",
    "            ind = random.randint(0, len(train_sleep)-1)\n",
    "            x = train_sleep[ind]\n",
    "            d += 1\n",
    "        train_new.append(x)   \n",
    "    train_files = train_sleep+train_move+train_new\n",
    "    return train_files"
   ]
  },
  {
   "cell_type": "code",
   "execution_count": 10,
   "metadata": {},
   "outputs": [],
   "source": [
    "train_files = upsample(train_files)"
   ]
  },
  {
   "cell_type": "code",
   "execution_count": 13,
   "metadata": {},
   "outputs": [
    {
     "data": {
      "text/plain": [
       "[['180324_005_62_time500.0_sleep.npy', 1, 'sleep', '180324', '005', 500.0],\n",
       " ['180324_005_62_time510.0_sleep.npy', 1, 'sleep', '180324', '005', 510.0],\n",
       " ['180324_005_62_time520.0_sleep.npy', 1, 'sleep', '180324', '005', 520.0]]"
      ]
     },
     "execution_count": 13,
     "metadata": {},
     "output_type": "execute_result"
    }
   ],
   "source": [
    "train_files[1]"
   ]
  },
  {
   "cell_type": "code",
   "execution_count": 14,
   "metadata": {},
   "outputs": [
    {
     "data": {
      "text/plain": [
       "[['180323_007_62_time2895.0_move.npy', 0, 'move', '180323', '007', 2895.0],\n",
       " ['180323_007_62_time2905.0_move.npy', 0, 'move', '180323', '007', 2905.0],\n",
       " ['180323_007_62_time2915.0_move.npy', 0, 'move', '180323', '007', 2915.0]]"
      ]
     },
     "execution_count": 14,
     "metadata": {},
     "output_type": "execute_result"
    }
   ],
   "source": [
    "train_files[-1]"
   ]
  },
  {
   "cell_type": "code",
   "execution_count": 15,
   "metadata": {},
   "outputs": [],
   "source": [
    "class SpectrogramDatasetAtt(Dataset):\n",
    "    def __init__(self, files, load_path, T_length, all_label=False, CH=None):\n",
    "        self.CH = CH\n",
    "        self.files = files\n",
    "        self.load_path = load_path\n",
    "        self.T_length = T_length\n",
    "        self.all_label = all_label\n",
    "  \n",
    "    def __len__(self):\n",
    "        return len(self.files)\n",
    "    \n",
    "    def __getitem__(self, idx):\n",
    "        group = self.files[idx]\n",
    "        specs, labels, dates, recs, times = [], [], [], [], []\n",
    "        for i in range(len(group)):\n",
    "            f, label, mvmt_type, date, rec, time = group[i]\n",
    "            spec = torch.from_numpy(np.load(self.load_path+mvmt_type+'/'+f))\n",
    "            if self.CH is not None:\n",
    "                spec = torch.transpose(spec[self.CH,:,:].unsqueeze(0), 2, 1)\n",
    "            else:\n",
    "                spec = torch.transpose(spec, 2, 1)\n",
    "            specs.append(spec)\n",
    "            labels.append(torch.Tensor([label]))\n",
    "            dates.append(date)\n",
    "            recs.append(rec)\n",
    "            times.append(time)\n",
    "            if (self.all_label==False) and (i == (self.T_length-1)/2):\n",
    "                labels = torch.Tensor([label])\n",
    "                dates = date\n",
    "                recs = rec\n",
    "                times = time\n",
    "            \n",
    "        return specs, labels, dates, recs, times"
   ]
  },
  {
   "cell_type": "code",
   "execution_count": 16,
   "metadata": {},
   "outputs": [],
   "source": [
    "train_dataset = SpectrogramDatasetAtt(files=train_files, load_path=load_path, T_length=3, all_label=True, CH=CH)\n",
    "valid_dataset = SpectrogramDatasetAtt(files=val_files, load_path=load_path, T_length=3, all_label=True, CH=CH)\n",
    "test_dataset = SpectrogramDatasetAtt(files=test_files, load_path=load_path, T_length=3, all_label=True, CH=CH)\n",
    "\n",
    "train_loader = DataLoader(dataset=train_dataset, batch_size=128, shuffle = True)\n",
    "val_loader = DataLoader(dataset=valid_dataset, batch_size=128, shuffle = False)\n",
    "test_loader = DataLoader(dataset=test_dataset, batch_size=128, shuffle = False)"
   ]
  },
  {
   "cell_type": "code",
   "execution_count": 28,
   "metadata": {},
   "outputs": [],
   "source": [
    "for a, b, c, d, e in train_loader:\n",
    "    break"
   ]
  },
  {
   "cell_type": "code",
   "execution_count": 19,
   "metadata": {},
   "outputs": [
    {
     "data": {
      "text/plain": [
       "(3, 3)"
      ]
     },
     "execution_count": 19,
     "metadata": {},
     "output_type": "execute_result"
    }
   ],
   "source": [
    "len(a), len(b)"
   ]
  },
  {
   "cell_type": "code",
   "execution_count": 20,
   "metadata": {},
   "outputs": [
    {
     "data": {
      "image/png": "[encoded data removed]",
      "text/plain": [
       "<Figure size 432x288 with 1 Axes>"
      ]
     },
     "metadata": {
      "needs_background": "light"
     },
     "output_type": "display_data"
    }
   ],
   "source": [
    "# check if input makes sense\n",
    "plt.imshow(a[0][0, 0, :, :])\n",
    "plt.yticks(ticks=[0, 20, 40, 60, 80, 99], labels=[round(np.logspace(0, 2.45, 100)[i]) for i in [0, 20, 40, 60, 80, 99]])\n",
    "plt.xticks(ticks=[0, 9], labels=[1, 10])\n",
    "plt.show()"
   ]
  },
  {
   "cell_type": "code",
   "execution_count": 21,
   "metadata": {},
   "outputs": [],
   "source": [
    "def position_encoding_init(n_position, emb_dim):\n",
    "    position_enc = np.array([\n",
    "        [pos / np.power(10000, 2 * (j // 2) / emb_dim) for j in range(emb_dim)]\n",
    "        if pos != 0 else np.zeros(emb_dim) for pos in range(n_position)])\n",
    "    \n",
    "    position_enc[1:, 0::2] = np.sin(position_enc[1:, 0::2]) # apply sin on 0th,2nd,4th...emb_dim\n",
    "    position_enc[1:, 1::2] = np.cos(position_enc[1:, 1::2]) # apply cos on 1st,3rd,5th...emb_dim\n",
    "    return torch.from_numpy(position_enc).type(torch.FloatTensor)"
   ]
  },
  {
   "cell_type": "code",
   "execution_count": 22,
   "metadata": {},
   "outputs": [
    {
     "data": {
      "image/png": "[encoded data removed]",
      "text/plain": [
       "<Figure size 432x288 with 2 Axes>"
      ]
     },
     "metadata": {
      "needs_background": "light"
     },
     "output_type": "display_data"
    }
   ],
   "source": [
    "a = position_encoding_init(10, 30).numpy().T\n",
    "plt.imshow(a)\n",
    "plt.colorbar()\n",
    "plt.show()"
   ]
  },
  {
   "cell_type": "code",
   "execution_count": 56,
   "metadata": {},
   "outputs": [],
   "source": [
    "# https://pytorch.org/tutorials/intermediate/seq2seq_translation_tutorial.html\n",
    "# https://github.com/heykeetae/Self-Attention-GAN/blob/master/sagan_models.py\n",
    "\n",
    "class CNN(nn.Module):\n",
    "    def __init__(self, p_dropout, out_dim):\n",
    "        super(CNN, self).__init__()\n",
    "        \n",
    "        # CNN\n",
    "        self.conv1 = nn.Conv2d(in_channels=1, out_channels=2, kernel_size=(3,3), stride=(1,1), padding=(1,1))\n",
    "        self.conv2 = nn.Conv2d(in_channels=2, out_channels=4, kernel_size=(3,3), stride=(1,1), padding=(1,1))\n",
    "        self.pool = nn.MaxPool2d(2,2)\n",
    "        self.dropout = nn.Dropout(p_dropout)\n",
    "        self.bn1 = nn.BatchNorm2d(2)\n",
    "        self.bn2 = nn.BatchNorm2d(4)\n",
    "        self.fc1 = nn.Linear(4*25*2, out_dim)\n",
    "              \n",
    "    def forward(self, x):\n",
    "        # CNN\n",
    "        x = x.float()\n",
    "        x = self.pool(F.relu(self.bn1(self.conv1(x))))\n",
    "        x = self.pool(F.relu(self.bn2(self.conv2(x))))\n",
    "        x = x.view(x.shape[0],-1) \n",
    "        x = self.dropout(x)\n",
    "        x = self.fc1(x)\n",
    "        \n",
    "        return x\n",
    "    \n",
    "\n",
    "class Attention1(nn.Module):\n",
    "    def __init__(self, att_dim, T_length, all_label=False):\n",
    "        super(Attention1, self).__init__()\n",
    "        \n",
    "        # Positional Encoding\n",
    "        self.position_enc = nn.Embedding(T_length, att_dim)\n",
    "        self.position_enc.weight.data = position_encoding_init(T_length, att_dim)\n",
    "\n",
    "        # Attention\n",
    "        self.query = nn.Linear(att_dim, att_dim)\n",
    "        self.tanh = nn.Tanh()\n",
    "        self.softmax = nn.Softmax(dim=-1) # every slice along dim will sum to 1\n",
    "        self.ff1 = nn.Linear(att_dim, att_dim)\n",
    "        self.relu = nn.ReLU()\n",
    "        self.ff2 = nn.Linear(att_dim, att_dim)\n",
    "        \n",
    "        self.fc = nn.Linear(att_dim, 1) # paper uses 2 layers\n",
    "       \n",
    "        self.T_length = T_length\n",
    "        self.all_label = all_label\n",
    "        \n",
    "    def forward(self, x, x_pos):\n",
    "        x = x.float()\n",
    "        x += self.position_enc(x_pos)\n",
    "\n",
    "        Q = self.query(x) \n",
    "        energy =  torch.bmm(Q, x.permute(0, 2, 1))\n",
    "        # attention = self.softmax(self.tanh(energy))\n",
    "        attention = self.softmax(energy)\n",
    "        x_att = torch.bmm(attention, x)\n",
    "       \n",
    "        x_output = torch.sigmoid(self.fc(x_att))\n",
    "        # x_fc = self.ff2(self.relu(self.ff1(x_att)))\n",
    "        # x_output = torch.sigmoid(self.fc(x))\n",
    "      \n",
    "        if self.all_label:\n",
    "            return x_output\n",
    "        return x_output[:, int((self.T_length-1)/2), :]\n",
    "\n",
    "class CNN_ATT(nn.Module):\n",
    "    def __init__(self, p_dropout, att_dim, T_length, all_label):\n",
    "        super(CNN_ATT, self).__init__()\n",
    "        self.cnn = CNN(p_dropout, att_dim)\n",
    "        self.att = Attention1(att_dim, T_length, all_label)\n",
    "        self.T_length = T_length\n",
    "        self.att_dim = att_dim\n",
    "    \n",
    "    def forward(self, x, x_pos):\n",
    "        CNN_outputs = torch.zeros(x.shape[0], x.shape[1], self.att_dim, device='cuda')\n",
    "        for t in range(self.T_length):\n",
    "            x_t = x[:, t, :].float()\n",
    "            CNN_outputs[:, t, :] = self.cnn(x_t)\n",
    "        Att_outputs = self.att(CNN_outputs, x_pos)\n",
    "        \n",
    "        return Att_outputs"
   ]
  },
  {
   "cell_type": "code",
   "execution_count": 57,
   "metadata": {},
   "outputs": [],
   "source": [
    "def get_accuracy(model, loader, device='cuda'):\n",
    "    correct = 0\n",
    "    total = 0\n",
    "    with torch.no_grad():\n",
    "        for data, labels, _, _, _ in loader:\n",
    "            labels = torch.stack(labels).transpose(1,0)\n",
    "            labels = labels.to(device).float()\n",
    "            data = torch.stack(data).transpose(1,0)\n",
    "            data = data.to(device).float()\n",
    "            data_pos = torch.LongTensor([list(range(T_length))]).to(device)\n",
    "            outputs = model(data, data_pos)\n",
    "            \n",
    "            predictions = (outputs > 0.5) * 1.0\n",
    "            predictions = predictions.flatten().detach().cpu().numpy()\n",
    "            labels = labels.flatten().cpu().numpy()\n",
    "            total += len(labels)\n",
    "            correct += (predictions == labels).sum()\n",
    "            \n",
    "    accuracy = correct / total\n",
    "    return accuracy"
   ]
  },
  {
   "cell_type": "code",
   "execution_count": 58,
   "metadata": {},
   "outputs": [],
   "source": [
    "def train(model, optimizer, criterion, loader, T_length, device='cuda'):\n",
    "    model.train()\n",
    "    epoch_losses = 0\n",
    "    epoch_lens = 0\n",
    "    \n",
    "    # criterion = nn.BCELoss()\n",
    "    \n",
    "    for batch_idx, (data, labels, _, _, _) in enumerate(loader):\n",
    "        labels = torch.stack(labels).transpose(1,0)\n",
    "        labels = labels.to(device).float()\n",
    "        data = torch.stack(data).transpose(1,0)\n",
    "        data = data.to(device).float()\n",
    "        data_pos = torch.LongTensor([list(range(T_length))]).to(device)\n",
    "        outputs = model(data, data_pos)\n",
    "        loss = criterion(outputs, labels)\n",
    "        epoch_losses += loss\n",
    "        epoch_lens += 1\n",
    "\n",
    "        optimizer.zero_grad()\n",
    "        loss.backward() # Will back propogation work correctly?\n",
    "        optimizer.step()\n",
    "    \n",
    "    epoch_accs = get_accuracy(model, loader, device=device)\n",
    "    return epoch_losses/epoch_lens, epoch_accs\n",
    "\n",
    "def evaluate(model, optimizer, criterion, loader, T_length, device='cuda'):\n",
    "    model.eval()\n",
    "    epoch_losses = 0\n",
    "    epoch_lens = 0\n",
    "    \n",
    "    with torch.no_grad():\n",
    "        for batch_idx, (data, labels, _, _, _) in enumerate(loader):\n",
    "            labels = torch.stack(labels).transpose(1,0)\n",
    "            labels = labels.to(device).float()\n",
    "            data = torch.stack(data).transpose(1,0)\n",
    "            data = data.to(device).float()\n",
    "            data_pos = torch.LongTensor([list(range(T_length))]).to(device)\n",
    "            outputs = model(data, data_pos)\n",
    "            loss = criterion(outputs, labels)\n",
    "            epoch_losses += loss\n",
    "            epoch_lens += 1\n",
    "    \n",
    "    epoch_accs = get_accuracy(model, loader, device=device)\n",
    "    return epoch_losses/epoch_lens, epoch_accs"
   ]
  },
  {
   "cell_type": "code",
   "execution_count": 59,
   "metadata": {},
   "outputs": [],
   "source": [
    "learning_rate = 0.001\n",
    "num_epochs = 51\n",
    "model_type = 'CNN-Attention'\n",
    "loss_type = 'bce'\n",
    "p_dropout = 0.2\n",
    "att_dim = 128\n",
    "T_length = 3\n",
    "all_label = True\n",
    "verbose = True\n",
    "\n",
    "model = CNN_ATT(p_dropout, att_dim, T_length, all_label).to(device)\n",
    "optimizer = torch.optim.Adam(model.parameters(), lr = learning_rate)\n",
    "criterion = nn.BCELoss() # BCE loss"
   ]
  },
  {
   "cell_type": "code",
   "execution_count": 60,
   "metadata": {},
   "outputs": [
    {
     "name": "stdout",
     "output_type": "stream",
     "text": [
      "0\n",
      "Train loss for epoch 0: 0.5094457268714905\n",
      "Val loss for epoch 0: 0.30476367473602295\n",
      "1\n",
      "Train loss for epoch 1: 0.39481109380722046\n",
      "Val loss for epoch 1: 0.22951114177703857\n",
      "2\n",
      "Train loss for epoch 2: 0.32784390449523926\n",
      "Val loss for epoch 2: 0.18687468767166138\n",
      "3\n",
      "Train loss for epoch 3: 0.3040509819984436\n",
      "Val loss for epoch 3: 0.17958202958106995\n",
      "Train loss for epoch 4: 0.3085055351257324\n",
      "Val loss for epoch 4: 0.182133287191391\n",
      "Train loss for epoch 5: 0.29242366552352905\n",
      "Val loss for epoch 5: 0.18121148645877838\n",
      "6\n",
      "Train loss for epoch 6: 0.2824520468711853\n",
      "Val loss for epoch 6: 0.17666345834732056\n",
      "7\n",
      "Train loss for epoch 7: 0.27415263652801514\n",
      "Val loss for epoch 7: 0.17121239006519318\n",
      "Train loss for epoch 8: 0.27268463373184204\n",
      "Val loss for epoch 8: 0.194041907787323\n",
      "Train loss for epoch 9: 0.2599794864654541\n",
      "Val loss for epoch 9: 0.1864555925130844\n",
      "Train loss for epoch 10: 0.2518177032470703\n",
      "Val loss for epoch 10: 0.174320787191391\n",
      "Train loss for epoch 11: 0.2521962821483612\n",
      "Val loss for epoch 11: 0.179030179977417\n",
      "Train loss for epoch 12: 0.2584928274154663\n",
      "Val loss for epoch 12: 0.18617062270641327\n",
      "Train loss for epoch 13: 0.2514743208885193\n",
      "Val loss for epoch 13: 0.19014787673950195\n",
      "Train loss for epoch 14: 0.2580970525741577\n",
      "Val loss for epoch 14: 0.17701493203639984\n",
      "Train loss for epoch 15: 0.2446788251399994\n",
      "Val loss for epoch 15: 0.19612854719161987\n",
      "Train loss for epoch 16: 0.2328336536884308\n",
      "Val loss for epoch 16: 0.19229306280612946\n",
      "Train loss for epoch 17: 0.23660367727279663\n",
      "Val loss for epoch 17: 0.191453754901886\n",
      "Train loss for epoch 18: 0.2324264645576477\n",
      "Val loss for epoch 18: 0.19169990718364716\n",
      "Train loss for epoch 19: 0.2451026737689972\n",
      "Val loss for epoch 19: 0.18866664171218872\n",
      "Train loss for epoch 20: 0.2265133112668991\n",
      "Val loss for epoch 20: 0.20552732050418854\n",
      "Train loss for epoch 21: 0.2385959029197693\n",
      "Val loss for epoch 21: 0.20938527584075928\n",
      "Train loss for epoch 22: 0.2348366230726242\n",
      "Val loss for epoch 22: 0.22725658118724823\n",
      "Train loss for epoch 23: 0.2359192967414856\n",
      "Val loss for epoch 23: 0.21601760387420654\n",
      "Train loss for epoch 24: 0.23372334241867065\n",
      "Val loss for epoch 24: 0.2212696224451065\n",
      "Train loss for epoch 25: 0.2336662858724594\n",
      "Val loss for epoch 25: 0.24036787450313568\n",
      "Train loss for epoch 26: 0.2346566915512085\n",
      "Val loss for epoch 26: 0.20309005677700043\n",
      "Train loss for epoch 27: 0.22161471843719482\n",
      "Val loss for epoch 27: 0.2055455595254898\n",
      "Train loss for epoch 28: 0.2206297367811203\n",
      "Val loss for epoch 28: 0.23377740383148193\n",
      "Train loss for epoch 29: 0.21683800220489502\n",
      "Val loss for epoch 29: 0.1963057816028595\n",
      "Train loss for epoch 30: 0.2155105173587799\n",
      "Val loss for epoch 30: 0.2044120877981186\n",
      "Train loss for epoch 31: 0.22366413474082947\n",
      "Val loss for epoch 31: 0.2291785329580307\n",
      "Train loss for epoch 32: 0.22086113691329956\n",
      "Val loss for epoch 32: 0.20392626523971558\n",
      "Train loss for epoch 33: 0.21724072098731995\n",
      "Val loss for epoch 33: 0.2201782912015915\n",
      "Train loss for epoch 34: 0.2165297120809555\n",
      "Val loss for epoch 34: 0.21133866906166077\n",
      "Train loss for epoch 35: 0.21138858795166016\n",
      "Val loss for epoch 35: 0.21582671999931335\n",
      "Train loss for epoch 36: 0.20897041261196136\n",
      "Val loss for epoch 36: 0.22160576283931732\n",
      "Train loss for epoch 37: 0.21289871633052826\n",
      "Val loss for epoch 37: 0.2157260626554489\n",
      "Train loss for epoch 38: 0.20668357610702515\n",
      "Val loss for epoch 38: 0.2219117134809494\n",
      "Train loss for epoch 39: 0.21364742517471313\n",
      "Val loss for epoch 39: 0.23372285068035126\n",
      "Train loss for epoch 40: 0.20138490200042725\n",
      "Val loss for epoch 40: 0.23081223666667938\n",
      "Train loss for epoch 41: 0.20998643338680267\n",
      "Val loss for epoch 41: 0.22927051782608032\n",
      "Train loss for epoch 42: 0.20004777610301971\n",
      "Val loss for epoch 42: 0.20977403223514557\n",
      "Train loss for epoch 43: 0.20228511095046997\n",
      "Val loss for epoch 43: 0.21956674754619598\n",
      "Train loss for epoch 44: 0.19950173795223236\n",
      "Val loss for epoch 44: 0.2244802862405777\n",
      "Train loss for epoch 45: 0.20288513600826263\n",
      "Val loss for epoch 45: 0.23514510691165924\n",
      "Train loss for epoch 46: 0.20054775476455688\n",
      "Val loss for epoch 46: 0.2326357513666153\n",
      "Train loss for epoch 47: 0.20327883958816528\n",
      "Val loss for epoch 47: 0.23136667907238007\n",
      "Train loss for epoch 48: 0.20905427634716034\n",
      "Val loss for epoch 48: 0.2273550182580948\n",
      "Train loss for epoch 49: 0.2036018818616867\n",
      "Val loss for epoch 49: 0.23241427540779114\n",
      "Train loss for epoch 50: 0.1945284605026245\n",
      "Val loss for epoch 50: 0.22753961384296417\n"
     ]
    },
    {
     "data": {
      "image/png": "[encoded data removed]",
      "text/plain": [
       "<Figure size 864x288 with 2 Axes>"
      ]
     },
     "metadata": {
      "needs_background": "light"
     },
     "output_type": "display_data"
    }
   ],
   "source": [
    "# Attention1 (separate dates, upsample only train, all labels for Attention1)\n",
    "train_losses, train_accs, val_losses, val_accs = [], [], [], []\n",
    "for epoch in range(num_epochs):\n",
    "    train_loss, train_acc = train(model, optimizer, criterion, train_loader, T_length=3, device='cuda')\n",
    "    val_loss, val_acc = evaluate(model, optimizer, criterion, val_loader, T_length=3, device='cuda')\n",
    "    train_losses.append(train_loss)\n",
    "    train_accs.append(train_acc)\n",
    "    val_losses.append(val_loss)\n",
    "    val_accs.append(val_acc)\n",
    "    if val_loss <= min(val_losses):\n",
    "        best_epoch = epoch\n",
    "        print(epoch)\n",
    "        print('Train loss for epoch {}: {}'.format(epoch, train_loss))\n",
    "        print('Val loss for epoch {}: {}'.format(epoch, val_loss))\n",
    "        # torch.save(model_CNN.state_dict(), '{}/{}_CH{}_LOSS{}_TW{}_TLEN{}_DROP{}_ATTDIM{}_EPOCH{}.pt'.format(path, model_type, CH, loss_type, time_window, T_length, p_dropout, att_dim, epoch))\n",
    "        # torch.save(model_Att.state_dict(), '{}/{}_CH{}_LOSS{}_TW{}_TLEN{}_DROP{}_ATTDIM{}_EPOCH{}.pt'.format(path, model_type, CH, loss_type, time_window, T_length, p_dropout, att_dim, epoch))\n",
    "    elif verbose:\n",
    "        print('Train loss for epoch {}: {}'.format(epoch, train_loss))\n",
    "        print('Val loss for epoch {}: {}'.format(epoch, val_loss))\n",
    "        \n",
    "    # if epoch == num_epochs-1:\n",
    "        # torch.save(model.state_dict(), '{}/{}_CH{}_LOSS{}_TW{}_TLEN{}_DROP{}_ATTDIM{}_EPOCH{}.pt'.format(path, model_type, CH, loss_type, time_window, T_length, p_dropout, att_dim, epoch))\n",
    "        # torch.save(model_CNN.state_dict(), '{}/{}_CH{}_LOSS{}_TW{}_TLEN{}_DROP{}_ATTDIM{}_EPOCH{}.pt'.format(path, model_type, CH, loss_type, time_window, T_length, p_dropout, att_dim, epoch))\n",
    "\n",
    "plot_loss_acc(train_losses, val_losses, train_accs, val_accs, model_type)"
   ]
  },
  {
   "cell_type": "code",
   "execution_count": null,
   "metadata": {},
   "outputs": [],
   "source": []
  }
 ],
 "metadata": {
  "kernelspec": {
   "display_name": "Python 3",
   "language": "python",
   "name": "python3"
  },
  "language_info": {
   "codemirror_mode": {
    "name": "ipython",
    "version": 3
   },
   "file_extension": ".py",
   "mimetype": "text/x-python",
   "name": "python",
   "nbconvert_exporter": "python",
   "pygments_lexer": "ipython3",
   "version": "3.8.5"
  }
 },
 "nbformat": 4,
 "nbformat_minor": 4
}
