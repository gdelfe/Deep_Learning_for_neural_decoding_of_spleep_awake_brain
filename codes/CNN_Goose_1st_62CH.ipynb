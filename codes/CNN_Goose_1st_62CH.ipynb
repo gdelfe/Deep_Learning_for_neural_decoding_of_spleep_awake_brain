{
 "cells": [
  {
   "cell_type": "code",
   "execution_count": 1,
   "metadata": {},
   "outputs": [],
   "source": [
    "import numpy as np\n",
    "import pandas as pd\n",
    "import matplotlib.pyplot as plt\n",
    "import torch\n",
    "from torch.utils.data import Dataset, DataLoader\n",
    "import torch.nn as nn \n",
    "import torch.nn.functional as F\n",
    "from scipy.io import loadmat\n",
    "import os\n",
    "from os import listdir\n",
    "import pandas as pd\n",
    "from skimage import io\n",
    "from PIL import Image\n",
    "from sklearn.metrics import confusion_matrix\n",
    "import seaborn as sn\n",
    "import pickle\n",
    "\n",
    "from utils import *"
   ]
  },
  {
   "cell_type": "code",
   "execution_count": 2,
   "metadata": {},
   "outputs": [],
   "source": [
    "val_dates = ['180328','180329']\n",
    "test_dates = ['180330','180331']\n",
    "\n",
    "train_loader, val_loader, test_loader = create_dataloaders(val_dates=val_dates, test_dates=test_dates, batch_size=128, version='_Goose_1st_1', upsample=True)"
   ]
  },
  {
   "cell_type": "code",
   "execution_count": 3,
   "metadata": {},
   "outputs": [
    {
     "data": {
      "text/plain": [
       "(258, 22, 51)"
      ]
     },
     "execution_count": 3,
     "metadata": {},
     "output_type": "execute_result"
    }
   ],
   "source": [
    "len(train_loader), len(val_loader), len(test_loader)"
   ]
  },
  {
   "cell_type": "code",
   "execution_count": 4,
   "metadata": {},
   "outputs": [],
   "source": [
    "class CNN_1Layer(nn.Module):\n",
    "    def __init__(self, in_channels=62, num_classes=1):\n",
    "        super(CNN_1Layer, self).__init__()\n",
    "        self.conv1 = nn.Conv2d(in_channels=in_channels, out_channels=124, kernel_size=(3,3), stride = (1,1), padding = (1,1))\n",
    "        self.maxpool1 = nn.MaxPool2d(kernel_size=(3,3), stride = (1,1), padding = (1,1))\n",
    "        self.linear1 = nn.Linear(124*100*10, num_classes)\n",
    "        self.relu = nn.ReLU()\n",
    "        \n",
    "    def forward(self, x):\n",
    "        x = x.float()\n",
    "        x1 = self.maxpool1(self.relu(self.conv1(x)))\n",
    "        x1 = x1.reshape(x1.shape[0], -1)\n",
    "        outputs = self.linear1(x1)\n",
    "        return outputs"
   ]
  },
  {
   "cell_type": "code",
   "execution_count": 5,
   "metadata": {},
   "outputs": [],
   "source": [
    "device = torch.device('cuda')\n",
    "\n",
    "learning_rate = 0.001\n",
    "num_epochs = 51\n",
    "alpha = 0\n",
    "model_type = 'CNN1Layer'\n",
    "loss_type = 'bce'\n",
    "reg_type = 'none'\n",
    "CH = 'all'\n",
    "\n",
    "model = CNN_1Layer().to(device)\n",
    "optimizer = torch.optim.Adam(model.parameters(), lr = learning_rate)"
   ]
  },
  {
   "cell_type": "code",
   "execution_count": 6,
   "metadata": {
    "scrolled": true
   },
   "outputs": [
    {
     "name": "stdout",
     "output_type": "stream",
     "text": [
      "Train loss for epoch 0: 0.7131441831588745\n",
      "Val loss for epoch 0: 0.10781663656234741\n",
      "Train loss for epoch 1: 0.18571780622005463\n",
      "Val loss for epoch 1: 0.9408731460571289\n",
      "Train loss for epoch 2: 1.8858110904693604\n",
      "Val loss for epoch 2: 1.1788949966430664\n",
      "Train loss for epoch 3: 0.23243464529514313\n",
      "Val loss for epoch 3: 0.6538858413696289\n",
      "Train loss for epoch 4: 0.23348833620548248\n",
      "Val loss for epoch 4: 0.38411426544189453\n",
      "Train loss for epoch 5: 0.13266831636428833\n",
      "Val loss for epoch 5: 0.9100054502487183\n",
      "Train loss for epoch 6: 0.1594034731388092\n",
      "Val loss for epoch 6: 0.7624595761299133\n",
      "Train loss for epoch 7: 0.33973371982574463\n",
      "Val loss for epoch 7: 2.002703905105591\n",
      "Train loss for epoch 8: 0.2588806450366974\n",
      "Val loss for epoch 8: 1.1145464181900024\n",
      "Train loss for epoch 9: 0.13912618160247803\n",
      "Val loss for epoch 9: 2.9517486095428467\n",
      "Train loss for epoch 10: 0.36013296246528625\n",
      "Val loss for epoch 10: 19.50571632385254\n",
      "Train loss for epoch 11: 5.313354015350342\n",
      "Val loss for epoch 11: 3.352013349533081\n",
      "Train loss for epoch 12: 1.7526992559432983\n",
      "Val loss for epoch 12: 2.580998420715332\n",
      "Train loss for epoch 13: 1.0664564371109009\n",
      "Val loss for epoch 13: 2.2264537811279297\n",
      "Train loss for epoch 14: 0.7030192613601685\n",
      "Val loss for epoch 14: 2.3266685009002686\n",
      "Train loss for epoch 15: 0.49571752548217773\n",
      "Val loss for epoch 15: 1.8825018405914307\n",
      "Train loss for epoch 16: 0.9293198585510254\n",
      "Val loss for epoch 16: 2.103255271911621\n",
      "Train loss for epoch 17: 0.6596056222915649\n",
      "Val loss for epoch 17: 2.6273422241210938\n",
      "Train loss for epoch 18: 0.602532148361206\n",
      "Val loss for epoch 18: 3.6682164669036865\n",
      "Train loss for epoch 19: 0.4197351634502411\n",
      "Val loss for epoch 19: 2.882455348968506\n",
      "Train loss for epoch 20: 0.32287099957466125\n",
      "Val loss for epoch 20: 4.616372108459473\n",
      "Train loss for epoch 21: 0.49797147512435913\n",
      "Val loss for epoch 21: 3.0056254863739014\n",
      "Train loss for epoch 22: 0.5592891573905945\n",
      "Val loss for epoch 22: 2.8391873836517334\n",
      "Train loss for epoch 23: 0.646750271320343\n",
      "Val loss for epoch 23: 2.4849953651428223\n",
      "Train loss for epoch 24: 0.5072295665740967\n",
      "Val loss for epoch 24: 2.7371695041656494\n",
      "Train loss for epoch 25: 0.5188138484954834\n",
      "Val loss for epoch 25: 3.016880750656128\n",
      "Train loss for epoch 26: 0.4206444323062897\n",
      "Val loss for epoch 26: 6.309823036193848\n",
      "Train loss for epoch 27: 2.703432083129883\n",
      "Val loss for epoch 27: 2.597395420074463\n",
      "Train loss for epoch 28: 1.3719619512557983\n",
      "Val loss for epoch 28: 3.6544203758239746\n",
      "Train loss for epoch 29: 1.0187855958938599\n",
      "Val loss for epoch 29: 3.104386806488037\n",
      "Train loss for epoch 30: 0.569888174533844\n",
      "Val loss for epoch 30: 3.549285888671875\n",
      "Train loss for epoch 31: 0.7563791275024414\n",
      "Val loss for epoch 31: 3.7116360664367676\n",
      "Train loss for epoch 32: 0.6778095364570618\n",
      "Val loss for epoch 32: 3.5281875133514404\n",
      "Train loss for epoch 33: 0.694442093372345\n",
      "Val loss for epoch 33: 3.418189525604248\n",
      "Train loss for epoch 34: 1.0225883722305298\n",
      "Val loss for epoch 34: 4.282603740692139\n",
      "Train loss for epoch 35: 0.951604425907135\n",
      "Val loss for epoch 35: 3.0241751670837402\n",
      "Train loss for epoch 36: 0.7885737419128418\n",
      "Val loss for epoch 36: 2.751542091369629\n",
      "Train loss for epoch 37: 1.0433005094528198\n",
      "Val loss for epoch 37: 4.963820934295654\n",
      "Train loss for epoch 38: 3.856511116027832\n",
      "Val loss for epoch 38: 4.399842262268066\n",
      "Train loss for epoch 39: 1.3560034036636353\n",
      "Val loss for epoch 39: 4.052751541137695\n",
      "Train loss for epoch 40: 0.8784824013710022\n",
      "Val loss for epoch 40: 4.062690734863281\n",
      "Train loss for epoch 41: 0.8917948007583618\n",
      "Val loss for epoch 41: 3.495844841003418\n",
      "Train loss for epoch 42: 1.4655457735061646\n",
      "Val loss for epoch 42: 3.439142942428589\n",
      "Train loss for epoch 43: 1.257215976715088\n",
      "Val loss for epoch 43: 3.177716016769409\n",
      "Train loss for epoch 44: 0.8466572165489197\n",
      "Val loss for epoch 44: 3.300649642944336\n",
      "Train loss for epoch 45: 0.7634536623954773\n",
      "Val loss for epoch 45: 3.746917724609375\n",
      "Train loss for epoch 46: 1.2032822370529175\n",
      "Val loss for epoch 46: 3.386420249938965\n",
      "Train loss for epoch 47: 0.7339600324630737\n",
      "Val loss for epoch 47: 4.662943363189697\n",
      "Train loss for epoch 48: 0.5861721634864807\n",
      "Val loss for epoch 48: 3.3747289180755615\n",
      "Train loss for epoch 49: 0.6666275262832642\n",
      "Val loss for epoch 49: 4.084290981292725\n",
      "Train loss for epoch 50: 1.0166529417037964\n",
      "Val loss for epoch 50: 3.256924867630005\n"
     ]
    }
   ],
   "source": [
    "epochs, training_losses, training_acc, val_losses, validation_acc = [], [], [], [], []\n",
    "\n",
    "for epoch in range(num_epochs):\n",
    "    train_loss, train_acc = train(model, optimizer, train_loader, alpha=alpha, model_type=model_type, loss_type=loss_type, reg_type=reg_type, collect_result=False, device=device)\n",
    "    print('Train loss for epoch {}: {}'.format(epoch, train_loss))\n",
    "    val_loss, val_acc = evaluate(model, optimizer, val_loader, alpha=alpha, model_type=model_type, loss_type=loss_type, reg_type=reg_type, collect_result=False, device=device)\n",
    "    print('Val loss for epoch {}: {}'.format(epoch, val_loss))\n",
    "    epochs.append(epoch)\n",
    "    training_losses.append(train_loss)\n",
    "    training_acc.append(train_acc)\n",
    "    val_losses.append(val_loss)\n",
    "    validation_acc.append(val_acc)\n",
    "    if val_loss <= min(val_losses):\n",
    "        best_epoch = epoch\n",
    "        print(epoch)\n",
    "        path = '/mnt/pesaranlab/People/Capstone_students/Yue/model/model_Goose_1st_1_upsample'\n",
    "        torch.save(model.state_dict(), '{}/{}_CH{}_LOSS{}_REG{}{}_EPOCH{}.pt'.format(path, model_type, CH, loss_type, reg_type, alpha, epoch))"
   ]
  },
  {
   "cell_type": "code",
   "execution_count": 7,
   "metadata": {},
   "outputs": [
    {
     "data": {
      "image/png": "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\n",
      "text/plain": [
       "<Figure size 864x288 with 2 Axes>"
      ]
     },
     "metadata": {
      "needs_background": "light"
     },
     "output_type": "display_data"
    }
   ],
   "source": [
    "plot_loss_acc(training_losses, val_losses, training_acc, validation_acc, model_type)"
   ]
  },
  {
   "cell_type": "code",
   "execution_count": 7,
   "metadata": {},
   "outputs": [
    {
     "data": {
      "text/plain": [
       "<All keys matched successfully>"
      ]
     },
     "execution_count": 7,
     "metadata": {},
     "output_type": "execute_result"
    }
   ],
   "source": [
    "model = CNN_1Layer().to(device)\n",
    "path = '/mnt/pesaranlab/People/Capstone_students/Yue/model/model_Goose_1st_1_upsample'\n",
    "model.load_state_dict(torch.load('{}/{}_CH{}_LOSS{}_REG{}{}_EPOCH{}.pt'.format(path, model_type, CH, loss_type, reg_type, alpha, best_epoch)))"
   ]
  },
  {
   "cell_type": "code",
   "execution_count": 8,
   "metadata": {},
   "outputs": [
    {
     "name": "stdout",
     "output_type": "stream",
     "text": [
      "test loss:0.2499494105577469 accuracy:0.918\n"
     ]
    }
   ],
   "source": [
    "test_loss, test_acc, test_preds, test_preds_probs, test_labels, cases_wrong_0 = evaluate(model, optimizer, test_loader, alpha=alpha, model_type=model_type, loss_type=loss_type, reg_type=reg_type, collect_result=True, device=device)\n",
    "print('test loss:{} accuracy:{}'.format(test_loss, test_acc))"
   ]
  },
  {
   "cell_type": "code",
   "execution_count": null,
   "metadata": {},
   "outputs": [],
   "source": []
  }
 ],
 "metadata": {
  "kernelspec": {
   "display_name": "Python 3",
   "language": "python",
   "name": "python3"
  },
  "language_info": {
   "codemirror_mode": {
    "name": "ipython",
    "version": 3
   },
   "file_extension": ".py",
   "mimetype": "text/x-python",
   "name": "python",
   "nbconvert_exporter": "python",
   "pygments_lexer": "ipython3",
<<<<<<< HEAD
   "version": "3.8.5"
=======
   "version": "3.7.9"
>>>>>>> 4109182083890cc0679eb0ffbd3f4d116935200d
  }
 },
 "nbformat": 4,
 "nbformat_minor": 4
}
