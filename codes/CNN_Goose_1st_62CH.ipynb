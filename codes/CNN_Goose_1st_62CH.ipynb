{
 "cells": [
  {
   "cell_type": "code",
   "execution_count": 1,
   "metadata": {},
   "outputs": [],
   "source": [
    "import numpy as np\n",
    "import pandas as pd\n",
    "import matplotlib.pyplot as plt\n",
    "import torch\n",
    "from torch.utils.data import Dataset, DataLoader\n",
    "import torch.nn as nn \n",
    "import torch.nn.functional as F\n",
    "from scipy.io import loadmat\n",
    "import os\n",
    "from os import listdir\n",
    "import pandas as pd\n",
    "from skimage import io\n",
    "from PIL import Image\n",
    "from sklearn.metrics import confusion_matrix\n",
    "import seaborn as sn\n",
    "import pickle\n",
    "\n",
    "from utils import *"
   ]
  },
  {
   "cell_type": "code",
   "execution_count": 2,
   "metadata": {},
   "outputs": [],
   "source": [
    "val_dates = ['180328','180329']\n",
    "test_dates = ['180330','180331']\n",
    "\n",
    "train_loader, val_loader, test_loader = create_dataloaders(val_dates=val_dates, test_dates=test_dates, batch_size=128, version='_Goose_1st_1', upsample=True)"
   ]
  },
  {
   "cell_type": "code",
   "execution_count": 3,
   "metadata": {},
   "outputs": [
    {
     "data": {
      "text/plain": [
       "(258, 22, 51)"
      ]
     },
     "execution_count": 3,
     "metadata": {},
     "output_type": "execute_result"
    }
   ],
   "source": [
    "len(train_loader), len(val_loader), len(test_loader)"
   ]
  },
  {
   "cell_type": "code",
   "execution_count": 4,
   "metadata": {},
   "outputs": [],
   "source": [
    "class CNN_1Layer(nn.Module):\n",
    "    def __init__(self, in_channels=62, num_classes=1):\n",
    "        super(CNN_1Layer, self).__init__()\n",
    "        self.conv1 = nn.Conv2d(in_channels=in_channels, out_channels=124, kernel_size=(3,3), stride = (1,1), padding = (1,1))\n",
    "        self.maxpool1 = nn.MaxPool2d(kernel_size=(3,3), stride = (1,1), padding = (1,1))\n",
    "        self.linear1 = nn.Linear(124*100*10, num_classes)\n",
    "        self.relu = nn.ReLU()\n",
    "        \n",
    "    def forward(self, x):\n",
    "        x = x.float()\n",
    "        x1 = self.maxpool1(self.relu(self.conv1(x)))\n",
    "        x1 = x1.reshape(x1.shape[0], -1)\n",
    "        outputs = self.linear1(x1)\n",
    "        return outputs"
   ]
  },
  {
   "cell_type": "code",
   "execution_count": 5,
   "metadata": {},
   "outputs": [],
   "source": [
    "device = torch.device('cuda')\n",
    "\n",
    "learning_rate = 0.001\n",
    "num_epochs = 51\n",
    "alpha = 0\n",
    "model_type = 'CNN1Layer'\n",
    "loss_type = 'bce'\n",
    "reg_type = 'none'\n",
    "CH = 'all'\n",
    "\n",
    "model = CNN_1Layer().to(device)\n",
    "optimizer = torch.optim.Adam(model.parameters(), lr = learning_rate)"
   ]
  },
  {
   "cell_type": "code",
   "execution_count": 6,
   "metadata": {
    "scrolled": true
   },
   "outputs": [
    {
     "ename": "KeyboardInterrupt",
     "evalue": "",
     "output_type": "error",
     "traceback": [
      "\u001b[0;31m---------------------------------------------------------------------------\u001b[0m",
      "\u001b[0;31mKeyboardInterrupt\u001b[0m                         Traceback (most recent call last)",
      "\u001b[0;32m<ipython-input-6-83bb37121ba2>\u001b[0m in \u001b[0;36m<module>\u001b[0;34m\u001b[0m\n\u001b[1;32m      2\u001b[0m \u001b[0;34m\u001b[0m\u001b[0m\n\u001b[1;32m      3\u001b[0m \u001b[0;32mfor\u001b[0m \u001b[0mepoch\u001b[0m \u001b[0;32min\u001b[0m \u001b[0mrange\u001b[0m\u001b[0;34m(\u001b[0m\u001b[0mnum_epochs\u001b[0m\u001b[0;34m)\u001b[0m\u001b[0;34m:\u001b[0m\u001b[0;34m\u001b[0m\u001b[0;34m\u001b[0m\u001b[0m\n\u001b[0;32m----> 4\u001b[0;31m     \u001b[0mtrain_loss\u001b[0m\u001b[0;34m,\u001b[0m \u001b[0mtrain_acc\u001b[0m \u001b[0;34m=\u001b[0m \u001b[0mtrain\u001b[0m\u001b[0;34m(\u001b[0m\u001b[0mmodel\u001b[0m\u001b[0;34m,\u001b[0m \u001b[0moptimizer\u001b[0m\u001b[0;34m,\u001b[0m \u001b[0mtrain_loader\u001b[0m\u001b[0;34m,\u001b[0m \u001b[0malpha\u001b[0m\u001b[0;34m=\u001b[0m\u001b[0malpha\u001b[0m\u001b[0;34m,\u001b[0m \u001b[0mmodel_type\u001b[0m\u001b[0;34m=\u001b[0m\u001b[0mmodel_type\u001b[0m\u001b[0;34m,\u001b[0m \u001b[0mloss_type\u001b[0m\u001b[0;34m=\u001b[0m\u001b[0mloss_type\u001b[0m\u001b[0;34m,\u001b[0m \u001b[0mreg_type\u001b[0m\u001b[0;34m=\u001b[0m\u001b[0mreg_type\u001b[0m\u001b[0;34m,\u001b[0m \u001b[0mcollect_result\u001b[0m\u001b[0;34m=\u001b[0m\u001b[0;32mFalse\u001b[0m\u001b[0;34m,\u001b[0m \u001b[0mdevice\u001b[0m\u001b[0;34m=\u001b[0m\u001b[0mdevice\u001b[0m\u001b[0;34m)\u001b[0m\u001b[0;34m\u001b[0m\u001b[0;34m\u001b[0m\u001b[0m\n\u001b[0m\u001b[1;32m      5\u001b[0m     \u001b[0mprint\u001b[0m\u001b[0;34m(\u001b[0m\u001b[0;34m'Train loss for epoch {}: {}'\u001b[0m\u001b[0;34m.\u001b[0m\u001b[0mformat\u001b[0m\u001b[0;34m(\u001b[0m\u001b[0mepoch\u001b[0m\u001b[0;34m,\u001b[0m \u001b[0mtrain_loss\u001b[0m\u001b[0;34m)\u001b[0m\u001b[0;34m)\u001b[0m\u001b[0;34m\u001b[0m\u001b[0;34m\u001b[0m\u001b[0m\n\u001b[1;32m      6\u001b[0m     \u001b[0mval_loss\u001b[0m\u001b[0;34m,\u001b[0m \u001b[0mval_acc\u001b[0m \u001b[0;34m=\u001b[0m \u001b[0mevaluate\u001b[0m\u001b[0;34m(\u001b[0m\u001b[0mmodel\u001b[0m\u001b[0;34m,\u001b[0m \u001b[0moptimizer\u001b[0m\u001b[0;34m,\u001b[0m \u001b[0mval_loader\u001b[0m\u001b[0;34m,\u001b[0m \u001b[0malpha\u001b[0m\u001b[0;34m=\u001b[0m\u001b[0malpha\u001b[0m\u001b[0;34m,\u001b[0m \u001b[0mmodel_type\u001b[0m\u001b[0;34m=\u001b[0m\u001b[0mmodel_type\u001b[0m\u001b[0;34m,\u001b[0m \u001b[0mloss_type\u001b[0m\u001b[0;34m=\u001b[0m\u001b[0mloss_type\u001b[0m\u001b[0;34m,\u001b[0m \u001b[0mreg_type\u001b[0m\u001b[0;34m=\u001b[0m\u001b[0mreg_type\u001b[0m\u001b[0;34m,\u001b[0m \u001b[0mcollect_result\u001b[0m\u001b[0;34m=\u001b[0m\u001b[0;32mFalse\u001b[0m\u001b[0;34m,\u001b[0m \u001b[0mdevice\u001b[0m\u001b[0;34m=\u001b[0m\u001b[0mdevice\u001b[0m\u001b[0;34m)\u001b[0m\u001b[0;34m\u001b[0m\u001b[0;34m\u001b[0m\u001b[0m\n",
      "\u001b[0;32m/mnt/pesaranlab/People/Capstone_students/Gino/Sleeping-Monkeys/codes/utils.py\u001b[0m in \u001b[0;36mtrain\u001b[0;34m(model, optimizer, loader, alpha, model_type, loss_type, reg_type, collect_result, device)\u001b[0m\n\u001b[1;32m    168\u001b[0m     \u001b[0mbatch_lengths\u001b[0m \u001b[0;34m=\u001b[0m \u001b[0;36m0\u001b[0m\u001b[0;34m\u001b[0m\u001b[0;34m\u001b[0m\u001b[0m\n\u001b[1;32m    169\u001b[0m \u001b[0;34m\u001b[0m\u001b[0m\n\u001b[0;32m--> 170\u001b[0;31m     \u001b[0;32mfor\u001b[0m \u001b[0mbatch_idx\u001b[0m\u001b[0;34m,\u001b[0m \u001b[0;34m(\u001b[0m\u001b[0mdata\u001b[0m\u001b[0;34m,\u001b[0m \u001b[0mlabels\u001b[0m\u001b[0;34m,\u001b[0m \u001b[0m_\u001b[0m\u001b[0;34m,\u001b[0m \u001b[0m_\u001b[0m\u001b[0;34m,\u001b[0m \u001b[0m_\u001b[0m\u001b[0;34m)\u001b[0m \u001b[0;32min\u001b[0m \u001b[0menumerate\u001b[0m\u001b[0;34m(\u001b[0m\u001b[0mloader\u001b[0m\u001b[0;34m)\u001b[0m\u001b[0;34m:\u001b[0m\u001b[0;34m\u001b[0m\u001b[0;34m\u001b[0m\u001b[0m\n\u001b[0m\u001b[1;32m    171\u001b[0m         \u001b[0mdata\u001b[0m \u001b[0;34m=\u001b[0m \u001b[0mdata\u001b[0m\u001b[0;34m.\u001b[0m\u001b[0mto\u001b[0m\u001b[0;34m(\u001b[0m\u001b[0mdevice\u001b[0m\u001b[0;34m)\u001b[0m\u001b[0;34m\u001b[0m\u001b[0;34m\u001b[0m\u001b[0m\n\u001b[1;32m    172\u001b[0m         \u001b[0mlabels\u001b[0m \u001b[0;34m=\u001b[0m \u001b[0mlabels\u001b[0m\u001b[0;34m.\u001b[0m\u001b[0mto\u001b[0m\u001b[0;34m(\u001b[0m\u001b[0mdevice\u001b[0m\u001b[0;34m)\u001b[0m\u001b[0;34m.\u001b[0m\u001b[0mfloat\u001b[0m\u001b[0;34m(\u001b[0m\u001b[0;34m)\u001b[0m\u001b[0;34m\u001b[0m\u001b[0;34m\u001b[0m\u001b[0m\n",
      "\u001b[0;32m~/anaconda3/lib/python3.8/site-packages/torch/utils/data/dataloader.py\u001b[0m in \u001b[0;36m__next__\u001b[0;34m(self)\u001b[0m\n\u001b[1;32m    433\u001b[0m         \u001b[0;32mif\u001b[0m \u001b[0mself\u001b[0m\u001b[0;34m.\u001b[0m\u001b[0m_sampler_iter\u001b[0m \u001b[0;32mis\u001b[0m \u001b[0;32mNone\u001b[0m\u001b[0;34m:\u001b[0m\u001b[0;34m\u001b[0m\u001b[0;34m\u001b[0m\u001b[0m\n\u001b[1;32m    434\u001b[0m             \u001b[0mself\u001b[0m\u001b[0;34m.\u001b[0m\u001b[0m_reset\u001b[0m\u001b[0;34m(\u001b[0m\u001b[0;34m)\u001b[0m\u001b[0;34m\u001b[0m\u001b[0;34m\u001b[0m\u001b[0m\n\u001b[0;32m--> 435\u001b[0;31m         \u001b[0mdata\u001b[0m \u001b[0;34m=\u001b[0m \u001b[0mself\u001b[0m\u001b[0;34m.\u001b[0m\u001b[0m_next_data\u001b[0m\u001b[0;34m(\u001b[0m\u001b[0;34m)\u001b[0m\u001b[0;34m\u001b[0m\u001b[0;34m\u001b[0m\u001b[0m\n\u001b[0m\u001b[1;32m    436\u001b[0m         \u001b[0mself\u001b[0m\u001b[0;34m.\u001b[0m\u001b[0m_num_yielded\u001b[0m \u001b[0;34m+=\u001b[0m \u001b[0;36m1\u001b[0m\u001b[0;34m\u001b[0m\u001b[0;34m\u001b[0m\u001b[0m\n\u001b[1;32m    437\u001b[0m         \u001b[0;32mif\u001b[0m \u001b[0mself\u001b[0m\u001b[0;34m.\u001b[0m\u001b[0m_dataset_kind\u001b[0m \u001b[0;34m==\u001b[0m \u001b[0m_DatasetKind\u001b[0m\u001b[0;34m.\u001b[0m\u001b[0mIterable\u001b[0m \u001b[0;32mand\u001b[0m\u001b[0;31m \u001b[0m\u001b[0;31m\\\u001b[0m\u001b[0;34m\u001b[0m\u001b[0;34m\u001b[0m\u001b[0m\n",
      "\u001b[0;32m~/anaconda3/lib/python3.8/site-packages/torch/utils/data/dataloader.py\u001b[0m in \u001b[0;36m_next_data\u001b[0;34m(self)\u001b[0m\n\u001b[1;32m    473\u001b[0m     \u001b[0;32mdef\u001b[0m \u001b[0m_next_data\u001b[0m\u001b[0;34m(\u001b[0m\u001b[0mself\u001b[0m\u001b[0;34m)\u001b[0m\u001b[0;34m:\u001b[0m\u001b[0;34m\u001b[0m\u001b[0;34m\u001b[0m\u001b[0m\n\u001b[1;32m    474\u001b[0m         \u001b[0mindex\u001b[0m \u001b[0;34m=\u001b[0m \u001b[0mself\u001b[0m\u001b[0;34m.\u001b[0m\u001b[0m_next_index\u001b[0m\u001b[0;34m(\u001b[0m\u001b[0;34m)\u001b[0m  \u001b[0;31m# may raise StopIteration\u001b[0m\u001b[0;34m\u001b[0m\u001b[0;34m\u001b[0m\u001b[0m\n\u001b[0;32m--> 475\u001b[0;31m         \u001b[0mdata\u001b[0m \u001b[0;34m=\u001b[0m \u001b[0mself\u001b[0m\u001b[0;34m.\u001b[0m\u001b[0m_dataset_fetcher\u001b[0m\u001b[0;34m.\u001b[0m\u001b[0mfetch\u001b[0m\u001b[0;34m(\u001b[0m\u001b[0mindex\u001b[0m\u001b[0;34m)\u001b[0m  \u001b[0;31m# may raise StopIteration\u001b[0m\u001b[0;34m\u001b[0m\u001b[0;34m\u001b[0m\u001b[0m\n\u001b[0m\u001b[1;32m    476\u001b[0m         \u001b[0;32mif\u001b[0m \u001b[0mself\u001b[0m\u001b[0;34m.\u001b[0m\u001b[0m_pin_memory\u001b[0m\u001b[0;34m:\u001b[0m\u001b[0;34m\u001b[0m\u001b[0;34m\u001b[0m\u001b[0m\n\u001b[1;32m    477\u001b[0m             \u001b[0mdata\u001b[0m \u001b[0;34m=\u001b[0m \u001b[0m_utils\u001b[0m\u001b[0;34m.\u001b[0m\u001b[0mpin_memory\u001b[0m\u001b[0;34m.\u001b[0m\u001b[0mpin_memory\u001b[0m\u001b[0;34m(\u001b[0m\u001b[0mdata\u001b[0m\u001b[0;34m)\u001b[0m\u001b[0;34m\u001b[0m\u001b[0;34m\u001b[0m\u001b[0m\n",
      "\u001b[0;32m~/anaconda3/lib/python3.8/site-packages/torch/utils/data/_utils/fetch.py\u001b[0m in \u001b[0;36mfetch\u001b[0;34m(self, possibly_batched_index)\u001b[0m\n\u001b[1;32m     42\u001b[0m     \u001b[0;32mdef\u001b[0m \u001b[0mfetch\u001b[0m\u001b[0;34m(\u001b[0m\u001b[0mself\u001b[0m\u001b[0;34m,\u001b[0m \u001b[0mpossibly_batched_index\u001b[0m\u001b[0;34m)\u001b[0m\u001b[0;34m:\u001b[0m\u001b[0;34m\u001b[0m\u001b[0;34m\u001b[0m\u001b[0m\n\u001b[1;32m     43\u001b[0m         \u001b[0;32mif\u001b[0m \u001b[0mself\u001b[0m\u001b[0;34m.\u001b[0m\u001b[0mauto_collation\u001b[0m\u001b[0;34m:\u001b[0m\u001b[0;34m\u001b[0m\u001b[0;34m\u001b[0m\u001b[0m\n\u001b[0;32m---> 44\u001b[0;31m             \u001b[0mdata\u001b[0m \u001b[0;34m=\u001b[0m \u001b[0;34m[\u001b[0m\u001b[0mself\u001b[0m\u001b[0;34m.\u001b[0m\u001b[0mdataset\u001b[0m\u001b[0;34m[\u001b[0m\u001b[0midx\u001b[0m\u001b[0;34m]\u001b[0m \u001b[0;32mfor\u001b[0m \u001b[0midx\u001b[0m \u001b[0;32min\u001b[0m \u001b[0mpossibly_batched_index\u001b[0m\u001b[0;34m]\u001b[0m\u001b[0;34m\u001b[0m\u001b[0;34m\u001b[0m\u001b[0m\n\u001b[0m\u001b[1;32m     45\u001b[0m         \u001b[0;32melse\u001b[0m\u001b[0;34m:\u001b[0m\u001b[0;34m\u001b[0m\u001b[0;34m\u001b[0m\u001b[0m\n\u001b[1;32m     46\u001b[0m             \u001b[0mdata\u001b[0m \u001b[0;34m=\u001b[0m \u001b[0mself\u001b[0m\u001b[0;34m.\u001b[0m\u001b[0mdataset\u001b[0m\u001b[0;34m[\u001b[0m\u001b[0mpossibly_batched_index\u001b[0m\u001b[0;34m]\u001b[0m\u001b[0;34m\u001b[0m\u001b[0;34m\u001b[0m\u001b[0m\n",
      "\u001b[0;32m~/anaconda3/lib/python3.8/site-packages/torch/utils/data/_utils/fetch.py\u001b[0m in \u001b[0;36m<listcomp>\u001b[0;34m(.0)\u001b[0m\n\u001b[1;32m     42\u001b[0m     \u001b[0;32mdef\u001b[0m \u001b[0mfetch\u001b[0m\u001b[0;34m(\u001b[0m\u001b[0mself\u001b[0m\u001b[0;34m,\u001b[0m \u001b[0mpossibly_batched_index\u001b[0m\u001b[0;34m)\u001b[0m\u001b[0;34m:\u001b[0m\u001b[0;34m\u001b[0m\u001b[0;34m\u001b[0m\u001b[0m\n\u001b[1;32m     43\u001b[0m         \u001b[0;32mif\u001b[0m \u001b[0mself\u001b[0m\u001b[0;34m.\u001b[0m\u001b[0mauto_collation\u001b[0m\u001b[0;34m:\u001b[0m\u001b[0;34m\u001b[0m\u001b[0;34m\u001b[0m\u001b[0m\n\u001b[0;32m---> 44\u001b[0;31m             \u001b[0mdata\u001b[0m \u001b[0;34m=\u001b[0m \u001b[0;34m[\u001b[0m\u001b[0mself\u001b[0m\u001b[0;34m.\u001b[0m\u001b[0mdataset\u001b[0m\u001b[0;34m[\u001b[0m\u001b[0midx\u001b[0m\u001b[0;34m]\u001b[0m \u001b[0;32mfor\u001b[0m \u001b[0midx\u001b[0m \u001b[0;32min\u001b[0m \u001b[0mpossibly_batched_index\u001b[0m\u001b[0;34m]\u001b[0m\u001b[0;34m\u001b[0m\u001b[0;34m\u001b[0m\u001b[0m\n\u001b[0m\u001b[1;32m     45\u001b[0m         \u001b[0;32melse\u001b[0m\u001b[0;34m:\u001b[0m\u001b[0;34m\u001b[0m\u001b[0;34m\u001b[0m\u001b[0m\n\u001b[1;32m     46\u001b[0m             \u001b[0mdata\u001b[0m \u001b[0;34m=\u001b[0m \u001b[0mself\u001b[0m\u001b[0;34m.\u001b[0m\u001b[0mdataset\u001b[0m\u001b[0;34m[\u001b[0m\u001b[0mpossibly_batched_index\u001b[0m\u001b[0;34m]\u001b[0m\u001b[0;34m\u001b[0m\u001b[0;34m\u001b[0m\u001b[0m\n",
      "\u001b[0;32m/mnt/pesaranlab/People/Capstone_students/Gino/Sleeping-Monkeys/codes/utils.py\u001b[0m in \u001b[0;36m__getitem__\u001b[0;34m(self, idx)\u001b[0m\n\u001b[1;32m     52\u001b[0m         \u001b[0mtime\u001b[0m \u001b[0;34m=\u001b[0m \u001b[0mfloat\u001b[0m\u001b[0;34m(\u001b[0m\u001b[0mself\u001b[0m\u001b[0;34m.\u001b[0m\u001b[0mall_files\u001b[0m\u001b[0;34m[\u001b[0m\u001b[0midx\u001b[0m\u001b[0;34m]\u001b[0m\u001b[0;34m.\u001b[0m\u001b[0msplit\u001b[0m\u001b[0;34m(\u001b[0m\u001b[0;34m'_'\u001b[0m\u001b[0;34m)\u001b[0m\u001b[0;34m[\u001b[0m\u001b[0;36m3\u001b[0m\u001b[0;34m]\u001b[0m\u001b[0;34m[\u001b[0m\u001b[0;36m4\u001b[0m\u001b[0;34m:\u001b[0m\u001b[0;34m]\u001b[0m\u001b[0;34m)\u001b[0m\u001b[0;34m\u001b[0m\u001b[0;34m\u001b[0m\u001b[0m\n\u001b[1;32m     53\u001b[0m         \u001b[0mpath\u001b[0m \u001b[0;34m=\u001b[0m \u001b[0;34m'/mnt/pesaranlab/People/Capstone_students/Yue/data/'\u001b[0m\u001b[0;34m\u001b[0m\u001b[0;34m\u001b[0m\u001b[0m\n\u001b[0;32m---> 54\u001b[0;31m         \u001b[0mspec\u001b[0m \u001b[0;34m=\u001b[0m \u001b[0mtorch\u001b[0m\u001b[0;34m.\u001b[0m\u001b[0mfrom_numpy\u001b[0m\u001b[0;34m(\u001b[0m\u001b[0mnp\u001b[0m\u001b[0;34m.\u001b[0m\u001b[0mload\u001b[0m\u001b[0;34m(\u001b[0m\u001b[0mpath\u001b[0m\u001b[0;34m+\u001b[0m\u001b[0;34m'data'\u001b[0m\u001b[0;34m+\u001b[0m\u001b[0mself\u001b[0m\u001b[0;34m.\u001b[0m\u001b[0mversion\u001b[0m\u001b[0;34m+\u001b[0m\u001b[0;34m'/'\u001b[0m\u001b[0;34m+\u001b[0m \u001b[0mmvmt_type\u001b[0m \u001b[0;34m+\u001b[0m\u001b[0;34m'/'\u001b[0m \u001b[0;34m+\u001b[0m\u001b[0mself\u001b[0m\u001b[0;34m.\u001b[0m\u001b[0mall_files\u001b[0m\u001b[0;34m[\u001b[0m\u001b[0midx\u001b[0m\u001b[0;34m]\u001b[0m\u001b[0;34m)\u001b[0m\u001b[0;34m)\u001b[0m\u001b[0;34m\u001b[0m\u001b[0;34m\u001b[0m\u001b[0m\n\u001b[0m\u001b[1;32m     55\u001b[0m         \u001b[0;32mif\u001b[0m \u001b[0mmvmt_type\u001b[0m \u001b[0;34m==\u001b[0m \u001b[0;34m'move'\u001b[0m\u001b[0;34m:\u001b[0m\u001b[0;34m\u001b[0m\u001b[0;34m\u001b[0m\u001b[0m\n\u001b[1;32m     56\u001b[0m             \u001b[0mlabel\u001b[0m \u001b[0;34m=\u001b[0m \u001b[0mtorch\u001b[0m\u001b[0;34m.\u001b[0m\u001b[0mTensor\u001b[0m\u001b[0;34m(\u001b[0m\u001b[0;34m[\u001b[0m\u001b[0;36m0\u001b[0m\u001b[0;34m]\u001b[0m\u001b[0;34m)\u001b[0m\u001b[0;34m\u001b[0m\u001b[0;34m\u001b[0m\u001b[0m\n",
      "\u001b[0;32m~/anaconda3/lib/python3.8/site-packages/numpy/lib/npyio.py\u001b[0m in \u001b[0;36mload\u001b[0;34m(file, mmap_mode, allow_pickle, fix_imports, encoding)\u001b[0m\n\u001b[1;32m    414\u001b[0m             \u001b[0mown_fid\u001b[0m \u001b[0;34m=\u001b[0m \u001b[0;32mFalse\u001b[0m\u001b[0;34m\u001b[0m\u001b[0;34m\u001b[0m\u001b[0m\n\u001b[1;32m    415\u001b[0m         \u001b[0;32melse\u001b[0m\u001b[0;34m:\u001b[0m\u001b[0;34m\u001b[0m\u001b[0;34m\u001b[0m\u001b[0m\n\u001b[0;32m--> 416\u001b[0;31m             \u001b[0mfid\u001b[0m \u001b[0;34m=\u001b[0m \u001b[0mstack\u001b[0m\u001b[0;34m.\u001b[0m\u001b[0menter_context\u001b[0m\u001b[0;34m(\u001b[0m\u001b[0mopen\u001b[0m\u001b[0;34m(\u001b[0m\u001b[0mos_fspath\u001b[0m\u001b[0;34m(\u001b[0m\u001b[0mfile\u001b[0m\u001b[0;34m)\u001b[0m\u001b[0;34m,\u001b[0m \u001b[0;34m\"rb\"\u001b[0m\u001b[0;34m)\u001b[0m\u001b[0;34m)\u001b[0m\u001b[0;34m\u001b[0m\u001b[0;34m\u001b[0m\u001b[0m\n\u001b[0m\u001b[1;32m    417\u001b[0m             \u001b[0mown_fid\u001b[0m \u001b[0;34m=\u001b[0m \u001b[0;32mTrue\u001b[0m\u001b[0;34m\u001b[0m\u001b[0;34m\u001b[0m\u001b[0m\n\u001b[1;32m    418\u001b[0m \u001b[0;34m\u001b[0m\u001b[0m\n",
      "\u001b[0;31mKeyboardInterrupt\u001b[0m: "
     ]
    }
   ],
   "source": [
    "epochs, training_losses, training_acc, val_losses, validation_acc = [], [], [], [], []\n",
    "\n",
    "for epoch in range(num_epochs):\n",
    "    train_loss, train_acc = train(model, optimizer, train_loader, alpha=alpha, model_type=model_type, loss_type=loss_type, reg_type=reg_type, collect_result=False, device=device)\n",
    "    print('Train loss for epoch {}: {}'.format(epoch, train_loss))\n",
    "    val_loss, val_acc = evaluate(model, optimizer, val_loader, alpha=alpha, model_type=model_type, loss_type=loss_type, reg_type=reg_type, collect_result=False, device=device)\n",
    "    print('Val loss for epoch {}: {}'.format(epoch, val_loss))\n",
    "    epochs.append(epoch)\n",
    "    training_losses.append(train_loss)\n",
    "    training_acc.append(train_acc)\n",
    "    val_losses.append(val_loss)\n",
    "    validation_acc.append(val_acc)\n",
    "    if val_loss <= min(val_losses):\n",
    "        best_epoch = epoch\n",
    "        print(epoch)\n",
    "        path = '/mnt/pesaranlab/People/Capstone_students/Yue/model/model_Goose_1st_1_upsample'\n",
    "        torch.save(model.state_dict(), '{}/{}_CH{}_LOSS{}_REG{}{}_EPOCH{}.pt'.format(path, model_type, CH, loss_type, reg_type, alpha, epoch))"
   ]
  },
  {
   "cell_type": "code",
   "execution_count": 7,
   "metadata": {},
   "outputs": [
    {
     "data": {
      "image/png": "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\n",
      "text/plain": [
       "<Figure size 864x288 with 2 Axes>"
      ]
     },
     "metadata": {
      "needs_background": "light"
     },
     "output_type": "display_data"
    }
   ],
   "source": [
    "plot_loss_acc(training_losses, val_losses, training_acc, validation_acc, model_type)"
   ]
  },
  {
   "cell_type": "code",
   "execution_count": 7,
   "metadata": {},
   "outputs": [
    {
     "data": {
      "text/plain": [
       "<All keys matched successfully>"
      ]
     },
     "execution_count": 7,
     "metadata": {},
     "output_type": "execute_result"
    }
   ],
   "source": [
    "model = CNN_1Layer().to(device)\n",
    "path = '/mnt/pesaranlab/People/Capstone_students/Yue/model/model_Goose_1st_1_upsample'\n",
    "model.load_state_dict(torch.load('{}/{}_CH{}_LOSS{}_REG{}{}_EPOCH{}.pt'.format(path, model_type, CH, loss_type, reg_type, alpha, best_epoch)))"
   ]
  },
  {
   "cell_type": "code",
   "execution_count": 8,
   "metadata": {},
   "outputs": [
    {
     "name": "stdout",
     "output_type": "stream",
     "text": [
      "test loss:0.2499494105577469 accuracy:0.918\n"
     ]
    }
   ],
   "source": [
    "test_loss, test_acc, test_preds, test_preds_probs, test_labels, cases_wrong_0 = evaluate(model, optimizer, test_loader, alpha=alpha, model_type=model_type, loss_type=loss_type, reg_type=reg_type, collect_result=True, device=device)\n",
    "print('test loss:{} accuracy:{}'.format(test_loss, test_acc))"
   ]
  },
  {
   "cell_type": "code",
   "execution_count": null,
   "metadata": {},
   "outputs": [],
   "source": []
  }
 ],
 "metadata": {
  "kernelspec": {
   "display_name": "Python 3",
   "language": "python",
   "name": "python3"
  },
  "language_info": {
   "codemirror_mode": {
    "name": "ipython",
    "version": 3
   },
   "file_extension": ".py",
   "mimetype": "text/x-python",
   "name": "python",
   "nbconvert_exporter": "python",
   "pygments_lexer": "ipython3",
<<<<<<< HEAD
   "version": "3.8.5"
=======
<<<<<<< HEAD
   "version": "3.8.5"
=======
   "version": "3.7.9"
>>>>>>> 4109182083890cc0679eb0ffbd3f4d116935200d
>>>>>>> d72d8da4c23eb7b39fde7d007ddd2825c26f192b
  }
 },
 "nbformat": 4,
 "nbformat_minor": 4
}
