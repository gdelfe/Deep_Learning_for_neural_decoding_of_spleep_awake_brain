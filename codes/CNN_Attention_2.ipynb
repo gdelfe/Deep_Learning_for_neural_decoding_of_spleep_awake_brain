{
 "cells": [
  {
   "cell_type": "markdown",
   "metadata": {},
   "source": [
    "## Summary\n",
    "Compared with baseline (separate classes, specified val/test dates, 1CH, Goose 1st):\n",
    "* Try combining classes (CNN_Attention_Combined.ipynb)\n",
    "    * Roughly the same accuracy\n",
    "    * No impact on val loss lower than train loss\n",
    "* Try mixing data from different dates (CNN_Attention_Mixed_Dates.ipynb)\n",
    "    * Train loss similar, val loss lower\n",
    "    * Train loss lower than val loss\n",
    "* Try 62 CHs (CNN_Attention_CH62.ipynb)\n",
    "    * Unfinished\n",
    "    * Use Gino's best CNN 62CH model\n",
    "    * Modify input dimensions of last linear layer of CNN if needed\n",
    "* Train on Goose and predict on Jester (CNN_Attention_Goose_Jester.ipynb)\n",
    "    * Existence of peaks of val accuracies \n",
    "    * Without tuning, around 0.82 val accuracy\n",
    "    * By tuning attention dimension and/or T_length, could reach 0.90 val accuracy"
   ]
  },
  {
   "cell_type": "code",
   "execution_count": 1,
   "metadata": {},
   "outputs": [],
   "source": [
    "import numpy as np\n",
    "import pandas as pd\n",
    "import matplotlib.pyplot as plt\n",
    "import torch\n",
    "from torch.utils.data import Dataset, DataLoader\n",
    "import torch.nn as nn \n",
    "import torch.nn.functional as F\n",
    "from scipy.io import loadmat\n",
    "import os\n",
    "from os import listdir\n",
    "import pandas as pd\n",
    "from skimage import io\n",
    "from PIL import Image\n",
    "from sklearn.metrics import confusion_matrix\n",
    "import seaborn as sn\n",
    "import pickle\n",
    "import operator\n",
    "import pdb\n",
    "import random\n",
    "from random import sample\n",
    "\n",
    "from utils import *"
   ]
  },
  {
   "cell_type": "markdown",
   "metadata": {},
   "source": [
    "### Define \n",
    "channel, width of each spectrogram in the time direction and bad dates (with artifacts), validation dates, test dates, paths"
   ]
  },
  {
   "cell_type": "code",
   "execution_count": 2,
   "metadata": {},
   "outputs": [],
   "source": [
    "CH = 23\n",
    "time_window = 10 # width of the spectrogram in the time direction \n",
    "T_length = 3 # how many spectrograms grouped together\n",
    "proceed = 1 # Parameter controlling overlap across spectrogram. 1 = max overalp, T_length-1 = no overlap\n",
    "device = torch.device(\"cuda\")\n",
    "bad_dates = ['180326', '180328', '171019', '180715', '180716', '180717']"
   ]
  },
  {
   "cell_type": "code",
   "execution_count": 3,
   "metadata": {},
   "outputs": [],
   "source": [
    "val_dates = ['180327','180329']\n",
    "test_dates = ['180330','180331']\n",
    "load_path = '/home/bijanadmin/Desktop/Goose_data/data_Goose_1st_2/'\n",
    "# save_path = '/mnt/pesaranlab/People/Capstone_students/Yue/model/...' "
   ]
  },
  {
   "cell_type": "code",
   "execution_count": 4,
   "metadata": {},
   "outputs": [
    {
     "name": "stdout",
     "output_type": "stream",
     "text": [
      "180324_003_62_time1036.0_sleep.npy\n"
     ]
    },
    {
     "data": {
      "text/plain": [
       "'sleep'"
      ]
     },
     "execution_count": 4,
     "metadata": {},
     "output_type": "execute_result"
    }
   ],
   "source": [
    "sleep_files = os.listdir(load_path+'sleep/')\n",
    "move_files = os.listdir(load_path+'move/')\n",
    "all_files = sleep_files+move_files\n",
    "f = all_files[0]\n",
    "print(f)\n",
    "f.split('_')[-1].split('.')[0]"
   ]
  },
  {
   "cell_type": "code",
   "execution_count": 5,
   "metadata": {},
   "outputs": [
    {
     "name": "stdout",
     "output_type": "stream",
     "text": [
      "cuda\n"
     ]
    }
   ],
   "source": [
    "print(device)\n",
    "torch.cuda.empty_cache()"
   ]
  },
  {
   "cell_type": "markdown",
   "metadata": {},
   "source": [
    "### Function to create the data set and make it into grouped spectrograms (windows)\n",
    "The function assigns the label 1 to sleep and label 0 to movement, creates a dictionary to store the data set and groups the data into sets of spectrograms by calling the function create_files_new_helper"
   ]
  },
  {
   "cell_type": "code",
   "execution_count": 6,
   "metadata": {},
   "outputs": [],
   "source": [
    "def create_files_new(load_path, bad_dates, T_length=3, proceed=1):\n",
    "    \n",
    "    sleep_files = os.listdir(load_path+'sleep/')\n",
    "    move_files = os.listdir(load_path+'move/')\n",
    "    all_files = sleep_files+move_files\n",
    "    \n",
    "    cnt = 0\n",
    "    dic = {}\n",
    "    for f in all_files:\n",
    "        mvmt_type = f.split('_')[-1].split('.')[0]\n",
    "        date = f.split('_')[0]\n",
    "        rec = f.split('_')[1].split('_')[0]\n",
    "        time = float(f.split('_')[3][4:])\n",
    "        if date in bad_dates:\n",
    "            continue\n",
    "        if mvmt_type == 'sleep':\n",
    "            label = 1\n",
    "        else:\n",
    "            label = 0\n",
    "        if date in dic:\n",
    "            if rec in dic[date]:\n",
    "                dic[date][rec].append([f, label, mvmt_type, date, rec, time])\n",
    "            else:\n",
    "                dic[date][rec] = [[f, label, mvmt_type, date, rec, time]]\n",
    "        else:\n",
    "            dic[date] = {rec: [[f, label, mvmt_type, date, rec, time]]}\n",
    "      \n",
    "    for d in dic:\n",
    "        for r in dic[d]:\n",
    "            dic[d][r] = sorted(dic[d][r], key=operator.itemgetter(3, 4, 5)) # sort based on date, rec, ascending time interval\n",
    "            cnt += len(dic[d][r])            \n",
    "            \n",
    "    move_data, sleep_data = [], []\n",
    "    for d in dic:\n",
    "        for r in dic[d]:\n",
    "            sleep_grouped, move_grouped = create_files_new_helper(dic[d][r], T_length=T_length, proceed=proceed)\n",
    "            sleep_data.append(sleep_grouped)\n",
    "            move_data.append(move_grouped)\n",
    "    \n",
    "    return move_data, sleep_data, cnt"
   ]
  },
  {
   "cell_type": "markdown",
   "metadata": {},
   "source": [
    "### Function to group  a set of spectrogram windows together\n",
    "T_length = number of spectrograms grouped together <br>\n",
    "time_window = width of each spectrogram in the time direction <br>\n",
    "proceed =  number of time overlaps across different windows. <br> Proceed = 1, max overlap. Proceed = time_window-1, no overlap"
   ]
  },
  {
   "cell_type": "code",
   "execution_count": 7,
   "metadata": {},
   "outputs": [],
   "source": [
    "def create_files_new_helper(L, T_length, proceed):\n",
    "    \n",
    "    # for each date and for each recording in that date \n",
    "    L_labels = np.array([L[i][1] for i in range(len(L))]) # get the labels for that specific recording\n",
    "    L_times = np.array([L[i][-1] for i in range(len(L))]) # get the starting time of that time window, e.g. 20 sec, 30 sec\n",
    "    \n",
    "    L_new_sleep, L_new_move = [], []\n",
    "    start = 0\n",
    "    while start <= len(L)-T_length:\n",
    "        end = start + T_length\n",
    "        \n",
    "        if sum(L_times[start+1:end]-L_times[start:end-1]-time_window) != 0:\n",
    "            start += 1\n",
    "            continue\n",
    "        if sum(L_labels[start:end]) == T_length:\n",
    "            L_new_sleep.append(L[start:end])\n",
    "        elif sum(L_labels[start:end]) == 0:\n",
    "            L_new_move.append(L[start:end])\n",
    "        start += proceed\n",
    "#         pdb.set_trace()\n",
    "\n",
    "    return L_new_sleep, L_new_move"
   ]
  },
  {
   "cell_type": "markdown",
   "metadata": {},
   "source": [
    "### Split the data into train, validation, and test"
   ]
  },
  {
   "cell_type": "code",
   "execution_count": 8,
   "metadata": {
    "scrolled": true
   },
   "outputs": [],
   "source": [
    "move_files, sleep_files, cnt = create_files_new(load_path, bad_dates, T_length=T_length, proceed=proceed)\n",
    "train_files, val_files, test_files = [], [], []\n",
    "\n",
    "cnt_i = 0\n",
    "# split data into train, validation, test\n",
    "for f in move_files+sleep_files:\n",
    "    if f:\n",
    "        if f[0][1][3] in val_dates: #f[0][1][3] correspond to the date field\n",
    "            val_files.extend(f)\n",
    "        elif f[0][1][3] in test_dates:\n",
    "            test_files.extend(f)\n",
    "        else:\n",
    "            train_files.extend(f)           "
   ]
  },
  {
   "cell_type": "markdown",
   "metadata": {},
   "source": [
    "### Shuffle data sets "
   ]
  },
  {
   "cell_type": "code",
   "execution_count": 9,
   "metadata": {},
   "outputs": [],
   "source": [
    "# random shuffle the data across groups\n",
    "random.shuffle(train_files)\n",
    "random.shuffle(val_files)\n",
    "random.shuffle(test_files)"
   ]
  },
  {
   "cell_type": "code",
   "execution_count": 10,
   "metadata": {},
   "outputs": [
    {
     "data": {
      "text/plain": [
       "202440"
      ]
     },
     "execution_count": 10,
     "metadata": {},
     "output_type": "execute_result"
    }
   ],
   "source": [
    "len(train_files)*10 + len(val_files)*10 + len(test_files)*10"
   ]
  },
  {
   "cell_type": "markdown",
   "metadata": {},
   "source": [
    "### Upsample smaller TRAINING data set (movement) in order to have a balanced sleep/movement data set"
   ]
  },
  {
   "cell_type": "code",
   "execution_count": 11,
   "metadata": {},
   "outputs": [],
   "source": [
    "def upsample(train_files):\n",
    "    train_sleep = [i for i in train_files if i[0][1] == 1] # list of 1s\n",
    "    train_move = [i for i in train_files if i[0][1] == 0]  # list of 0s\n",
    "    diff = abs(len(train_sleep)-len(train_move))\n",
    "    train_new = []\n",
    "    d = 0\n",
    "    while d < diff:\n",
    "        if len(train_sleep) > len(train_move):\n",
    "            ind = random.randint(0, len(train_move)-1)\n",
    "            x = train_move[ind]\n",
    "            d += 1\n",
    "        else:\n",
    "            ind = random.randint(0, len(train_sleep)-1)\n",
    "            x = train_sleep[ind]\n",
    "            d += 1\n",
    "        train_new.append(x)   \n",
    "    train_files = train_sleep+train_move+train_new\n",
    "    return train_files"
   ]
  },
  {
   "cell_type": "code",
   "execution_count": 12,
   "metadata": {},
   "outputs": [],
   "source": [
    "train_files = upsample(train_files)"
   ]
  },
  {
   "cell_type": "markdown",
   "metadata": {},
   "source": [
    "### Downsample validation "
   ]
  },
  {
   "cell_type": "code",
   "execution_count": 13,
   "metadata": {},
   "outputs": [],
   "source": [
    "## Balance val \n",
    "sleep_files = []\n",
    "move_files = []\n",
    "for t in range(len(val_files)):\n",
    "    if 'sleep' in val_files[t][0]:\n",
    "        sleep_files.append(val_files[t])\n",
    "    if 'move' in val_files[t][0]:\n",
    "        move_files.append(val_files[t])\n",
    "\n",
    "sleep_sample = sample(sleep_files, len(move_files))\n",
    "val_2_files = sleep_sample+move_files"
   ]
  },
  {
   "cell_type": "code",
   "execution_count": 14,
   "metadata": {},
   "outputs": [
    {
     "name": "stdout",
     "output_type": "stream",
     "text": [
      "training data volume:  17266\n",
      "validation data volume:  2004\n",
      "rate val/train 0.12\n"
     ]
    }
   ],
   "source": [
    "print('training data volume: ',len(train_files))\n",
    "print('validation data volume: ',len(val_2_files))\n",
    "print('rate val/train {:.2f}'.format(len(val_2_files)/len(train_files)))"
   ]
  },
  {
   "cell_type": "markdown",
   "metadata": {},
   "source": [
    "###  print some stuff"
   ]
  },
  {
   "cell_type": "code",
   "execution_count": 15,
   "metadata": {
    "scrolled": true
   },
   "outputs": [
    {
     "name": "stdout",
     "output_type": "stream",
     "text": [
      "17266\n",
      "[['180401_002_62_time6234.0_sleep.npy', 1, 'sleep', '180401', '002', 6234.0], ['180401_002_62_time6244.0_sleep.npy', 1, 'sleep', '180401', '002', 6244.0], ['180401_002_62_time6254.0_sleep.npy', 1, 'sleep', '180401', '002', 6254.0]]\n",
      "torch.Size([62, 10, 100])\n"
     ]
    },
    {
     "data": {
      "text/plain": [
       "torch.Size([1, 10, 62, 100])"
      ]
     },
     "execution_count": 15,
     "metadata": {},
     "output_type": "execute_result"
    }
   ],
   "source": [
    "# print(train_files)\n",
    "print(len(train_files)) # total number of grouped spectrograms in training set \n",
    "group = train_files[2]\n",
    "f, label, mvmt_type, _, _, time = group[0]\n",
    "print(group)\n",
    "spec = torch.from_numpy(np.load(load_path+mvmt_type+'/'+f))\n",
    "print(spec.shape)\n",
    "torch.transpose(spec[:,:,:].unsqueeze(0),2,1).shape"
   ]
  },
  {
   "cell_type": "markdown",
   "metadata": {},
   "source": [
    "### Load Data Set - Class\n"
   ]
  },
  {
   "cell_type": "code",
   "execution_count": 16,
   "metadata": {},
   "outputs": [],
   "source": [
    "class SpectrogramDatasetAtt(Dataset):\n",
    "    def __init__(self, files, load_path, T_length, all_label=False, CH=None):\n",
    "        self.CH = CH\n",
    "        self.files = files\n",
    "        self.load_path = load_path\n",
    "        self.T_length = T_length\n",
    "        self.all_label = all_label\n",
    "  \n",
    "    def __len__(self):\n",
    "        return len(self.files)\n",
    "    \n",
    "    def __getitem__(self, idx):\n",
    "        group = self.files[idx]\n",
    "        specs, labels, dates, recs, times = [], [], [], [], []\n",
    "        \n",
    "        for i in range(len(group)): # for each window in the group \n",
    "            f, label, mvmt_type, date, rec, time = group[i]\n",
    "            spec = torch.from_numpy(np.load(self.load_path+mvmt_type+'/'+f)) # load the spectrogram file\n",
    "            if self.CH is not None: \n",
    "                # get spectrogram for specific channel\n",
    "                spec = torch.transpose(spec[self.CH,:,:].unsqueeze(0), 2, 1) # careful with the dimensions order here \n",
    "            else:\n",
    "                # get spectrograms for 62 channels \n",
    "                spec = torch.transpose(spec, 2, 1) # careful with the dimension order here \n",
    "            # append spectrograms and metadata\n",
    "            specs.append(spec)\n",
    "            labels.append(torch.Tensor([label]))\n",
    "            dates.append(date)\n",
    "            recs.append(rec)\n",
    "            times.append(time)\n",
    "            if i == (self.T_length-1)/2: # what happens if T_length is even?\n",
    "                label_mid = torch.Tensor([label])\n",
    "                date_mid = date\n",
    "                rec_mid = rec\n",
    "                time_mid = time\n",
    "        if self.all_label:\n",
    "            return specs, labels, dates, recs, times\n",
    "        else:\n",
    "            return specs, label_mid, date_mid, rec_mid, time_mid"
   ]
  },
  {
   "cell_type": "markdown",
   "metadata": {},
   "source": [
    "### Data Loaders"
   ]
  },
  {
   "cell_type": "code",
   "execution_count": 17,
   "metadata": {},
   "outputs": [],
   "source": [
    "train_dataset = SpectrogramDatasetAtt(files=train_files, load_path=load_path, T_length=3, all_label=True, CH=CH)\n",
    "valid_dataset = SpectrogramDatasetAtt(files=val_files, load_path=load_path, T_length=3, all_label=True, CH=CH)\n",
    "test_dataset = SpectrogramDatasetAtt(files=test_files, load_path=load_path, T_length=3, all_label=True, CH=CH)\n",
    "\n",
    "# train_dataset = SpectrogramDatasetAtt(files=train_files, load_path=load_path, T_length=3, all_label=False, CH=CH)\n",
    "# valid_dataset = SpectrogramDatasetAtt(files=val_files, load_path=load_path, T_length=3, all_label=False, CH=CH)\n",
    "# test_dataset = SpectrogramDatasetAtt(files=test_files, load_path=load_path, T_length=3, all_label=False, CH=CH)\n",
    "\n",
    "train_loader = DataLoader(dataset=train_dataset, batch_size=128, shuffle = True)\n",
    "val_loader = DataLoader(dataset=valid_dataset, batch_size=128, shuffle = False)\n",
    "test_loader = DataLoader(dataset=test_dataset, batch_size=128, shuffle = False)"
   ]
  },
  {
   "cell_type": "code",
   "execution_count": 18,
   "metadata": {},
   "outputs": [
    {
     "data": {
      "text/plain": [
       "torch.Size([128, 1, 100, 10])"
      ]
     },
     "execution_count": 18,
     "metadata": {},
     "output_type": "execute_result"
    }
   ],
   "source": [
    "for specs, labels, dates, recs, times in train_loader:\n",
    "    break\n",
    "specs[0].shape"
   ]
  },
  {
   "cell_type": "markdown",
   "metadata": {},
   "source": [
    "### Print inputs"
   ]
  },
  {
   "cell_type": "code",
   "execution_count": 19,
   "metadata": {},
   "outputs": [
    {
     "data": {
      "image/png": "[encoded data removed]",
      "text/plain": [
       "<Figure size 432x288 with 1 Axes>"
      ]
     },
     "metadata": {
      "needs_background": "light"
     },
     "output_type": "display_data"
    }
   ],
   "source": [
    "# check if input makes sense\n",
    "plt.imshow(specs[0][0, 0, :, :])\n",
    "plt.yticks(ticks=[0, 20, 40, 60, 80, 99], labels=[round(np.logspace(0, 2.45, 100)[i]) for i in [0, 20, 40, 60, 80, 99]])\n",
    "plt.xticks(ticks=[0, 9], labels=[1, 10])\n",
    "plt.show()"
   ]
  },
  {
   "cell_type": "markdown",
   "metadata": {},
   "source": [
    "### Positional encoding"
   ]
  },
  {
   "cell_type": "code",
   "execution_count": 20,
   "metadata": {},
   "outputs": [],
   "source": [
    "def position_encoding_init(n_position, emb_dim):\n",
    "    position_enc = np.array([\n",
    "        [pos / np.power(10000, 2 * (j // 2) / emb_dim) for j in range(emb_dim)]\n",
    "        if pos != 0 else np.zeros(emb_dim) for pos in range(n_position)])\n",
    "    \n",
    "    position_enc[1:, 0::2] = np.sin(position_enc[1:, 0::2]) # apply sin on 0th,2nd,4th...emb_dim\n",
    "    position_enc[1:, 1::2] = np.cos(position_enc[1:, 1::2]) # apply cos on 1st,3rd,5th...emb_dim\n",
    "    return torch.from_numpy(position_enc).type(torch.FloatTensor)"
   ]
  },
  {
   "cell_type": "code",
   "execution_count": 21,
   "metadata": {},
   "outputs": [
    {
     "data": {
      "image/png": "[encoded data removed]",
      "text/plain": [
       "<Figure size 432x288 with 2 Axes>"
      ]
     },
     "metadata": {
      "needs_background": "light"
     },
     "output_type": "display_data"
    }
   ],
   "source": [
    "a = position_encoding_init(10, 30).numpy().T\n",
    "plt.imshow(a)\n",
    "plt.colorbar()\n",
    "plt.show()"
   ]
  },
  {
   "cell_type": "code",
   "execution_count": 22,
   "metadata": {},
   "outputs": [],
   "source": [
    "# class ScaledDotProductAttention(nn.Module):\n",
    "#     \"\"\"\n",
    "#     Scaled Dot-Product Attention proposed in \"Attention Is All You Need\"\n",
    "#     Compute the dot products of the query with all keys, divide each by sqrt(dim),\n",
    "#     and apply a softmax function to obtain the weights on the values\n",
    "#     Args: dim, mask\n",
    "#         dim (int): dimention of attention\n",
    "#         mask (torch.Tensor): tensor containing indices to be masked\n",
    "#     Inputs: query, key, value, mask\n",
    "#         - **query** (batch, q_len, d_model): tensor containing projection vector for decoder.\n",
    "#         - **key** (batch, k_len, d_model): tensor containing projection vector for encoder.\n",
    "#         - **value** (batch, v_len, d_model): tensor containing features of the encoded input sequence.\n",
    "#         - **mask** (-): tensor containing indices to be masked\n",
    "#     Returns: context, attn\n",
    "#         - **context**: tensor containing the context vector from attention mechanism.\n",
    "#         - **attn**: tensor containing the attention (alignment) from the encoder outputs.\n",
    "#     \"\"\"\n",
    "#     def __init__(self, dim: int):\n",
    "#         super(ScaledDotProductAttention, self).__init__()\n",
    "#         self.sqrt_dim = np.sqrt(dim)\n",
    "\n",
    "#     def forward(self, query: Tensor, key: Tensor, value: Tensor, mask: Optional[Tensor] = None) -> Tuple[Tensor, Tensor]:\n",
    "#         score = torch.bmm(query, key.transpose(1, 2)) / self.sqrt_dim\n",
    "\n",
    "#         if mask is not None:\n",
    "#             score.masked_fill_(mask.view(score.size()), -float('Inf'))\n",
    "\n",
    "#         attn = F.softmax(score, -1)\n",
    "#         context = torch.bmm(attn, value)\n",
    "#         return context, attn"
   ]
  },
  {
   "cell_type": "markdown",
   "metadata": {},
   "source": [
    "### Specify models and training parameters"
   ]
  },
  {
   "cell_type": "code",
   "execution_count": 24,
   "metadata": {},
   "outputs": [],
   "source": [
    "# learning_rate = 0.001\n",
    "# num_epochs = 31\n",
    "# model_type = 'CNN-Attention'\n",
    "# loss_type = 'bce'\n",
    "# p_dropout = 0.2\n",
    "# p_dropout_att = 0.2\n",
    "# att_dim = 128\n",
    "# T_length = 3\n",
    "# all_label = True\n",
    "# verbose = True\n",
    "\n",
    "# model_CNN = CNN(p_dropout, att_dim).to(device)\n",
    "# model_Att = Attention1(att_dim, T_length,p_dropout_att, all_label).to(device)\n",
    "\n",
    "\n",
    "# specs, labels, dates, recs, times = next(iter(train_loader))\n",
    "# labels = torch.stack(labels).transpose(1,0)\n",
    "# labels = labels.to(device).float()\n",
    "\n",
    "# torch.LongTensor([list(range(T_length))])\n",
    "# CNN_outputs = torch.zeros(specs[0].shape[0], len(specs), att_dim, device=device) \n",
    "\n",
    "    \n",
    "# for t in range(T_length):\n",
    "#     data_t = specs[t].to(device).float()\n",
    "#     CNN_outputs[:, t, :] = model_CNN(data_t)\n",
    "#     print(CNN_outputs.shape)\n",
    "# pos = torch.LongTensor([list(range(T_length))]).to(device)\n",
    "# Att_outputs = model_Att(CNN_outputs, pos)\n",
    "# print(Att_outputs.shape)"
   ]
  },
  {
   "cell_type": "code",
   "execution_count": 25,
   "metadata": {},
   "outputs": [],
   "source": [
    "# predictions = (Att_outputs > 0.5) * 1.0\n",
    "# len(predictions)\n",
    "# predictions = predictions.flatten().detach().cpu().numpy()\n",
    "# labels = labels.flatten().cpu().numpy()"
   ]
  },
  {
   "cell_type": "markdown",
   "metadata": {},
   "source": [
    "### Accuracy function "
   ]
  },
  {
   "cell_type": "code",
   "execution_count": 26,
   "metadata": {},
   "outputs": [],
   "source": [
    "def get_accuracy(model_CNN, model_Att, loader, device):\n",
    "    correct = 0\n",
    "    total = 0\n",
    "    with torch.no_grad():\n",
    "        for data, labels, _, _, _ in loader:\n",
    "            labels = torch.stack(labels).transpose(1,0)\n",
    "            labels = labels.to(device).float()\n",
    "            CNN_outputs = torch.zeros(data[0].shape[0], len(data), att_dim, device=device) \n",
    "            \n",
    "            # for all the spectrogram in the group, stack up the CNN output\n",
    "            for t in range(T_length):\n",
    "                data_t = data[t].to(device).float()\n",
    "                CNN_outputs[:, t, :] = model_CNN(data_t) # batch size x attention dim\n",
    "            pos = torch.LongTensor([list(range(T_length))]).to(device)\n",
    "            Att_outputs = model_Att(CNN_outputs, pos)\n",
    "            predictions = (Att_outputs > 0.5) * 1.0\n",
    "            predictions = predictions.flatten().detach().cpu().numpy()\n",
    "            labels = labels.flatten().cpu().numpy()\n",
    "            total += len(labels)\n",
    "            correct += (predictions == labels).sum()\n",
    "            \n",
    "    accuracy = correct / total\n",
    "    return accuracy"
   ]
  },
  {
   "cell_type": "markdown",
   "metadata": {},
   "source": [
    "### Train and evaluate functions"
   ]
  },
  {
   "cell_type": "code",
   "execution_count": 39,
   "metadata": {},
   "outputs": [],
   "source": [
    "def train(model_CNN, model_Att, optimizer_CNN, optimizer_Att, criterion, loader, T_length, device):\n",
    "    model_CNN.train()\n",
    "    model_Att.train()\n",
    "    epoch_losses = 0\n",
    "    epoch_lens = 0\n",
    "    \n",
    "    for batch_idx, (data, labels, _, _, _) in enumerate(loader):\n",
    "        labels = torch.stack(labels).transpose(1,0)\n",
    "        labels = labels.to(device).float()\n",
    "        CNN_outputs = torch.zeros(data[0].shape[0], len(data), att_dim, device=device)\n",
    "        for t in range(T_length):\n",
    "            data_t = data[t].to(device).float()\n",
    "            CNN_outputs[:, t, :] = model_CNN(data_t)\n",
    "        pos = torch.LongTensor([list(range(T_length))]).to(device)\n",
    "        Att_outputs = model_Att(CNN_outputs, pos)\n",
    "        loss = criterion(Att_outputs, labels)\n",
    "        epoch_losses += loss\n",
    "        epoch_lens += 1\n",
    "\n",
    "        optimizer_CNN.zero_grad()\n",
    "        optimizer_Att.zero_grad()\n",
    "        loss.backward() # Will back propogation work correctly?\n",
    "        optimizer_CNN.step()\n",
    "        optimizer_Att.step()\n",
    "    \n",
    "    epoch_accs = get_accuracy(model_CNN, model_Att, loader, device=device)\n",
    "    return epoch_losses/epoch_lens, epoch_accs\n",
    "\n",
    "def evaluate(model_CNN, model_Att, optimizer_CNN, optimizer_Att, criterion, loader, T_length, device='cuda'):\n",
    "    \n",
    "    model_CNN.eval()\n",
    "    model_Att.eval()\n",
    "    epoch_losses = 0\n",
    "    epoch_lens = 0\n",
    "    \n",
    "    with torch.no_grad():\n",
    "        for batch_idx, (data, labels, _, _, _) in enumerate(loader):\n",
    "            labels = torch.stack(labels).transpose(1,0)\n",
    "            labels = labels.to(device).float()\n",
    "            CNN_outputs = torch.zeros(data[0].shape[0], len(data), att_dim, device=device)\n",
    "            for t in range(T_length):\n",
    "                data_t = data[t].to(device).float()\n",
    "                CNN_outputs[:, t, :] = model_CNN(data_t)\n",
    "            pos = torch.LongTensor([list(range(T_length))]).to(device)\n",
    "            Att_outputs = model_Att(CNN_outputs, pos)\n",
    "            loss = criterion(Att_outputs, labels)\n",
    "            epoch_losses += loss\n",
    "            epoch_lens += 1\n",
    "    \n",
    "    epoch_accs = get_accuracy(model_CNN, model_Att, loader, device=device)\n",
    "    return epoch_losses/epoch_lens, epoch_accs"
   ]
  },
  {
   "cell_type": "markdown",
   "metadata": {},
   "source": [
    "### CNN and Attention class"
   ]
  },
  {
   "cell_type": "code",
   "execution_count": 40,
   "metadata": {},
   "outputs": [],
   "source": [
    "# https://pytorch.org/tutorials/intermediate/seq2seq_translation_tutorial.html\n",
    "# https://github.com/heykeetae/Self-Attention-GAN/blob/master/sagan_models.py\n",
    "\n",
    "class CNN(nn.Module):\n",
    "    def __init__(self, p_dropout, out_dim):\n",
    "        super(CNN, self).__init__()\n",
    "        \n",
    "        # CNN\n",
    "        self.conv1 = nn.Conv2d(in_channels=1, out_channels=2, kernel_size=(3,3), stride=(1,1), padding=(1,1))\n",
    "        self.conv2 = nn.Conv2d(in_channels=2, out_channels=4, kernel_size=(3,3), stride=(1,1), padding=(1,1))\n",
    "        self.pool = nn.MaxPool2d(2,2)\n",
    "        self.dropout = nn.Dropout(p_dropout)\n",
    "        self.bn1 = nn.BatchNorm2d(2)\n",
    "        self.bn2 = nn.BatchNorm2d(4)\n",
    "        self.fc1 = nn.Linear(4*25*2, out_dim)\n",
    "              \n",
    "    def forward(self, x):\n",
    "        # CNN\n",
    "        x = x.float()\n",
    "        x = self.pool(F.relu(self.bn1(self.conv1(x))))\n",
    "        x = self.pool(F.relu(self.bn2(self.conv2(x))))\n",
    "        x = x.view(x.shape[0],-1) \n",
    "        x = self.dropout(x) # perhaps remove dropout\n",
    "        x = self.fc1(x)\n",
    "        \n",
    "        return x\n",
    "    \n",
    "\n",
    "class Attention1(nn.Module):\n",
    "    def __init__(self, att_dim, T_length, p_dropout, all_label=False):\n",
    "        super(Attention1, self).__init__()\n",
    "        \n",
    "        # Positional Encoding\n",
    "        self.position_enc = nn.Embedding(T_length, att_dim)\n",
    "        self.position_enc.weight.data = position_encoding_init(T_length, att_dim)\n",
    "\n",
    "        # Attention\n",
    "        self.query = nn.Linear(att_dim, att_dim)\n",
    "        self.tanh = nn.Tanh()\n",
    "        self.softmax = nn.Softmax(dim=-1) # every slice along dim will sum to 1\n",
    "        self.ff1 = nn.Linear(att_dim, att_dim)\n",
    "        self.relu = nn.ReLU()\n",
    "        self.ff2 = nn.Linear(att_dim, att_dim)\n",
    "        \n",
    "        self.fc = nn.Linear(att_dim, 1) # paper uses 2 layers\n",
    "        \n",
    "        self.dropout = nn.Dropout(p_dropout)\n",
    "       \n",
    "        self.T_length = T_length\n",
    "        self.all_label = all_label\n",
    "        \n",
    "    def forward(self, x, x_pos):\n",
    "        x = x.float()        \n",
    "        x += self.position_enc(x_pos)\n",
    "        \n",
    "        Q = self.query(x)  # Q = X*W + B\n",
    "#         Q = self.dropout(Q)\n",
    "        \n",
    "        energy =  torch.bmm(Q, x.permute(0, 2, 1)) # Q*X_T\n",
    "        attention = self.softmax(self.tanh(energy)) # alpha\n",
    "#         attention = self.softmax(energy)\n",
    "        x_att = torch.bmm(attention, x) # Attention \n",
    "\n",
    "        x_att = self.dropout(x_att)\n",
    "#         x_output = torch.sigmoid(self.fc(x_att))\n",
    "#         x_att = self.ff2(self.relu(self.ff1(x_att)))\n",
    "#         x_att = self.dropout(x_att)\n",
    "        x_output = torch.sigmoid(self.fc(x_att))\n",
    "      \n",
    "        if self.all_label:\n",
    "            return x_output\n",
    "        return x_output[:, int((self.T_length-1)/2), :]\n",
    "\n"
   ]
  },
  {
   "cell_type": "markdown",
   "metadata": {},
   "source": [
    "### Specify models and training parameters"
   ]
  },
  {
   "cell_type": "code",
   "execution_count": 41,
   "metadata": {},
   "outputs": [],
   "source": [
    "learning_rate = 0.001\n",
    "num_epochs = 31\n",
    "model_type = 'CNN-Attention'\n",
    "loss_type = 'bce'\n",
    "p_dropout = 0.2\n",
    "p_dropout_att = 0.2\n",
    "att_dim = 128\n",
    "T_length = 3\n",
    "all_label = True\n",
    "verbose = True\n",
    "\n",
    "model_CNN = CNN(p_dropout, att_dim).to(device)\n",
    "model_Att = Attention1(att_dim, T_length, p_dropout_att, all_label).to(device)\n",
    "\n",
    "optimizer_CNN = torch.optim.Adam(model_CNN.parameters(), lr = learning_rate)\n",
    "optimizer_Att = torch.optim.Adam(model_Att.parameters(), lr = learning_rate)\n",
    "criterion = nn.BCELoss() # BCE loss"
   ]
  },
  {
   "cell_type": "code",
   "execution_count": 42,
   "metadata": {},
   "outputs": [
    {
     "data": {
      "text/plain": [
       "device(type='cuda')"
      ]
     },
     "execution_count": 42,
     "metadata": {},
     "output_type": "execute_result"
    }
   ],
   "source": [
    "device"
   ]
  },
  {
   "cell_type": "markdown",
   "metadata": {},
   "source": [
    "### Initialize the weights"
   ]
  },
  {
   "cell_type": "code",
   "execution_count": 43,
   "metadata": {},
   "outputs": [
    {
     "data": {
      "text/plain": [
       "Attention1(\n",
       "  (position_enc): Embedding(3, 128)\n",
       "  (query): Linear(in_features=128, out_features=128, bias=True)\n",
       "  (tanh): Tanh()\n",
       "  (softmax): Softmax(dim=-1)\n",
       "  (ff1): Linear(in_features=128, out_features=128, bias=True)\n",
       "  (relu): ReLU()\n",
       "  (ff2): Linear(in_features=128, out_features=128, bias=True)\n",
       "  (fc): Linear(in_features=128, out_features=1, bias=True)\n",
       "  (dropout): Dropout(p=0.2, inplace=False)\n",
       ")"
      ]
     },
     "execution_count": 43,
     "metadata": {},
     "output_type": "execute_result"
    }
   ],
   "source": [
    "def weights_init(m):\n",
    "    if isinstance(m, nn.Linear):\n",
    "        torch.nn.init.xavier_uniform_(m.weight.data)\n",
    "\n",
    "torch.manual_seed(90)\n",
    "model_CNN.apply(weights_init)\n",
    "model_Att.apply(weights_init)"
   ]
  },
  {
   "cell_type": "markdown",
   "metadata": {},
   "source": [
    "## Train and validate the model"
   ]
  },
  {
   "cell_type": "code",
   "execution_count": 44,
   "metadata": {
    "scrolled": false
   },
   "outputs": [
    {
     "name": "stdout",
     "output_type": "stream",
     "text": [
      "0\n",
      "Train loss for epoch 0: 0.3856697678565979\n",
      "Val loss for epoch 0: 0.18584990501403809\n"
     ]
    },
    {
     "data": {
      "image/png": "[encoded data removed]",
      "text/plain": [
       "<Figure size 864x288 with 2 Axes>"
      ]
     },
     "metadata": {
      "needs_background": "light"
     },
     "output_type": "display_data"
    },
    {
     "name": "stdout",
     "output_type": "stream",
     "text": [
      "1\n",
      "Train loss for epoch 1: 0.288772851228714\n",
      "Val loss for epoch 1: 0.17701491713523865\n",
      "2\n",
      "Train loss for epoch 2: 0.2557130455970764\n",
      "Val loss for epoch 2: 0.1766912341117859\n",
      "Train loss for epoch 3: 0.23925268650054932\n",
      "Val loss for epoch 3: 0.181923046708107\n",
      "Train loss for epoch 4: 0.22389517724514008\n",
      "Val loss for epoch 4: 0.18020975589752197\n",
      "Train loss for epoch 5: 0.2168131321668625\n",
      "Val loss for epoch 5: 0.18371804058551788\n",
      "Train loss for epoch 6: 0.20514927804470062\n",
      "Val loss for epoch 6: 0.20821957290172577\n",
      "7\n",
      "Train loss for epoch 7: 0.19984644651412964\n",
      "Val loss for epoch 7: 0.17146079242229462\n",
      "Train loss for epoch 8: 0.18914249539375305\n",
      "Val loss for epoch 8: 0.18949364125728607\n",
      "Train loss for epoch 9: 0.18773102760314941\n",
      "Val loss for epoch 9: 0.1795428991317749\n",
      "Train loss for epoch 10: 0.18802489340305328\n",
      "Val loss for epoch 10: 0.17783579230308533\n"
     ]
    },
    {
     "data": {
      "image/png": "[encoded data removed]",
      "text/plain": [
       "<Figure size 864x288 with 2 Axes>"
      ]
     },
     "metadata": {
      "needs_background": "light"
     },
     "output_type": "display_data"
    },
    {
     "name": "stdout",
     "output_type": "stream",
     "text": [
      "Train loss for epoch 11: 0.1835801750421524\n",
      "Val loss for epoch 11: 0.18114309012889862\n",
      "Train loss for epoch 12: 0.17098943889141083\n",
      "Val loss for epoch 12: 0.1870069056749344\n",
      "Train loss for epoch 13: 0.1660231500864029\n",
      "Val loss for epoch 13: 0.19169436395168304\n",
      "Train loss for epoch 14: 0.15896515548229218\n",
      "Val loss for epoch 14: 0.18754589557647705\n",
      "Train loss for epoch 15: 0.16122983396053314\n",
      "Val loss for epoch 15: 0.18513455986976624\n",
      "Train loss for epoch 16: 0.15843304991722107\n",
      "Val loss for epoch 16: 0.1839391440153122\n",
      "Train loss for epoch 17: 0.14781586825847626\n",
      "Val loss for epoch 17: 0.19866003096103668\n",
      "Train loss for epoch 18: 0.1498941034078598\n",
      "Val loss for epoch 18: 0.19551970064640045\n",
      "Train loss for epoch 19: 0.1492389440536499\n",
      "Val loss for epoch 19: 0.19995827972888947\n",
      "Train loss for epoch 20: 0.14290447533130646\n",
      "Val loss for epoch 20: 0.19754402339458466\n"
     ]
    },
    {
     "data": {
      "image/png": "[encoded data removed]",
      "text/plain": [
       "<Figure size 864x288 with 2 Axes>"
      ]
     },
     "metadata": {
      "needs_background": "light"
     },
     "output_type": "display_data"
    },
    {
     "name": "stdout",
     "output_type": "stream",
     "text": [
      "Train loss for epoch 21: 0.1437520533800125\n",
      "Val loss for epoch 21: 0.1960904747247696\n",
      "Train loss for epoch 22: 0.13711398839950562\n",
      "Val loss for epoch 22: 0.21467480063438416\n",
      "Train loss for epoch 23: 0.13770176470279694\n",
      "Val loss for epoch 23: 0.21363185346126556\n",
      "Train loss for epoch 24: 0.13590805232524872\n",
      "Val loss for epoch 24: 0.19435320794582367\n",
      "Train loss for epoch 25: 0.13526983559131622\n",
      "Val loss for epoch 25: 0.22729094326496124\n",
      "Train loss for epoch 26: 0.13295415043830872\n",
      "Val loss for epoch 26: 0.18996772170066833\n",
      "Train loss for epoch 27: 0.13704566657543182\n",
      "Val loss for epoch 27: 0.20061597228050232\n",
      "Train loss for epoch 28: 0.12926644086837769\n",
      "Val loss for epoch 28: 0.22555199265480042\n",
      "Train loss for epoch 29: 0.1253652572631836\n",
      "Val loss for epoch 29: 0.21247509121894836\n",
      "Train loss for epoch 30: 0.12654516100883484\n",
      "Val loss for epoch 30: 0.22213293612003326\n"
     ]
    },
    {
     "data": {
      "image/png": "[encoded data removed]",
      "text/plain": [
       "<Figure size 864x288 with 2 Axes>"
      ]
     },
     "metadata": {
      "needs_background": "light"
     },
     "output_type": "display_data"
    },
    {
     "data": {
      "image/png": "[encoded data removed]",
      "text/plain": [
       "<Figure size 864x288 with 2 Axes>"
      ]
     },
     "metadata": {
      "needs_background": "light"
     },
     "output_type": "display_data"
    },
    {
     "data": {
      "image/png": "[encoded data removed]",
      "text/plain": [
       "<Figure size 864x288 with 2 Axes>"
      ]
     },
     "execution_count": 44,
     "metadata": {},
     "output_type": "execute_result"
    }
   ],
   "source": [
    "# Attention1 (separate dates, upsample only train, all labels for Attention1)\n",
    "train_losses, train_accs, val_losses, val_accs = [], [], [], []\n",
    "for epoch in range(num_epochs):\n",
    "    train_loss, train_acc = train(model_CNN, model_Att, optimizer_CNN, optimizer_Att, criterion, train_loader, T_length=3, device='cuda')\n",
    "    val_loss, val_acc = evaluate(model_CNN, model_Att, optimizer_CNN, optimizer_Att, criterion, val_loader, T_length=3, device='cuda')\n",
    "    train_losses.append(train_loss)\n",
    "    train_accs.append(train_acc)\n",
    "    val_losses.append(val_loss)\n",
    "    val_accs.append(val_acc)\n",
    "    if val_loss <= min(val_losses):\n",
    "        best_epoch = epoch\n",
    "        print(epoch)\n",
    "        print('Train loss for epoch {}: {}'.format(epoch, train_loss))\n",
    "        print('Val loss for epoch {}: {}'.format(epoch, val_loss))\n",
    "        # torch.save(model_CNN.state_dict(), '{}/{}_CH{}_LOSS{}_TW{}_TLEN{}_DROP{}_ATTDIM{}_EPOCH{}.pt'.format(path, model_type, CH, loss_type, time_window, T_length, p_dropout, att_dim, epoch))\n",
    "        # torch.save(model_Att.state_dict(), '{}/{}_CH{}_LOSS{}_TW{}_TLEN{}_DROP{}_ATTDIM{}_EPOCH{}.pt'.format(path, model_type, CH, loss_type, time_window, T_length, p_dropout, att_dim, epoch))\n",
    "    elif verbose:\n",
    "        print('Train loss for epoch {}: {}'.format(epoch, train_loss))\n",
    "        print('Val loss for epoch {}: {}'.format(epoch, val_loss))\n",
    "    if epoch % 10 == 0:\n",
    "        plot_loss_acc(train_losses, val_losses, train_accs, val_accs, model_type)\n",
    "        \n",
    "    # if epoch == num_epochs-1:\n",
    "        # torch.save(model.state_dict(), '{}/{}_CH{}_LOSS{}_TW{}_TLEN{}_DROP{}_ATTDIM{}_EPOCH{}.pt'.format(path, model_type, CH, loss_type, time_window, T_length, p_dropout, att_dim, epoch))\n",
    "        # torch.save(model_CNN.state_dict(), '{}/{}_CH{}_LOSS{}_TW{}_TLEN{}_DROP{}_ATTDIM{}_EPOCH{}.pt'.format(path, model_type, CH, loss_type, time_window, T_length, p_dropout, att_dim, epoch))\n",
    "\n",
    "plot_loss_acc(train_losses, val_losses, train_accs, val_accs, model_type)"
   ]
  },
  {
   "cell_type": "code",
   "execution_count": null,
   "metadata": {},
   "outputs": [],
   "source": [
    "fig = plot_loss_acc(train_losses, val_losses, train_accs, val_accs, model_type)\n",
    "fig.savefig(load_path + 'figures/Goose_1st/'+'CNN_Attention_short_model_with_pos_enc_no_Q_drop.jpg')"
   ]
  },
  {
   "cell_type": "code",
   "execution_count": null,
   "metadata": {},
   "outputs": [],
   "source": [
    "learning_rate = 0.001\n",
    "num_epochs = 51\n",
    "model_type = 'CNN-Attention'\n",
    "loss_type = 'bce'\n",
    "p_dropout = 0.2\n",
    "att_dim = 128\n",
    "T_length = 3\n",
    "all_label = False\n",
    "verbose = True\n",
    "\n",
    "model_CNN = CNN(p_dropout, att_dim).to(device)\n",
    "model_Att = Attention1(att_dim, T_length, all_label).to(device)\n",
    "optimizer_CNN = torch.optim.Adam(model_CNN.parameters(), lr = learning_rate)\n",
    "optimizer_Att = torch.optim.Adam(model_Att.parameters(), lr = learning_rate)\n",
    "criterion = nn.BCELoss() # BCE loss"
   ]
  },
  {
   "cell_type": "code",
   "execution_count": null,
   "metadata": {},
   "outputs": [],
   "source": [
    "# Attention1 (separate dates, upsample only train, mid labels for Attention1)\n",
    "train_losses, train_accs, val_losses, val_accs = [], [], [], []\n",
    "for epoch in range(num_epochs):\n",
    "    train_loss, train_acc = train(model_CNN, model_Att, optimizer_CNN, optimizer_Att, criterion, train_loader, T_length=3, device='cuda')\n",
    "    val_loss, val_acc = evaluate(model_CNN, model_Att, optimizer_CNN, optimizer_Att, criterion, val_loader, T_length=3, device='cuda')\n",
    "    train_losses.append(train_loss)\n",
    "    train_accs.append(train_acc)\n",
    "    val_losses.append(val_loss)\n",
    "    val_accs.append(val_acc)\n",
    "    if val_loss <= min(val_losses):\n",
    "        best_epoch = epoch\n",
    "        print(epoch)\n",
    "        print('Train loss for epoch {}: {}'.format(epoch, train_loss))\n",
    "        print('Val loss for epoch {}: {}'.format(epoch, val_loss))\n",
    "        # torch.save(model_CNN.state_dict(), '{}/{}_CH{}_LOSS{}_TW{}_TLEN{}_DROP{}_ATTDIM{}_EPOCH{}.pt'.format(path, model_type, CH, loss_type, time_window, T_length, p_dropout, att_dim, epoch))\n",
    "        # torch.save(model_Att.state_dict(), '{}/{}_CH{}_LOSS{}_TW{}_TLEN{}_DROP{}_ATTDIM{}_EPOCH{}.pt'.format(path, model_type, CH, loss_type, time_window, T_length, p_dropout, att_dim, epoch))\n",
    "    elif verbose:\n",
    "        print('Train loss for epoch {}: {}'.format(epoch, train_loss))\n",
    "        print('Val loss for epoch {}: {}'.format(epoch, val_loss))\n",
    "        \n",
    "    # if epoch == num_epochs-1:\n",
    "        # torch.save(model.state_dict(), '{}/{}_CH{}_LOSS{}_TW{}_TLEN{}_DROP{}_ATTDIM{}_EPOCH{}.pt'.format(path, model_type, CH, loss_type, time_window, T_length, p_dropout, att_dim, epoch))\n",
    "        # torch.save(model_CNN.state_dict(), '{}/{}_CH{}_LOSS{}_TW{}_TLEN{}_DROP{}_ATTDIM{}_EPOCH{}.pt'.format(path, model_type, CH, loss_type, time_window, T_length, p_dropout, att_dim, epoch))\n",
    "\n",
    "plot_loss_acc(train_losses, val_losses, train_accs, val_accs, model_type)"
   ]
  },
  {
   "cell_type": "code",
   "execution_count": null,
   "metadata": {},
   "outputs": [],
   "source": []
  },
  {
   "cell_type": "code",
   "execution_count": null,
   "metadata": {},
   "outputs": [],
   "source": [
    "learning_rate = 0.001\n",
    "num_epochs = 51\n",
    "model_type = 'CNN-Attention'\n",
    "loss_type = 'bce'\n",
    "p_dropout = 0.2\n",
    "att_dim = 128\n",
    "T_length = 3\n",
    "all_label = True\n",
    "verbose = True\n",
    "\n",
    "model_CNN = CNN(p_dropout, att_dim).to(device)\n",
    "model_Att = Attention1(att_dim, T_length, all_label).to(device)\n",
    "optimizer_CNN = torch.optim.Adam(model_CNN.parameters(), lr = learning_rate)\n",
    "optimizer_Att = torch.optim.Adam(model_Att.parameters(), lr = learning_rate)\n",
    "criterion = nn.BCELoss() # BCE loss"
   ]
  },
  {
   "cell_type": "code",
   "execution_count": null,
   "metadata": {},
   "outputs": [],
   "source": [
    "# Attention1 (separate dates, upsample train/val, all labels for Attention1)\n",
    "train_losses, train_accs, val_losses, val_accs = [], [], [], []\n",
    "for epoch in range(num_epochs):\n",
    "    train_loss, train_acc = train(model_CNN, model_Att, optimizer_CNN, optimizer_Att, criterion, train_loader, T_length=3, device='cuda')\n",
    "    val_loss, val_acc = evaluate(model_CNN, model_Att, optimizer_CNN, optimizer_Att, criterion, val_loader, T_length=3, device='cuda')\n",
    "    train_losses.append(train_loss)\n",
    "    train_accs.append(train_acc)\n",
    "    val_losses.append(val_loss)\n",
    "    val_accs.append(val_acc)\n",
    "    if val_loss <= min(val_losses):\n",
    "        best_epoch = epoch\n",
    "        print(epoch)\n",
    "        print('Train loss for epoch {}: {}'.format(epoch, train_loss))\n",
    "        print('Val loss for epoch {}: {}'.format(epoch, val_loss))\n",
    "        # torch.save(model_CNN.state_dict(), '{}/{}_CH{}_LOSS{}_TW{}_TLEN{}_DROP{}_ATTDIM{}_EPOCH{}.pt'.format(path, model_type, CH, loss_type, time_window, T_length, p_dropout, att_dim, epoch))\n",
    "        # torch.save(model_Att.state_dict(), '{}/{}_CH{}_LOSS{}_TW{}_TLEN{}_DROP{}_ATTDIM{}_EPOCH{}.pt'.format(path, model_type, CH, loss_type, time_window, T_length, p_dropout, att_dim, epoch))\n",
    "    elif verbose:\n",
    "        print('Train loss for epoch {}: {}'.format(epoch, train_loss))\n",
    "        print('Val loss for epoch {}: {}'.format(epoch, val_loss))\n",
    "        \n",
    "    # if epoch == num_epochs-1:\n",
    "        # torch.save(model.state_dict(), '{}/{}_CH{}_LOSS{}_TW{}_TLEN{}_DROP{}_ATTDIM{}_EPOCH{}.pt'.format(path, model_type, CH, loss_type, time_window, T_length, p_dropout, att_dim, epoch))\n",
    "        # torch.save(model_CNN.state_dict(), '{}/{}_CH{}_LOSS{}_TW{}_TLEN{}_DROP{}_ATTDIM{}_EPOCH{}.pt'.format(path, model_type, CH, loss_type, time_window, T_length, p_dropout, att_dim, epoch))\n",
    "\n",
    "plot_loss_acc(train_losses, val_losses, train_accs, val_accs, model_type)"
   ]
  },
  {
   "cell_type": "code",
   "execution_count": null,
   "metadata": {},
   "outputs": [],
   "source": []
  },
  {
   "cell_type": "code",
   "execution_count": null,
   "metadata": {},
   "outputs": [],
   "source": [
    "learning_rate = 0.001\n",
    "num_epochs = 51\n",
    "model_type = 'CNN-Attention'\n",
    "loss_type = 'bce'\n",
    "p_dropout = 0.2\n",
    "att_dim = 128\n",
    "T_length = 3\n",
    "all_label = True\n",
    "verbose = True\n",
    "\n",
    "model_CNN = CNN(p_dropout, att_dim).to(device)\n",
    "model_Att = Attention1(att_dim, T_length, all_label).to(device)\n",
    "optimizer_CNN = torch.optim.Adam(model_CNN.parameters(), lr = learning_rate)\n",
    "optimizer_Att = torch.optim.Adam(model_Att.parameters(), lr = learning_rate)\n",
    "criterion = nn.BCELoss() # BCE loss"
   ]
  },
  {
   "cell_type": "code",
   "execution_count": null,
   "metadata": {},
   "outputs": [],
   "source": [
    "# Attention1 (separate dates, upsample train/val, all labels for Attention1, not shuffle val/test)\n",
    "train_losses, train_accs, val_losses, val_accs = [], [], [], []\n",
    "for epoch in range(num_epochs):\n",
    "    train_loss, train_acc = train(model_CNN, model_Att, optimizer_CNN, optimizer_Att, criterion, train_loader, T_length=3, device='cuda')\n",
    "    val_loss, val_acc = evaluate(model_CNN, model_Att, optimizer_CNN, optimizer_Att, criterion, val_loader, T_length=3, device='cuda')\n",
    "    train_losses.append(train_loss)\n",
    "    train_accs.append(train_acc)\n",
    "    val_losses.append(val_loss)\n",
    "    val_accs.append(val_acc)\n",
    "    if val_loss <= min(val_losses):\n",
    "        best_epoch = epoch\n",
    "        print(epoch)\n",
    "        print('Train loss for epoch {}: {}'.format(epoch, train_loss))\n",
    "        print('Val loss for epoch {}: {}'.format(epoch, val_loss))\n",
    "        # torch.save(model_CNN.state_dict(), '{}/{}_CH{}_LOSS{}_TW{}_TLEN{}_DROP{}_ATTDIM{}_EPOCH{}.pt'.format(path, model_type, CH, loss_type, time_window, T_length, p_dropout, att_dim, epoch))\n",
    "        # torch.save(model_Att.state_dict(), '{}/{}_CH{}_LOSS{}_TW{}_TLEN{}_DROP{}_ATTDIM{}_EPOCH{}.pt'.format(path, model_type, CH, loss_type, time_window, T_length, p_dropout, att_dim, epoch))\n",
    "    elif verbose:\n",
    "        print('Train loss for epoch {}: {}'.format(epoch, train_loss))\n",
    "        print('Val loss for epoch {}: {}'.format(epoch, val_loss))\n",
    "        \n",
    "    # if epoch == num_epochs-1:\n",
    "        # torch.save(model.state_dict(), '{}/{}_CH{}_LOSS{}_TW{}_TLEN{}_DROP{}_ATTDIM{}_EPOCH{}.pt'.format(path, model_type, CH, loss_type, time_window, T_length, p_dropout, att_dim, epoch))\n",
    "        # torch.save(model_CNN.state_dict(), '{}/{}_CH{}_LOSS{}_TW{}_TLEN{}_DROP{}_ATTDIM{}_EPOCH{}.pt'.format(path, model_type, CH, loss_type, time_window, T_length, p_dropout, att_dim, epoch))\n",
    "\n",
    "plot_loss_acc(train_losses, val_losses, train_accs, val_accs, model_type)"
   ]
  },
  {
   "cell_type": "markdown",
   "metadata": {},
   "source": [
    "#### Analysis"
   ]
  },
  {
   "cell_type": "code",
   "execution_count": null,
   "metadata": {},
   "outputs": [],
   "source": [
    "val_labels = []\n",
    "for a,b,c,d,e in val_loader:\n",
    "    val_labels.extend(b.numpy().flatten())  "
   ]
  },
  {
   "cell_type": "code",
   "execution_count": null,
   "metadata": {},
   "outputs": [],
   "source": [
    "np.mean(np.array(val_labels))"
   ]
  },
  {
   "cell_type": "code",
   "execution_count": null,
   "metadata": {},
   "outputs": [],
   "source": [
    "model_CNN.eval()\n",
    "model_Att.eval()\n",
    "epoch_losses = 0\n",
    "val_preds, val_labels = [], []    \n",
    "with torch.no_grad():\n",
    "    for batch_idx, (data, labels, _, _, _) in enumerate(val_loader):\n",
    "        labels = labels.to(device).float()\n",
    "        CNN_outputs = torch.zeros(data[0].shape[0], len(data), att_dim, device=device)\n",
    "        for t in range(T_length):\n",
    "            data_t = data[t].to(device).float()\n",
    "            CNN_outputs[:, t, :] = model_CNN(data_t)\n",
    "        pos = torch.LongTensor([list(range(T_length))]).to(device)\n",
    "        Att_outputs = model_Att(CNN_outputs, pos)\n",
    "        val_preds.extend(Att_outputs.detach().cpu().numpy().flatten())\n",
    "        val_labels.extend(labels.detach().cpu().numpy().flatten())"
   ]
  },
  {
   "cell_type": "code",
   "execution_count": null,
   "metadata": {},
   "outputs": [],
   "source": [
    "a = (np.array(val_preds) > 0.5) * 1.0\n",
    "b = np.array(val_labels)"
   ]
  },
  {
   "cell_type": "code",
   "execution_count": null,
   "metadata": {},
   "outputs": [],
   "source": [
    "# Val\n",
    "plt.figure(figsize=(12,4))\n",
    "plt.subplot(1,2,1)\n",
    "plt.scatter(range(len(b)), b, s=0.5)\n",
    "plt.title('Labels')\n",
    "plt.subplot(1,2,2)\n",
    "plt.scatter(range(len(a)), a, s=0.5)\n",
    "plt.title('Predictions')\n",
    "plt.show()"
   ]
  },
  {
   "cell_type": "code",
   "execution_count": null,
   "metadata": {},
   "outputs": [],
   "source": []
  }
 ],
 "metadata": {
  "kernelspec": {
   "display_name": "Python 3",
   "language": "python",
   "name": "python3"
  },
  "language_info": {
   "codemirror_mode": {
    "name": "ipython",
    "version": 3
   },
   "file_extension": ".py",
   "mimetype": "text/x-python",
   "name": "python",
   "nbconvert_exporter": "python",
   "pygments_lexer": "ipython3",
   "version": "3.8.5"
  }
 },
 "nbformat": 4,
 "nbformat_minor": 4
}
