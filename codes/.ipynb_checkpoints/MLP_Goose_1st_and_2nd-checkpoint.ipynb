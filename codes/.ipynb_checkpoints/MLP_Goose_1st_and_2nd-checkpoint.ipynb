{
 "cells": [
  {
   "cell_type": "code",
   "execution_count": 1,
   "metadata": {},
   "outputs": [],
   "source": [
    "import numpy as np\n",
    "import pandas as pd\n",
    "import matplotlib.pyplot as plt\n",
    "import torch\n",
    "from torch.utils.data import Dataset, DataLoader\n",
    "from torch import nn\n",
    "import torch.nn.functional as F\n",
    "from scipy.io import loadmat\n",
    "import os\n",
    "from os import listdir\n",
    "import pandas as pd\n",
    "from skimage import io\n",
    "from PIL import Image\n",
    "from sklearn.metrics import confusion_matrix\n",
    "import seaborn as sn\n",
    "import pickle\n",
    "\n",
    "from utils import *"
   ]
  },
  {
   "cell_type": "markdown",
   "metadata": {},
   "source": [
    "### Train on Goose_2nd_2"
   ]
  },
  {
   "cell_type": "code",
   "execution_count": 4,
   "metadata": {},
   "outputs": [],
   "source": [
    "val_dates = ['180413']\n",
    "test_dates = ['180414']\n",
    "\n",
    "train_loader, val_loader, test_loader = create_dataloaders(val_dates=val_dates, test_dates=test_dates, batch_size=128, version='_Goose_2nd_2', upsample=True)"
   ]
  },
  {
   "cell_type": "code",
   "execution_count": 5,
   "metadata": {},
   "outputs": [
    {
     "data": {
      "text/plain": [
       "(148, 28, 22)"
      ]
     },
     "execution_count": 5,
     "metadata": {},
     "output_type": "execute_result"
    }
   ],
   "source": [
    "len(train_loader), len(val_loader), len(test_loader)"
   ]
  },
  {
   "cell_type": "code",
   "execution_count": 6,
   "metadata": {},
   "outputs": [],
   "source": [
    "class MLP(nn.Module):\n",
    "    def __init__(self, input_dim=100*10*62, output_dim=1):\n",
    "        super(MLP, self).__init__()\n",
    "        self.linear1 = nn.Linear(input_dim, 256)\n",
    "        self.linear2 = nn.Linear(256, output_dim)\n",
    "        \n",
    "    def forward(self, x):\n",
    "        x = x.reshape([x.shape[0], 1, -1]).float()\n",
    "        x1 = F.relu(self.linear1(x))\n",
    "        outputs = self.linear2(x1)\n",
    "        return outputs"
   ]
  },
  {
   "cell_type": "code",
   "execution_count": 9,
   "metadata": {},
   "outputs": [],
   "source": [
    "device = torch.device('cuda')\n",
    "\n",
    "tol = 0.01\n",
    "learning_rate = 0.001\n",
    "num_epochs = 51\n",
    "alpha = 0\n",
    "model_type = 'MLP'\n",
    "loss_type = 'bce'\n",
    "reg_type = 'none'\n",
    "CH = 'all'\n",
    "\n",
    "model = MLP().to(device)\n",
    "optimizer = torch.optim.Adam(model.parameters(), lr = learning_rate)\n",
    "# optimizer = torch.optim.LBFGS(model.parameters(), lr = learning_rate)"
   ]
  },
  {
   "cell_type": "code",
   "execution_count": 10,
   "metadata": {
    "scrolled": true
   },
   "outputs": [
    {
     "name": "stdout",
     "output_type": "stream",
     "text": [
      "Train loss for epoch 0: 7.583985328674316\n",
      "Val loss for epoch 0: 6.248083591461182\n",
      "0\n",
      "Train loss for epoch 1: 3.197084665298462\n",
      "Val loss for epoch 1: 5.204477787017822\n",
      "1\n",
      "Train loss for epoch 2: 1.7028555870056152\n",
      "Val loss for epoch 2: 4.288487911224365\n",
      "2\n",
      "Train loss for epoch 3: 0.4517427384853363\n",
      "Val loss for epoch 3: 3.799541711807251\n",
      "3\n",
      "Train loss for epoch 4: 0.3622758984565735\n",
      "Val loss for epoch 4: 4.769021987915039\n",
      "Train loss for epoch 5: 0.3717140555381775\n",
      "Val loss for epoch 5: 5.709033489227295\n",
      "Train loss for epoch 6: 0.3854968845844269\n",
      "Val loss for epoch 6: 4.161175727844238\n",
      "Train loss for epoch 7: 0.3253587484359741\n",
      "Val loss for epoch 7: 6.478695392608643\n",
      "Train loss for epoch 8: 0.3182675838470459\n",
      "Val loss for epoch 8: 7.306471824645996\n",
      "Train loss for epoch 9: 0.3099137544631958\n",
      "Val loss for epoch 9: 6.244534492492676\n",
      "Train loss for epoch 10: 0.3090904653072357\n",
      "Val loss for epoch 10: 6.142233848571777\n",
      "Train loss for epoch 11: 0.30906277894973755\n",
      "Val loss for epoch 11: 6.214609622955322\n",
      "Train loss for epoch 12: 0.3084993064403534\n",
      "Val loss for epoch 12: 6.113111972808838\n",
      "Train loss for epoch 13: 0.3085108697414398\n",
      "Val loss for epoch 13: 6.224892616271973\n",
      "Train loss for epoch 14: 0.30848801136016846\n",
      "Val loss for epoch 14: 6.334025859832764\n",
      "Train loss for epoch 15: 0.3085115849971771\n",
      "Val loss for epoch 15: 6.335622787475586\n",
      "Train loss for epoch 16: 0.30904459953308105\n",
      "Val loss for epoch 16: 6.299463748931885\n",
      "Train loss for epoch 17: 0.30849769711494446\n",
      "Val loss for epoch 17: 6.3452982902526855\n",
      "Train loss for epoch 18: 0.3085072636604309\n",
      "Val loss for epoch 18: 6.331820487976074\n",
      "Train loss for epoch 19: 0.30850836634635925\n",
      "Val loss for epoch 19: 6.459875583648682\n",
      "Train loss for epoch 20: 0.3090521991252899\n",
      "Val loss for epoch 20: 6.39387321472168\n",
      "Train loss for epoch 21: 0.3085021674633026\n",
      "Val loss for epoch 21: 6.487853527069092\n",
      "Train loss for epoch 22: 0.30850672721862793\n",
      "Val loss for epoch 22: 6.521986484527588\n",
      "Train loss for epoch 23: 0.3090422451496124\n",
      "Val loss for epoch 23: 6.511960029602051\n",
      "Train loss for epoch 24: 0.30850526690483093\n",
      "Val loss for epoch 24: 6.54661750793457\n",
      "Train loss for epoch 25: 0.30849412083625793\n",
      "Val loss for epoch 25: 6.61542272567749\n",
      "Train loss for epoch 26: 0.30850571393966675\n",
      "Val loss for epoch 26: 6.59702730178833\n",
      "Train loss for epoch 27: 0.30849966406822205\n",
      "Val loss for epoch 27: 6.643152713775635\n",
      "Train loss for epoch 28: 0.309594064950943\n",
      "Val loss for epoch 28: 6.6349263191223145\n",
      "Train loss for epoch 29: 0.30905163288116455\n",
      "Val loss for epoch 29: 6.661473274230957\n",
      "Train loss for epoch 30: 0.30850109457969666\n",
      "Val loss for epoch 30: 6.647340297698975\n",
      "Train loss for epoch 31: 0.30850711464881897\n",
      "Val loss for epoch 31: 6.609839916229248\n",
      "Train loss for epoch 32: 0.30903634428977966\n",
      "Val loss for epoch 32: 6.7538580894470215\n",
      "Train loss for epoch 33: 0.3085012137889862\n",
      "Val loss for epoch 33: 6.8245463371276855\n",
      "Train loss for epoch 34: 0.3085019886493683\n",
      "Val loss for epoch 34: 6.911782264709473\n",
      "Train loss for epoch 35: 0.30928611755371094\n",
      "Val loss for epoch 35: 6.907932281494141\n",
      "Train loss for epoch 36: 0.3084949254989624\n",
      "Val loss for epoch 36: 6.945181846618652\n",
      "Train loss for epoch 37: 0.30850157141685486\n",
      "Val loss for epoch 37: 6.946900367736816\n",
      "Train loss for epoch 38: 0.3084949553012848\n",
      "Val loss for epoch 38: 7.001516819000244\n",
      "Train loss for epoch 39: 0.3085017204284668\n",
      "Val loss for epoch 39: 6.995859622955322\n",
      "Train loss for epoch 40: 0.3084914982318878\n",
      "Val loss for epoch 40: 6.967051029205322\n",
      "Train loss for epoch 41: 0.3084944486618042\n",
      "Val loss for epoch 41: 7.085949420928955\n",
      "Train loss for epoch 42: 0.30850329995155334\n",
      "Val loss for epoch 42: 7.051191329956055\n",
      "Train loss for epoch 43: 0.3085009753704071\n",
      "Val loss for epoch 43: 7.055447578430176\n",
      "Train loss for epoch 44: 0.30850356817245483\n",
      "Val loss for epoch 44: 7.138842582702637\n",
      "Train loss for epoch 45: 0.30850693583488464\n",
      "Val loss for epoch 45: 7.1720170974731445\n",
      "Train loss for epoch 46: 0.3090497553348541\n",
      "Val loss for epoch 46: 7.173909664154053\n",
      "Train loss for epoch 47: 0.3085106611251831\n",
      "Val loss for epoch 47: 7.17059326171875\n",
      "Train loss for epoch 48: 0.30851036310195923\n",
      "Val loss for epoch 48: 7.2346510887146\n",
      "Train loss for epoch 49: 0.30851081013679504\n",
      "Val loss for epoch 49: 7.2303009033203125\n",
      "Train loss for epoch 50: 0.30850958824157715\n",
      "Val loss for epoch 50: 7.269405841827393\n"
     ]
    }
   ],
   "source": [
    "epochs, training_losses, training_acc, val_losses, validation_acc = [], [], [], [], []\n",
    "\n",
    "for epoch in range(num_epochs):\n",
    "    train_loss, train_acc = train(model, optimizer, train_loader, alpha=alpha, model_type=model_type, loss_type=loss_type, reg_type=reg_type, collect_result=False, device=device)\n",
    "    print('Train loss for epoch {}: {}'.format(epoch, train_loss))\n",
    "    val_loss, val_acc = evaluate(model, optimizer, val_loader, alpha=alpha, model_type=model_type, loss_type=loss_type, reg_type=reg_type, collect_result=False, device=device)\n",
    "    print('Val loss for epoch {}: {}'.format(epoch, val_loss))\n",
    "    epochs.append(epoch)\n",
    "    training_losses.append(train_loss)\n",
    "    training_acc.append(train_acc)\n",
    "    val_losses.append(val_loss)\n",
    "    validation_acc.append(val_acc)\n",
    "    if val_loss <= min(val_losses):\n",
    "        best_epoch = epoch\n",
    "        print(epoch)\n",
    "        path = '/mnt/pesaranlab/People/Capstone_students/Yue/model/model_Goose_2nd_2_upsample'\n",
    "        torch.save(model.state_dict(), '{}/{}_CH{}_LOSS{}_REG{}{}_EPOCH{}.pt'.format(path, model_type, CH, loss_type, reg_type, alpha, epoch))"
   ]
  },
  {
   "cell_type": "code",
   "execution_count": 11,
   "metadata": {},
   "outputs": [
    {
     "data": {
      "image/png": "[encoded data removed]",
      "text/plain": [
       "<Figure size 864x288 with 2 Axes>"
      ]
     },
     "metadata": {
      "needs_background": "light"
     },
     "output_type": "display_data"
    }
   ],
   "source": [
    "plot_loss_acc(training_losses, val_losses, training_acc, validation_acc, model_type)"
   ]
  },
  {
   "cell_type": "code",
   "execution_count": 12,
   "metadata": {},
   "outputs": [
    {
     "data": {
      "text/plain": [
       "<All keys matched successfully>"
      ]
     },
     "execution_count": 12,
     "metadata": {},
     "output_type": "execute_result"
    }
   ],
   "source": [
    "model = MLP().to(device)\n",
    "path = '/mnt/pesaranlab/People/Capstone_students/Yue/model/model_Goose_2nd_2_upsample'\n",
    "model.load_state_dict(torch.load('{}/{}_CH{}_LOSS{}_REG{}{}_EPOCH{}.pt'.format(path, model_type, CH, loss_type, reg_type, alpha, best_epoch)))"
   ]
  },
  {
   "cell_type": "code",
   "execution_count": 13,
   "metadata": {},
   "outputs": [
    {
     "name": "stdout",
     "output_type": "stream",
     "text": [
      "test loss:0.6607409715652466 accuracy:0.9649057997783524\n"
     ]
    }
   ],
   "source": [
    "test_loss, test_acc, test_preds, test_preds_probs, test_labels, cases_wrong_0 = evaluate(model, optimizer, test_loader, alpha=alpha, model_type=model_type, loss_type=loss_type, reg_type=reg_type, collect_result=True, device=device)\n",
    "print('test loss:{} accuracy:{}'.format(test_loss, test_acc))"
   ]
  },
  {
   "cell_type": "code",
   "execution_count": null,
   "metadata": {},
   "outputs": [],
   "source": [
    "np.mean(np.concatenate(test_labels))"
   ]
  },
  {
   "cell_type": "code",
   "execution_count": 24,
   "metadata": {},
   "outputs": [
    {
     "data": {
      "text/plain": [
       "0.9504477790698451"
      ]
     },
     "execution_count": 24,
     "metadata": {},
     "output_type": "execute_result"
    }
   ],
   "source": [
    "0.5*0.9649057997783524 + 0.5*0.9359897583613378"
   ]
  },
  {
   "cell_type": "code",
   "execution_count": 25,
   "metadata": {},
   "outputs": [
    {
     "data": {
      "text/plain": [
       "0.9455320520289527"
      ]
     },
     "execution_count": 25,
     "metadata": {},
     "output_type": "execute_result"
    }
   ],
   "source": [
    "0.33*0.9649057997783524 + 0.67*0.9359897583613378"
   ]
  },
  {
   "cell_type": "code",
   "execution_count": 23,
   "metadata": {},
   "outputs": [
    {
     "data": {
      "text/plain": [
       "0.7750277"
      ]
     },
     "execution_count": 23,
     "metadata": {},
     "output_type": "execute_result"
    }
   ],
   "source": [
    "np.mean(np.concatenate(test_labels))"
   ]
  },
  {
   "cell_type": "code",
   "execution_count": 14,
   "metadata": {},
   "outputs": [
    {
     "data": {
      "image/png": "[encoded data removed]",
      "text/plain": [
       "<Figure size 432x288 with 2 Axes>"
      ]
     },
     "metadata": {
      "needs_background": "light"
     },
     "output_type": "display_data"
    }
   ],
   "source": [
    "predictions_test = np.concatenate(test_preds)\n",
    "labels_test = np.concatenate(test_labels)\n",
    "\n",
    "df_test = pd.DataFrame({'predictions': predictions_test, 'labels': labels_test})\n",
    "\n",
    "cm_test = confusion_matrix(labels_test, predictions_test)\n",
    "ax = plt.axes()\n",
    "sn.heatmap(cm_test, annot = True, fmt = \"d\", ax = ax, center=2000)\n",
    "ax.set_title('Test Confusion Matrix')\n",
    "ax.set_xlabel('Predicted Label')\n",
    "ax.set_ylabel('True Label')\n",
    "plt.show()"
   ]
  },
  {
   "cell_type": "markdown",
   "metadata": {},
   "source": [
    "### Train on Goose_1st_2 and Goose_2nd_2"
   ]
  },
  {
   "cell_type": "code",
   "execution_count": 35,
   "metadata": {},
   "outputs": [],
   "source": [
    "val_dates = ['180328','180329','180413']\n",
    "test_dates = ['180330','180331','180414']\n",
    "version = '_Goose_all_2'\n",
    "\n",
    "train_loader, val_loader, test_loader = create_dataloaders(val_dates=val_dates, test_dates=test_dates, batch_size=128, version=version, upsample=True)"
   ]
  },
  {
   "cell_type": "code",
   "execution_count": 36,
   "metadata": {},
   "outputs": [
    {
     "data": {
      "text/plain": [
       "(397, 49, 70)"
      ]
     },
     "execution_count": 36,
     "metadata": {},
     "output_type": "execute_result"
    }
   ],
   "source": [
    "len(train_loader), len(val_loader), len(test_loader)"
   ]
  },
  {
   "cell_type": "code",
   "execution_count": 37,
   "metadata": {},
   "outputs": [],
   "source": [
    "class MLP(nn.Module):\n",
    "    def __init__(self, input_dim=100*10*62, output_dim=1):\n",
    "        super(MLP, self).__init__()\n",
    "        self.linear1 = nn.Linear(input_dim, 256)\n",
    "        self.linear2 = nn.Linear(256, output_dim)\n",
    "        \n",
    "    def forward(self, x):\n",
    "        x = x.reshape([x.shape[0], 1, -1]).float()\n",
    "        x1 = F.relu(self.linear1(x))\n",
    "        outputs = self.linear2(x1)\n",
    "        return outputs"
   ]
  },
  {
   "cell_type": "code",
   "execution_count": 38,
   "metadata": {},
   "outputs": [],
   "source": [
    "device = torch.device('cuda')\n",
    "\n",
    "tol = 0.01\n",
    "learning_rate = 0.001\n",
    "num_epochs = 51\n",
    "alpha = 0\n",
    "model_type = 'MLP'\n",
    "loss_type = 'bce'\n",
    "reg_type = 'none'\n",
    "CH = 'all'\n",
    "\n",
    "model = MLP().to(device)\n",
    "optimizer = torch.optim.Adam(model.parameters(), lr = learning_rate)"
   ]
  },
  {
   "cell_type": "code",
   "execution_count": 31,
   "metadata": {
    "scrolled": true
   },
   "outputs": [
    {
     "name": "stdout",
     "output_type": "stream",
     "text": [
      "Train loss for epoch 0: 2.844045400619507\n",
      "Val loss for epoch 0: 0.33431488275527954\n",
      "0\n",
      "Train loss for epoch 1: 0.133906289935112\n",
      "Val loss for epoch 1: 0.34499409794807434\n",
      "Train loss for epoch 2: 0.07562623918056488\n",
      "Val loss for epoch 2: 0.3541613221168518\n",
      "Train loss for epoch 3: 0.07212857156991959\n",
      "Val loss for epoch 3: 0.4004025161266327\n",
      "Train loss for epoch 4: 0.08602574467658997\n",
      "Val loss for epoch 4: 0.492890864610672\n",
      "Train loss for epoch 5: 0.07495506852865219\n",
      "Val loss for epoch 5: 0.6031906008720398\n",
      "Train loss for epoch 6: 0.07682202011346817\n",
      "Val loss for epoch 6: 0.7121862173080444\n",
      "Train loss for epoch 7: 0.07915868610143661\n",
      "Val loss for epoch 7: 1.4556916952133179\n",
      "Train loss for epoch 8: 0.10367901623249054\n",
      "Val loss for epoch 8: 0.8133669495582581\n",
      "Train loss for epoch 9: 0.05752880871295929\n",
      "Val loss for epoch 9: 0.9600936770439148\n",
      "Train loss for epoch 10: 0.09688373655080795\n",
      "Val loss for epoch 10: 1.2716152667999268\n",
      "Train loss for epoch 11: 0.11892979592084885\n",
      "Val loss for epoch 11: 1.5404627323150635\n",
      "Train loss for epoch 12: 0.09532538056373596\n",
      "Val loss for epoch 12: 2.247830390930176\n",
      "Train loss for epoch 13: 0.05358981713652611\n",
      "Val loss for epoch 13: 1.7886404991149902\n",
      "Train loss for epoch 14: 0.04834224283695221\n",
      "Val loss for epoch 14: 1.6897761821746826\n",
      "Train loss for epoch 15: 0.25159740447998047\n",
      "Val loss for epoch 15: 2.9578003883361816\n",
      "Train loss for epoch 16: 0.1349593847990036\n",
      "Val loss for epoch 16: 2.3244574069976807\n",
      "Train loss for epoch 17: 0.0573478601872921\n",
      "Val loss for epoch 17: 2.721222162246704\n"
     ]
    }
   ],
   "source": [
    "epochs, training_losses, training_acc, val_losses, validation_acc = [], [], [], [], []\n",
    "\n",
    "for epoch in range(num_epochs):\n",
    "    train_loss, train_acc = train(model, optimizer, train_loader, alpha=alpha, model_type=model_type, loss_type=loss_type, reg_type=reg_type, collect_result=False, device=device)\n",
    "    print('Train loss for epoch {}: {}'.format(epoch, train_loss))\n",
    "    val_loss, val_acc = evaluate(model, optimizer, val_loader, alpha=alpha, model_type=model_type, loss_type=loss_type, reg_type=reg_type, collect_result=False, device=device)\n",
    "    print('Val loss for epoch {}: {}'.format(epoch, val_loss))\n",
    "    epochs.append(epoch)\n",
    "    training_losses.append(train_loss)\n",
    "    training_acc.append(train_acc)\n",
    "    val_losses.append(val_loss)\n",
    "    validation_acc.append(val_acc)\n",
    "    if val_loss <= min(val_losses):\n",
    "        best_epoch = epoch\n",
    "        print(epoch)\n",
    "        path = '/mnt/pesaranlab/People/Capstone_students/Yue/model/model_Goose_all_2_upsample'\n",
    "        torch.save(model.state_dict(), '{}/{}_CH{}_LOSS{}_REG{}{}_EPOCH{}.pt'.format(path, model_type, CH, loss_type, reg_type, alpha, epoch))"
   ]
  },
  {
   "cell_type": "code",
   "execution_count": 32,
   "metadata": {},
   "outputs": [
    {
     "data": {
      "image/png": "[encoded data removed]",
      "text/plain": [
       "<Figure size 864x288 with 2 Axes>"
      ]
     },
     "metadata": {
      "needs_background": "light"
     },
     "output_type": "display_data"
    }
   ],
   "source": [
    "plot_loss_acc(training_losses, val_losses, training_acc, validation_acc, model_type) # 17 epochs"
   ]
  },
  {
   "cell_type": "code",
   "execution_count": 39,
   "metadata": {},
   "outputs": [
    {
     "data": {
      "text/plain": [
       "<All keys matched successfully>"
      ]
     },
     "execution_count": 39,
     "metadata": {},
     "output_type": "execute_result"
    }
   ],
   "source": [
    "model = MLP().to(device)\n",
    "path = '/mnt/pesaranlab/People/Capstone_students/Yue/model/model_Goose_all_2_upsample'\n",
    "model.load_state_dict(torch.load('{}/{}_CH{}_LOSS{}_REG{}{}_EPOCH{}.pt'.format(path, model_type, CH, loss_type, reg_type, alpha, best_epoch)))"
   ]
  },
  {
   "cell_type": "code",
   "execution_count": 40,
   "metadata": {},
   "outputs": [
    {
     "name": "stdout",
     "output_type": "stream",
     "text": [
      "test loss:0.2511501908302307 accuracy:0.9359088878963823\n"
     ]
    }
   ],
   "source": [
    "test_loss, test_acc, test_preds, test_preds_probs, test_labels, cases_wrong_0 = evaluate(model, optimizer, test_loader, alpha=alpha, model_type=model_type, loss_type=loss_type, reg_type=reg_type, collect_result=True, device=device)\n",
    "print('test loss:{} accuracy:{}'.format(test_loss, test_acc))"
   ]
  },
  {
   "cell_type": "code",
   "execution_count": 41,
   "metadata": {},
   "outputs": [
    {
     "data": {
      "text/plain": [
       "0.7495534"
      ]
     },
     "execution_count": 41,
     "metadata": {},
     "output_type": "execute_result"
    }
   ],
   "source": [
    "np.mean(np.concatenate(test_labels))"
   ]
  },
  {
   "cell_type": "code",
   "execution_count": 42,
   "metadata": {},
   "outputs": [
    {
     "data": {
      "image/png": "[encoded data removed]",
      "text/plain": [
       "<Figure size 432x288 with 2 Axes>"
      ]
     },
     "metadata": {
      "needs_background": "light"
     },
     "output_type": "display_data"
    }
   ],
   "source": [
    "predictions_test = np.concatenate(test_preds)\n",
    "labels_test = np.concatenate(test_labels)\n",
    "\n",
    "df_test = pd.DataFrame({'predictions': predictions_test, 'labels': labels_test})\n",
    "\n",
    "cm_test = confusion_matrix(labels_test, predictions_test)\n",
    "ax = plt.axes()\n",
    "sn.heatmap(cm_test, annot = True, fmt = \"d\", ax = ax, center=2000)\n",
    "ax.set_title('Test Confusion Matrix')\n",
    "ax.set_xlabel('Predicted Label')\n",
    "ax.set_ylabel('True Label')\n",
    "plt.show()"
   ]
  },
  {
   "cell_type": "code",
   "execution_count": null,
   "metadata": {},
   "outputs": [],
   "source": []
  }
 ],
 "metadata": {
  "kernelspec": {
   "display_name": "Python 3",
   "language": "python",
   "name": "python3"
  },
  "language_info": {
   "codemirror_mode": {
    "name": "ipython",
    "version": 3
   },
   "file_extension": ".py",
   "mimetype": "text/x-python",
   "name": "python",
   "nbconvert_exporter": "python",
   "pygments_lexer": "ipython3",
   "version": "3.8.5"
  }
 },
 "nbformat": 4,
 "nbformat_minor": 4
}
