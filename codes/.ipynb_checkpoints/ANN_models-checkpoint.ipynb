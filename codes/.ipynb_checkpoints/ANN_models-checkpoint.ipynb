{
 "cells": [
  {
   "cell_type": "code",
   "execution_count": null,
   "metadata": {},
   "outputs": [],
   "source": [
    "from torch import nn\n",
    "import torch.nn.functional as F\n",
    "import pdb\n",
    "import matplotlib.pyplot as plt"
   ]
  },
  {
   "cell_type": "code",
   "execution_count": null,
   "metadata": {},
   "outputs": [],
   "source": [
    "class CNN_small(nn.Module):\n",
    "    def __init__(self):\n",
    "        super(CNN_small,self).__init__()\n",
    "    \n",
    "        # convolutional layer (sees 1x100x10 image tensor)\n",
    "        self.conv1 = nn.Conv2d(in_channels=62, out_channels=2,kernel_size=(3,3),stride=(1,1),padding=(1,1))\n",
    "        # convolutional layer (sees 2x50x5 tensor)\n",
    "        self.conv2 = nn.Conv2d(in_channels=2, out_channels=4,kernel_size=(3,3),stride=(1,1),padding=(1,1))\n",
    "        # sees a layer 4x25x2\n",
    "        self.fc1 = nn.Linear(4*25*2,1)\n",
    "        \n",
    "        # Max pooling\n",
    "        self.pool = nn.MaxPool2d(2,2)\n",
    "        # dropout layer \n",
    "        self.dropout = nn.Dropout(0.2)\n",
    "         # batch normalization \n",
    "        self.bn1 = nn.BatchNorm2d(2)\n",
    "        self.bn2 = nn.BatchNorm2d(4)\n",
    "      \n",
    "    def forward(self,x):\n",
    "        \n",
    "        x = x.float()\n",
    "        x = self.pool(F.relu(self.bn1(self.conv1(x)))) # Convolution 1:\n",
    "        x = self.pool(F.relu(self.bn2(self.conv2(x)))) # Convolution 2: \n",
    "        \n",
    "        x = x.view(x.shape[0],-1) # flatten image input\n",
    "        x = self.dropout(x) # dropout\n",
    "        x = self.fc1(x) # Fully connected layer\n",
    "        \n",
    "        return x"
   ]
  }
 ],
 "metadata": {
  "kernelspec": {
   "display_name": "Python 3",
   "language": "python",
   "name": "python3"
  },
  "language_info": {
   "codemirror_mode": {
    "name": "ipython",
    "version": 3
   },
   "file_extension": ".py",
   "mimetype": "text/x-python",
   "name": "python",
   "nbconvert_exporter": "python",
   "pygments_lexer": "ipython3",
   "version": "3.8.5"
  }
 },
 "nbformat": 4,
 "nbformat_minor": 4
}
