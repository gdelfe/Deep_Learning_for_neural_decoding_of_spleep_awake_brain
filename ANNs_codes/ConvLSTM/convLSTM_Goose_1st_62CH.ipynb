{
 "cells": [
  {
   "cell_type": "markdown",
   "metadata": {},
   "source": [
    "How to print weight for convLSTM?"
   ]
  },
  {
   "cell_type": "markdown",
   "metadata": {},
   "source": [
    "# Load Libraries"
   ]
  },
  {
   "cell_type": "code",
   "execution_count": 1,
   "metadata": {},
   "outputs": [],
   "source": [
    "import numpy as np\n",
    "import pandas as pd\n",
    "import matplotlib.pyplot as plt\n",
    "import torch\n",
    "from torch.utils.data import Dataset, DataLoader\n",
    "from torch import nn\n",
    "from torch.nn.functional import relu\n",
    "from scipy.io import loadmat\n",
    "import os\n",
    "from skimage import io\n",
    "from PIL import Image\n",
    "from sklearn.metrics import confusion_matrix\n",
    "import seaborn as sn\n",
    "import pickle\n",
    "from ConvLSTM_pytorch import convlstm\n",
    "import operator\n",
    "from utils_v4 import *"
   ]
  },
  {
   "cell_type": "markdown",
   "metadata": {},
   "source": [
    "# Load Data"
   ]
  },
  {
   "cell_type": "code",
   "execution_count": 2,
   "metadata": {},
   "outputs": [],
   "source": [
    "#selected subset of dates. \n",
    "val_dates = ['180327','180329']\n",
    "test_dates = ['180330','180331']\n",
    "bad_dates = ['180326', '180328', '171019', '180715', '180716', '180717']\n",
    "load_path = '/home/bijanadmin/Desktop/Goose_data/data_Goose_1st_2/'\n",
    "model_saving_path = '/home/bijanadmin/Desktop/Goose_data/data_Goose_1st_2/convLSTM_models'\n",
    "\n",
    "\n"
   ]
  },
  {
   "cell_type": "markdown",
   "metadata": {},
   "source": [
    "## Load data helper functions"
   ]
  },
  {
   "cell_type": "code",
   "execution_count": 3,
   "metadata": {},
   "outputs": [],
   "source": [
    "def create_files_new(load_path, bad_dates, T_length=10, proceed=1): \n",
    "    sleep_files = os.listdir(load_path+'sleep/')\n",
    "    move_files = os.listdir(load_path+'move/')\n",
    "    all_files = sleep_files+move_files\n",
    "    \n",
    "    dic = {}\n",
    "    for f in all_files:\n",
    "        mvmt_type = f.split('_')[-1].split('.')[0]\n",
    "        date = f.split('_')[0]\n",
    "        rec = f.split('_')[1].split('_')[0]\n",
    "        time = float(f.split('_')[3][4:])\n",
    "        if date in bad_dates:\n",
    "            continue\n",
    "        if mvmt_type == 'sleep':\n",
    "            label = 1\n",
    "        else:\n",
    "            label = 0\n",
    "        if date in dic:\n",
    "            if rec in dic[date]:\n",
    "                dic[date][rec].append([f, label, mvmt_type, date, rec, time])\n",
    "            else:\n",
    "                dic[date][rec] = [[f, label, mvmt_type, date, rec, time]]\n",
    "        else:\n",
    "            dic[date] = {rec: [[f, label, mvmt_type, date, rec, time]]}\n",
    "        \n",
    "    for d in dic:\n",
    "        for r in dic[d]:\n",
    "            dic[d][r] = sorted(dic[d][r], key=operator.itemgetter(3, 4, 5))\n",
    "    \n",
    "    move_data, sleep_data = [], []\n",
    "    for d in dic:\n",
    "        for r in dic[d]:\n",
    "            sleep_grouped, move_grouped = create_files_new_helper(dic[d][r], T_length=T_length, proceed=proceed)\n",
    "            sleep_data.append(sleep_grouped)\n",
    "            move_data.append(move_grouped)\n",
    "    \n",
    "    return move_data, sleep_data"
   ]
  },
  {
   "cell_type": "code",
   "execution_count": 4,
   "metadata": {},
   "outputs": [],
   "source": [
    "def create_files_new_helper(L, T_length, proceed):\n",
    "    L_labels = np.array([L[i][1] for i in range(len(L))])\n",
    "    L_times = np.array([L[i][-1] for i in range(len(L))])\n",
    "    \n",
    "    L_new_sleep, L_new_move = [], []\n",
    "    start = 0\n",
    "    while start <= len(L)-T_length:\n",
    "        end = start + T_length\n",
    "        #pdb.pm()\n",
    "        if sum(L_times[start+1:end]-L_times[start:end-1]-time_window) != 0:\n",
    "            start += 1\n",
    "            continue\n",
    "        if sum(L_labels[start:end]) == T_length:\n",
    "            L_new_sleep.append(L[start:end])\n",
    "        elif sum(L_labels[start:end]) == 0:\n",
    "            L_new_move.append(L[start:end])\n",
    "        start += proceed\n",
    "    return L_new_sleep, L_new_move"
   ]
  },
  {
   "cell_type": "code",
   "execution_count": 5,
   "metadata": {},
   "outputs": [],
   "source": [
    "def upsample(train_files):\n",
    "    train_sleep = [i for i in train_files if i[0][1] == 1]\n",
    "    train_move = [i for i in train_files if i[0][1] == 0]\n",
    "    diff = abs(len(train_sleep)-len(train_move))\n",
    "    train_new = []\n",
    "    d = 0\n",
    "    while d < diff:\n",
    "        if len(train_sleep) > len(train_move):\n",
    "            ind = random.randint(0, len(train_move)-1)\n",
    "            x = train_move[ind]\n",
    "            d += 1\n",
    "        else:\n",
    "            ind = random.randint(0, len(train_sleep)-1)\n",
    "            x = train_sleep[ind]\n",
    "            d += 1\n",
    "        train_new.append(x)   \n",
    "    train_files = train_sleep+train_move+train_new\n",
    "    return train_files"
   ]
  },
  {
   "cell_type": "code",
   "execution_count": 6,
   "metadata": {},
   "outputs": [],
   "source": [
    "class SpectrogramDatasetAtt(Dataset):\n",
    "    def __init__(self, files, load_path, T_length, all_label=False, CH=None):\n",
    "        self.CH = CH\n",
    "        self.files = files\n",
    "        self.load_path = load_path\n",
    "        self.T_length = T_length\n",
    "        self.all_label = all_label\n",
    "  \n",
    "    def __len__(self):\n",
    "        return len(self.files)\n",
    "    \n",
    "    def __getitem__(self, idx):\n",
    "        group = self.files[idx]\n",
    "        specs, labels, dates, recs, times = [], [], [], [], []\n",
    "        for i in range(len(group)):\n",
    "            f, label, mvmt_type, date, rec, time = group[i]\n",
    "            spec = torch.from_numpy(np.load(self.load_path+mvmt_type+'/'+f))\n",
    "            if self.CH is not None:\n",
    "                spec = torch.transpose(spec[self.CH,:,:].unsqueeze(0), 2, 1)\n",
    "            else:\n",
    "                spec = torch.transpose(spec, 2, 1)\n",
    "            specs.append(spec)\n",
    "            labels.append(torch.Tensor([label]))\n",
    "            dates.append(date)\n",
    "            recs.append(rec)\n",
    "            times.append(time)\n",
    "            if i == (self.T_length-1)/2:\n",
    "                label_mid = torch.Tensor([label])\n",
    "                date_mid = date\n",
    "                rec_mid = rec\n",
    "                time_mid = time\n",
    "        if self.all_label:\n",
    "            return specs, labels, dates, recs, times\n",
    "        else:\n",
    "            return specs, label_mid, date_mid, rec_mid, time_mid"
   ]
  },
  {
   "cell_type": "markdown",
   "metadata": {},
   "source": [
    "## T-length = 3"
   ]
  },
  {
   "cell_type": "code",
   "execution_count": 7,
   "metadata": {},
   "outputs": [],
   "source": [
    "time_window = 10\n",
    "## Load files\n",
    "move_files, sleep_files = create_files_new(load_path, bad_dates, T_length=3, proceed=3)\n",
    "train_files, val_files, test_files = [], [], []\n",
    "\n",
    "## Put files in val, test, and train\n",
    "for f in move_files+sleep_files:\n",
    "    if f:\n",
    "        if f[0][1][3] in val_dates:\n",
    "            val_files.extend(f)\n",
    "        elif f[0][1][3] in test_dates:\n",
    "            test_files.extend(f)\n",
    "        else:\n",
    "            train_files.extend(f)           "
   ]
  },
  {
   "cell_type": "code",
   "execution_count": 8,
   "metadata": {},
   "outputs": [],
   "source": [
    "## Randomly shuffle inside train, val, and test\n",
    "random.shuffle(train_files)\n",
    "random.shuffle(val_files)\n",
    "random.shuffle(test_files)"
   ]
  },
  {
   "cell_type": "code",
   "execution_count": 9,
   "metadata": {},
   "outputs": [],
   "source": [
    "## Upsample train\n",
    "train_files = upsample(train_files)"
   ]
  },
  {
   "cell_type": "code",
   "execution_count": 10,
   "metadata": {},
   "outputs": [
    {
     "data": {
      "text/plain": [
       "(6092, 1880, 1870)"
      ]
     },
     "execution_count": 10,
     "metadata": {},
     "output_type": "execute_result"
    }
   ],
   "source": [
    "len(train_files), len(val_files), len(test_files)"
   ]
  },
  {
   "cell_type": "code",
   "execution_count": 11,
   "metadata": {},
   "outputs": [],
   "source": [
    "## Load files to dataloader\n",
    "\n",
    "train_dataset = SpectrogramDatasetAtt(files=train_files, load_path=load_path, T_length=3, all_label=True)\n",
    "valid_dataset = SpectrogramDatasetAtt(files=val_files, load_path=load_path, T_length=3, all_label=True)\n",
    "test_dataset = SpectrogramDatasetAtt(files=test_files, load_path=load_path, T_length=3, all_label=True)\n",
    "\n",
    "# train_dataset = SpectrogramDatasetAtt(files=train_files, load_path=load_path, T_length=3, all_label=False, CH=CH)\n",
    "# valid_dataset = SpectrogramDatasetAtt(files=val_files, load_path=load_path, T_length=3, all_label=False, CH=CH)\n",
    "# test_dataset = SpectrogramDatasetAtt(files=test_files, load_path=load_path, T_length=3, all_label=False, CH=CH)\n",
    "\n",
    "train_loader = DataLoader(dataset=train_dataset, batch_size=128, shuffle = True)\n",
    "val_loader = DataLoader(dataset=valid_dataset, batch_size=128, shuffle = False)\n",
    "test_loader = DataLoader(dataset=test_dataset, batch_size=128, shuffle = False)"
   ]
  },
  {
   "cell_type": "code",
   "execution_count": null,
   "metadata": {},
   "outputs": [],
   "source": []
  },
  {
   "cell_type": "markdown",
   "metadata": {},
   "source": [
    "## convLSTM"
   ]
  },
  {
   "cell_type": "code",
   "execution_count": 12,
   "metadata": {},
   "outputs": [],
   "source": [
    "## Define Model\n",
    "class convLSTM(nn.Module):\n",
    "    def __init__(self, input_dim = 1, layers = 1, hidden_dim = 10, frequencies = 100,timewindow = 10, output_size=1, batch_size=128):\n",
    "        super(convLSTM, self).__init__()\n",
    "        \n",
    "        self.input_dim = input_dim\n",
    "        self.output_size = output_size\n",
    "        self.batch_size = batch_size\n",
    "        self.n_layers = layers\n",
    "        self.hidden_dim = hidden_dim\n",
    "        self.freqs = frequencies\n",
    "        self.timewindow = timewindow\n",
    "        \n",
    "        # Define the lstm layer\n",
    "        self.convLSTM = convlstm.ConvLSTM(input_dim=self.input_dim,\n",
    "                 hidden_dim=self.hidden_dim,\n",
    "                 kernel_size=(3, 3),\n",
    "                 num_layers=self.n_layers,\n",
    "                 batch_first=False,\n",
    "                 bias=True,\n",
    "                 return_all_layers=False)\n",
    "        # Define the fully-connected layer\n",
    "#         self.fc = nn.Linear(self.n_layers*self.hidden_dim, output_size)\n",
    "        self.fc = nn.Linear(self.hidden_dim*self.freqs*self.timewindow, output_size)\n",
    "\n",
    "    def forward(self, input_seq):\n",
    "        \n",
    "        # convLSTM\n",
    "        _, last_states = self.convLSTM(input_seq)\n",
    "        last_states = last_states[0][0]\n",
    "        last_states = last_states.reshape(last_states.shape[0], -1)\n",
    "        fc = self.fc(last_states)        \n",
    "\n",
    "        return fc"
   ]
  },
  {
   "cell_type": "markdown",
   "metadata": {},
   "source": [
    "### Training functions"
   ]
  },
  {
   "cell_type": "code",
   "execution_count": 13,
   "metadata": {},
   "outputs": [],
   "source": [
    "def get_accuracy(model, loader, device='cuda', collect_result = False):\n",
    "    \"\"\"\n",
    "    Function that calculate the accuracy of the model. \n",
    "    \"\"\"\n",
    "    correct = 0\n",
    "    total = 0\n",
    "    pred, labs = [],[]\n",
    "    with torch.no_grad():\n",
    "        for data, labels, _, _, _ in loader:\n",
    "            # Labels\n",
    "            labels = torch.stack(labels)\n",
    "            labels = labels[0]\n",
    "            labels = labels.to(device).float()\n",
    "            # Data\n",
    "            data = torch.tensor(np.stack(data)).to(device).float() \n",
    "            data = data.to(device).float()\n",
    "            # Feed data to model\n",
    "            outputs = model(data)            \n",
    "            outputs = torch.tensor(outputs).to(device)\n",
    "            # Predictions\n",
    "            predictions = (outputs > 0.5) * 1.0\n",
    "            predictions = predictions.flatten().detach().cpu().numpy()\n",
    "            labels = labels.flatten().cpu().numpy()\n",
    "            # Calculate Accuracy\n",
    "            total += len(labels)\n",
    "            correct += (predictions == labels).sum()\n",
    "            \n",
    "            if collect_result:\n",
    "                pred.append(predictions)\n",
    "                labs.append(labels)\n",
    "            \n",
    "    accuracy = correct / total\n",
    "    if collect_result:\n",
    "        return accuracy, pred, labs\n",
    "    return accuracy"
   ]
  },
  {
   "cell_type": "code",
   "execution_count": 25,
   "metadata": {},
   "outputs": [],
   "source": [
    "def train(model, optimizer, criterion, loader, device='cuda'):\n",
    "    \"\"\"\n",
    "    Function that train the model. \n",
    "    \"\"\"\n",
    "    model.train()\n",
    "    epoch_losses = 0\n",
    "    epoch_lens = 0\n",
    "    parameter_history = []\n",
    "    # criterion = nn.BCELoss()\n",
    "    for batch_idx, (data, labels, _, _, _) in enumerate(loader):\n",
    "        # Get Label\n",
    "        labels = torch.stack(labels)\n",
    "        labels = labels[0]\n",
    "        labels = torch.flatten(labels).to(device).float()\n",
    "        labels = labels.to(device).float()\n",
    "#         print(batch_idx)\n",
    "        \n",
    "        # Get data\n",
    "        data = torch.tensor(np.stack(data)).to(device).float() \n",
    "        data = data.to(device).float()\n",
    "\n",
    "        # Zero out grad\n",
    "        optimizer.zero_grad()\n",
    "\n",
    "        # Data in model\n",
    "        outputs = model(data)\n",
    "#         outputs = torch.tensor(outputs,requires_grad = True).to(device)\n",
    "        outputs = torch.squeeze(outputs)\n",
    "\n",
    "        # Get loss\n",
    "        loss = criterion(torch.sigmoid(outputs), labels)\n",
    "#         print(loss)\n",
    "        epoch_losses += loss\n",
    "        epoch_lens += 1\n",
    "\n",
    "        parameter_history.append(list(model.parameters())[0])\n",
    "        loss.backward() # error?\n",
    "        optimizer.step()\n",
    "\n",
    "    epoch_accs = get_accuracy(model, loader, device=device, collect_result = False)\n",
    "    return epoch_losses/epoch_lens, epoch_accs, parameter_history\n",
    "\n",
    "def evaluate(model, optimizer, criterion, loader, device='cuda', collect_result = False):\n",
    "    model.eval()\n",
    "    epoch_losses = 0\n",
    "    epoch_lens = 0\n",
    "    \n",
    "    with torch.no_grad():\n",
    "        for batch_idx, (data, labels, _, _, _) in enumerate(loader):\n",
    "            labels = torch.stack(labels)\n",
    "            labels = labels[0]\n",
    "            labels = labels.to(device).float()\n",
    "            labels = torch.flatten(labels).to(device).float()\n",
    "            data = torch.tensor(np.stack(data)).to(device).float() \n",
    "            data = data.to(device).float()\n",
    "            outputs = model(data)\n",
    "#             outputs = torch.tensor(outputs).to(device)\n",
    "            outputs = torch.squeeze(outputs)\n",
    "            loss = criterion(torch.sigmoid(outputs), labels)\n",
    "            epoch_losses += loss\n",
    "            epoch_lens += 1\n",
    "    \n",
    "    if collect_result:\n",
    "        epoch_accs, pred, labs = get_accuracy(model, loader, device = device, collect_result = True)\n",
    "        return epoch_losses/epoch_lens,epoch_accs, pred, labs\n",
    "    else:\n",
    "        epoch_accs = get_accuracy(model, loader, device=device, collect_result = collect_result)\n",
    "    return epoch_losses/epoch_lens, epoch_accs"
   ]
  },
  {
   "cell_type": "markdown",
   "metadata": {},
   "source": [
    "### Training"
   ]
  },
  {
   "cell_type": "code",
   "execution_count": 26,
   "metadata": {},
   "outputs": [
    {
     "name": "stdout",
     "output_type": "stream",
     "text": [
      "convLSTM(\n",
      "  (convLSTM): ConvLSTM(\n",
      "    (cell_list): ModuleList(\n",
      "      (0): ConvLSTMCell(\n",
      "        (conv): Conv2d(72, 40, kernel_size=(3, 3), stride=(1, 1), padding=(1, 1))\n",
      "      )\n",
      "    )\n",
      "  )\n",
      "  (fc): Linear(in_features=10000, out_features=1, bias=True)\n",
      ")\n"
     ]
    }
   ],
   "source": [
    "device = torch.device('cuda')\n",
    "\n",
    "tol = 0.01\n",
    "learning_rate = 0.01\n",
    "num_epochs = 51\n",
    "alpha = 0\n",
    "model_type = 'convLSTM'\n",
    "loss_type = 'bce'\n",
    "reg_type = 'none'\n",
    "alpha = 0\n",
    "timewindow = 10\n",
    "ch = 'all'\n",
    "# verbose = False\n",
    "\n",
    "\n",
    "model = convLSTM(input_dim = 62).to(device)\n",
    "print(model)\n",
    "optimizer = torch.optim.Adam(model.parameters(), lr = learning_rate)\n",
    "criterion = nn.BCELoss() # BCE loss"
   ]
  },
  {
   "cell_type": "code",
   "execution_count": 27,
   "metadata": {
    "scrolled": true
   },
   "outputs": [
    {
     "name": "stderr",
     "output_type": "stream",
     "text": [
      "<ipython-input-13-894d578093d0>:19: UserWarning: To copy construct from a tensor, it is recommended to use sourceTensor.clone().detach() or sourceTensor.clone().detach().requires_grad_(True), rather than torch.tensor(sourceTensor).\n",
      "  outputs = torch.tensor(outputs).to(device)\n"
     ]
    },
    {
     "name": "stdout",
     "output_type": "stream",
     "text": [
      "0\n",
      "Train loss for epoch 0: 1.713849425315857\n",
      "Val loss for epoch 0: 0.4046546220779419\n",
      "Train loss for epoch 1: 0.1896521896123886\n",
      "Val loss for epoch 1: 0.47786110639572144\n",
      "Train loss for epoch 2: 0.08920708298683167\n",
      "Val loss for epoch 2: 0.40950721502304077\n",
      "Train loss for epoch 3: 0.04298999905586243\n",
      "Val loss for epoch 3: 0.46398115158081055\n",
      "Train loss for epoch 4: 0.030000749975442886\n",
      "Val loss for epoch 4: 0.5009291172027588\n",
      "Train loss for epoch 5: 0.02591794729232788\n",
      "Val loss for epoch 5: 0.6998230218887329\n",
      "Train loss for epoch 6: 0.03272333741188049\n",
      "Val loss for epoch 6: 0.4254913330078125\n",
      "Train loss for epoch 7: 0.01370669063180685\n",
      "Val loss for epoch 7: 0.9227374196052551\n",
      "Train loss for epoch 8: 0.006534077227115631\n",
      "Val loss for epoch 8: 0.7218983173370361\n",
      "Train loss for epoch 9: 0.005864662118256092\n",
      "Val loss for epoch 9: 1.192126750946045\n",
      "Train loss for epoch 10: 0.007199855521321297\n",
      "Val loss for epoch 10: 1.2162048816680908\n",
      "Train loss for epoch 11: 0.004539398942142725\n",
      "Val loss for epoch 11: 1.3639960289001465\n",
      "Train loss for epoch 12: 0.002784095238894224\n",
      "Val loss for epoch 12: 1.2107360363006592\n",
      "Train loss for epoch 13: 0.002304384484887123\n",
      "Val loss for epoch 13: 0.9415176510810852\n",
      "Train loss for epoch 14: 0.0024644462391734123\n",
      "Val loss for epoch 14: 1.3973913192749023\n",
      "Train loss for epoch 15: 0.023283176124095917\n",
      "Val loss for epoch 15: 0.8006064295768738\n",
      "Train loss for epoch 16: 0.05352948233485222\n",
      "Val loss for epoch 16: 1.3627475500106812\n",
      "Train loss for epoch 17: 0.029916491359472275\n",
      "Val loss for epoch 17: 1.1061159372329712\n",
      "Train loss for epoch 18: 0.009908635169267654\n",
      "Val loss for epoch 18: 1.4813271760940552\n",
      "Train loss for epoch 19: 0.001583603909239173\n",
      "Val loss for epoch 19: 1.625840187072754\n",
      "Train loss for epoch 20: 0.0008739971090108156\n",
      "Val loss for epoch 20: 2.161651611328125\n",
      "Train loss for epoch 21: 0.0006250612204894423\n",
      "Val loss for epoch 21: 1.7656482458114624\n",
      "Train loss for epoch 22: 0.0003006654733326286\n",
      "Val loss for epoch 22: 1.6854908466339111\n",
      "Train loss for epoch 23: 0.00022203676053322852\n",
      "Val loss for epoch 23: 1.9283360242843628\n",
      "Train loss for epoch 24: 0.0002631410607136786\n",
      "Val loss for epoch 24: 1.7357710599899292\n",
      "Train loss for epoch 25: 0.00016684956790413707\n",
      "Val loss for epoch 25: 1.7349326610565186\n",
      "Train loss for epoch 26: 0.00015153898857533932\n",
      "Val loss for epoch 26: 1.7869619131088257\n",
      "Train loss for epoch 27: 0.00014797007315792143\n",
      "Val loss for epoch 27: 1.934515357017517\n",
      "Train loss for epoch 28: 0.00012067678471794352\n",
      "Val loss for epoch 28: 2.019425630569458\n",
      "Train loss for epoch 29: 0.0001306815684074536\n",
      "Val loss for epoch 29: 1.950390100479126\n",
      "Train loss for epoch 30: 0.00010911862773355097\n",
      "Val loss for epoch 30: 1.937065601348877\n",
      "Train loss for epoch 31: 0.00010272642248310149\n",
      "Val loss for epoch 31: 1.9260241985321045\n",
      "Train loss for epoch 32: 9.894556569634005e-05\n",
      "Val loss for epoch 32: 1.8173630237579346\n",
      "Train loss for epoch 33: 0.00010170279711019248\n",
      "Val loss for epoch 33: 1.946901559829712\n",
      "Train loss for epoch 34: 8.726555824978277e-05\n",
      "Val loss for epoch 34: 1.9262229204177856\n",
      "Train loss for epoch 35: 8.400963270105422e-05\n",
      "Val loss for epoch 35: 1.931697964668274\n",
      "Train loss for epoch 36: 8.0905418144539e-05\n",
      "Val loss for epoch 36: 1.9254541397094727\n",
      "Train loss for epoch 37: 7.643389835720882e-05\n",
      "Val loss for epoch 37: 1.9411826133728027\n",
      "Train loss for epoch 38: 7.756522973068058e-05\n",
      "Val loss for epoch 38: 1.932372808456421\n",
      "Train loss for epoch 39: 7.09358137100935e-05\n",
      "Val loss for epoch 39: 2.0387539863586426\n",
      "Train loss for epoch 40: 6.684008258162066e-05\n",
      "Val loss for epoch 40: 1.928233027458191\n",
      "Train loss for epoch 41: 6.584248330909759e-05\n",
      "Val loss for epoch 41: 2.083735466003418\n",
      "Train loss for epoch 42: 5.88449438509997e-05\n",
      "Val loss for epoch 42: 2.0896048545837402\n",
      "Train loss for epoch 43: 5.819828584208153e-05\n",
      "Val loss for epoch 43: 2.025520086288452\n",
      "Train loss for epoch 44: 5.847289503435604e-05\n",
      "Val loss for epoch 44: 2.0921525955200195\n",
      "Train loss for epoch 45: 5.1528528274502605e-05\n",
      "Val loss for epoch 45: 2.0751662254333496\n",
      "Train loss for epoch 46: 5.215227429289371e-05\n",
      "Val loss for epoch 46: 2.0615086555480957\n",
      "Train loss for epoch 47: 4.982640894013457e-05\n",
      "Val loss for epoch 47: 2.0767016410827637\n",
      "Train loss for epoch 48: 4.619658284354955e-05\n",
      "Val loss for epoch 48: 2.085653305053711\n",
      "Train loss for epoch 49: 4.5041419070912525e-05\n",
      "Val loss for epoch 49: 2.079892635345459\n",
      "Train loss for epoch 50: 4.534404070000164e-05\n",
      "Val loss for epoch 50: 2.132106065750122\n"
     ]
    },
    {
     "data": {
      "image/png": "[encoded data removed]",
      "text/plain": [
       "<Figure size 864x288 with 2 Axes>"
      ]
     },
     "metadata": {
      "needs_background": "light"
     },
     "output_type": "display_data"
    }
   ],
   "source": [
    "train_losses, train_accs, val_losses, val_accs, parameter_history = [], [], [], [],[]\n",
    " \n",
    "for epoch in range(num_epochs):\n",
    "    train_loss, train_acc, parameter_history = train(model, optimizer, criterion, train_loader,  device='cuda')\n",
    "    val_loss, val_acc = evaluate(model, optimizer, criterion, val_loader, device='cuda')\n",
    "    train_losses.append(train_loss)\n",
    "    train_accs.append(train_acc)\n",
    "    val_losses.append(val_loss)\n",
    "    val_accs.append(val_acc)\n",
    "    if val_loss <= min(val_losses):\n",
    "        best_epoch = epoch\n",
    "        print(epoch)\n",
    "        print('Train loss for epoch {}: {}'.format(epoch, train_loss))\n",
    "        print('Val loss for epoch {}: {}'.format(epoch, val_loss))\n",
    "        torch.save(model.state_dict(), '{}/{}_CH{}_LOSS{}_REG{}{}_TW{}_EPOCH{}.pt'.format(model_saving_path, model_type, ch, loss_type, reg_type, alpha, timewindow, epoch))\n",
    "#     elif verbose:\n",
    "    else:\n",
    "        print('Train loss for epoch {}: {}'.format(epoch, train_loss))\n",
    "        print('Val loss for epoch {}: {}'.format(epoch, val_loss))\n",
    "        \n",
    "#     if epoch == num_epochs-1:\n",
    "#         torch.save(model.state_dict(), '{}/{}_CH{}_LOSS{}_REG{}{}_TW{}_EPOCH{}.pt'.format(model_saving_path, model_type, CH, loss_type, reg_type, alpha, timewindow, epoch))\n",
    "\n",
    "plot_loss_acc(train_losses, val_losses, train_accs, val_accs, model_type)"
   ]
  },
  {
   "cell_type": "code",
   "execution_count": 28,
   "metadata": {},
   "outputs": [
    {
     "name": "stdout",
     "output_type": "stream",
     "text": [
      "/home/bijanadmin/Desktop/Goose_data/data_Goose_1st_2/convLSTM_models/convLSTM_CHall_LOSSbce_REGnone0_TW10_trainresult.pt\n"
     ]
    }
   ],
   "source": [
    "train_result_filename = '{}/{}_CH{}_LOSS{}_REG{}{}_TW{}_trainresult.pt'.format(model_saving_path, model_type, ch, loss_type, reg_type, alpha, timewindow)\n",
    "print(train_result_filename)"
   ]
  },
  {
   "cell_type": "code",
   "execution_count": 29,
   "metadata": {},
   "outputs": [],
   "source": [
    "train_result = {'model_type': model_type, 'train_losses' : train_losses, 'val_losses' : val_losses, 'train_accs': train_accs, 'val_accs': val_accs}\n",
    "\n",
    "pickle.dump( train_result, open( train_result_filename, \"wb\" ) )"
   ]
  },
  {
   "cell_type": "code",
   "execution_count": 30,
   "metadata": {},
   "outputs": [
    {
     "data": {
      "image/png": "[encoded data removed]",
      "text/plain": [
       "<Figure size 864x288 with 2 Axes>"
      ]
     },
     "metadata": {
      "needs_background": "light"
     },
     "output_type": "display_data"
    }
   ],
   "source": [
    "train_result = pickle.load(open(train_result_filename, \"rb\" ))\n",
    "plot_loss_acc( train_result['train_losses'],  train_result['val_losses'],  train_result['train_accs'],  train_result['val_accs'],  train_result['model_type'])"
   ]
  },
  {
   "cell_type": "code",
   "execution_count": 34,
   "metadata": {
    "scrolled": true
   },
   "outputs": [
    {
     "name": "stdout",
     "output_type": "stream",
     "text": [
      "       epoch\n",
      "alpha       \n",
      "0          0\n"
     ]
    }
   ],
   "source": [
    "model_convLSTM = os.listdir(model_saving_path)\n",
    "results = []\n",
    "best_result = 0\n",
    "reg_alpha = 'REG'+reg_type+str(alpha)+'_'\n",
    "for i, s in enumerate(model_convLSTM):\n",
    "    if 'convLSTM_CHall_' in s and reg_alpha in s and 'trainresult' not in s:\n",
    "        model_name = model_convLSTM[i].split('_')\n",
    "        epoch_name = [ind for ind,item in enumerate(np.array(model_name)) if \"EPOCH\" in item]\n",
    "        res = [int(i) for i in model_name[epoch_name[0]] if i.isdigit()]\n",
    "        if len(res) > 1:\n",
    "            epoch_result = res[0]*10+res[1]\n",
    "        else:\n",
    "            epoch_result = res[0]\n",
    "        if epoch_result>best_result and epoch_result != 50:\n",
    "            best_result = epoch_result\n",
    "\n",
    "results.append([alpha,best_result])\n",
    "\n",
    "    \n",
    "results = pd.DataFrame(np.array(results), columns=['alpha', 'epoch'])\n",
    "best_results = results.groupby('alpha').max('epoch')\n",
    "print(best_results)\n"
   ]
  },
  {
   "cell_type": "code",
   "execution_count": 37,
   "metadata": {},
   "outputs": [
    {
     "name": "stdout",
     "output_type": "stream",
     "text": [
      "/home/bijanadmin/Desktop/Goose_data/data_Goose_1st_2/convLSTM_models/convLSTM_CHall_LOSSbce_REGnone0_TW10_EPOCH0.pt\n"
     ]
    },
    {
     "name": "stderr",
     "output_type": "stream",
     "text": [
      "<ipython-input-13-894d578093d0>:19: UserWarning: To copy construct from a tensor, it is recommended to use sourceTensor.clone().detach() or sourceTensor.clone().detach().requires_grad_(True), rather than torch.tensor(sourceTensor).\n",
      "  outputs = torch.tensor(outputs).to(device)\n"
     ]
    },
    {
     "name": "stdout",
     "output_type": "stream",
     "text": [
      "validation loss:0.4046546220779419 accuracy:0.8372340425531914\n"
     ]
    },
    {
     "data": {
      "image/png": "[encoded data removed]",
      "text/plain": [
       "<Figure size 432x288 with 2 Axes>"
      ]
     },
     "metadata": {
      "needs_background": "light"
     },
     "output_type": "display_data"
    }
   ],
   "source": [
    "for i,(index,row) in enumerate(best_results.iterrows()):\n",
    "\n",
    "    best_epoch = int(row)\n",
    "    alpha = index\n",
    "    \n",
    "    \n",
    "    # load best model\n",
    "    model = convLSTM(input_dim = 62).to(device)\n",
    "    optimizer = torch.optim.Adam(model.parameters(), lr = learning_rate)\n",
    "    model.load_state_dict(torch.load('{}/{}_CH{}_LOSS{}_REG{}{}_TW{}_EPOCH{}.pt'.format(model_saving_path, model_type, ch, loss_type, reg_type, alpha, timewindow, best_epoch)))\n",
    "    \n",
    "    print('{}/{}_CH{}_LOSS{}_REG{}{}_TW{}_EPOCH{}.pt'.format(model_saving_path, model_type, ch, loss_type, reg_type, alpha, timewindow, best_epoch))\n",
    "\n",
    "    \n",
    "    ## Calculate validation accuracy and validation loss\n",
    "    val_loss, val_acc, val_preds, val_labels = evaluate(model, optimizer, criterion, val_loader, device='cuda', collect_result = True)\n",
    "    print('validation loss:{} accuracy:{}'.format(val_loss, val_acc))\n",
    "    \n",
    "#     ## Calculate test accuracy and test loss\n",
    "# #     test_loss, test_acc = evaluate(model, optimizer, criterion, val_loader, device='cuda')\n",
    "# #     print('test loss:{} accuracy:{}'.format(test_loss, test_acc))\n",
    "# #     print(np.mean(np.concatenate(test_labels)))\n",
    "    \n",
    "    ## Confusion matrix-validation\n",
    "    predictions_val = np.concatenate(val_preds)\n",
    "    labels_val = np.concatenate(val_labels)\n",
    "\n",
    "    df_val = pd.DataFrame({'predictions': predictions_val, 'labels': labels_val})\n",
    "\n",
    "    cm_val = confusion_matrix(labels_val, predictions_val)\n",
    "    ax = plt.axes()\n",
    "    group_names = ['True Neg','False Pos','False Neg','True Pos']\n",
    "    group_counts = [\"{0:0.0f}\".format(value) for value in\n",
    "                    cm_val.flatten()]\n",
    "\n",
    "    TNR = int(group_counts[0]) / (int(group_counts[0])+int(group_counts[1]))\n",
    "    FPR = 1 - TNR\n",
    "    TPR = int(group_counts[3]) / (int(group_counts[3])+int(group_counts[2]))\n",
    "    FNR = 1-TPR\n",
    "    group_percentages =[TNR, FPR, FNR, TPR]\n",
    "\n",
    "    group_percentages = [\"{0:.2%}\".format(value) for value in\n",
    "                         group_percentages]\n",
    "    labels = [f\"{v1}\\n{v2}\\n{v3}\" for v1, v2, v3 in\n",
    "              zip(group_names,group_counts,group_percentages)]\n",
    "    labels = np.asarray(labels).reshape(2,2)\n",
    "    sn.heatmap(cm_val, annot=labels, fmt='', center = 2000)\n",
    "    ax.set_title('Validation Confusion Matrix')\n",
    "    ax.set_xlabel('Predicted Label')\n",
    "    ax.set_ylabel('True Label')\n",
    "    plt.show()\n",
    "    \n",
    "#     ## Confusion matrix-test\n",
    "#     predictions_test = np.concatenate(test_preds)\n",
    "#     labels_test = np.concatenate(test_labels)\n",
    "\n",
    "#     df_test = pd.DataFrame({'predictions': predictions_test, 'labels': labels_test})\n",
    "\n",
    "#     cm_test = confusion_matrix(labels_test, predictions_test)\n",
    "#     ax = plt.axes()\n",
    "#     group_names = ['True Neg','False Pos','False Neg','True Pos']\n",
    "#     group_counts = [\"{0:0.0f}\".format(value) for value in\n",
    "#                     cm_test.flatten()]\n",
    "\n",
    "#     TNR = int(group_counts[0]) / (int(group_counts[0])+int(group_counts[1]))\n",
    "#     FPR = 1 - TNR\n",
    "#     TPR = int(group_counts[3]) / (int(group_counts[3])+int(group_counts[2]))\n",
    "#     FNR = 1-TPR\n",
    "#     group_percentages =[TNR, FPR, FNR, TPR]\n",
    "\n",
    "#     group_percentages = [\"{0:.2%}\".format(value) for value in\n",
    "#                          group_percentages]\n",
    "#     labels = [f\"{v1}\\n{v2}\\n{v3}\" for v1, v2, v3 in\n",
    "#               zip(group_names,group_counts,group_percentages)]\n",
    "#     labels = np.asarray(labels).reshape(2,2)\n",
    "#     sn.heatmap(cm_test, annot=labels, fmt='', center = 2000)\n",
    "#     ax.set_title('Test Confusion Matrix')\n",
    "#     ax.set_xlabel('Predicted Label')\n",
    "#     ax.set_ylabel('True Label')\n",
    "#     plt.show()\n",
    "    \n"
   ]
  },
  {
   "cell_type": "code",
   "execution_count": null,
   "metadata": {},
   "outputs": [],
   "source": []
  },
  {
   "cell_type": "markdown",
   "metadata": {},
   "source": [
    "## T-length = 5"
   ]
  },
  {
   "cell_type": "code",
   "execution_count": 66,
   "metadata": {},
   "outputs": [],
   "source": [
    "time_window = 10\n",
    "## Load files\n",
    "move_files, sleep_files = create_files_new(load_path, bad_dates, T_length=3, proceed=3)\n",
    "train_files, val_files, test_files = [], [], []\n",
    "\n",
    "## Put files in val, test, and train\n",
    "for f in move_files+sleep_files:\n",
    "    if f:\n",
    "        if f[0][1][3] in val_dates:\n",
    "            val_files.extend(f)\n",
    "        elif f[0][1][3] in test_dates:\n",
    "            test_files.extend(f)\n",
    "        else:\n",
    "            train_files.extend(f)           "
   ]
  },
  {
   "cell_type": "code",
   "execution_count": 67,
   "metadata": {},
   "outputs": [],
   "source": [
    "## Randomly shuffle inside train, val, and test\n",
    "random.shuffle(train_files)\n",
    "random.shuffle(val_files)\n",
    "random.shuffle(test_files)"
   ]
  },
  {
   "cell_type": "code",
   "execution_count": 68,
   "metadata": {},
   "outputs": [],
   "source": [
    "## Upsample train\n",
    "train_files = upsample(train_files)"
   ]
  },
  {
   "cell_type": "code",
   "execution_count": 69,
   "metadata": {},
   "outputs": [
    {
     "data": {
      "text/plain": [
       "(6092, 1880, 1870)"
      ]
     },
     "execution_count": 69,
     "metadata": {},
     "output_type": "execute_result"
    }
   ],
   "source": [
    "len(train_files), len(val_files), len(test_files)"
   ]
  },
  {
   "cell_type": "code",
   "execution_count": 70,
   "metadata": {},
   "outputs": [],
   "source": [
    "## Load files to dataloader\n",
    "T_length = 5\n",
    "\n",
    "train_dataset = SpectrogramDatasetAtt(files=train_files, load_path=load_path, T_length=T_length, all_label=True)\n",
    "valid_dataset = SpectrogramDatasetAtt(files=val_files, load_path=load_path, T_length=T_length, all_label=True)\n",
    "test_dataset = SpectrogramDatasetAtt(files=test_files, load_path=load_path, T_length=T_length, all_label=True)\n",
    "\n",
    "# train_dataset = SpectrogramDatasetAtt(files=train_files, load_path=load_path, T_length=3, all_label=False, CH=CH)\n",
    "# valid_dataset = SpectrogramDatasetAtt(files=val_files, load_path=load_path, T_length=3, all_label=False, CH=CH)\n",
    "# test_dataset = SpectrogramDatasetAtt(files=test_files, load_path=load_path, T_length=3, all_label=False, CH=CH)\n",
    "\n",
    "train_loader = DataLoader(dataset=train_dataset, batch_size=128, shuffle = True)\n",
    "val_loader = DataLoader(dataset=valid_dataset, batch_size=128, shuffle = False)\n",
    "test_loader = DataLoader(dataset=test_dataset, batch_size=128, shuffle = False)"
   ]
  },
  {
   "cell_type": "markdown",
   "metadata": {},
   "source": [
    "### Training"
   ]
  },
  {
   "cell_type": "code",
   "execution_count": 71,
   "metadata": {},
   "outputs": [
    {
     "name": "stdout",
     "output_type": "stream",
     "text": [
      "convLSTM(\n",
      "  (convLSTM): ConvLSTM(\n",
      "    (cell_list): ModuleList(\n",
      "      (0): ConvLSTMCell(\n",
      "        (conv): Conv2d(72, 40, kernel_size=(3, 3), stride=(1, 1), padding=(1, 1))\n",
      "      )\n",
      "    )\n",
      "  )\n",
      "  (fc): Linear(in_features=10000, out_features=1, bias=True)\n",
      ")\n"
     ]
    }
   ],
   "source": [
    "device = torch.device('cuda')\n",
    "\n",
    "tol = 0.01\n",
    "learning_rate = 0.01\n",
    "num_epochs = 51\n",
    "alpha = 0\n",
    "model_type = 'convLSTM'\n",
    "loss_type = 'bce'\n",
    "reg_type = 'none'\n",
    "alpha = 0\n",
    "timewindow = 10\n",
    "ch = 'all'\n",
    "# verbose = False\n",
    "\n",
    "\n",
    "model = convLSTM(input_dim = 62).to(device)\n",
    "print(model)\n",
    "optimizer = torch.optim.Adam(model.parameters(), lr = learning_rate)\n",
    "criterion = nn.BCELoss() # BCE loss"
   ]
  },
  {
   "cell_type": "code",
   "execution_count": 72,
   "metadata": {
    "scrolled": true
   },
   "outputs": [
    {
     "name": "stderr",
     "output_type": "stream",
     "text": [
      "<ipython-input-13-894d578093d0>:19: UserWarning: To copy construct from a tensor, it is recommended to use sourceTensor.clone().detach() or sourceTensor.clone().detach().requires_grad_(True), rather than torch.tensor(sourceTensor).\n",
      "  outputs = torch.tensor(outputs).to(device)\n"
     ]
    },
    {
     "name": "stdout",
     "output_type": "stream",
     "text": [
      "0\n",
      "Train loss for epoch 0: 2.7107160091400146\n",
      "Val loss for epoch 0: 0.6468703746795654\n",
      "1\n",
      "Train loss for epoch 1: 0.1922268271446228\n",
      "Val loss for epoch 1: 0.426085501909256\n",
      "2\n",
      "Train loss for epoch 2: 0.09021126478910446\n",
      "Val loss for epoch 2: 0.2594897150993347\n",
      "Train loss for epoch 3: 0.06056136637926102\n",
      "Val loss for epoch 3: 0.5183616876602173\n",
      "Train loss for epoch 4: 0.025786777958273888\n",
      "Val loss for epoch 4: 1.0123772621154785\n",
      "Train loss for epoch 5: 0.016337847337126732\n",
      "Val loss for epoch 5: 0.8148128390312195\n",
      "Train loss for epoch 6: 0.008886650204658508\n",
      "Val loss for epoch 6: 1.0203016996383667\n",
      "Train loss for epoch 7: 0.008547580800950527\n",
      "Val loss for epoch 7: 0.9908741116523743\n",
      "Train loss for epoch 8: 0.006728300824761391\n",
      "Val loss for epoch 8: 1.030293345451355\n",
      "Train loss for epoch 9: 0.004815795458853245\n",
      "Val loss for epoch 9: 1.0164833068847656\n",
      "Train loss for epoch 10: 0.005246938671916723\n",
      "Val loss for epoch 10: 1.4469190835952759\n",
      "Train loss for epoch 11: 0.004981077276170254\n",
      "Val loss for epoch 11: 1.0977270603179932\n",
      "Train loss for epoch 12: 0.014245680533349514\n",
      "Val loss for epoch 12: 1.2316933870315552\n",
      "Train loss for epoch 13: 0.013469952158629894\n",
      "Val loss for epoch 13: 1.1093318462371826\n",
      "Train loss for epoch 14: 0.06335830688476562\n",
      "Val loss for epoch 14: 1.7918015718460083\n",
      "Train loss for epoch 15: 0.33890074491500854\n",
      "Val loss for epoch 15: 2.6048152446746826\n",
      "Train loss for epoch 16: 0.06708497554063797\n",
      "Val loss for epoch 16: 1.7027322053909302\n",
      "Train loss for epoch 17: 0.021465931087732315\n",
      "Val loss for epoch 17: 2.284893035888672\n",
      "Train loss for epoch 18: 0.011094564571976662\n",
      "Val loss for epoch 18: 2.160458564758301\n",
      "Train loss for epoch 19: 0.008711539208889008\n",
      "Val loss for epoch 19: 2.668529987335205\n",
      "Train loss for epoch 20: 0.0035314064007252455\n",
      "Val loss for epoch 20: 2.6756465435028076\n",
      "Train loss for epoch 21: 0.005088356323540211\n",
      "Val loss for epoch 21: 2.6378350257873535\n",
      "Train loss for epoch 22: 0.0026780953630805016\n",
      "Val loss for epoch 22: 2.4071412086486816\n",
      "Train loss for epoch 23: 0.0016835224814713001\n",
      "Val loss for epoch 23: 2.418003797531128\n",
      "Train loss for epoch 24: 0.0010856064036488533\n",
      "Val loss for epoch 24: 2.383070468902588\n",
      "Train loss for epoch 25: 0.0009429533965885639\n",
      "Val loss for epoch 25: 2.3867273330688477\n",
      "Train loss for epoch 26: 0.0008682728512212634\n",
      "Val loss for epoch 26: 2.5330498218536377\n",
      "Train loss for epoch 27: 0.0009458719287067652\n",
      "Val loss for epoch 27: 2.380186080932617\n",
      "Train loss for epoch 28: 0.0007310246000997722\n",
      "Val loss for epoch 28: 2.552016496658325\n",
      "Train loss for epoch 29: 0.0007524921093136072\n",
      "Val loss for epoch 29: 2.538588285446167\n",
      "Train loss for epoch 30: 0.00046334450598806143\n",
      "Val loss for epoch 30: 2.393528461456299\n",
      "Train loss for epoch 31: 0.00033975738915614784\n",
      "Val loss for epoch 31: 2.3409640789031982\n",
      "Train loss for epoch 32: 0.0005340109928511083\n",
      "Val loss for epoch 32: 2.3928415775299072\n",
      "Train loss for epoch 33: 0.0004021100467070937\n",
      "Val loss for epoch 33: 2.6336257457733154\n",
      "Train loss for epoch 34: 0.00031007383950054646\n",
      "Val loss for epoch 34: 2.542104482650757\n",
      "Train loss for epoch 35: 0.0002181625459343195\n",
      "Val loss for epoch 35: 2.3911244869232178\n",
      "Train loss for epoch 36: 0.0002190407831221819\n",
      "Val loss for epoch 36: 2.445218563079834\n",
      "Train loss for epoch 37: 0.0002137524279532954\n",
      "Val loss for epoch 37: 2.4483370780944824\n",
      "Train loss for epoch 38: 0.0001668837503530085\n",
      "Val loss for epoch 38: 2.5790412425994873\n",
      "Train loss for epoch 39: 0.00017699049203656614\n",
      "Val loss for epoch 39: 2.5244905948638916\n",
      "Train loss for epoch 40: 0.000172050014953129\n",
      "Val loss for epoch 40: 2.5824577808380127\n",
      "Train loss for epoch 41: 0.0009604426450096071\n",
      "Val loss for epoch 41: 2.9505672454833984\n",
      "Train loss for epoch 42: 0.0018418689724057913\n",
      "Val loss for epoch 42: 2.6903092861175537\n",
      "Train loss for epoch 43: 0.0003278923686593771\n",
      "Val loss for epoch 43: 2.509040594100952\n",
      "Train loss for epoch 44: 0.00018482355517335236\n",
      "Val loss for epoch 44: 2.6401610374450684\n",
      "Train loss for epoch 45: 0.0001262553414562717\n",
      "Val loss for epoch 45: 2.580559730529785\n",
      "Train loss for epoch 46: 9.954525739885867e-05\n",
      "Val loss for epoch 46: 2.693931818008423\n",
      "Train loss for epoch 47: 9.337444498669356e-05\n",
      "Val loss for epoch 47: 2.8186089992523193\n",
      "Train loss for epoch 48: 9.46436048252508e-05\n",
      "Val loss for epoch 48: 2.6755688190460205\n",
      "Train loss for epoch 49: 7.438917964464054e-05\n",
      "Val loss for epoch 49: 2.691927194595337\n",
      "Train loss for epoch 50: 6.702194514218718e-05\n",
      "Val loss for epoch 50: 2.7596418857574463\n"
     ]
    },
    {
     "data": {
      "image/png": "[encoded data removed]",
      "text/plain": [
       "<Figure size 864x288 with 2 Axes>"
      ]
     },
     "metadata": {
      "needs_background": "light"
     },
     "output_type": "display_data"
    }
   ],
   "source": [
    "train_losses, train_accs, val_losses, val_accs, parameter_history = [], [], [], [],[]\n",
    " \n",
    "for epoch in range(num_epochs):\n",
    "    train_loss, train_acc, parameter_history = train(model, optimizer, criterion, train_loader,  device='cuda')\n",
    "    val_loss, val_acc = evaluate(model, optimizer, criterion, val_loader, device='cuda')\n",
    "    train_losses.append(train_loss)\n",
    "    train_accs.append(train_acc)\n",
    "    val_losses.append(val_loss)\n",
    "    val_accs.append(val_acc)\n",
    "    if val_loss <= min(val_losses):\n",
    "        best_epoch = epoch\n",
    "        print(epoch)\n",
    "        print('Train loss for epoch {}: {}'.format(epoch, train_loss))\n",
    "        print('Val loss for epoch {}: {}'.format(epoch, val_loss))\n",
    "        torch.save(model.state_dict(), '{}/{}_CH{}_LOSS{}_REG{}{}_TW{}_TLENGTH{}_EPOCH{}.pt'.format(model_saving_path, model_type, ch, loss_type, reg_type, alpha, timewindow, T_length, epoch))\n",
    "#     elif verbose:\n",
    "    else:\n",
    "        print('Train loss for epoch {}: {}'.format(epoch, train_loss))\n",
    "        print('Val loss for epoch {}: {}'.format(epoch, val_loss))\n",
    "        \n",
    "#     if epoch == num_epochs-1:\n",
    "#         torch.save(model.state_dict(), '{}/{}_CH{}_LOSS{}_REG{}{}_TW{}_EPOCH{}.pt'.format(model_saving_path, model_type, CH, loss_type, reg_type, alpha, timewindow, epoch))\n",
    "\n",
    "plot_loss_acc(train_losses, val_losses, train_accs, val_accs, model_type)"
   ]
  },
  {
   "cell_type": "code",
   "execution_count": 73,
   "metadata": {},
   "outputs": [
    {
     "name": "stdout",
     "output_type": "stream",
     "text": [
      "/home/bijanadmin/Desktop/Goose_data/data_Goose_1st_2/convLSTM_models/convLSTM_CHall_LOSSbce_REGnone0_TW10_TLENGTH5_trainresult.pt\n"
     ]
    }
   ],
   "source": [
    "train_result_filename = '{}/{}_CH{}_LOSS{}_REG{}{}_TW{}_TLENGTH{}_trainresult.pt'.format(model_saving_path, model_type, ch, loss_type, reg_type, alpha, timewindow, T_length)\n",
    "print(train_result_filename)"
   ]
  },
  {
   "cell_type": "code",
   "execution_count": 74,
   "metadata": {},
   "outputs": [],
   "source": [
    "train_result = {'model_type': model_type, 'train_losses' : train_losses, 'val_losses' : val_losses, 'train_accs': train_accs, 'val_accs': val_accs}\n",
    "\n",
    "pickle.dump( train_result, open( train_result_filename, \"wb\" ) )"
   ]
  },
  {
   "cell_type": "code",
   "execution_count": 75,
   "metadata": {},
   "outputs": [
    {
     "data": {
      "image/png": "[encoded data removed]",
      "text/plain": [
       "<Figure size 864x288 with 2 Axes>"
      ]
     },
     "metadata": {
      "needs_background": "light"
     },
     "output_type": "display_data"
    }
   ],
   "source": [
    "train_result = pickle.load(open(train_result_filename, \"rb\" ))\n",
    "plot_loss_acc( train_result['train_losses'],  train_result['val_losses'],  train_result['train_accs'],  train_result['val_accs'],  train_result['model_type'])"
   ]
  },
  {
   "cell_type": "code",
   "execution_count": 76,
   "metadata": {
    "scrolled": true
   },
   "outputs": [
    {
     "name": "stdout",
     "output_type": "stream",
     "text": [
      "       epoch\n",
      "alpha       \n",
      "0          2\n"
     ]
    }
   ],
   "source": [
    "model_convLSTM = os.listdir(model_saving_path)\n",
    "results = []\n",
    "best_result = 0\n",
    "reg_alpha = 'REG'+reg_type+str(alpha)+'_'\n",
    "tlength = 'TLENGTH'+str(T_length)\n",
    "for i, s in enumerate(model_convLSTM):\n",
    "    if 'convLSTM_CHall_' in s and reg_alpha in s and 'trainresult' not in s and tlength in s and 'valcm' not in s:\n",
    "        model_name = model_convLSTM[i].split('_')\n",
    "        epoch_name = [ind for ind,item in enumerate(np.array(model_name)) if \"EPOCH\" in item]\n",
    "        res = [int(i) for i in model_name[epoch_name[0]] if i.isdigit()]\n",
    "        if len(res) > 1:\n",
    "            epoch_result = res[0]*10+res[1]\n",
    "        else:\n",
    "            epoch_result = res[0]\n",
    "        if epoch_result>best_result and epoch_result != 50:\n",
    "            best_result = epoch_result\n",
    "\n",
    "results.append([alpha,best_result])\n",
    "\n",
    "    \n",
    "results = pd.DataFrame(np.array(results), columns=['alpha', 'epoch'])\n",
    "best_results = results.groupby('alpha').max('epoch')\n",
    "print(best_results)\n"
   ]
  },
  {
   "cell_type": "code",
   "execution_count": 77,
   "metadata": {},
   "outputs": [
    {
     "name": "stdout",
     "output_type": "stream",
     "text": [
      "/home/bijanadmin/Desktop/Goose_data/data_Goose_1st_2/convLSTM_models/convLSTM_CHall_LOSSbce_REGnone0_TW10_TLENGTH5_EPOCH2.pt\n"
     ]
    },
    {
     "name": "stderr",
     "output_type": "stream",
     "text": [
      "<ipython-input-13-894d578093d0>:19: UserWarning: To copy construct from a tensor, it is recommended to use sourceTensor.clone().detach() or sourceTensor.clone().detach().requires_grad_(True), rather than torch.tensor(sourceTensor).\n",
      "  outputs = torch.tensor(outputs).to(device)\n"
     ]
    },
    {
     "name": "stdout",
     "output_type": "stream",
     "text": [
      "validation loss:0.2594897150993347 accuracy:0.9329787234042554\n",
      "/home/bijanadmin/Desktop/Goose_data/data_Goose_1st_2/convLSTM_models/convLSTM_CHall_LOSSbce_REGnone0_TW10_TLENGTH5_valcm.pt\n"
     ]
    },
    {
     "data": {
      "image/png": "[encoded data removed]",
      "text/plain": [
       "<Figure size 432x288 with 2 Axes>"
      ]
     },
     "metadata": {
      "needs_background": "light"
     },
     "output_type": "display_data"
    }
   ],
   "source": [
    "for i,(index,row) in enumerate(best_results.iterrows()):\n",
    "\n",
    "    best_epoch = int(row)\n",
    "    alpha = index\n",
    "    \n",
    "    \n",
    "    # load best model\n",
    "    model = convLSTM(input_dim = 62).to(device)\n",
    "    optimizer = torch.optim.Adam(model.parameters(), lr = learning_rate)\n",
    "    model.load_state_dict(torch.load('{}/{}_CH{}_LOSS{}_REG{}{}_TW{}_TLENGTH{}_EPOCH{}.pt'.format(model_saving_path, model_type, ch, loss_type, reg_type, alpha, timewindow, T_length, best_epoch)))\n",
    "    \n",
    "    print('{}/{}_CH{}_LOSS{}_REG{}{}_TW{}_TLENGTH{}_EPOCH{}.pt'.format(model_saving_path, model_type, ch, loss_type, reg_type, alpha, timewindow,T_length, best_epoch))\n",
    "\n",
    "    \n",
    "    ## Calculate validation accuracy and validation loss\n",
    "    val_loss, val_acc, val_preds, val_labels = evaluate(model, optimizer, criterion, val_loader, device='cuda', collect_result = True)\n",
    "    print('validation loss:{} accuracy:{}'.format(val_loss, val_acc))\n",
    "    \n",
    "#     ## Calculate test accuracy and test loss\n",
    "# #     test_loss, test_acc = evaluate(model, optimizer, criterion, val_loader, device='cuda')\n",
    "# #     print('test loss:{} accuracy:{}'.format(test_loss, test_acc))\n",
    "# #     print(np.mean(np.concatenate(test_labels)))\n",
    "    \n",
    "    ## Confusion matrix-validation\n",
    "    predictions_val = np.concatenate(val_preds)\n",
    "    labels_val = np.concatenate(val_labels)\n",
    "    \n",
    "    val_cm_filename = '{}/{}_CH{}_LOSS{}_REG{}{}_TW{}_TLENGTH{}_valcm.pt'.format(model_saving_path, model_type, ch, loss_type, reg_type, alpha, timewindow, T_length)\n",
    "    print(val_cm_filename)\n",
    "    val_cm_result = {'predictions_val': predictions_val, 'labels_val' : labels_val}\n",
    "\n",
    "    pickle.dump( val_cm_result, open( val_cm_filename, \"wb\" ) )\n",
    "    \n",
    "    \n",
    "    df_val = pd.DataFrame({'predictions': predictions_val, 'labels': labels_val})\n",
    "\n",
    "    cm_val = confusion_matrix(labels_val, predictions_val)\n",
    "    ax = plt.axes()\n",
    "    group_names = ['True Neg','False Pos','False Neg','True Pos']\n",
    "    group_counts = [\"{0:0.0f}\".format(value) for value in\n",
    "                    cm_val.flatten()]\n",
    "\n",
    "    TNR = int(group_counts[0]) / (int(group_counts[0])+int(group_counts[1]))\n",
    "    FPR = 1 - TNR\n",
    "    TPR = int(group_counts[3]) / (int(group_counts[3])+int(group_counts[2]))\n",
    "    FNR = 1-TPR\n",
    "    group_percentages =[TNR, FPR, FNR, TPR]\n",
    "\n",
    "    group_percentages = [\"{0:.2%}\".format(value) for value in\n",
    "                         group_percentages]\n",
    "    labels = [f\"{v1}\\n{v2}\\n{v3}\" for v1, v2, v3 in\n",
    "              zip(group_names,group_counts,group_percentages)]\n",
    "    labels = np.asarray(labels).reshape(2,2)\n",
    "    sn.heatmap(cm_val, annot=labels, fmt='', center = 2000)\n",
    "    ax.set_title('Validation Confusion Matrix')\n",
    "    ax.set_xlabel('Predicted Label')\n",
    "    ax.set_ylabel('True Label')\n",
    "    plt.show()\n",
    "    \n",
    "#     ## Confusion matrix-test\n",
    "#     predictions_test = np.concatenate(test_preds)\n",
    "#     labels_test = np.concatenate(test_labels)\n",
    "\n",
    "#     df_test = pd.DataFrame({'predictions': predictions_test, 'labels': labels_test})\n",
    "\n",
    "#     cm_test = confusion_matrix(labels_test, predictions_test)\n",
    "#     ax = plt.axes()\n",
    "#     group_names = ['True Neg','False Pos','False Neg','True Pos']\n",
    "#     group_counts = [\"{0:0.0f}\".format(value) for value in\n",
    "#                     cm_test.flatten()]\n",
    "\n",
    "#     TNR = int(group_counts[0]) / (int(group_counts[0])+int(group_counts[1]))\n",
    "#     FPR = 1 - TNR\n",
    "#     TPR = int(group_counts[3]) / (int(group_counts[3])+int(group_counts[2]))\n",
    "#     FNR = 1-TPR\n",
    "#     group_percentages =[TNR, FPR, FNR, TPR]\n",
    "\n",
    "#     group_percentages = [\"{0:.2%}\".format(value) for value in\n",
    "#                          group_percentages]\n",
    "#     labels = [f\"{v1}\\n{v2}\\n{v3}\" for v1, v2, v3 in\n",
    "#               zip(group_names,group_counts,group_percentages)]\n",
    "#     labels = np.asarray(labels).reshape(2,2)\n",
    "#     sn.heatmap(cm_test, annot=labels, fmt='', center = 2000)\n",
    "#     ax.set_title('Test Confusion Matrix')\n",
    "#     ax.set_xlabel('Predicted Label')\n",
    "#     ax.set_ylabel('True Label')\n",
    "#     plt.show()\n",
    "    \n"
   ]
  },
  {
   "cell_type": "code",
   "execution_count": null,
   "metadata": {},
   "outputs": [],
   "source": []
  },
  {
   "cell_type": "code",
   "execution_count": null,
   "metadata": {},
   "outputs": [],
   "source": []
  },
  {
   "cell_type": "markdown",
   "metadata": {},
   "source": [
    "## T-length = 10"
   ]
  },
  {
   "cell_type": "code",
   "execution_count": 54,
   "metadata": {},
   "outputs": [],
   "source": [
    "time_window = 10\n",
    "## Load files\n",
    "move_files, sleep_files = create_files_new(load_path, bad_dates, T_length=3, proceed=3)\n",
    "train_files, val_files, test_files = [], [], []\n",
    "\n",
    "## Put files in val, test, and train\n",
    "for f in move_files+sleep_files:\n",
    "    if f:\n",
    "        if f[0][1][3] in val_dates:\n",
    "            val_files.extend(f)\n",
    "        elif f[0][1][3] in test_dates:\n",
    "            test_files.extend(f)\n",
    "        else:\n",
    "            train_files.extend(f)           "
   ]
  },
  {
   "cell_type": "code",
   "execution_count": 55,
   "metadata": {},
   "outputs": [],
   "source": [
    "## Randomly shuffle inside train, val, and test\n",
    "random.shuffle(train_files)\n",
    "random.shuffle(val_files)\n",
    "random.shuffle(test_files)"
   ]
  },
  {
   "cell_type": "code",
   "execution_count": 56,
   "metadata": {},
   "outputs": [],
   "source": [
    "## Upsample train\n",
    "train_files = upsample(train_files)"
   ]
  },
  {
   "cell_type": "code",
   "execution_count": 57,
   "metadata": {},
   "outputs": [
    {
     "data": {
      "text/plain": [
       "(6092, 1880, 1870)"
      ]
     },
     "execution_count": 57,
     "metadata": {},
     "output_type": "execute_result"
    }
   ],
   "source": [
    "len(train_files), len(val_files), len(test_files)"
   ]
  },
  {
   "cell_type": "code",
   "execution_count": 58,
   "metadata": {},
   "outputs": [],
   "source": [
    "## Load files to dataloader\n",
    "T_length = 10\n",
    "\n",
    "train_dataset = SpectrogramDatasetAtt(files=train_files, load_path=load_path, T_length=T_length, all_label=True)\n",
    "valid_dataset = SpectrogramDatasetAtt(files=val_files, load_path=load_path, T_length=T_length, all_label=True)\n",
    "test_dataset = SpectrogramDatasetAtt(files=test_files, load_path=load_path, T_length=T_length, all_label=True)\n",
    "\n",
    "# train_dataset = SpectrogramDatasetAtt(files=train_files, load_path=load_path, T_length=3, all_label=False, CH=CH)\n",
    "# valid_dataset = SpectrogramDatasetAtt(files=val_files, load_path=load_path, T_length=3, all_label=False, CH=CH)\n",
    "# test_dataset = SpectrogramDatasetAtt(files=test_files, load_path=load_path, T_length=3, all_label=False, CH=CH)\n",
    "\n",
    "train_loader = DataLoader(dataset=train_dataset, batch_size=128, shuffle = True)\n",
    "val_loader = DataLoader(dataset=valid_dataset, batch_size=128, shuffle = False)\n",
    "test_loader = DataLoader(dataset=test_dataset, batch_size=128, shuffle = False)"
   ]
  },
  {
   "cell_type": "markdown",
   "metadata": {},
   "source": [
    "### Training"
   ]
  },
  {
   "cell_type": "code",
   "execution_count": 59,
   "metadata": {},
   "outputs": [
    {
     "name": "stdout",
     "output_type": "stream",
     "text": [
      "convLSTM(\n",
      "  (convLSTM): ConvLSTM(\n",
      "    (cell_list): ModuleList(\n",
      "      (0): ConvLSTMCell(\n",
      "        (conv): Conv2d(72, 40, kernel_size=(3, 3), stride=(1, 1), padding=(1, 1))\n",
      "      )\n",
      "    )\n",
      "  )\n",
      "  (fc): Linear(in_features=10000, out_features=1, bias=True)\n",
      ")\n"
     ]
    }
   ],
   "source": [
    "device = torch.device('cuda')\n",
    "\n",
    "tol = 0.01\n",
    "learning_rate = 0.01\n",
    "num_epochs = 51\n",
    "alpha = 0\n",
    "model_type = 'convLSTM'\n",
    "loss_type = 'bce'\n",
    "reg_type = 'none'\n",
    "alpha = 0\n",
    "timewindow = 10\n",
    "ch = 'all'\n",
    "# verbose = False\n",
    "\n",
    "\n",
    "model = convLSTM(input_dim = 62).to(device)\n",
    "print(model)\n",
    "optimizer = torch.optim.Adam(model.parameters(), lr = learning_rate)\n",
    "criterion = nn.BCELoss() # BCE loss"
   ]
  },
  {
   "cell_type": "code",
   "execution_count": 60,
   "metadata": {
    "scrolled": true
   },
   "outputs": [
    {
     "name": "stderr",
     "output_type": "stream",
     "text": [
      "<ipython-input-13-894d578093d0>:19: UserWarning: To copy construct from a tensor, it is recommended to use sourceTensor.clone().detach() or sourceTensor.clone().detach().requires_grad_(True), rather than torch.tensor(sourceTensor).\n",
      "  outputs = torch.tensor(outputs).to(device)\n"
     ]
    },
    {
     "name": "stdout",
     "output_type": "stream",
     "text": [
      "0\n",
      "Train loss for epoch 0: 1.0977524518966675\n",
      "Val loss for epoch 0: 0.2783173620700836\n",
      "Train loss for epoch 1: 0.2655906677246094\n",
      "Val loss for epoch 1: 0.38908395171165466\n",
      "Train loss for epoch 2: 0.1706017553806305\n",
      "Val loss for epoch 2: 0.3194897472858429\n",
      "Train loss for epoch 3: 0.11725962162017822\n",
      "Val loss for epoch 3: 0.5443140864372253\n",
      "Train loss for epoch 4: 0.08856134861707687\n",
      "Val loss for epoch 4: 0.2913297414779663\n",
      "Train loss for epoch 5: 0.12059682607650757\n",
      "Val loss for epoch 5: 0.9063897132873535\n",
      "Train loss for epoch 6: 0.057938896119594574\n",
      "Val loss for epoch 6: 1.0641851425170898\n",
      "Train loss for epoch 7: 0.027180295437574387\n",
      "Val loss for epoch 7: 1.1265796422958374\n",
      "Train loss for epoch 8: 0.02892034873366356\n",
      "Val loss for epoch 8: 0.39243316650390625\n",
      "Train loss for epoch 9: 0.017643693834543228\n",
      "Val loss for epoch 9: 1.7489062547683716\n",
      "Train loss for epoch 10: 0.010497262701392174\n",
      "Val loss for epoch 10: 1.2505872249603271\n",
      "Train loss for epoch 11: 0.0054468270391225815\n",
      "Val loss for epoch 11: 0.7560140490531921\n",
      "Train loss for epoch 12: 0.007833985611796379\n",
      "Val loss for epoch 12: 1.2429221868515015\n",
      "Train loss for epoch 13: 0.010896638035774231\n",
      "Val loss for epoch 13: 1.034031629562378\n",
      "Train loss for epoch 14: 0.014847705140709877\n",
      "Val loss for epoch 14: 1.79953932762146\n",
      "Train loss for epoch 15: 0.00427634734660387\n",
      "Val loss for epoch 15: 1.3816035985946655\n",
      "Train loss for epoch 16: 0.0015619562473148108\n",
      "Val loss for epoch 16: 1.4686955213546753\n",
      "Train loss for epoch 17: 0.000984327052719891\n",
      "Val loss for epoch 17: 1.4271190166473389\n",
      "Train loss for epoch 18: 0.000974999915342778\n",
      "Val loss for epoch 18: 1.4713443517684937\n",
      "Train loss for epoch 19: 0.00104237359482795\n",
      "Val loss for epoch 19: 1.6373409032821655\n",
      "Train loss for epoch 20: 0.0010149171575903893\n",
      "Val loss for epoch 20: 1.5297812223434448\n",
      "Train loss for epoch 21: 0.0004288290801923722\n",
      "Val loss for epoch 21: 1.5333372354507446\n",
      "Train loss for epoch 22: 0.00035950070014223456\n",
      "Val loss for epoch 22: 1.531923532485962\n",
      "Train loss for epoch 23: 0.000334125361405313\n",
      "Val loss for epoch 23: 1.538488745689392\n",
      "Train loss for epoch 24: 0.00035329940146766603\n",
      "Val loss for epoch 24: 1.596169114112854\n",
      "Train loss for epoch 25: 0.0003337613889016211\n",
      "Val loss for epoch 25: 1.561049222946167\n",
      "Train loss for epoch 26: 0.00022703302965965122\n",
      "Val loss for epoch 26: 1.535380244255066\n",
      "Train loss for epoch 27: 0.00020858185598626733\n",
      "Val loss for epoch 27: 1.5320731401443481\n",
      "Train loss for epoch 28: 0.0002098537515848875\n",
      "Val loss for epoch 28: 1.5927475690841675\n",
      "Train loss for epoch 29: 0.0001792169496184215\n",
      "Val loss for epoch 29: 1.6062188148498535\n",
      "Train loss for epoch 30: 0.0001607541344128549\n",
      "Val loss for epoch 30: 1.593692421913147\n",
      "Train loss for epoch 31: 0.00014920037938281894\n",
      "Val loss for epoch 31: 1.5812724828720093\n",
      "Train loss for epoch 32: 0.00014823334640823305\n",
      "Val loss for epoch 32: 1.5868757963180542\n",
      "Train loss for epoch 33: 0.0001416228333255276\n",
      "Val loss for epoch 33: 1.5773627758026123\n",
      "Train loss for epoch 34: 0.00013228016905486584\n",
      "Val loss for epoch 34: 1.5982872247695923\n",
      "Train loss for epoch 35: 0.00012611896090675145\n",
      "Val loss for epoch 35: 1.5973773002624512\n",
      "Train loss for epoch 36: 0.00011396111221984029\n",
      "Val loss for epoch 36: 1.6496905088424683\n",
      "Train loss for epoch 37: 0.00011054161586798728\n",
      "Val loss for epoch 37: 1.58954656124115\n",
      "Train loss for epoch 38: 9.966958896256983e-05\n",
      "Val loss for epoch 38: 1.6373989582061768\n",
      "Train loss for epoch 39: 9.806601156014949e-05\n",
      "Val loss for epoch 39: 1.6478310823440552\n",
      "Train loss for epoch 40: 9.21958708204329e-05\n",
      "Val loss for epoch 40: 1.645987629890442\n",
      "Train loss for epoch 41: 8.959122351370752e-05\n",
      "Val loss for epoch 41: 1.6355899572372437\n",
      "Train loss for epoch 42: 8.778960182098672e-05\n",
      "Val loss for epoch 42: 1.6638306379318237\n",
      "Train loss for epoch 43: 8.411026647081599e-05\n",
      "Val loss for epoch 43: 1.6696221828460693\n",
      "Train loss for epoch 44: 7.949343125801533e-05\n",
      "Val loss for epoch 44: 1.6226590871810913\n",
      "Train loss for epoch 45: 8.694553980603814e-05\n",
      "Val loss for epoch 45: 1.7042772769927979\n",
      "Train loss for epoch 46: 6.571336416527629e-05\n",
      "Val loss for epoch 46: 1.696973204612732\n",
      "Train loss for epoch 47: 6.376499368343502e-05\n",
      "Val loss for epoch 47: 1.6869813203811646\n",
      "Train loss for epoch 48: 5.919330214965157e-05\n",
      "Val loss for epoch 48: 1.6364272832870483\n",
      "Train loss for epoch 49: 6.76651980029419e-05\n",
      "Val loss for epoch 49: 1.7338685989379883\n",
      "Train loss for epoch 50: 5.8074154367204756e-05\n",
      "Val loss for epoch 50: 1.6897573471069336\n"
     ]
    },
    {
     "data": {
      "image/png": "[encoded data removed]",
      "text/plain": [
       "<Figure size 864x288 with 2 Axes>"
      ]
     },
     "metadata": {
      "needs_background": "light"
     },
     "output_type": "display_data"
    }
   ],
   "source": [
    "train_losses, train_accs, val_losses, val_accs, parameter_history = [], [], [], [],[]\n",
    " \n",
    "for epoch in range(num_epochs):\n",
    "    train_loss, train_acc, parameter_history = train(model, optimizer, criterion, train_loader,  device='cuda')\n",
    "    val_loss, val_acc = evaluate(model, optimizer, criterion, val_loader, device='cuda')\n",
    "    train_losses.append(train_loss)\n",
    "    train_accs.append(train_acc)\n",
    "    val_losses.append(val_loss)\n",
    "    val_accs.append(val_acc)\n",
    "    if val_loss <= min(val_losses):\n",
    "        best_epoch = epoch\n",
    "        print(epoch)\n",
    "        print('Train loss for epoch {}: {}'.format(epoch, train_loss))\n",
    "        print('Val loss for epoch {}: {}'.format(epoch, val_loss))\n",
    "        torch.save(model.state_dict(), '{}/{}_CH{}_LOSS{}_REG{}{}_TW{}_TLENGTH{}_EPOCH{}.pt'.format(model_saving_path, model_type, ch, loss_type, reg_type, alpha, timewindow, T_length, epoch))\n",
    "#     elif verbose:\n",
    "    else:\n",
    "        print('Train loss for epoch {}: {}'.format(epoch, train_loss))\n",
    "        print('Val loss for epoch {}: {}'.format(epoch, val_loss))\n",
    "        \n",
    "#     if epoch == num_epochs-1:\n",
    "#         torch.save(model.state_dict(), '{}/{}_CH{}_LOSS{}_REG{}{}_TW{}_EPOCH{}.pt'.format(model_saving_path, model_type, CH, loss_type, reg_type, alpha, timewindow, epoch))\n",
    "\n",
    "plot_loss_acc(train_losses, val_losses, train_accs, val_accs, model_type)"
   ]
  },
  {
   "cell_type": "code",
   "execution_count": 61,
   "metadata": {},
   "outputs": [
    {
     "name": "stdout",
     "output_type": "stream",
     "text": [
      "/home/bijanadmin/Desktop/Goose_data/data_Goose_1st_2/convLSTM_models/convLSTM_CHall_LOSSbce_REGnone0_TW10_TLENGTH10_trainresult.pt\n"
     ]
    }
   ],
   "source": [
    "train_result_filename = '{}/{}_CH{}_LOSS{}_REG{}{}_TW{}_TLENGTH{}_trainresult.pt'.format(model_saving_path, model_type, ch, loss_type, reg_type, alpha, timewindow, T_length)\n",
    "print(train_result_filename)"
   ]
  },
  {
   "cell_type": "code",
   "execution_count": 62,
   "metadata": {},
   "outputs": [],
   "source": [
    "train_result = {'model_type': model_type, 'train_losses' : train_losses, 'val_losses' : val_losses, 'train_accs': train_accs, 'val_accs': val_accs}\n",
    "\n",
    "pickle.dump( train_result, open( train_result_filename, \"wb\" ) )"
   ]
  },
  {
   "cell_type": "code",
   "execution_count": 63,
   "metadata": {},
   "outputs": [
    {
     "data": {
      "image/png": "[encoded data removed]",
      "text/plain": [
       "<Figure size 864x288 with 2 Axes>"
      ]
     },
     "metadata": {
      "needs_background": "light"
     },
     "output_type": "display_data"
    }
   ],
   "source": [
    "train_result = pickle.load(open(train_result_filename, \"rb\" ))\n",
    "plot_loss_acc( train_result['train_losses'],  train_result['val_losses'],  train_result['train_accs'],  train_result['val_accs'],  train_result['model_type'])"
   ]
  },
  {
   "cell_type": "code",
   "execution_count": 64,
   "metadata": {
    "scrolled": true
   },
   "outputs": [
    {
     "name": "stdout",
     "output_type": "stream",
     "text": [
      "       epoch\n",
      "alpha       \n",
      "0          0\n"
     ]
    }
   ],
   "source": [
    "model_convLSTM = os.listdir(model_saving_path)\n",
    "results = []\n",
    "best_result = 0\n",
    "reg_alpha = 'REG'+reg_type+str(alpha)+'_'\n",
    "tlength = 'TLENGTH'+str(T_length)\n",
    "for i, s in enumerate(model_convLSTM):\n",
    "    if 'convLSTM_CHall_' in s and reg_alpha in s and 'trainresult' not in s and tlength in s and 'valcm' not in s:\n",
    "        model_name = model_convLSTM[i].split('_')\n",
    "        epoch_name = [ind for ind,item in enumerate(np.array(model_name)) if \"EPOCH\" in item]\n",
    "        res = [int(i) for i in model_name[epoch_name[0]] if i.isdigit()]\n",
    "        if len(res) > 1:\n",
    "            epoch_result = res[0]*10+res[1]\n",
    "        else:\n",
    "            epoch_result = res[0]\n",
    "        if epoch_result>best_result and epoch_result != 50:\n",
    "            best_result = epoch_result\n",
    "\n",
    "results.append([alpha,best_result])\n",
    "\n",
    "    \n",
    "results = pd.DataFrame(np.array(results), columns=['alpha', 'epoch'])\n",
    "best_results = results.groupby('alpha').max('epoch')\n",
    "print(best_results)\n"
   ]
  },
  {
   "cell_type": "code",
   "execution_count": 65,
   "metadata": {},
   "outputs": [
    {
     "name": "stdout",
     "output_type": "stream",
     "text": [
      "/home/bijanadmin/Desktop/Goose_data/data_Goose_1st_2/convLSTM_models/convLSTM_CHall_LOSSbce_REGnone0_TW10_TLENGTH10_EPOCH0.pt\n"
     ]
    },
    {
     "name": "stderr",
     "output_type": "stream",
     "text": [
      "<ipython-input-13-894d578093d0>:19: UserWarning: To copy construct from a tensor, it is recommended to use sourceTensor.clone().detach() or sourceTensor.clone().detach().requires_grad_(True), rather than torch.tensor(sourceTensor).\n",
      "  outputs = torch.tensor(outputs).to(device)\n"
     ]
    },
    {
     "name": "stdout",
     "output_type": "stream",
     "text": [
      "validation loss:0.2783173620700836 accuracy:0.8968085106382979\n",
      "/home/bijanadmin/Desktop/Goose_data/data_Goose_1st_2/convLSTM_models/convLSTM_CHall_LOSSbce_REGnone0_TW10_TLENGTH10_valcm.pt\n"
     ]
    },
    {
     "data": {
      "image/png": "[encoded data removed]",
      "text/plain": [
       "<Figure size 432x288 with 2 Axes>"
      ]
     },
     "metadata": {
      "needs_background": "light"
     },
     "output_type": "display_data"
    }
   ],
   "source": [
    "for i,(index,row) in enumerate(best_results.iterrows()):\n",
    "\n",
    "    best_epoch = int(row)\n",
    "    alpha = index\n",
    "    \n",
    "    \n",
    "    # load best model\n",
    "    model = convLSTM(input_dim = 62).to(device)\n",
    "    optimizer = torch.optim.Adam(model.parameters(), lr = learning_rate)\n",
    "    model.load_state_dict(torch.load('{}/{}_CH{}_LOSS{}_REG{}{}_TW{}_TLENGTH{}_EPOCH{}.pt'.format(model_saving_path, model_type, ch, loss_type, reg_type, alpha, timewindow, T_length, best_epoch)))\n",
    "    \n",
    "    print('{}/{}_CH{}_LOSS{}_REG{}{}_TW{}_TLENGTH{}_EPOCH{}.pt'.format(model_saving_path, model_type, ch, loss_type, reg_type, alpha, timewindow,T_length, best_epoch))\n",
    "\n",
    "    \n",
    "    ## Calculate validation accuracy and validation loss\n",
    "    val_loss, val_acc, val_preds, val_labels = evaluate(model, optimizer, criterion, val_loader, device='cuda', collect_result = True)\n",
    "    print('validation loss:{} accuracy:{}'.format(val_loss, val_acc))\n",
    "    \n",
    "#     ## Calculate test accuracy and test loss\n",
    "# #     test_loss, test_acc = evaluate(model, optimizer, criterion, val_loader, device='cuda')\n",
    "# #     print('test loss:{} accuracy:{}'.format(test_loss, test_acc))\n",
    "# #     print(np.mean(np.concatenate(test_labels)))\n",
    "    \n",
    "    ## Confusion matrix-validation\n",
    "    predictions_val = np.concatenate(val_preds)\n",
    "    labels_val = np.concatenate(val_labels)\n",
    "    \n",
    "    val_cm_filename = '{}/{}_CH{}_LOSS{}_REG{}{}_TW{}_TLENGTH{}_valcm.pt'.format(model_saving_path, model_type, ch, loss_type, reg_type, alpha, timewindow, T_length)\n",
    "    print(val_cm_filename)\n",
    "    val_cm_result = {'predictions_val': predictions_val, 'labels_val' : labels_val}\n",
    "\n",
    "    pickle.dump( val_cm_result, open( val_cm_filename, \"wb\" ) )\n",
    "    \n",
    "    \n",
    "    df_val = pd.DataFrame({'predictions': predictions_val, 'labels': labels_val})\n",
    "\n",
    "    cm_val = confusion_matrix(labels_val, predictions_val)\n",
    "    ax = plt.axes()\n",
    "    group_names = ['True Neg','False Pos','False Neg','True Pos']\n",
    "    group_counts = [\"{0:0.0f}\".format(value) for value in\n",
    "                    cm_val.flatten()]\n",
    "\n",
    "    TNR = int(group_counts[0]) / (int(group_counts[0])+int(group_counts[1]))\n",
    "    FPR = 1 - TNR\n",
    "    TPR = int(group_counts[3]) / (int(group_counts[3])+int(group_counts[2]))\n",
    "    FNR = 1-TPR\n",
    "    group_percentages =[TNR, FPR, FNR, TPR]\n",
    "\n",
    "    group_percentages = [\"{0:.2%}\".format(value) for value in\n",
    "                         group_percentages]\n",
    "    labels = [f\"{v1}\\n{v2}\\n{v3}\" for v1, v2, v3 in\n",
    "              zip(group_names,group_counts,group_percentages)]\n",
    "    labels = np.asarray(labels).reshape(2,2)\n",
    "    sn.heatmap(cm_val, annot=labels, fmt='', center = 2000)\n",
    "    ax.set_title('Validation Confusion Matrix')\n",
    "    ax.set_xlabel('Predicted Label')\n",
    "    ax.set_ylabel('True Label')\n",
    "    plt.show()\n",
    "    \n",
    "#     ## Confusion matrix-test\n",
    "#     predictions_test = np.concatenate(test_preds)\n",
    "#     labels_test = np.concatenate(test_labels)\n",
    "\n",
    "#     df_test = pd.DataFrame({'predictions': predictions_test, 'labels': labels_test})\n",
    "\n",
    "#     cm_test = confusion_matrix(labels_test, predictions_test)\n",
    "#     ax = plt.axes()\n",
    "#     group_names = ['True Neg','False Pos','False Neg','True Pos']\n",
    "#     group_counts = [\"{0:0.0f}\".format(value) for value in\n",
    "#                     cm_test.flatten()]\n",
    "\n",
    "#     TNR = int(group_counts[0]) / (int(group_counts[0])+int(group_counts[1]))\n",
    "#     FPR = 1 - TNR\n",
    "#     TPR = int(group_counts[3]) / (int(group_counts[3])+int(group_counts[2]))\n",
    "#     FNR = 1-TPR\n",
    "#     group_percentages =[TNR, FPR, FNR, TPR]\n",
    "\n",
    "#     group_percentages = [\"{0:.2%}\".format(value) for value in\n",
    "#                          group_percentages]\n",
    "#     labels = [f\"{v1}\\n{v2}\\n{v3}\" for v1, v2, v3 in\n",
    "#               zip(group_names,group_counts,group_percentages)]\n",
    "#     labels = np.asarray(labels).reshape(2,2)\n",
    "#     sn.heatmap(cm_test, annot=labels, fmt='', center = 2000)\n",
    "#     ax.set_title('Test Confusion Matrix')\n",
    "#     ax.set_xlabel('Predicted Label')\n",
    "#     ax.set_ylabel('True Label')\n",
    "#     plt.show()\n",
    "    \n"
   ]
  }
 ],
 "metadata": {
  "kernelspec": {
   "display_name": "Python 3",
   "language": "python",
   "name": "python3"
  },
  "language_info": {
   "codemirror_mode": {
    "name": "ipython",
    "version": 3
   },
   "file_extension": ".py",
   "mimetype": "text/x-python",
   "name": "python",
   "nbconvert_exporter": "python",
   "pygments_lexer": "ipython3",
   "version": "3.8.5"
  }
 },
 "nbformat": 4,
 "nbformat_minor": 4
}
