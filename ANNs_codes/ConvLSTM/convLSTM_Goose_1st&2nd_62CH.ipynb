{
 "cells": [
  {
   "cell_type": "markdown",
   "metadata": {},
   "source": [
    "How to print weight for convLSTM?"
   ]
  },
  {
   "cell_type": "markdown",
   "metadata": {},
   "source": [
    "# Load Libraries"
   ]
  },
  {
   "cell_type": "code",
   "execution_count": 1,
   "metadata": {},
   "outputs": [],
   "source": [
    "import numpy as np\n",
    "import pandas as pd\n",
    "import matplotlib.pyplot as plt\n",
    "import torch\n",
    "from torch.utils.data import Dataset, DataLoader\n",
    "from torch import nn\n",
    "from torch.nn.functional import relu\n",
    "from scipy.io import loadmat\n",
    "import os\n",
    "from skimage import io\n",
    "from PIL import Image\n",
    "from sklearn.metrics import confusion_matrix\n",
    "import seaborn as sn\n",
    "import pickle\n",
    "from ConvLSTM_pytorch import convlstm\n",
    "import operator\n",
    "from utils_v4 import *"
   ]
  },
  {
   "cell_type": "markdown",
   "metadata": {},
   "source": [
    "# Load Data"
   ]
  },
  {
   "cell_type": "code",
   "execution_count": 2,
   "metadata": {},
   "outputs": [],
   "source": [
    "#selected subset of dates. \n",
    "val_dates = ['180409','180412','180414']\n",
    "test_dates = ['180411', '180413']\n",
    "bad_dates = ['180326', '180328', '171019', '180715', '180716', '180717']\n",
    "load_path = '/home/bijanadmin/Desktop/Goose_data/data_Goose_all_2/'\n",
    "model_saving_path = '/home/bijanadmin/Desktop/Goose_data/data_Goose_all_2/convLSTM_models'\n",
    "\n",
    "\n",
    "\n"
   ]
  },
  {
   "cell_type": "markdown",
   "metadata": {},
   "source": [
    "## Load data helper functions"
   ]
  },
  {
   "cell_type": "code",
   "execution_count": 3,
   "metadata": {},
   "outputs": [],
   "source": [
    "def create_files_new(load_path, bad_dates, T_length=10, proceed=1): \n",
    "    sleep_files = os.listdir(load_path+'sleep/')\n",
    "    move_files = os.listdir(load_path+'move/')\n",
    "    all_files = sleep_files+move_files\n",
    "    \n",
    "    dic = {}\n",
    "    for f in all_files:\n",
    "        mvmt_type = f.split('_')[-1].split('.')[0]\n",
    "        date = f.split('_')[0]\n",
    "        rec = f.split('_')[1].split('_')[0]\n",
    "        time = float(f.split('_')[3][4:])\n",
    "        if date in bad_dates:\n",
    "            continue\n",
    "        if mvmt_type == 'sleep':\n",
    "            label = 1\n",
    "        else:\n",
    "            label = 0\n",
    "        if date in dic:\n",
    "            if rec in dic[date]:\n",
    "                dic[date][rec].append([f, label, mvmt_type, date, rec, time])\n",
    "            else:\n",
    "                dic[date][rec] = [[f, label, mvmt_type, date, rec, time]]\n",
    "        else:\n",
    "            dic[date] = {rec: [[f, label, mvmt_type, date, rec, time]]}\n",
    "        \n",
    "    for d in dic:\n",
    "        for r in dic[d]:\n",
    "            dic[d][r] = sorted(dic[d][r], key=operator.itemgetter(3, 4, 5))\n",
    "    \n",
    "    move_data, sleep_data = [], []\n",
    "    for d in dic:\n",
    "        for r in dic[d]:\n",
    "            sleep_grouped, move_grouped = create_files_new_helper(dic[d][r], T_length=T_length, proceed=proceed)\n",
    "            sleep_data.append(sleep_grouped)\n",
    "            move_data.append(move_grouped)\n",
    "    \n",
    "    return move_data, sleep_data"
   ]
  },
  {
   "cell_type": "code",
   "execution_count": 4,
   "metadata": {},
   "outputs": [],
   "source": [
    "def create_files_new_helper(L, T_length, proceed):\n",
    "    L_labels = np.array([L[i][1] for i in range(len(L))])\n",
    "    L_times = np.array([L[i][-1] for i in range(len(L))])\n",
    "    \n",
    "    L_new_sleep, L_new_move = [], []\n",
    "    start = 0\n",
    "    while start <= len(L)-T_length:\n",
    "        end = start + T_length\n",
    "        #pdb.pm()\n",
    "        if sum(L_times[start+1:end]-L_times[start:end-1]-time_window) != 0:\n",
    "            start += 1\n",
    "            continue\n",
    "        if sum(L_labels[start:end]) == T_length:\n",
    "            L_new_sleep.append(L[start:end])\n",
    "        elif sum(L_labels[start:end]) == 0:\n",
    "            L_new_move.append(L[start:end])\n",
    "        start += proceed\n",
    "    return L_new_sleep, L_new_move"
   ]
  },
  {
   "cell_type": "code",
   "execution_count": 5,
   "metadata": {},
   "outputs": [],
   "source": [
    "def upsample(train_files):\n",
    "    train_sleep = [i for i in train_files if i[0][1] == 1]\n",
    "    train_move = [i for i in train_files if i[0][1] == 0]\n",
    "    diff = abs(len(train_sleep)-len(train_move))\n",
    "    train_new = []\n",
    "    d = 0\n",
    "    while d < diff:\n",
    "        if len(train_sleep) > len(train_move):\n",
    "            ind = random.randint(0, len(train_move)-1)\n",
    "            x = train_move[ind]\n",
    "            d += 1\n",
    "        else:\n",
    "            ind = random.randint(0, len(train_sleep)-1)\n",
    "            x = train_sleep[ind]\n",
    "            d += 1\n",
    "        train_new.append(x)   \n",
    "    train_files = train_sleep+train_move+train_new\n",
    "    return train_files"
   ]
  },
  {
   "cell_type": "code",
   "execution_count": 6,
   "metadata": {},
   "outputs": [],
   "source": [
    "class SpectrogramDatasetAtt(Dataset):\n",
    "    def __init__(self, files, load_path, T_length, all_label=False, CH=None):\n",
    "        self.CH = CH\n",
    "        self.files = files\n",
    "        self.load_path = load_path\n",
    "        self.T_length = T_length\n",
    "        self.all_label = all_label\n",
    "  \n",
    "    def __len__(self):\n",
    "        return len(self.files)\n",
    "    \n",
    "    def __getitem__(self, idx):\n",
    "        group = self.files[idx]\n",
    "        specs, labels, dates, recs, times = [], [], [], [], []\n",
    "        for i in range(len(group)):\n",
    "            f, label, mvmt_type, date, rec, time = group[i]\n",
    "            spec = torch.from_numpy(np.load(self.load_path+mvmt_type+'/'+f))\n",
    "            if self.CH is not None:\n",
    "                spec = torch.transpose(spec[self.CH,:,:].unsqueeze(0), 2, 1)\n",
    "            else:\n",
    "                spec = torch.transpose(spec, 2, 1)\n",
    "            specs.append(spec)\n",
    "            labels.append(torch.Tensor([label]))\n",
    "            dates.append(date)\n",
    "            recs.append(rec)\n",
    "            times.append(time)\n",
    "            if i == (self.T_length-1)/2:\n",
    "                label_mid = torch.Tensor([label])\n",
    "                date_mid = date\n",
    "                rec_mid = rec\n",
    "                time_mid = time\n",
    "        if self.all_label:\n",
    "            return specs, labels, dates, recs, times\n",
    "        else:\n",
    "            return specs, label_mid, date_mid, rec_mid, time_mid"
   ]
  },
  {
   "cell_type": "markdown",
   "metadata": {},
   "source": [
    "## T-length = 3"
   ]
  },
  {
   "cell_type": "code",
   "execution_count": 7,
   "metadata": {},
   "outputs": [],
   "source": [
    "time_window = 10\n",
    "## Load files\n",
    "move_files, sleep_files = create_files_new(load_path, bad_dates, T_length=3, proceed=3)\n",
    "train_files, val_files, test_files = [], [], []\n",
    "\n",
    "## Put files in val, test, and train\n",
    "for f in move_files+sleep_files:\n",
    "    if f:\n",
    "        if f[0][1][3] in val_dates:\n",
    "            val_files.extend(f)\n",
    "        elif f[0][1][3] in test_dates:\n",
    "            test_files.extend(f)\n",
    "        else:\n",
    "            train_files.extend(f)           "
   ]
  },
  {
   "cell_type": "code",
   "execution_count": 8,
   "metadata": {},
   "outputs": [],
   "source": [
    "## Randomly shuffle inside train, val, and test\n",
    "random.shuffle(train_files)\n",
    "random.shuffle(val_files)\n",
    "random.shuffle(test_files)"
   ]
  },
  {
   "cell_type": "code",
   "execution_count": 9,
   "metadata": {},
   "outputs": [],
   "source": [
    "## Upsample train\n",
    "train_files = upsample(train_files)"
   ]
  },
  {
   "cell_type": "code",
   "execution_count": 10,
   "metadata": {},
   "outputs": [
    {
     "data": {
      "text/plain": [
       "(13420, 1916, 1715)"
      ]
     },
     "execution_count": 10,
     "metadata": {},
     "output_type": "execute_result"
    }
   ],
   "source": [
    "len(train_files), len(val_files), len(test_files)"
   ]
  },
  {
   "cell_type": "code",
   "execution_count": 11,
   "metadata": {},
   "outputs": [],
   "source": [
    "## Load files to dataloader\n",
    "\n",
    "train_dataset = SpectrogramDatasetAtt(files=train_files, load_path=load_path, T_length=3, all_label=True)\n",
    "valid_dataset = SpectrogramDatasetAtt(files=val_files, load_path=load_path, T_length=3, all_label=True)\n",
    "test_dataset = SpectrogramDatasetAtt(files=test_files, load_path=load_path, T_length=3, all_label=True)\n",
    "\n",
    "# train_dataset = SpectrogramDatasetAtt(files=train_files, load_path=load_path, T_length=3, all_label=False, CH=CH)\n",
    "# valid_dataset = SpectrogramDatasetAtt(files=val_files, load_path=load_path, T_length=3, all_label=False, CH=CH)\n",
    "# test_dataset = SpectrogramDatasetAtt(files=test_files, load_path=load_path, T_length=3, all_label=False, CH=CH)\n",
    "\n",
    "train_loader = DataLoader(dataset=train_dataset, batch_size=128, shuffle = True)\n",
    "val_loader = DataLoader(dataset=valid_dataset, batch_size=128, shuffle = False)\n",
    "test_loader = DataLoader(dataset=test_dataset, batch_size=128, shuffle = False)"
   ]
  },
  {
   "cell_type": "code",
   "execution_count": null,
   "metadata": {},
   "outputs": [],
   "source": []
  },
  {
   "cell_type": "markdown",
   "metadata": {},
   "source": [
    "## convLSTM"
   ]
  },
  {
   "cell_type": "code",
   "execution_count": 12,
   "metadata": {},
   "outputs": [],
   "source": [
    "## Define Model\n",
    "class convLSTM(nn.Module):\n",
    "    def __init__(self, input_dim = 1, layers = 1, hidden_dim = 10, frequencies = 100,timewindow = 10, output_size=1, batch_size=128):\n",
    "        super(convLSTM, self).__init__()\n",
    "        \n",
    "        self.input_dim = input_dim\n",
    "        self.output_size = output_size\n",
    "        self.batch_size = batch_size\n",
    "        self.n_layers = layers\n",
    "        self.hidden_dim = hidden_dim\n",
    "        self.freqs = frequencies\n",
    "        self.timewindow = timewindow\n",
    "        \n",
    "        # Define the lstm layer\n",
    "        self.convLSTM = convlstm.ConvLSTM(input_dim=self.input_dim,\n",
    "                 hidden_dim=self.hidden_dim,\n",
    "                 kernel_size=(3, 3),\n",
    "                 num_layers=self.n_layers,\n",
    "                 batch_first=False,\n",
    "                 bias=True,\n",
    "                 return_all_layers=False)\n",
    "        # Define the fully-connected layer\n",
    "#         self.fc = nn.Linear(self.n_layers*self.hidden_dim, output_size)\n",
    "        self.fc = nn.Linear(self.hidden_dim*self.freqs*self.timewindow, output_size)\n",
    "\n",
    "    def forward(self, input_seq):\n",
    "        \n",
    "        # convLSTM\n",
    "        _, last_states = self.convLSTM(input_seq)\n",
    "        last_states = last_states[0][0]\n",
    "        last_states = last_states.reshape(last_states.shape[0], -1)\n",
    "        fc = self.fc(last_states)        \n",
    "\n",
    "        return fc"
   ]
  },
  {
   "cell_type": "markdown",
   "metadata": {},
   "source": [
    "### Training functions"
   ]
  },
  {
   "cell_type": "code",
   "execution_count": 13,
   "metadata": {},
   "outputs": [],
   "source": [
    "def get_accuracy(model, loader, device='cuda', collect_result = False):\n",
    "    \"\"\"\n",
    "    Function that calculate the accuracy of the model. \n",
    "    \"\"\"\n",
    "    correct = 0\n",
    "    total = 0\n",
    "    pred, labs = [],[]\n",
    "    with torch.no_grad():\n",
    "        for data, labels, _, _, _ in loader:\n",
    "            # Labels\n",
    "            labels = torch.stack(labels)\n",
    "            labels = labels[0]\n",
    "            labels = labels.to(device).float()\n",
    "            # Data\n",
    "            data = torch.tensor(np.stack(data)).to(device).float() \n",
    "            data = data.to(device).float()\n",
    "            # Feed data to model\n",
    "            outputs = model(data)            \n",
    "            outputs = torch.tensor(outputs).to(device)\n",
    "            # Predictions\n",
    "            predictions = (outputs > 0.5) * 1.0\n",
    "            predictions = predictions.flatten().detach().cpu().numpy()\n",
    "            labels = labels.flatten().cpu().numpy()\n",
    "            # Calculate Accuracy\n",
    "            total += len(labels)\n",
    "            correct += (predictions == labels).sum()\n",
    "            \n",
    "            if collect_result:\n",
    "                pred.append(predictions)\n",
    "                labs.append(labels)\n",
    "            \n",
    "    accuracy = correct / total\n",
    "    if collect_result:\n",
    "        return accuracy, pred, labs\n",
    "    return accuracy"
   ]
  },
  {
   "cell_type": "code",
   "execution_count": 14,
   "metadata": {},
   "outputs": [],
   "source": [
    "def train(model, optimizer, criterion, loader, device='cuda'):\n",
    "    \"\"\"\n",
    "    Function that train the model. \n",
    "    \"\"\"\n",
    "    model.train()\n",
    "    epoch_losses = 0\n",
    "    epoch_lens = 0\n",
    "    parameter_history = []\n",
    "    # criterion = nn.BCELoss()\n",
    "    for batch_idx, (data, labels, _, _, _) in enumerate(loader):\n",
    "        # Get Label\n",
    "        labels = torch.stack(labels)\n",
    "        labels = labels[0]\n",
    "        labels = torch.flatten(labels).to(device).float()\n",
    "        labels = labels.to(device).float()\n",
    "#         print(batch_idx)\n",
    "        \n",
    "        # Get data\n",
    "        data = torch.tensor(np.stack(data)).to(device).float() \n",
    "        data = data.to(device).float()\n",
    "\n",
    "        # Zero out grad\n",
    "        optimizer.zero_grad()\n",
    "\n",
    "        # Data in model\n",
    "        outputs = model(data)\n",
    "#         outputs = torch.tensor(outputs,requires_grad = True).to(device)\n",
    "        outputs = torch.squeeze(outputs)\n",
    "\n",
    "        # Get loss\n",
    "        loss = criterion(torch.sigmoid(outputs), labels)\n",
    "#         print(loss)\n",
    "        epoch_losses += loss\n",
    "        epoch_lens += 1\n",
    "\n",
    "        parameter_history.append(list(model.parameters())[0])\n",
    "        loss.backward() # error?\n",
    "        optimizer.step()\n",
    "\n",
    "    epoch_accs = get_accuracy(model, loader, device=device, collect_result = False)\n",
    "    return epoch_losses/epoch_lens, epoch_accs, parameter_history\n",
    "\n",
    "def evaluate(model, optimizer, criterion, loader, device='cuda', collect_result = False):\n",
    "    model.eval()\n",
    "    epoch_losses = 0\n",
    "    epoch_lens = 0\n",
    "    \n",
    "    with torch.no_grad():\n",
    "        for batch_idx, (data, labels, _, _, _) in enumerate(loader):\n",
    "            labels = torch.stack(labels)\n",
    "            labels = labels[0]\n",
    "            labels = labels.to(device).float()\n",
    "            labels = torch.flatten(labels).to(device).float()\n",
    "            data = torch.tensor(np.stack(data)).to(device).float() \n",
    "            data = data.to(device).float()\n",
    "            outputs = model(data)\n",
    "#             outputs = torch.tensor(outputs).to(device)\n",
    "            outputs = torch.squeeze(outputs)\n",
    "            loss = criterion(torch.sigmoid(outputs), labels)\n",
    "            epoch_losses += loss\n",
    "            epoch_lens += 1\n",
    "    \n",
    "    if collect_result:\n",
    "        epoch_accs, pred, labs = get_accuracy(model, loader, device = device, collect_result = True)\n",
    "        return epoch_losses/epoch_lens,epoch_accs, pred, labs\n",
    "    else:\n",
    "        epoch_accs = get_accuracy(model, loader, device=device, collect_result = collect_result)\n",
    "    return epoch_losses/epoch_lens, epoch_accs"
   ]
  },
  {
   "cell_type": "markdown",
   "metadata": {},
   "source": [
    "### Training"
   ]
  },
  {
   "cell_type": "code",
   "execution_count": 16,
   "metadata": {},
   "outputs": [
    {
     "name": "stdout",
     "output_type": "stream",
     "text": [
      "convLSTM(\n",
      "  (convLSTM): ConvLSTM(\n",
      "    (cell_list): ModuleList(\n",
      "      (0): ConvLSTMCell(\n",
      "        (conv): Conv2d(72, 40, kernel_size=(3, 3), stride=(1, 1), padding=(1, 1))\n",
      "      )\n",
      "    )\n",
      "  )\n",
      "  (fc): Linear(in_features=10000, out_features=1, bias=True)\n",
      ")\n"
     ]
    }
   ],
   "source": [
    "device = torch.device('cuda')\n",
    "\n",
    "tol = 0.01\n",
    "learning_rate = 0.01\n",
    "num_epochs = 51\n",
    "alpha = 0\n",
    "model_type = 'convLSTM'\n",
    "loss_type = 'bce'\n",
    "reg_type = 'none'\n",
    "alpha = 0\n",
    "timewindow = 10\n",
    "ch = 'all'\n",
    "tlength = 3\n",
    "# verbose = False\n",
    "\n",
    "\n",
    "model = convLSTM(input_dim = 62).to(device)\n",
    "print(model)\n",
    "optimizer = torch.optim.Adam(model.parameters(), lr = learning_rate)\n",
    "criterion = nn.BCELoss() # BCE loss"
   ]
  },
  {
   "cell_type": "code",
   "execution_count": 18,
   "metadata": {
    "scrolled": true
   },
   "outputs": [
    {
     "name": "stderr",
     "output_type": "stream",
     "text": [
      "<ipython-input-13-894d578093d0>:19: UserWarning: To copy construct from a tensor, it is recommended to use sourceTensor.clone().detach() or sourceTensor.clone().detach().requires_grad_(True), rather than torch.tensor(sourceTensor).\n",
      "  outputs = torch.tensor(outputs).to(device)\n"
     ]
    },
    {
     "name": "stdout",
     "output_type": "stream",
     "text": [
      "0\n",
      "Train loss for epoch 0: 0.10496535152196884\n",
      "Val loss for epoch 0: 0.16686028242111206\n",
      "1\n",
      "Train loss for epoch 1: 0.0784769281744957\n",
      "Val loss for epoch 1: 0.15996871888637543\n",
      "Train loss for epoch 2: 0.04006227105855942\n",
      "Val loss for epoch 2: 0.18249201774597168\n",
      "Train loss for epoch 3: 0.021307112649083138\n",
      "Val loss for epoch 3: 0.17629961669445038\n",
      "Train loss for epoch 4: 0.016199497506022453\n",
      "Val loss for epoch 4: 0.200855553150177\n",
      "Train loss for epoch 5: 0.009423335082828999\n",
      "Val loss for epoch 5: 0.28711777925491333\n",
      "Train loss for epoch 6: 0.005252160131931305\n",
      "Val loss for epoch 6: 0.2669503092765808\n",
      "Train loss for epoch 7: 0.0036682768259197474\n",
      "Val loss for epoch 7: 0.28015315532684326\n",
      "Train loss for epoch 8: 0.0027442611753940582\n",
      "Val loss for epoch 8: 0.26035434007644653\n",
      "Train loss for epoch 9: 0.0017559974221512675\n",
      "Val loss for epoch 9: 0.2950598895549774\n",
      "Train loss for epoch 10: 0.001332779647782445\n",
      "Val loss for epoch 10: 0.3582456707954407\n",
      "Train loss for epoch 11: 0.0011065385770052671\n",
      "Val loss for epoch 11: 0.3477456867694855\n",
      "Train loss for epoch 12: 0.0008057950180955231\n",
      "Val loss for epoch 12: 0.27111566066741943\n",
      "Train loss for epoch 13: 0.03953516110777855\n",
      "Val loss for epoch 13: 0.4168850779533386\n",
      "Train loss for epoch 14: 0.12620562314987183\n",
      "Val loss for epoch 14: 0.49377742409706116\n",
      "Train loss for epoch 15: 0.023697618395090103\n",
      "Val loss for epoch 15: 0.9045339226722717\n",
      "Train loss for epoch 16: 0.00840605329722166\n",
      "Val loss for epoch 16: 0.6964995265007019\n",
      "Train loss for epoch 17: 0.005586890038102865\n",
      "Val loss for epoch 17: 0.7422038316726685\n",
      "Train loss for epoch 18: 0.0023384199012070894\n",
      "Val loss for epoch 18: 0.9223753213882446\n",
      "Train loss for epoch 19: 0.0008648082730360329\n",
      "Val loss for epoch 19: 0.8361498117446899\n",
      "Train loss for epoch 20: 0.0016474421136081219\n",
      "Val loss for epoch 20: 0.7819101810455322\n",
      "Train loss for epoch 21: 0.0014431100571528077\n",
      "Val loss for epoch 21: 0.9632912278175354\n",
      "Train loss for epoch 22: 0.000400592980440706\n",
      "Val loss for epoch 22: 0.8323053121566772\n",
      "Train loss for epoch 23: 0.00021016830578446388\n",
      "Val loss for epoch 23: 0.9106119275093079\n",
      "Train loss for epoch 24: 0.0001731504307826981\n",
      "Val loss for epoch 24: 0.8665561676025391\n",
      "Train loss for epoch 25: 0.00013580605445895344\n",
      "Val loss for epoch 25: 0.8713157176971436\n",
      "Train loss for epoch 26: 0.00012225272075738758\n",
      "Val loss for epoch 26: 0.9134660959243774\n",
      "Train loss for epoch 27: 0.00010748684144346043\n",
      "Val loss for epoch 27: 0.929110050201416\n",
      "Train loss for epoch 28: 0.00010252495849272236\n",
      "Val loss for epoch 28: 0.9660710096359253\n",
      "Train loss for epoch 29: 8.604361210018396e-05\n",
      "Val loss for epoch 29: 0.9731254577636719\n",
      "Train loss for epoch 30: 8.061404514592141e-05\n",
      "Val loss for epoch 30: 0.9716499447822571\n",
      "Train loss for epoch 31: 7.347741484409198e-05\n",
      "Val loss for epoch 31: 0.9638317227363586\n",
      "Train loss for epoch 32: 6.880057480884716e-05\n",
      "Val loss for epoch 32: 0.9756354093551636\n",
      "Train loss for epoch 33: 6.364102591760457e-05\n",
      "Val loss for epoch 33: 0.9784290790557861\n",
      "Train loss for epoch 34: 5.889247404411435e-05\n",
      "Val loss for epoch 34: 1.0763710737228394\n",
      "Train loss for epoch 35: 5.4175896366359666e-05\n",
      "Val loss for epoch 35: 0.9786255359649658\n",
      "Train loss for epoch 36: 5.038400195189752e-05\n",
      "Val loss for epoch 36: 1.123957872390747\n",
      "Train loss for epoch 37: 4.735766924568452e-05\n",
      "Val loss for epoch 37: 0.9816200733184814\n",
      "Train loss for epoch 38: 4.498458656598814e-05\n",
      "Val loss for epoch 38: 1.0291450023651123\n",
      "Train loss for epoch 39: 4.149484448134899e-05\n",
      "Val loss for epoch 39: 1.0740078687667847\n",
      "Train loss for epoch 40: 3.8898091588635e-05\n",
      "Val loss for epoch 40: 1.1258076429367065\n",
      "Train loss for epoch 41: 3.597254544729367e-05\n",
      "Val loss for epoch 41: 1.0299946069717407\n",
      "Train loss for epoch 42: 3.386331445653923e-05\n",
      "Val loss for epoch 42: 1.121665358543396\n",
      "Train loss for epoch 43: 3.194611781509593e-05\n",
      "Val loss for epoch 43: 1.0733884572982788\n",
      "Train loss for epoch 44: 3.0332412279676646e-05\n",
      "Val loss for epoch 44: 1.1691577434539795\n",
      "Train loss for epoch 45: 2.8090285923099145e-05\n",
      "Val loss for epoch 45: 1.2219947576522827\n",
      "Train loss for epoch 46: 2.723560646700207e-05\n",
      "Val loss for epoch 46: 1.1210726499557495\n",
      "Train loss for epoch 47: 2.521053647797089e-05\n",
      "Val loss for epoch 47: 1.1648839712142944\n",
      "Train loss for epoch 48: 2.3805341697880067e-05\n",
      "Val loss for epoch 48: 1.2179334163665771\n",
      "Train loss for epoch 49: 2.2409089069697075e-05\n",
      "Val loss for epoch 49: 1.2637640237808228\n",
      "Train loss for epoch 50: 2.1160383766982704e-05\n",
      "Val loss for epoch 50: 1.164428949356079\n"
     ]
    },
    {
     "data": {
      "image/png": "[encoded data removed]",
      "text/plain": [
       "<Figure size 864x288 with 2 Axes>"
      ]
     },
     "metadata": {
      "needs_background": "light"
     },
     "output_type": "display_data"
    }
   ],
   "source": [
    "train_losses, train_accs, val_losses, val_accs, parameter_history = [], [], [], [],[]\n",
    " \n",
    "for epoch in range(num_epochs):\n",
    "    train_loss, train_acc, parameter_history = train(model, optimizer, criterion, train_loader,  device='cuda')\n",
    "    val_loss, val_acc = evaluate(model, optimizer, criterion, val_loader, device='cuda')\n",
    "    train_losses.append(train_loss)\n",
    "    train_accs.append(train_acc)\n",
    "    val_losses.append(val_loss)\n",
    "    val_accs.append(val_acc)\n",
    "    if val_loss <= min(val_losses):\n",
    "        best_epoch = epoch\n",
    "        print(epoch)\n",
    "        print('Train loss for epoch {}: {}'.format(epoch, train_loss))\n",
    "        print('Val loss for epoch {}: {}'.format(epoch, val_loss))\n",
    "        torch.save(model.state_dict(), '{}/{}_CH{}_LOSS{}_REG{}{}_TW{}_TLENGTH{}_EPOCH{}.pt'.format(model_saving_path, model_type, ch, loss_type, reg_type, alpha, timewindow, tlength,epoch))\n",
    "#     elif verbose:\n",
    "    else:\n",
    "        print('Train loss for epoch {}: {}'.format(epoch, train_loss))\n",
    "        print('Val loss for epoch {}: {}'.format(epoch, val_loss))\n",
    "        \n",
    "#     if epoch == num_epochs-1:\n",
    "#         torch.save(model.state_dict(), '{}/{}_CH{}_LOSS{}_REG{}{}_TW{}_EPOCH{}.pt'.format(model_saving_path, model_type, CH, loss_type, reg_type, alpha, timewindow, epoch))\n",
    "\n",
    "plot_loss_acc(train_losses, val_losses, train_accs, val_accs, model_type)"
   ]
  },
  {
   "cell_type": "code",
   "execution_count": 19,
   "metadata": {},
   "outputs": [
    {
     "name": "stdout",
     "output_type": "stream",
     "text": [
      "/home/bijanadmin/Desktop/Goose_data/data_Goose_all_2/convLSTM_models/convLSTM_CHall_LOSSbce_REGnone0_TW10_TLENGTH3_trainresult.pt\n"
     ]
    }
   ],
   "source": [
    "train_result_filename = '{}/{}_CH{}_LOSS{}_REG{}{}_TW{}_TLENGTH{}_trainresult.pt'.format(model_saving_path, model_type, ch, loss_type, reg_type, alpha, timewindow, tlength)\n",
    "print(train_result_filename)"
   ]
  },
  {
   "cell_type": "code",
   "execution_count": 20,
   "metadata": {},
   "outputs": [],
   "source": [
    "train_result = {'model_type': model_type, 'train_losses' : train_losses, 'val_losses' : val_losses, 'train_accs': train_accs, 'val_accs': val_accs}\n",
    "\n",
    "pickle.dump( train_result, open( train_result_filename, \"wb\" ) )"
   ]
  },
  {
   "cell_type": "code",
   "execution_count": 21,
   "metadata": {},
   "outputs": [
    {
     "data": {
      "image/png": "[encoded data removed]",
      "text/plain": [
       "<Figure size 864x288 with 2 Axes>"
      ]
     },
     "metadata": {
      "needs_background": "light"
     },
     "output_type": "display_data"
    }
   ],
   "source": [
    "train_result = pickle.load(open(train_result_filename, \"rb\" ))\n",
    "plot_loss_acc( train_result['train_losses'],  train_result['val_losses'],  train_result['train_accs'],  train_result['val_accs'],  train_result['model_type'])"
   ]
  },
  {
   "cell_type": "code",
   "execution_count": 22,
   "metadata": {
    "scrolled": true
   },
   "outputs": [
    {
     "name": "stdout",
     "output_type": "stream",
     "text": [
      "       epoch\n",
      "alpha       \n",
      "0          1\n"
     ]
    }
   ],
   "source": [
    "model_convLSTM = os.listdir(model_saving_path)\n",
    "results = []\n",
    "best_result = 0\n",
    "reg_alpha = 'REG'+reg_type+str(alpha)+'_'\n",
    "for i, s in enumerate(model_convLSTM):\n",
    "    if 'convLSTM_CHall_' in s and reg_alpha in s and 'trainresult' not in s:\n",
    "        model_name = model_convLSTM[i].split('_')\n",
    "        epoch_name = [ind for ind,item in enumerate(np.array(model_name)) if \"EPOCH\" in item]\n",
    "        res = [int(i) for i in model_name[epoch_name[0]] if i.isdigit()]\n",
    "        if len(res) > 1:\n",
    "            epoch_result = res[0]*10+res[1]\n",
    "        else:\n",
    "            epoch_result = res[0]\n",
    "        if epoch_result>best_result and epoch_result != 50:\n",
    "            best_result = epoch_result\n",
    "\n",
    "results.append([alpha,best_result])\n",
    "\n",
    "    \n",
    "results = pd.DataFrame(np.array(results), columns=['alpha', 'epoch'])\n",
    "best_results = results.groupby('alpha').max('epoch')\n",
    "print(best_results)\n"
   ]
  },
  {
   "cell_type": "code",
   "execution_count": 24,
   "metadata": {},
   "outputs": [
    {
     "name": "stdout",
     "output_type": "stream",
     "text": [
      "/home/bijanadmin/Desktop/Goose_data/data_Goose_all_2/convLSTM_models/convLSTM_CHall_LOSSbce_REGnone0_TW10_TLENGTH3_EPOCH1.pt\n"
     ]
    },
    {
     "name": "stderr",
     "output_type": "stream",
     "text": [
      "<ipython-input-13-894d578093d0>:19: UserWarning: To copy construct from a tensor, it is recommended to use sourceTensor.clone().detach() or sourceTensor.clone().detach().requires_grad_(True), rather than torch.tensor(sourceTensor).\n",
      "  outputs = torch.tensor(outputs).to(device)\n"
     ]
    },
    {
     "name": "stdout",
     "output_type": "stream",
     "text": [
      "validation loss:0.15996871888637543 accuracy:0.954070981210856\n",
      "/home/bijanadmin/Desktop/Goose_data/data_Goose_all_2/convLSTM_models/convLSTM_CHall_LOSSbce_REGnone0_TW10_TLENGTH3_valcm.pt\n"
     ]
    },
    {
     "data": {
      "image/png": "[encoded data removed]",
      "text/plain": [
       "<Figure size 432x288 with 2 Axes>"
      ]
     },
     "metadata": {
      "needs_background": "light"
     },
     "output_type": "display_data"
    }
   ],
   "source": [
    "T_length = 3\n",
    "for i,(index,row) in enumerate(best_results.iterrows()):\n",
    "\n",
    "    best_epoch = int(row)\n",
    "    alpha = index\n",
    "    \n",
    "    \n",
    "    # load best model\n",
    "    model = convLSTM(input_dim = 62).to(device)\n",
    "    optimizer = torch.optim.Adam(model.parameters(), lr = learning_rate)\n",
    "    model.load_state_dict(torch.load('{}/{}_CH{}_LOSS{}_REG{}{}_TW{}_TLENGTH{}_EPOCH{}.pt'.format(model_saving_path, model_type, ch, loss_type, reg_type, alpha, timewindow, T_length, best_epoch)))\n",
    "    \n",
    "    print('{}/{}_CH{}_LOSS{}_REG{}{}_TW{}_TLENGTH{}_EPOCH{}.pt'.format(model_saving_path, model_type, ch, loss_type, reg_type, alpha, timewindow,T_length, best_epoch))\n",
    "\n",
    "    \n",
    "    ## Calculate validation accuracy and validation loss\n",
    "    val_loss, val_acc, val_preds, val_labels = evaluate(model, optimizer, criterion, val_loader, device='cuda', collect_result = True)\n",
    "    print('validation loss:{} accuracy:{}'.format(val_loss, val_acc))\n",
    "    \n",
    "#     ## Calculate test accuracy and test loss\n",
    "# #     test_loss, test_acc = evaluate(model, optimizer, criterion, val_loader, device='cuda')\n",
    "# #     print('test loss:{} accuracy:{}'.format(test_loss, test_acc))\n",
    "# #     print(np.mean(np.concatenate(test_labels)))\n",
    "    \n",
    "    ## Confusion matrix-validation\n",
    "    predictions_val = np.concatenate(val_preds)\n",
    "    labels_val = np.concatenate(val_labels)\n",
    "    \n",
    "    val_cm_filename = '{}/{}_CH{}_LOSS{}_REG{}{}_TW{}_TLENGTH{}_valcm.pt'.format(model_saving_path, model_type, ch, loss_type, reg_type, alpha, timewindow, T_length)\n",
    "    print(val_cm_filename)\n",
    "    val_cm_result = {'predictions_val': predictions_val, 'labels_val' : labels_val}\n",
    "\n",
    "    pickle.dump( val_cm_result, open( val_cm_filename, \"wb\" ) )\n",
    "    \n",
    "    \n",
    "    df_val = pd.DataFrame({'predictions': predictions_val, 'labels': labels_val})\n",
    "\n",
    "    cm_val = confusion_matrix(labels_val, predictions_val)\n",
    "    ax = plt.axes()\n",
    "    group_names = ['True Neg','False Pos','False Neg','True Pos']\n",
    "    group_counts = [\"{0:0.0f}\".format(value) for value in\n",
    "                    cm_val.flatten()]\n",
    "\n",
    "    TNR = int(group_counts[0]) / (int(group_counts[0])+int(group_counts[1]))\n",
    "    FPR = 1 - TNR\n",
    "    TPR = int(group_counts[3]) / (int(group_counts[3])+int(group_counts[2]))\n",
    "    FNR = 1-TPR\n",
    "    group_percentages =[TNR, FPR, FNR, TPR]\n",
    "\n",
    "    group_percentages = [\"{0:.2%}\".format(value) for value in\n",
    "                         group_percentages]\n",
    "    labels = [f\"{v1}\\n{v2}\\n{v3}\" for v1, v2, v3 in\n",
    "              zip(group_names,group_counts,group_percentages)]\n",
    "    labels = np.asarray(labels).reshape(2,2)\n",
    "    sn.heatmap(cm_val, annot=labels, fmt='', center = 2000)\n",
    "    ax.set_title('Validation Confusion Matrix')\n",
    "    ax.set_xlabel('Predicted Label')\n",
    "    ax.set_ylabel('True Label')\n",
    "    plt.show()\n",
    "    \n",
    "#     ## Confusion matrix-test\n",
    "#     predictions_test = np.concatenate(test_preds)\n",
    "#     labels_test = np.concatenate(test_labels)\n",
    "\n",
    "#     df_test = pd.DataFrame({'predictions': predictions_test, 'labels': labels_test})\n",
    "\n",
    "#     cm_test = confusion_matrix(labels_test, predictions_test)\n",
    "#     ax = plt.axes()\n",
    "#     group_names = ['True Neg','False Pos','False Neg','True Pos']\n",
    "#     group_counts = [\"{0:0.0f}\".format(value) for value in\n",
    "#                     cm_test.flatten()]\n",
    "\n",
    "#     TNR = int(group_counts[0]) / (int(group_counts[0])+int(group_counts[1]))\n",
    "#     FPR = 1 - TNR\n",
    "#     TPR = int(group_counts[3]) / (int(group_counts[3])+int(group_counts[2]))\n",
    "#     FNR = 1-TPR\n",
    "#     group_percentages =[TNR, FPR, FNR, TPR]\n",
    "\n",
    "#     group_percentages = [\"{0:.2%}\".format(value) for value in\n",
    "#                          group_percentages]\n",
    "#     labels = [f\"{v1}\\n{v2}\\n{v3}\" for v1, v2, v3 in\n",
    "#               zip(group_names,group_counts,group_percentages)]\n",
    "#     labels = np.asarray(labels).reshape(2,2)\n",
    "#     sn.heatmap(cm_test, annot=labels, fmt='', center = 2000)\n",
    "#     ax.set_title('Test Confusion Matrix')\n",
    "#     ax.set_xlabel('Predicted Label')\n",
    "#     ax.set_ylabel('True Label')\n",
    "#     plt.show()\n",
    "    \n"
   ]
  },
  {
   "cell_type": "code",
   "execution_count": null,
   "metadata": {},
   "outputs": [],
   "source": []
  },
  {
   "cell_type": "markdown",
   "metadata": {},
   "source": [
    "## T-length = 5"
   ]
  },
  {
   "cell_type": "code",
   "execution_count": 25,
   "metadata": {},
   "outputs": [],
   "source": [
    "time_window = 10\n",
    "## Load files\n",
    "move_files, sleep_files = create_files_new(load_path, bad_dates, T_length=3, proceed=3)\n",
    "train_files, val_files, test_files = [], [], []\n",
    "\n",
    "## Put files in val, test, and train\n",
    "for f in move_files+sleep_files:\n",
    "    if f:\n",
    "        if f[0][1][3] in val_dates:\n",
    "            val_files.extend(f)\n",
    "        elif f[0][1][3] in test_dates:\n",
    "            test_files.extend(f)\n",
    "        else:\n",
    "            train_files.extend(f)           "
   ]
  },
  {
   "cell_type": "code",
   "execution_count": 26,
   "metadata": {},
   "outputs": [],
   "source": [
    "## Randomly shuffle inside train, val, and test\n",
    "random.shuffle(train_files)\n",
    "random.shuffle(val_files)\n",
    "random.shuffle(test_files)"
   ]
  },
  {
   "cell_type": "code",
   "execution_count": 27,
   "metadata": {},
   "outputs": [],
   "source": [
    "## Upsample train\n",
    "train_files = upsample(train_files)"
   ]
  },
  {
   "cell_type": "code",
   "execution_count": 28,
   "metadata": {},
   "outputs": [
    {
     "data": {
      "text/plain": [
       "(13420, 1916, 1715)"
      ]
     },
     "execution_count": 28,
     "metadata": {},
     "output_type": "execute_result"
    }
   ],
   "source": [
    "len(train_files), len(val_files), len(test_files)"
   ]
  },
  {
   "cell_type": "code",
   "execution_count": 29,
   "metadata": {},
   "outputs": [],
   "source": [
    "## Load files to dataloader\n",
    "T_length = 5\n",
    "\n",
    "train_dataset = SpectrogramDatasetAtt(files=train_files, load_path=load_path, T_length=T_length, all_label=True)\n",
    "valid_dataset = SpectrogramDatasetAtt(files=val_files, load_path=load_path, T_length=T_length, all_label=True)\n",
    "test_dataset = SpectrogramDatasetAtt(files=test_files, load_path=load_path, T_length=T_length, all_label=True)\n",
    "\n",
    "# train_dataset = SpectrogramDatasetAtt(files=train_files, load_path=load_path, T_length=3, all_label=False, CH=CH)\n",
    "# valid_dataset = SpectrogramDatasetAtt(files=val_files, load_path=load_path, T_length=3, all_label=False, CH=CH)\n",
    "# test_dataset = SpectrogramDatasetAtt(files=test_files, load_path=load_path, T_length=3, all_label=False, CH=CH)\n",
    "\n",
    "train_loader = DataLoader(dataset=train_dataset, batch_size=128, shuffle = True)\n",
    "val_loader = DataLoader(dataset=valid_dataset, batch_size=128, shuffle = False)\n",
    "test_loader = DataLoader(dataset=test_dataset, batch_size=128, shuffle = False)"
   ]
  },
  {
   "cell_type": "markdown",
   "metadata": {},
   "source": [
    "### Training"
   ]
  },
  {
   "cell_type": "code",
   "execution_count": 30,
   "metadata": {},
   "outputs": [
    {
     "name": "stdout",
     "output_type": "stream",
     "text": [
      "convLSTM(\n",
      "  (convLSTM): ConvLSTM(\n",
      "    (cell_list): ModuleList(\n",
      "      (0): ConvLSTMCell(\n",
      "        (conv): Conv2d(72, 40, kernel_size=(3, 3), stride=(1, 1), padding=(1, 1))\n",
      "      )\n",
      "    )\n",
      "  )\n",
      "  (fc): Linear(in_features=10000, out_features=1, bias=True)\n",
      ")\n"
     ]
    }
   ],
   "source": [
    "device = torch.device('cuda')\n",
    "\n",
    "tol = 0.01\n",
    "learning_rate = 0.01\n",
    "num_epochs = 51\n",
    "alpha = 0\n",
    "model_type = 'convLSTM'\n",
    "loss_type = 'bce'\n",
    "reg_type = 'none'\n",
    "alpha = 0\n",
    "timewindow = 10\n",
    "ch = 'all'\n",
    "# verbose = False\n",
    "\n",
    "\n",
    "model = convLSTM(input_dim = 62).to(device)\n",
    "print(model)\n",
    "optimizer = torch.optim.Adam(model.parameters(), lr = learning_rate)\n",
    "criterion = nn.BCELoss() # BCE loss"
   ]
  },
  {
   "cell_type": "code",
   "execution_count": 31,
   "metadata": {
    "scrolled": true
   },
   "outputs": [
    {
     "name": "stderr",
     "output_type": "stream",
     "text": [
      "<ipython-input-13-894d578093d0>:19: UserWarning: To copy construct from a tensor, it is recommended to use sourceTensor.clone().detach() or sourceTensor.clone().detach().requires_grad_(True), rather than torch.tensor(sourceTensor).\n",
      "  outputs = torch.tensor(outputs).to(device)\n"
     ]
    },
    {
     "name": "stdout",
     "output_type": "stream",
     "text": [
      "0\n",
      "Train loss for epoch 0: 0.8277043700218201\n",
      "Val loss for epoch 0: 0.2957892119884491\n",
      "1\n",
      "Train loss for epoch 1: 0.12063498049974442\n",
      "Val loss for epoch 1: 0.2498476654291153\n",
      "Train loss for epoch 2: 0.06620609015226364\n",
      "Val loss for epoch 2: 0.2697792649269104\n",
      "Train loss for epoch 3: 0.04037094861268997\n",
      "Val loss for epoch 3: 0.3360711634159088\n",
      "Train loss for epoch 4: 0.024118635803461075\n",
      "Val loss for epoch 4: 0.38129153847694397\n",
      "Train loss for epoch 5: 0.014990543946623802\n",
      "Val loss for epoch 5: 0.41912025213241577\n",
      "Train loss for epoch 6: 0.007626852486282587\n",
      "Val loss for epoch 6: 0.41660863161087036\n",
      "Train loss for epoch 7: 0.007700806949287653\n",
      "Val loss for epoch 7: 0.5418325066566467\n",
      "Train loss for epoch 8: 0.0033901510760188103\n",
      "Val loss for epoch 8: 0.5454444885253906\n",
      "Train loss for epoch 9: 0.001967074815183878\n",
      "Val loss for epoch 9: 0.4690770208835602\n",
      "Train loss for epoch 10: 0.001267878571525216\n",
      "Val loss for epoch 10: 0.618567705154419\n",
      "Train loss for epoch 11: 0.0009596023010089993\n",
      "Val loss for epoch 11: 0.4868261516094208\n",
      "Train loss for epoch 12: 0.0005571417859755456\n",
      "Val loss for epoch 12: 0.5485600233078003\n",
      "Train loss for epoch 13: 0.000495372514706105\n",
      "Val loss for epoch 13: 0.5518431067466736\n",
      "Train loss for epoch 14: 0.0003508211812004447\n",
      "Val loss for epoch 14: 0.5473141074180603\n",
      "Train loss for epoch 15: 0.0002901520347222686\n",
      "Val loss for epoch 15: 0.5696545839309692\n",
      "Train loss for epoch 16: 0.00025888290838338435\n",
      "Val loss for epoch 16: 0.5654107332229614\n",
      "Train loss for epoch 17: 0.00023269958910532296\n",
      "Val loss for epoch 17: 0.5679852962493896\n",
      "Train loss for epoch 18: 0.00020028151629958302\n",
      "Val loss for epoch 18: 0.567253589630127\n",
      "Train loss for epoch 19: 0.00017965311417356133\n",
      "Val loss for epoch 19: 0.6237190961837769\n",
      "Train loss for epoch 20: 0.00016719101404305547\n",
      "Val loss for epoch 20: 0.5789491534233093\n",
      "Train loss for epoch 21: 0.00015221598732750863\n",
      "Val loss for epoch 21: 0.6256068348884583\n",
      "Train loss for epoch 22: 0.00013596504868473858\n",
      "Val loss for epoch 22: 0.6249751448631287\n",
      "Train loss for epoch 23: 0.00012303845142014325\n",
      "Val loss for epoch 23: 0.6313587427139282\n",
      "Train loss for epoch 24: 0.000112871166493278\n",
      "Val loss for epoch 24: 0.6351467967033386\n",
      "Train loss for epoch 25: 0.00010266023309668526\n",
      "Val loss for epoch 25: 0.633744478225708\n",
      "Train loss for epoch 26: 9.639056224841624e-05\n",
      "Val loss for epoch 26: 0.6358670592308044\n",
      "Train loss for epoch 27: 9.590538684278727e-05\n",
      "Val loss for epoch 27: 0.6353783011436462\n",
      "Train loss for epoch 28: 8.115646051010117e-05\n",
      "Val loss for epoch 28: 0.682780921459198\n",
      "Train loss for epoch 29: 7.410033140331507e-05\n",
      "Val loss for epoch 29: 0.7812332510948181\n",
      "Train loss for epoch 30: 7.284761522896588e-05\n",
      "Val loss for epoch 30: 0.6416422128677368\n",
      "Train loss for epoch 31: 6.650829163845628e-05\n",
      "Val loss for epoch 31: 0.7800549864768982\n",
      "Train loss for epoch 32: 6.155829032650217e-05\n",
      "Val loss for epoch 32: 0.735109269618988\n",
      "Train loss for epoch 33: 5.4978499974822626e-05\n",
      "Val loss for epoch 33: 0.7355323433876038\n",
      "Train loss for epoch 34: 5.171910743229091e-05\n",
      "Val loss for epoch 34: 0.921280026435852\n",
      "Train loss for epoch 35: 4.797488509211689e-05\n",
      "Val loss for epoch 35: 0.9123092889785767\n",
      "Train loss for epoch 36: 4.335145422373898e-05\n",
      "Val loss for epoch 36: 0.9624478816986084\n",
      "Train loss for epoch 37: 4.095510666957125e-05\n",
      "Val loss for epoch 37: 0.919893205165863\n",
      "Train loss for epoch 38: 3.8260797737166286e-05\n",
      "Val loss for epoch 38: 0.9711843132972717\n",
      "Train loss for epoch 39: 3.592772191041149e-05\n",
      "Val loss for epoch 39: 0.9252378344535828\n",
      "Train loss for epoch 40: 3.306697908556089e-05\n",
      "Val loss for epoch 40: 1.0155503749847412\n",
      "Train loss for epoch 41: 3.0597915610997006e-05\n",
      "Val loss for epoch 41: 0.970067024230957\n",
      "Train loss for epoch 42: 2.8858596124337055e-05\n",
      "Val loss for epoch 42: 0.9679375290870667\n",
      "Train loss for epoch 43: 2.7621756089502014e-05\n",
      "Val loss for epoch 43: 0.9223648309707642\n",
      "Train loss for epoch 44: 2.516625499993097e-05\n",
      "Val loss for epoch 44: 0.9281321167945862\n",
      "Train loss for epoch 45: 2.339880848012399e-05\n",
      "Val loss for epoch 45: 0.9744648933410645\n",
      "Train loss for epoch 46: 2.2737716790288687e-05\n",
      "Val loss for epoch 46: 0.9668126106262207\n",
      "Train loss for epoch 47: 2.0601512005669065e-05\n",
      "Val loss for epoch 47: 0.9770781993865967\n",
      "Train loss for epoch 48: 1.8959959561470896e-05\n",
      "Val loss for epoch 48: 0.9746723175048828\n",
      "Train loss for epoch 49: 1.8019349226960912e-05\n",
      "Val loss for epoch 49: 0.9749670028686523\n",
      "Train loss for epoch 50: 1.700870598142501e-05\n",
      "Val loss for epoch 50: 0.9779417514801025\n"
     ]
    },
    {
     "data": {
      "image/png": "[encoded data removed]",
      "text/plain": [
       "<Figure size 864x288 with 2 Axes>"
      ]
     },
     "metadata": {
      "needs_background": "light"
     },
     "output_type": "display_data"
    }
   ],
   "source": [
    "train_losses, train_accs, val_losses, val_accs, parameter_history = [], [], [], [],[]\n",
    " \n",
    "for epoch in range(num_epochs):\n",
    "    train_loss, train_acc, parameter_history = train(model, optimizer, criterion, train_loader,  device='cuda')\n",
    "    val_loss, val_acc = evaluate(model, optimizer, criterion, val_loader, device='cuda')\n",
    "    train_losses.append(train_loss)\n",
    "    train_accs.append(train_acc)\n",
    "    val_losses.append(val_loss)\n",
    "    val_accs.append(val_acc)\n",
    "    if val_loss <= min(val_losses):\n",
    "        best_epoch = epoch\n",
    "        print(epoch)\n",
    "        print('Train loss for epoch {}: {}'.format(epoch, train_loss))\n",
    "        print('Val loss for epoch {}: {}'.format(epoch, val_loss))\n",
    "        torch.save(model.state_dict(), '{}/{}_CH{}_LOSS{}_REG{}{}_TW{}_TLENGTH{}_EPOCH{}.pt'.format(model_saving_path, model_type, ch, loss_type, reg_type, alpha, timewindow, T_length, epoch))\n",
    "#     elif verbose:\n",
    "    else:\n",
    "        print('Train loss for epoch {}: {}'.format(epoch, train_loss))\n",
    "        print('Val loss for epoch {}: {}'.format(epoch, val_loss))\n",
    "        \n",
    "#     if epoch == num_epochs-1:\n",
    "#         torch.save(model.state_dict(), '{}/{}_CH{}_LOSS{}_REG{}{}_TW{}_EPOCH{}.pt'.format(model_saving_path, model_type, CH, loss_type, reg_type, alpha, timewindow, epoch))\n",
    "\n",
    "plot_loss_acc(train_losses, val_losses, train_accs, val_accs, model_type)"
   ]
  },
  {
   "cell_type": "code",
   "execution_count": 32,
   "metadata": {},
   "outputs": [
    {
     "name": "stdout",
     "output_type": "stream",
     "text": [
      "/home/bijanadmin/Desktop/Goose_data/data_Goose_all_2/convLSTM_models/convLSTM_CHall_LOSSbce_REGnone0_TW10_TLENGTH5_trainresult.pt\n"
     ]
    }
   ],
   "source": [
    "train_result_filename = '{}/{}_CH{}_LOSS{}_REG{}{}_TW{}_TLENGTH{}_trainresult.pt'.format(model_saving_path, model_type, ch, loss_type, reg_type, alpha, timewindow, T_length)\n",
    "print(train_result_filename)"
   ]
  },
  {
   "cell_type": "code",
   "execution_count": 33,
   "metadata": {},
   "outputs": [],
   "source": [
    "train_result = {'model_type': model_type, 'train_losses' : train_losses, 'val_losses' : val_losses, 'train_accs': train_accs, 'val_accs': val_accs}\n",
    "\n",
    "pickle.dump( train_result, open( train_result_filename, \"wb\" ) )"
   ]
  },
  {
   "cell_type": "code",
   "execution_count": 34,
   "metadata": {},
   "outputs": [
    {
     "data": {
      "image/png": "[encoded data removed]",
      "text/plain": [
       "<Figure size 864x288 with 2 Axes>"
      ]
     },
     "metadata": {
      "needs_background": "light"
     },
     "output_type": "display_data"
    }
   ],
   "source": [
    "train_result = pickle.load(open(train_result_filename, \"rb\" ))\n",
    "plot_loss_acc( train_result['train_losses'],  train_result['val_losses'],  train_result['train_accs'],  train_result['val_accs'],  train_result['model_type'])"
   ]
  },
  {
   "cell_type": "code",
   "execution_count": 35,
   "metadata": {
    "scrolled": true
   },
   "outputs": [
    {
     "name": "stdout",
     "output_type": "stream",
     "text": [
      "       epoch\n",
      "alpha       \n",
      "0          1\n"
     ]
    }
   ],
   "source": [
    "model_convLSTM = os.listdir(model_saving_path)\n",
    "results = []\n",
    "best_result = 0\n",
    "reg_alpha = 'REG'+reg_type+str(alpha)+'_'\n",
    "tlength = 'TLENGTH'+str(T_length)\n",
    "for i, s in enumerate(model_convLSTM):\n",
    "    if 'convLSTM_CHall_' in s and reg_alpha in s and 'trainresult' not in s and tlength in s and 'valcm' not in s:\n",
    "        model_name = model_convLSTM[i].split('_')\n",
    "        epoch_name = [ind for ind,item in enumerate(np.array(model_name)) if \"EPOCH\" in item]\n",
    "        res = [int(i) for i in model_name[epoch_name[0]] if i.isdigit()]\n",
    "        if len(res) > 1:\n",
    "            epoch_result = res[0]*10+res[1]\n",
    "        else:\n",
    "            epoch_result = res[0]\n",
    "        if epoch_result>best_result and epoch_result != 50:\n",
    "            best_result = epoch_result\n",
    "\n",
    "results.append([alpha,best_result])\n",
    "\n",
    "    \n",
    "results = pd.DataFrame(np.array(results), columns=['alpha', 'epoch'])\n",
    "best_results = results.groupby('alpha').max('epoch')\n",
    "print(best_results)\n"
   ]
  },
  {
   "cell_type": "code",
   "execution_count": 36,
   "metadata": {},
   "outputs": [
    {
     "name": "stdout",
     "output_type": "stream",
     "text": [
      "/home/bijanadmin/Desktop/Goose_data/data_Goose_all_2/convLSTM_models/convLSTM_CHall_LOSSbce_REGnone0_TW10_TLENGTH5_EPOCH1.pt\n"
     ]
    },
    {
     "name": "stderr",
     "output_type": "stream",
     "text": [
      "<ipython-input-13-894d578093d0>:19: UserWarning: To copy construct from a tensor, it is recommended to use sourceTensor.clone().detach() or sourceTensor.clone().detach().requires_grad_(True), rather than torch.tensor(sourceTensor).\n",
      "  outputs = torch.tensor(outputs).to(device)\n"
     ]
    },
    {
     "name": "stdout",
     "output_type": "stream",
     "text": [
      "validation loss:0.2498476654291153 accuracy:0.9206680584551148\n",
      "/home/bijanadmin/Desktop/Goose_data/data_Goose_all_2/convLSTM_models/convLSTM_CHall_LOSSbce_REGnone0_TW10_TLENGTH5_valcm.pt\n"
     ]
    },
    {
     "data": {
      "image/png": "[encoded data removed]",
      "text/plain": [
       "<Figure size 432x288 with 2 Axes>"
      ]
     },
     "metadata": {
      "needs_background": "light"
     },
     "output_type": "display_data"
    }
   ],
   "source": [
    "for i,(index,row) in enumerate(best_results.iterrows()):\n",
    "\n",
    "    best_epoch = int(row)\n",
    "    alpha = index\n",
    "    \n",
    "    \n",
    "    # load best model\n",
    "    model = convLSTM(input_dim = 62).to(device)\n",
    "    optimizer = torch.optim.Adam(model.parameters(), lr = learning_rate)\n",
    "    model.load_state_dict(torch.load('{}/{}_CH{}_LOSS{}_REG{}{}_TW{}_TLENGTH{}_EPOCH{}.pt'.format(model_saving_path, model_type, ch, loss_type, reg_type, alpha, timewindow, T_length, best_epoch)))\n",
    "    \n",
    "    print('{}/{}_CH{}_LOSS{}_REG{}{}_TW{}_TLENGTH{}_EPOCH{}.pt'.format(model_saving_path, model_type, ch, loss_type, reg_type, alpha, timewindow,T_length, best_epoch))\n",
    "\n",
    "    \n",
    "    ## Calculate validation accuracy and validation loss\n",
    "    val_loss, val_acc, val_preds, val_labels = evaluate(model, optimizer, criterion, val_loader, device='cuda', collect_result = True)\n",
    "    print('validation loss:{} accuracy:{}'.format(val_loss, val_acc))\n",
    "    \n",
    "#     ## Calculate test accuracy and test loss\n",
    "# #     test_loss, test_acc = evaluate(model, optimizer, criterion, val_loader, device='cuda')\n",
    "# #     print('test loss:{} accuracy:{}'.format(test_loss, test_acc))\n",
    "# #     print(np.mean(np.concatenate(test_labels)))\n",
    "    \n",
    "    ## Confusion matrix-validation\n",
    "    predictions_val = np.concatenate(val_preds)\n",
    "    labels_val = np.concatenate(val_labels)\n",
    "    \n",
    "    val_cm_filename = '{}/{}_CH{}_LOSS{}_REG{}{}_TW{}_TLENGTH{}_valcm.pt'.format(model_saving_path, model_type, ch, loss_type, reg_type, alpha, timewindow, T_length)\n",
    "    print(val_cm_filename)\n",
    "    val_cm_result = {'predictions_val': predictions_val, 'labels_val' : labels_val}\n",
    "\n",
    "    pickle.dump( val_cm_result, open( val_cm_filename, \"wb\" ) )\n",
    "    \n",
    "    \n",
    "    df_val = pd.DataFrame({'predictions': predictions_val, 'labels': labels_val})\n",
    "\n",
    "    cm_val = confusion_matrix(labels_val, predictions_val)\n",
    "    ax = plt.axes()\n",
    "    group_names = ['True Neg','False Pos','False Neg','True Pos']\n",
    "    group_counts = [\"{0:0.0f}\".format(value) for value in\n",
    "                    cm_val.flatten()]\n",
    "\n",
    "    TNR = int(group_counts[0]) / (int(group_counts[0])+int(group_counts[1]))\n",
    "    FPR = 1 - TNR\n",
    "    TPR = int(group_counts[3]) / (int(group_counts[3])+int(group_counts[2]))\n",
    "    FNR = 1-TPR\n",
    "    group_percentages =[TNR, FPR, FNR, TPR]\n",
    "\n",
    "    group_percentages = [\"{0:.2%}\".format(value) for value in\n",
    "                         group_percentages]\n",
    "    labels = [f\"{v1}\\n{v2}\\n{v3}\" for v1, v2, v3 in\n",
    "              zip(group_names,group_counts,group_percentages)]\n",
    "    labels = np.asarray(labels).reshape(2,2)\n",
    "    sn.heatmap(cm_val, annot=labels, fmt='', center = 2000)\n",
    "    ax.set_title('Validation Confusion Matrix')\n",
    "    ax.set_xlabel('Predicted Label')\n",
    "    ax.set_ylabel('True Label')\n",
    "    plt.show()\n",
    "    \n",
    "#     ## Confusion matrix-test\n",
    "#     predictions_test = np.concatenate(test_preds)\n",
    "#     labels_test = np.concatenate(test_labels)\n",
    "\n",
    "#     df_test = pd.DataFrame({'predictions': predictions_test, 'labels': labels_test})\n",
    "\n",
    "#     cm_test = confusion_matrix(labels_test, predictions_test)\n",
    "#     ax = plt.axes()\n",
    "#     group_names = ['True Neg','False Pos','False Neg','True Pos']\n",
    "#     group_counts = [\"{0:0.0f}\".format(value) for value in\n",
    "#                     cm_test.flatten()]\n",
    "\n",
    "#     TNR = int(group_counts[0]) / (int(group_counts[0])+int(group_counts[1]))\n",
    "#     FPR = 1 - TNR\n",
    "#     TPR = int(group_counts[3]) / (int(group_counts[3])+int(group_counts[2]))\n",
    "#     FNR = 1-TPR\n",
    "#     group_percentages =[TNR, FPR, FNR, TPR]\n",
    "\n",
    "#     group_percentages = [\"{0:.2%}\".format(value) for value in\n",
    "#                          group_percentages]\n",
    "#     labels = [f\"{v1}\\n{v2}\\n{v3}\" for v1, v2, v3 in\n",
    "#               zip(group_names,group_counts,group_percentages)]\n",
    "#     labels = np.asarray(labels).reshape(2,2)\n",
    "#     sn.heatmap(cm_test, annot=labels, fmt='', center = 2000)\n",
    "#     ax.set_title('Test Confusion Matrix')\n",
    "#     ax.set_xlabel('Predicted Label')\n",
    "#     ax.set_ylabel('True Label')\n",
    "#     plt.show()\n",
    "    \n"
   ]
  },
  {
   "cell_type": "code",
   "execution_count": null,
   "metadata": {},
   "outputs": [],
   "source": []
  },
  {
   "cell_type": "code",
   "execution_count": null,
   "metadata": {},
   "outputs": [],
   "source": []
  },
  {
   "cell_type": "markdown",
   "metadata": {},
   "source": [
    "## T-length = 10"
   ]
  },
  {
   "cell_type": "code",
   "execution_count": 37,
   "metadata": {},
   "outputs": [],
   "source": [
    "time_window = 10\n",
    "## Load files\n",
    "move_files, sleep_files = create_files_new(load_path, bad_dates, T_length=3, proceed=3)\n",
    "train_files, val_files, test_files = [], [], []\n",
    "\n",
    "## Put files in val, test, and train\n",
    "for f in move_files+sleep_files:\n",
    "    if f:\n",
    "        if f[0][1][3] in val_dates:\n",
    "            val_files.extend(f)\n",
    "        elif f[0][1][3] in test_dates:\n",
    "            test_files.extend(f)\n",
    "        else:\n",
    "            train_files.extend(f)           "
   ]
  },
  {
   "cell_type": "code",
   "execution_count": 38,
   "metadata": {},
   "outputs": [],
   "source": [
    "## Randomly shuffle inside train, val, and test\n",
    "random.shuffle(train_files)\n",
    "random.shuffle(val_files)\n",
    "random.shuffle(test_files)"
   ]
  },
  {
   "cell_type": "code",
   "execution_count": 39,
   "metadata": {},
   "outputs": [],
   "source": [
    "## Upsample train\n",
    "train_files = upsample(train_files)"
   ]
  },
  {
   "cell_type": "code",
   "execution_count": 40,
   "metadata": {},
   "outputs": [
    {
     "data": {
      "text/plain": [
       "(13420, 1916, 1715)"
      ]
     },
     "execution_count": 40,
     "metadata": {},
     "output_type": "execute_result"
    }
   ],
   "source": [
    "len(train_files), len(val_files), len(test_files)"
   ]
  },
  {
   "cell_type": "code",
   "execution_count": 41,
   "metadata": {},
   "outputs": [],
   "source": [
    "## Load files to dataloader\n",
    "T_length = 10\n",
    "\n",
    "train_dataset = SpectrogramDatasetAtt(files=train_files, load_path=load_path, T_length=T_length, all_label=True)\n",
    "valid_dataset = SpectrogramDatasetAtt(files=val_files, load_path=load_path, T_length=T_length, all_label=True)\n",
    "test_dataset = SpectrogramDatasetAtt(files=test_files, load_path=load_path, T_length=T_length, all_label=True)\n",
    "\n",
    "# train_dataset = SpectrogramDatasetAtt(files=train_files, load_path=load_path, T_length=3, all_label=False, CH=CH)\n",
    "# valid_dataset = SpectrogramDatasetAtt(files=val_files, load_path=load_path, T_length=3, all_label=False, CH=CH)\n",
    "# test_dataset = SpectrogramDatasetAtt(files=test_files, load_path=load_path, T_length=3, all_label=False, CH=CH)\n",
    "\n",
    "train_loader = DataLoader(dataset=train_dataset, batch_size=128, shuffle = True)\n",
    "val_loader = DataLoader(dataset=valid_dataset, batch_size=128, shuffle = False)\n",
    "test_loader = DataLoader(dataset=test_dataset, batch_size=128, shuffle = False)"
   ]
  },
  {
   "cell_type": "markdown",
   "metadata": {},
   "source": [
    "### Training"
   ]
  },
  {
   "cell_type": "code",
   "execution_count": 42,
   "metadata": {},
   "outputs": [
    {
     "name": "stdout",
     "output_type": "stream",
     "text": [
      "convLSTM(\n",
      "  (convLSTM): ConvLSTM(\n",
      "    (cell_list): ModuleList(\n",
      "      (0): ConvLSTMCell(\n",
      "        (conv): Conv2d(72, 40, kernel_size=(3, 3), stride=(1, 1), padding=(1, 1))\n",
      "      )\n",
      "    )\n",
      "  )\n",
      "  (fc): Linear(in_features=10000, out_features=1, bias=True)\n",
      ")\n"
     ]
    }
   ],
   "source": [
    "device = torch.device('cuda')\n",
    "\n",
    "tol = 0.01\n",
    "learning_rate = 0.01\n",
    "num_epochs = 51\n",
    "alpha = 0\n",
    "model_type = 'convLSTM'\n",
    "loss_type = 'bce'\n",
    "reg_type = 'none'\n",
    "alpha = 0\n",
    "timewindow = 10\n",
    "ch = 'all'\n",
    "# verbose = False\n",
    "\n",
    "\n",
    "model = convLSTM(input_dim = 62).to(device)\n",
    "print(model)\n",
    "optimizer = torch.optim.Adam(model.parameters(), lr = learning_rate)\n",
    "criterion = nn.BCELoss() # BCE loss"
   ]
  },
  {
   "cell_type": "code",
   "execution_count": 43,
   "metadata": {
    "scrolled": true
   },
   "outputs": [
    {
     "name": "stderr",
     "output_type": "stream",
     "text": [
      "<ipython-input-13-894d578093d0>:19: UserWarning: To copy construct from a tensor, it is recommended to use sourceTensor.clone().detach() or sourceTensor.clone().detach().requires_grad_(True), rather than torch.tensor(sourceTensor).\n",
      "  outputs = torch.tensor(outputs).to(device)\n"
     ]
    },
    {
     "name": "stdout",
     "output_type": "stream",
     "text": [
      "0\n",
      "Train loss for epoch 0: 0.6595047116279602\n",
      "Val loss for epoch 0: 0.29397717118263245\n",
      "1\n",
      "Train loss for epoch 1: 0.20630545914173126\n",
      "Val loss for epoch 1: 0.2118079513311386\n",
      "Train loss for epoch 2: 0.10689122974872589\n",
      "Val loss for epoch 2: 0.29935869574546814\n",
      "Train loss for epoch 3: 0.07623035460710526\n",
      "Val loss for epoch 3: 0.45945990085601807\n",
      "Train loss for epoch 4: 0.04141548275947571\n",
      "Val loss for epoch 4: 0.30983710289001465\n",
      "Train loss for epoch 5: 0.08927543461322784\n",
      "Val loss for epoch 5: 0.4730668067932129\n",
      "Train loss for epoch 6: 0.04413643106818199\n",
      "Val loss for epoch 6: 1.113507866859436\n",
      "Train loss for epoch 7: 0.02463441528379917\n",
      "Val loss for epoch 7: 1.337969183921814\n",
      "Train loss for epoch 8: 0.015291674062609673\n",
      "Val loss for epoch 8: 1.198746919631958\n",
      "Train loss for epoch 9: 0.01881829835474491\n",
      "Val loss for epoch 9: 0.9643669724464417\n",
      "Train loss for epoch 10: 0.017083309590816498\n",
      "Val loss for epoch 10: 0.9998220205307007\n",
      "Train loss for epoch 11: 0.012651536613702774\n",
      "Val loss for epoch 11: 1.238560676574707\n",
      "Train loss for epoch 12: 0.00881111342459917\n",
      "Val loss for epoch 12: 1.2558683156967163\n",
      "Train loss for epoch 13: 0.0073373098857700825\n",
      "Val loss for epoch 13: 0.9088159203529358\n",
      "Train loss for epoch 14: 0.03658830374479294\n",
      "Val loss for epoch 14: 1.0942275524139404\n",
      "Train loss for epoch 15: 0.02610565721988678\n",
      "Val loss for epoch 15: 1.6193640232086182\n",
      "Train loss for epoch 16: 0.0045845783315598965\n",
      "Val loss for epoch 16: 1.3447644710540771\n",
      "Train loss for epoch 17: 0.0012005773605778813\n",
      "Val loss for epoch 17: 1.7355726957321167\n",
      "Train loss for epoch 18: 0.0007359645678661764\n",
      "Val loss for epoch 18: 1.6710474491119385\n",
      "Train loss for epoch 19: 0.00046127676614560187\n",
      "Val loss for epoch 19: 1.6540069580078125\n",
      "Train loss for epoch 20: 0.0003328132734168321\n",
      "Val loss for epoch 20: 1.8082191944122314\n",
      "Train loss for epoch 21: 0.0002627208596095443\n",
      "Val loss for epoch 21: 1.6461857557296753\n",
      "Train loss for epoch 22: 0.000224694813368842\n",
      "Val loss for epoch 22: 1.6927897930145264\n",
      "Train loss for epoch 23: 0.0001933849125634879\n",
      "Val loss for epoch 23: 1.688704013824463\n",
      "Train loss for epoch 24: 0.00017496875079814345\n",
      "Val loss for epoch 24: 1.6923694610595703\n",
      "Train loss for epoch 25: 0.00015970028471201658\n",
      "Val loss for epoch 25: 1.7889559268951416\n",
      "Train loss for epoch 26: 0.0001329936640104279\n",
      "Val loss for epoch 26: 1.740676999092102\n",
      "Train loss for epoch 27: 0.00011963144061155617\n",
      "Val loss for epoch 27: 1.7908157110214233\n",
      "Train loss for epoch 28: 0.00011248305963817984\n",
      "Val loss for epoch 28: 1.7372487783432007\n",
      "Train loss for epoch 29: 0.00010121356172021478\n",
      "Val loss for epoch 29: 1.691100835800171\n",
      "Train loss for epoch 30: 9.420742571819574e-05\n",
      "Val loss for epoch 30: 1.792557716369629\n",
      "Train loss for epoch 31: 8.379451173823327e-05\n",
      "Val loss for epoch 31: 1.7412924766540527\n",
      "Train loss for epoch 32: 7.719708082731813e-05\n",
      "Val loss for epoch 32: 1.7390445470809937\n",
      "Train loss for epoch 33: 6.890563963679597e-05\n",
      "Val loss for epoch 33: 1.683410406112671\n",
      "Train loss for epoch 34: 6.609537376789376e-05\n",
      "Val loss for epoch 34: 1.7380801439285278\n",
      "Train loss for epoch 35: 6.314167694654316e-05\n",
      "Val loss for epoch 35: 1.7367568016052246\n",
      "Train loss for epoch 36: 5.6723209127085283e-05\n",
      "Val loss for epoch 36: 1.690864086151123\n",
      "Train loss for epoch 37: 5.4395422921516e-05\n",
      "Val loss for epoch 37: 1.6908845901489258\n",
      "Train loss for epoch 38: 4.924309178022668e-05\n",
      "Val loss for epoch 38: 1.7876458168029785\n",
      "Train loss for epoch 39: 4.621780681191012e-05\n",
      "Val loss for epoch 39: 1.7858163118362427\n",
      "Train loss for epoch 40: 4.3985972297377884e-05\n",
      "Val loss for epoch 40: 1.7839505672454834\n",
      "Train loss for epoch 41: 4.1081842937273905e-05\n",
      "Val loss for epoch 41: 1.7890052795410156\n",
      "Train loss for epoch 42: 3.785441003856249e-05\n",
      "Val loss for epoch 42: 1.7852452993392944\n",
      "Train loss for epoch 43: 3.572325294953771e-05\n",
      "Val loss for epoch 43: 1.7854417562484741\n",
      "Train loss for epoch 44: 3.268187720095739e-05\n",
      "Val loss for epoch 44: 1.7850841283798218\n",
      "Train loss for epoch 45: 3.008942076121457e-05\n",
      "Val loss for epoch 45: 1.7326990365982056\n",
      "Train loss for epoch 46: 2.8722857678076252e-05\n",
      "Val loss for epoch 46: 1.7835465669631958\n",
      "Train loss for epoch 47: 2.8403788746800274e-05\n",
      "Val loss for epoch 47: 1.7955167293548584\n",
      "Train loss for epoch 48: 2.6061323296744376e-05\n",
      "Val loss for epoch 48: 1.7815823554992676\n",
      "Train loss for epoch 49: 2.3775626686983742e-05\n",
      "Val loss for epoch 49: 1.7900749444961548\n",
      "Train loss for epoch 50: 2.27067903324496e-05\n",
      "Val loss for epoch 50: 1.7921764850616455\n"
     ]
    },
    {
     "data": {
      "image/png": "[encoded data removed]",
      "text/plain": [
       "<Figure size 864x288 with 2 Axes>"
      ]
     },
     "metadata": {
      "needs_background": "light"
     },
     "output_type": "display_data"
    }
   ],
   "source": [
    "train_losses, train_accs, val_losses, val_accs, parameter_history = [], [], [], [],[]\n",
    " \n",
    "for epoch in range(num_epochs):\n",
    "    train_loss, train_acc, parameter_history = train(model, optimizer, criterion, train_loader,  device='cuda')\n",
    "    val_loss, val_acc = evaluate(model, optimizer, criterion, val_loader, device='cuda')\n",
    "    train_losses.append(train_loss)\n",
    "    train_accs.append(train_acc)\n",
    "    val_losses.append(val_loss)\n",
    "    val_accs.append(val_acc)\n",
    "    if val_loss <= min(val_losses):\n",
    "        best_epoch = epoch\n",
    "        print(epoch)\n",
    "        print('Train loss for epoch {}: {}'.format(epoch, train_loss))\n",
    "        print('Val loss for epoch {}: {}'.format(epoch, val_loss))\n",
    "        torch.save(model.state_dict(), '{}/{}_CH{}_LOSS{}_REG{}{}_TW{}_TLENGTH{}_EPOCH{}.pt'.format(model_saving_path, model_type, ch, loss_type, reg_type, alpha, timewindow, T_length, epoch))\n",
    "#     elif verbose:\n",
    "    else:\n",
    "        print('Train loss for epoch {}: {}'.format(epoch, train_loss))\n",
    "        print('Val loss for epoch {}: {}'.format(epoch, val_loss))\n",
    "        \n",
    "#     if epoch == num_epochs-1:\n",
    "#         torch.save(model.state_dict(), '{}/{}_CH{}_LOSS{}_REG{}{}_TW{}_EPOCH{}.pt'.format(model_saving_path, model_type, CH, loss_type, reg_type, alpha, timewindow, epoch))\n",
    "\n",
    "plot_loss_acc(train_losses, val_losses, train_accs, val_accs, model_type)"
   ]
  },
  {
   "cell_type": "code",
   "execution_count": 44,
   "metadata": {},
   "outputs": [
    {
     "name": "stdout",
     "output_type": "stream",
     "text": [
      "/home/bijanadmin/Desktop/Goose_data/data_Goose_all_2/convLSTM_models/convLSTM_CHall_LOSSbce_REGnone0_TW10_TLENGTH10_trainresult.pt\n"
     ]
    }
   ],
   "source": [
    "train_result_filename = '{}/{}_CH{}_LOSS{}_REG{}{}_TW{}_TLENGTH{}_trainresult.pt'.format(model_saving_path, model_type, ch, loss_type, reg_type, alpha, timewindow, T_length)\n",
    "print(train_result_filename)"
   ]
  },
  {
   "cell_type": "code",
   "execution_count": 45,
   "metadata": {},
   "outputs": [],
   "source": [
    "train_result = {'model_type': model_type, 'train_losses' : train_losses, 'val_losses' : val_losses, 'train_accs': train_accs, 'val_accs': val_accs}\n",
    "\n",
    "pickle.dump( train_result, open( train_result_filename, \"wb\" ) )"
   ]
  },
  {
   "cell_type": "code",
   "execution_count": 46,
   "metadata": {},
   "outputs": [
    {
     "data": {
      "image/png": "[encoded data removed]",
      "text/plain": [
       "<Figure size 864x288 with 2 Axes>"
      ]
     },
     "metadata": {
      "needs_background": "light"
     },
     "output_type": "display_data"
    }
   ],
   "source": [
    "train_result = pickle.load(open(train_result_filename, \"rb\" ))\n",
    "plot_loss_acc( train_result['train_losses'],  train_result['val_losses'],  train_result['train_accs'],  train_result['val_accs'],  train_result['model_type'])"
   ]
  },
  {
   "cell_type": "code",
   "execution_count": 47,
   "metadata": {
    "scrolled": true
   },
   "outputs": [
    {
     "name": "stdout",
     "output_type": "stream",
     "text": [
      "       epoch\n",
      "alpha       \n",
      "0          1\n"
     ]
    }
   ],
   "source": [
    "model_convLSTM = os.listdir(model_saving_path)\n",
    "results = []\n",
    "best_result = 0\n",
    "reg_alpha = 'REG'+reg_type+str(alpha)+'_'\n",
    "tlength = 'TLENGTH'+str(T_length)\n",
    "for i, s in enumerate(model_convLSTM):\n",
    "    if 'convLSTM_CHall_' in s and reg_alpha in s and 'trainresult' not in s and tlength in s and 'valcm' not in s:\n",
    "        model_name = model_convLSTM[i].split('_')\n",
    "        epoch_name = [ind for ind,item in enumerate(np.array(model_name)) if \"EPOCH\" in item]\n",
    "        res = [int(i) for i in model_name[epoch_name[0]] if i.isdigit()]\n",
    "        if len(res) > 1:\n",
    "            epoch_result = res[0]*10+res[1]\n",
    "        else:\n",
    "            epoch_result = res[0]\n",
    "        if epoch_result>best_result and epoch_result != 50:\n",
    "            best_result = epoch_result\n",
    "\n",
    "results.append([alpha,best_result])\n",
    "\n",
    "    \n",
    "results = pd.DataFrame(np.array(results), columns=['alpha', 'epoch'])\n",
    "best_results = results.groupby('alpha').max('epoch')\n",
    "print(best_results)\n"
   ]
  },
  {
   "cell_type": "code",
   "execution_count": 48,
   "metadata": {},
   "outputs": [
    {
     "name": "stdout",
     "output_type": "stream",
     "text": [
      "/home/bijanadmin/Desktop/Goose_data/data_Goose_all_2/convLSTM_models/convLSTM_CHall_LOSSbce_REGnone0_TW10_TLENGTH10_EPOCH1.pt\n"
     ]
    },
    {
     "name": "stderr",
     "output_type": "stream",
     "text": [
      "<ipython-input-13-894d578093d0>:19: UserWarning: To copy construct from a tensor, it is recommended to use sourceTensor.clone().detach() or sourceTensor.clone().detach().requires_grad_(True), rather than torch.tensor(sourceTensor).\n",
      "  outputs = torch.tensor(outputs).to(device)\n"
     ]
    },
    {
     "name": "stdout",
     "output_type": "stream",
     "text": [
      "validation loss:0.2118079513311386 accuracy:0.94258872651357\n",
      "/home/bijanadmin/Desktop/Goose_data/data_Goose_all_2/convLSTM_models/convLSTM_CHall_LOSSbce_REGnone0_TW10_TLENGTH10_valcm.pt\n"
     ]
    },
    {
     "data": {
      "image/png": "[encoded data removed]",
      "text/plain": [
       "<Figure size 432x288 with 2 Axes>"
      ]
     },
     "metadata": {
      "needs_background": "light"
     },
     "output_type": "display_data"
    }
   ],
   "source": [
    "for i,(index,row) in enumerate(best_results.iterrows()):\n",
    "\n",
    "    best_epoch = int(row)\n",
    "    alpha = index\n",
    "    \n",
    "    \n",
    "    # load best model\n",
    "    model = convLSTM(input_dim = 62).to(device)\n",
    "    optimizer = torch.optim.Adam(model.parameters(), lr = learning_rate)\n",
    "    model.load_state_dict(torch.load('{}/{}_CH{}_LOSS{}_REG{}{}_TW{}_TLENGTH{}_EPOCH{}.pt'.format(model_saving_path, model_type, ch, loss_type, reg_type, alpha, timewindow, T_length, best_epoch)))\n",
    "    \n",
    "    print('{}/{}_CH{}_LOSS{}_REG{}{}_TW{}_TLENGTH{}_EPOCH{}.pt'.format(model_saving_path, model_type, ch, loss_type, reg_type, alpha, timewindow,T_length, best_epoch))\n",
    "\n",
    "    \n",
    "    ## Calculate validation accuracy and validation loss\n",
    "    val_loss, val_acc, val_preds, val_labels = evaluate(model, optimizer, criterion, val_loader, device='cuda', collect_result = True)\n",
    "    print('validation loss:{} accuracy:{}'.format(val_loss, val_acc))\n",
    "    \n",
    "#     ## Calculate test accuracy and test loss\n",
    "# #     test_loss, test_acc = evaluate(model, optimizer, criterion, val_loader, device='cuda')\n",
    "# #     print('test loss:{} accuracy:{}'.format(test_loss, test_acc))\n",
    "# #     print(np.mean(np.concatenate(test_labels)))\n",
    "    \n",
    "    ## Confusion matrix-validation\n",
    "    predictions_val = np.concatenate(val_preds)\n",
    "    labels_val = np.concatenate(val_labels)\n",
    "    \n",
    "    val_cm_filename = '{}/{}_CH{}_LOSS{}_REG{}{}_TW{}_TLENGTH{}_valcm.pt'.format(model_saving_path, model_type, ch, loss_type, reg_type, alpha, timewindow, T_length)\n",
    "    print(val_cm_filename)\n",
    "    val_cm_result = {'predictions_val': predictions_val, 'labels_val' : labels_val}\n",
    "\n",
    "    pickle.dump( val_cm_result, open( val_cm_filename, \"wb\" ) )\n",
    "    \n",
    "    \n",
    "    df_val = pd.DataFrame({'predictions': predictions_val, 'labels': labels_val})\n",
    "\n",
    "    cm_val = confusion_matrix(labels_val, predictions_val)\n",
    "    ax = plt.axes()\n",
    "    group_names = ['True Neg','False Pos','False Neg','True Pos']\n",
    "    group_counts = [\"{0:0.0f}\".format(value) for value in\n",
    "                    cm_val.flatten()]\n",
    "\n",
    "    TNR = int(group_counts[0]) / (int(group_counts[0])+int(group_counts[1]))\n",
    "    FPR = 1 - TNR\n",
    "    TPR = int(group_counts[3]) / (int(group_counts[3])+int(group_counts[2]))\n",
    "    FNR = 1-TPR\n",
    "    group_percentages =[TNR, FPR, FNR, TPR]\n",
    "\n",
    "    group_percentages = [\"{0:.2%}\".format(value) for value in\n",
    "                         group_percentages]\n",
    "    labels = [f\"{v1}\\n{v2}\\n{v3}\" for v1, v2, v3 in\n",
    "              zip(group_names,group_counts,group_percentages)]\n",
    "    labels = np.asarray(labels).reshape(2,2)\n",
    "    sn.heatmap(cm_val, annot=labels, fmt='', center = 2000)\n",
    "    ax.set_title('Validation Confusion Matrix')\n",
    "    ax.set_xlabel('Predicted Label')\n",
    "    ax.set_ylabel('True Label')\n",
    "    plt.show()\n",
    "    \n",
    "#     ## Confusion matrix-test\n",
    "#     predictions_test = np.concatenate(test_preds)\n",
    "#     labels_test = np.concatenate(test_labels)\n",
    "\n",
    "#     df_test = pd.DataFrame({'predictions': predictions_test, 'labels': labels_test})\n",
    "\n",
    "#     cm_test = confusion_matrix(labels_test, predictions_test)\n",
    "#     ax = plt.axes()\n",
    "#     group_names = ['True Neg','False Pos','False Neg','True Pos']\n",
    "#     group_counts = [\"{0:0.0f}\".format(value) for value in\n",
    "#                     cm_test.flatten()]\n",
    "\n",
    "#     TNR = int(group_counts[0]) / (int(group_counts[0])+int(group_counts[1]))\n",
    "#     FPR = 1 - TNR\n",
    "#     TPR = int(group_counts[3]) / (int(group_counts[3])+int(group_counts[2]))\n",
    "#     FNR = 1-TPR\n",
    "#     group_percentages =[TNR, FPR, FNR, TPR]\n",
    "\n",
    "#     group_percentages = [\"{0:.2%}\".format(value) for value in\n",
    "#                          group_percentages]\n",
    "#     labels = [f\"{v1}\\n{v2}\\n{v3}\" for v1, v2, v3 in\n",
    "#               zip(group_names,group_counts,group_percentages)]\n",
    "#     labels = np.asarray(labels).reshape(2,2)\n",
    "#     sn.heatmap(cm_test, annot=labels, fmt='', center = 2000)\n",
    "#     ax.set_title('Test Confusion Matrix')\n",
    "#     ax.set_xlabel('Predicted Label')\n",
    "#     ax.set_ylabel('True Label')\n",
    "#     plt.show()\n",
    "    \n"
   ]
  },
  {
   "cell_type": "code",
   "execution_count": null,
   "metadata": {},
   "outputs": [],
   "source": []
  }
 ],
 "metadata": {
  "kernelspec": {
   "display_name": "Python 3",
   "language": "python",
   "name": "python3"
  },
  "language_info": {
   "codemirror_mode": {
    "name": "ipython",
    "version": 3
   },
   "file_extension": ".py",
   "mimetype": "text/x-python",
   "name": "python",
   "nbconvert_exporter": "python",
   "pygments_lexer": "ipython3",
   "version": "3.8.5"
  }
 },
 "nbformat": 4,
 "nbformat_minor": 4
}
