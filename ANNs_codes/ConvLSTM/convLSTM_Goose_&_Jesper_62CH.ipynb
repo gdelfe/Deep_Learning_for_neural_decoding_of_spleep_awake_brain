{
 "cells": [
  {
   "cell_type": "markdown",
   "metadata": {},
   "source": [
    "How to print weight for convLSTM?"
   ]
  },
  {
   "cell_type": "markdown",
   "metadata": {},
   "source": [
    "# Load Libraries"
   ]
  },
  {
   "cell_type": "code",
   "execution_count": 1,
   "metadata": {},
   "outputs": [],
   "source": [
    "import numpy as np\n",
    "import pandas as pd\n",
    "import matplotlib.pyplot as plt\n",
    "import torch\n",
    "from torch.utils.data import Dataset, DataLoader\n",
    "from torch import nn\n",
    "from torch.nn.functional import relu\n",
    "from scipy.io import loadmat\n",
    "import os\n",
    "from skimage import io\n",
    "from PIL import Image\n",
    "from sklearn.metrics import confusion_matrix\n",
    "import seaborn as sn\n",
    "import pickle\n",
    "from ConvLSTM_pytorch import convlstm\n",
    "import operator\n",
    "from utils_v4 import *"
   ]
  },
  {
   "cell_type": "markdown",
   "metadata": {},
   "source": [
    "# Load Data"
   ]
  },
  {
   "cell_type": "code",
   "execution_count": 2,
   "metadata": {},
   "outputs": [],
   "source": [
    "#selected subset of dates. \n",
    "val_dates = ['171021','171023','180711','180714']\n",
    "test_dates = ['171020','171022','180712', '180713']\n",
    "bad_dates = ['180326', '180328', '171019', '180715', '180716', '180717']\n",
    "#load_path = '/home/bijanadmin/Desktop/Goose_data/data_Goose_1st_2/'\n",
    "load_path = '/home/bijanadmin/Desktop/Goose_and_Jester_data/data_Goose_all_Jester_all_2/'\n",
    "# save_path = '/mnt/pesaranlab/People/Capstone_students/Yue/model/model_Goose_1st_2_upsample'\n",
    "# model_saving_path = '/home/bijanadmin/Desktop/Goose_and_Jester_data/data_Goose_all_Jester_all_2/LR_models'\n",
    "model_saving_path = '/home/bijanadmin/Desktop/Goose_and_Jester_data/data_Goose_all_Jester_all_2/convLSTM_models'\n",
    "\n",
    "\n",
    "\n"
   ]
  },
  {
   "cell_type": "markdown",
   "metadata": {},
   "source": [
    "## Load data helper functions"
   ]
  },
  {
   "cell_type": "code",
   "execution_count": 3,
   "metadata": {},
   "outputs": [],
   "source": [
    "def create_files_new(load_path, bad_dates, T_length=10, proceed=1): \n",
    "    sleep_files = os.listdir(load_path+'sleep/')\n",
    "    move_files = os.listdir(load_path+'move/')\n",
    "    all_files = sleep_files+move_files\n",
    "    \n",
    "    dic = {}\n",
    "    for f in all_files:\n",
    "        mvmt_type = f.split('_')[-1].split('.')[0]\n",
    "        date = f.split('_')[0]\n",
    "        rec = f.split('_')[1].split('_')[0]\n",
    "        time = float(f.split('_')[3][4:])\n",
    "        if date in bad_dates:\n",
    "            continue\n",
    "        if mvmt_type == 'sleep':\n",
    "            label = 1\n",
    "        else:\n",
    "            label = 0\n",
    "        if date in dic:\n",
    "            if rec in dic[date]:\n",
    "                dic[date][rec].append([f, label, mvmt_type, date, rec, time])\n",
    "            else:\n",
    "                dic[date][rec] = [[f, label, mvmt_type, date, rec, time]]\n",
    "        else:\n",
    "            dic[date] = {rec: [[f, label, mvmt_type, date, rec, time]]}\n",
    "        \n",
    "    for d in dic:\n",
    "        for r in dic[d]:\n",
    "            dic[d][r] = sorted(dic[d][r], key=operator.itemgetter(3, 4, 5))\n",
    "    \n",
    "    move_data, sleep_data = [], []\n",
    "    for d in dic:\n",
    "        for r in dic[d]:\n",
    "            sleep_grouped, move_grouped = create_files_new_helper(dic[d][r], T_length=T_length, proceed=proceed)\n",
    "            sleep_data.append(sleep_grouped)\n",
    "            move_data.append(move_grouped)\n",
    "    \n",
    "    return move_data, sleep_data"
   ]
  },
  {
   "cell_type": "code",
   "execution_count": 4,
   "metadata": {},
   "outputs": [],
   "source": [
    "def create_files_new_helper(L, T_length, proceed):\n",
    "    L_labels = np.array([L[i][1] for i in range(len(L))])\n",
    "    L_times = np.array([L[i][-1] for i in range(len(L))])\n",
    "    \n",
    "    L_new_sleep, L_new_move = [], []\n",
    "    start = 0\n",
    "    while start <= len(L)-T_length:\n",
    "        end = start + T_length\n",
    "        #pdb.pm()\n",
    "        if sum(L_times[start+1:end]-L_times[start:end-1]-time_window) != 0:\n",
    "            start += 1\n",
    "            continue\n",
    "        if sum(L_labels[start:end]) == T_length:\n",
    "            L_new_sleep.append(L[start:end])\n",
    "        elif sum(L_labels[start:end]) == 0:\n",
    "            L_new_move.append(L[start:end])\n",
    "        start += proceed\n",
    "    return L_new_sleep, L_new_move"
   ]
  },
  {
   "cell_type": "code",
   "execution_count": 5,
   "metadata": {},
   "outputs": [],
   "source": [
    "def upsample(train_files):\n",
    "    train_sleep = [i for i in train_files if i[0][1] == 1]\n",
    "    train_move = [i for i in train_files if i[0][1] == 0]\n",
    "    diff = abs(len(train_sleep)-len(train_move))\n",
    "    train_new = []\n",
    "    d = 0\n",
    "    while d < diff:\n",
    "        if len(train_sleep) > len(train_move):\n",
    "            ind = random.randint(0, len(train_move)-1)\n",
    "            x = train_move[ind]\n",
    "            d += 1\n",
    "        else:\n",
    "            ind = random.randint(0, len(train_sleep)-1)\n",
    "            x = train_sleep[ind]\n",
    "            d += 1\n",
    "        train_new.append(x)   \n",
    "    train_files = train_sleep+train_move+train_new\n",
    "    return train_files"
   ]
  },
  {
   "cell_type": "code",
   "execution_count": 6,
   "metadata": {},
   "outputs": [],
   "source": [
    "class SpectrogramDatasetAtt(Dataset):\n",
    "    def __init__(self, files, load_path, T_length, all_label=False, CH=None):\n",
    "        self.CH = CH\n",
    "        self.files = files\n",
    "        self.load_path = load_path\n",
    "        self.T_length = T_length\n",
    "        self.all_label = all_label\n",
    "  \n",
    "    def __len__(self):\n",
    "        return len(self.files)\n",
    "    \n",
    "    def __getitem__(self, idx):\n",
    "        group = self.files[idx]\n",
    "        specs, labels, dates, recs, times = [], [], [], [], []\n",
    "        for i in range(len(group)):\n",
    "            f, label, mvmt_type, date, rec, time = group[i]\n",
    "            spec = torch.from_numpy(np.load(self.load_path+mvmt_type+'/'+f))\n",
    "            if self.CH is not None:\n",
    "                spec = torch.transpose(spec[self.CH,:,:].unsqueeze(0), 2, 1)\n",
    "            else:\n",
    "                spec = torch.transpose(spec, 2, 1)\n",
    "            specs.append(spec)\n",
    "            labels.append(torch.Tensor([label]))\n",
    "            dates.append(date)\n",
    "            recs.append(rec)\n",
    "            times.append(time)\n",
    "            if i == (self.T_length-1)/2:\n",
    "                label_mid = torch.Tensor([label])\n",
    "                date_mid = date\n",
    "                rec_mid = rec\n",
    "                time_mid = time\n",
    "        if self.all_label:\n",
    "            return specs, labels, dates, recs, times\n",
    "        else:\n",
    "            return specs, label_mid, date_mid, rec_mid, time_mid"
   ]
  },
  {
   "cell_type": "markdown",
   "metadata": {},
   "source": [
    "## T-length = 3"
   ]
  },
  {
   "cell_type": "code",
   "execution_count": 7,
   "metadata": {},
   "outputs": [],
   "source": [
    "time_window = 10\n",
    "## Load files\n",
    "move_files, sleep_files = create_files_new(load_path, bad_dates, T_length=3, proceed=3)\n",
    "train_files, val_files, test_files = [], [], []\n",
    "\n",
    "## Put files in val, test, and train\n",
    "for f in move_files+sleep_files:\n",
    "    if f:\n",
    "        if f[0][1][3] in val_dates:\n",
    "            val_files.extend(f)\n",
    "        elif f[0][1][3] in test_dates:\n",
    "            test_files.extend(f)\n",
    "        else:\n",
    "            train_files.extend(f)           "
   ]
  },
  {
   "cell_type": "code",
   "execution_count": 8,
   "metadata": {},
   "outputs": [],
   "source": [
    "## Randomly shuffle inside train, val, and test\n",
    "random.shuffle(train_files)\n",
    "random.shuffle(val_files)\n",
    "random.shuffle(test_files)"
   ]
  },
  {
   "cell_type": "code",
   "execution_count": 9,
   "metadata": {},
   "outputs": [],
   "source": [
    "## Upsample train\n",
    "train_files = upsample(train_files)"
   ]
  },
  {
   "cell_type": "code",
   "execution_count": 10,
   "metadata": {},
   "outputs": [
    {
     "data": {
      "text/plain": [
       "(19084, 1721, 1799)"
      ]
     },
     "execution_count": 10,
     "metadata": {},
     "output_type": "execute_result"
    }
   ],
   "source": [
    "len(train_files), len(val_files), len(test_files)"
   ]
  },
  {
   "cell_type": "code",
   "execution_count": 11,
   "metadata": {},
   "outputs": [],
   "source": [
    "## Load files to dataloader\n",
    "\n",
    "train_dataset = SpectrogramDatasetAtt(files=train_files, load_path=load_path, T_length=3, all_label=True)\n",
    "valid_dataset = SpectrogramDatasetAtt(files=val_files, load_path=load_path, T_length=3, all_label=True)\n",
    "test_dataset = SpectrogramDatasetAtt(files=test_files, load_path=load_path, T_length=3, all_label=True)\n",
    "\n",
    "# train_dataset = SpectrogramDatasetAtt(files=train_files, load_path=load_path, T_length=3, all_label=False, CH=CH)\n",
    "# valid_dataset = SpectrogramDatasetAtt(files=val_files, load_path=load_path, T_length=3, all_label=False, CH=CH)\n",
    "# test_dataset = SpectrogramDatasetAtt(files=test_files, load_path=load_path, T_length=3, all_label=False, CH=CH)\n",
    "\n",
    "train_loader = DataLoader(dataset=train_dataset, batch_size=128, shuffle = True)\n",
    "val_loader = DataLoader(dataset=valid_dataset, batch_size=128, shuffle = False)\n",
    "test_loader = DataLoader(dataset=test_dataset, batch_size=128, shuffle = False)"
   ]
  },
  {
   "cell_type": "code",
   "execution_count": null,
   "metadata": {},
   "outputs": [],
   "source": []
  },
  {
   "cell_type": "markdown",
   "metadata": {},
   "source": [
    "## convLSTM"
   ]
  },
  {
   "cell_type": "code",
   "execution_count": 12,
   "metadata": {},
   "outputs": [],
   "source": [
    "## Define Model\n",
    "class convLSTM(nn.Module):\n",
    "    def __init__(self, input_dim = 1, layers = 1, hidden_dim = 10, frequencies = 100,timewindow = 10, output_size=1, batch_size=128):\n",
    "        super(convLSTM, self).__init__()\n",
    "        \n",
    "        self.input_dim = input_dim\n",
    "        self.output_size = output_size\n",
    "        self.batch_size = batch_size\n",
    "        self.n_layers = layers\n",
    "        self.hidden_dim = hidden_dim\n",
    "        self.freqs = frequencies\n",
    "        self.timewindow = timewindow\n",
    "        \n",
    "        # Define the lstm layer\n",
    "        self.convLSTM = convlstm.ConvLSTM(input_dim=self.input_dim,\n",
    "                 hidden_dim=self.hidden_dim,\n",
    "                 kernel_size=(3, 3),\n",
    "                 num_layers=self.n_layers,\n",
    "                 batch_first=False,\n",
    "                 bias=True,\n",
    "                 return_all_layers=False)\n",
    "        # Define the fully-connected layer\n",
    "#         self.fc = nn.Linear(self.n_layers*self.hidden_dim, output_size)\n",
    "        self.fc = nn.Linear(self.hidden_dim*self.freqs*self.timewindow, output_size)\n",
    "\n",
    "    def forward(self, input_seq):\n",
    "        \n",
    "        # convLSTM\n",
    "        _, last_states = self.convLSTM(input_seq)\n",
    "        last_states = last_states[0][0]\n",
    "        last_states = last_states.reshape(last_states.shape[0], -1)\n",
    "        fc = self.fc(last_states)        \n",
    "\n",
    "        return fc"
   ]
  },
  {
   "cell_type": "markdown",
   "metadata": {},
   "source": [
    "### Training functions"
   ]
  },
  {
   "cell_type": "code",
   "execution_count": 13,
   "metadata": {},
   "outputs": [],
   "source": [
    "def get_accuracy(model, loader, device='cuda', collect_result = False):\n",
    "    \"\"\"\n",
    "    Function that calculate the accuracy of the model. \n",
    "    \"\"\"\n",
    "    correct = 0\n",
    "    total = 0\n",
    "    pred, labs = [],[]\n",
    "    with torch.no_grad():\n",
    "        for data, labels, _, _, _ in loader:\n",
    "            # Labels\n",
    "            labels = torch.stack(labels)\n",
    "            labels = labels[0]\n",
    "            labels = labels.to(device).float()\n",
    "            # Data\n",
    "            data = torch.tensor(np.stack(data)).to(device).float() \n",
    "            data = data.to(device).float()\n",
    "            # Feed data to model\n",
    "            outputs = model(data)            \n",
    "            outputs = torch.tensor(outputs).to(device)\n",
    "            # Predictions\n",
    "            predictions = (outputs > 0.5) * 1.0\n",
    "            predictions = predictions.flatten().detach().cpu().numpy()\n",
    "            labels = labels.flatten().cpu().numpy()\n",
    "            # Calculate Accuracy\n",
    "            total += len(labels)\n",
    "            correct += (predictions == labels).sum()\n",
    "            \n",
    "            if collect_result:\n",
    "                pred.append(predictions)\n",
    "                labs.append(labels)\n",
    "            \n",
    "    accuracy = correct / total\n",
    "    if collect_result:\n",
    "        return accuracy, pred, labs\n",
    "    return accuracy"
   ]
  },
  {
   "cell_type": "code",
   "execution_count": 14,
   "metadata": {},
   "outputs": [],
   "source": [
    "def train(model, optimizer, criterion, loader, device='cuda'):\n",
    "    \"\"\"\n",
    "    Function that train the model. \n",
    "    \"\"\"\n",
    "    model.train()\n",
    "    epoch_losses = 0\n",
    "    epoch_lens = 0\n",
    "    parameter_history = []\n",
    "    # criterion = nn.BCELoss()\n",
    "    for batch_idx, (data, labels, _, _, _) in enumerate(loader):\n",
    "        # Get Label\n",
    "        labels = torch.stack(labels)\n",
    "        labels = labels[0]\n",
    "        labels = torch.flatten(labels).to(device).float()\n",
    "        labels = labels.to(device).float()\n",
    "#         print(batch_idx)\n",
    "        \n",
    "        # Get data\n",
    "        data = torch.tensor(np.stack(data)).to(device).float() \n",
    "        data = data.to(device).float()\n",
    "\n",
    "        # Zero out grad\n",
    "        optimizer.zero_grad()\n",
    "\n",
    "        # Data in model\n",
    "        outputs = model(data)\n",
    "#         outputs = torch.tensor(outputs,requires_grad = True).to(device)\n",
    "        outputs = torch.squeeze(outputs)\n",
    "\n",
    "        # Get loss\n",
    "        loss = criterion(torch.sigmoid(outputs), labels)\n",
    "#         print(loss)\n",
    "        epoch_losses += loss\n",
    "        epoch_lens += 1\n",
    "\n",
    "        parameter_history.append(list(model.parameters())[0])\n",
    "        loss.backward() # error?\n",
    "        optimizer.step()\n",
    "\n",
    "    epoch_accs = get_accuracy(model, loader, device=device, collect_result = False)\n",
    "    return epoch_losses/epoch_lens, epoch_accs, parameter_history\n",
    "\n",
    "def evaluate(model, optimizer, criterion, loader, device='cuda', collect_result = False):\n",
    "    model.eval()\n",
    "    epoch_losses = 0\n",
    "    epoch_lens = 0\n",
    "    \n",
    "    with torch.no_grad():\n",
    "        for batch_idx, (data, labels, _, _, _) in enumerate(loader):\n",
    "            labels = torch.stack(labels)\n",
    "            labels = labels[0]\n",
    "            labels = labels.to(device).float()\n",
    "            labels = torch.flatten(labels).to(device).float()\n",
    "            data = torch.tensor(np.stack(data)).to(device).float() \n",
    "            data = data.to(device).float()\n",
    "            outputs = model(data)\n",
    "#             outputs = torch.tensor(outputs).to(device)\n",
    "            outputs = torch.squeeze(outputs)\n",
    "            loss = criterion(torch.sigmoid(outputs), labels)\n",
    "            epoch_losses += loss\n",
    "            epoch_lens += 1\n",
    "    \n",
    "    if collect_result:\n",
    "        epoch_accs, pred, labs = get_accuracy(model, loader, device = device, collect_result = True)\n",
    "        return epoch_losses/epoch_lens,epoch_accs, pred, labs\n",
    "    else:\n",
    "        epoch_accs = get_accuracy(model, loader, device=device, collect_result = collect_result)\n",
    "    return epoch_losses/epoch_lens, epoch_accs"
   ]
  },
  {
   "cell_type": "markdown",
   "metadata": {},
   "source": [
    "### Training"
   ]
  },
  {
   "cell_type": "code",
   "execution_count": 15,
   "metadata": {},
   "outputs": [
    {
     "name": "stdout",
     "output_type": "stream",
     "text": [
      "convLSTM(\n",
      "  (convLSTM): ConvLSTM(\n",
      "    (cell_list): ModuleList(\n",
      "      (0): ConvLSTMCell(\n",
      "        (conv): Conv2d(72, 40, kernel_size=(3, 3), stride=(1, 1), padding=(1, 1))\n",
      "      )\n",
      "    )\n",
      "  )\n",
      "  (fc): Linear(in_features=10000, out_features=1, bias=True)\n",
      ")\n"
     ]
    }
   ],
   "source": [
    "device = torch.device('cuda')\n",
    "\n",
    "tol = 0.01\n",
    "learning_rate = 0.01\n",
    "num_epochs = 51\n",
    "alpha = 0\n",
    "model_type = 'convLSTM'\n",
    "loss_type = 'bce'\n",
    "reg_type = 'none'\n",
    "alpha = 0\n",
    "timewindow = 10\n",
    "ch = 'all'\n",
    "tlength = 3\n",
    "# verbose = False\n",
    "\n",
    "\n",
    "model = convLSTM(input_dim = 62).to(device)\n",
    "print(model)\n",
    "optimizer = torch.optim.Adam(model.parameters(), lr = learning_rate)\n",
    "criterion = nn.BCELoss() # BCE loss"
   ]
  },
  {
   "cell_type": "code",
   "execution_count": 16,
   "metadata": {
    "scrolled": true
   },
   "outputs": [
    {
     "name": "stderr",
     "output_type": "stream",
     "text": [
      "<ipython-input-13-894d578093d0>:19: UserWarning: To copy construct from a tensor, it is recommended to use sourceTensor.clone().detach() or sourceTensor.clone().detach().requires_grad_(True), rather than torch.tensor(sourceTensor).\n",
      "  outputs = torch.tensor(outputs).to(device)\n"
     ]
    },
    {
     "name": "stdout",
     "output_type": "stream",
     "text": [
      "0\n",
      "Train loss for epoch 0: 0.6498920917510986\n",
      "Val loss for epoch 0: 0.7651562094688416\n",
      "1\n",
      "Train loss for epoch 1: 0.12284699827432632\n",
      "Val loss for epoch 1: 0.7363433241844177\n",
      "Train loss for epoch 2: 0.06293778866529465\n",
      "Val loss for epoch 2: 1.4099719524383545\n",
      "Train loss for epoch 3: 0.044005606323480606\n",
      "Val loss for epoch 3: 1.5214895009994507\n",
      "Train loss for epoch 4: 0.03680644929409027\n",
      "Val loss for epoch 4: 2.0809104442596436\n",
      "Train loss for epoch 5: 0.023881783708930016\n",
      "Val loss for epoch 5: 2.1218018531799316\n",
      "Train loss for epoch 6: 0.01530962623655796\n",
      "Val loss for epoch 6: 2.643829822540283\n",
      "Train loss for epoch 7: 0.010353894904255867\n",
      "Val loss for epoch 7: 3.493136167526245\n",
      "Train loss for epoch 8: 0.012874281965196133\n",
      "Val loss for epoch 8: 2.832927942276001\n",
      "Train loss for epoch 9: 0.016231607645750046\n",
      "Val loss for epoch 9: 3.3276925086975098\n",
      "Train loss for epoch 10: 0.006282677873969078\n",
      "Val loss for epoch 10: 3.3899199962615967\n",
      "Train loss for epoch 11: 0.013758602552115917\n",
      "Val loss for epoch 11: 5.33139705657959\n",
      "Train loss for epoch 12: 0.0780949518084526\n",
      "Val loss for epoch 12: 2.7410247325897217\n",
      "Train loss for epoch 13: 0.04838396981358528\n",
      "Val loss for epoch 13: 3.7815937995910645\n",
      "Train loss for epoch 14: 0.020587153732776642\n",
      "Val loss for epoch 14: 7.3367085456848145\n",
      "Train loss for epoch 15: 0.01269998773932457\n",
      "Val loss for epoch 15: 5.438441276550293\n",
      "Train loss for epoch 16: 0.005487059708684683\n",
      "Val loss for epoch 16: 6.097384929656982\n",
      "Train loss for epoch 17: 0.0038631765637546778\n",
      "Val loss for epoch 17: 5.71220064163208\n",
      "Train loss for epoch 18: 0.0022787442430853844\n",
      "Val loss for epoch 18: 6.231748104095459\n",
      "Train loss for epoch 19: 0.0004923556698486209\n",
      "Val loss for epoch 19: 5.981346607208252\n",
      "Train loss for epoch 20: 0.00021967821521684527\n",
      "Val loss for epoch 20: 6.1058735847473145\n",
      "Train loss for epoch 21: 0.00012598317698575556\n",
      "Val loss for epoch 21: 6.0529255867004395\n",
      "Train loss for epoch 22: 8.978583355201408e-05\n",
      "Val loss for epoch 22: 6.324515342712402\n",
      "Train loss for epoch 23: 7.346404890995473e-05\n",
      "Val loss for epoch 23: 6.333043575286865\n",
      "Train loss for epoch 24: 6.808694888604805e-05\n",
      "Val loss for epoch 24: 6.388338088989258\n",
      "Train loss for epoch 25: 5.2947612857678905e-05\n",
      "Val loss for epoch 25: 6.296433925628662\n",
      "Train loss for epoch 26: 4.525187978288159e-05\n",
      "Val loss for epoch 26: 6.343295574188232\n",
      "Train loss for epoch 27: 3.9064616430550814e-05\n",
      "Val loss for epoch 27: 6.458437919616699\n",
      "Train loss for epoch 28: 3.528254455886781e-05\n",
      "Val loss for epoch 28: 6.410707950592041\n",
      "Train loss for epoch 29: 3.0363549740286544e-05\n",
      "Val loss for epoch 29: 6.520048141479492\n",
      "Train loss for epoch 30: 2.8206117349327542e-05\n",
      "Val loss for epoch 30: 6.5279340744018555\n",
      "Train loss for epoch 31: 2.5527355319354683e-05\n",
      "Val loss for epoch 31: 6.478604793548584\n",
      "Train loss for epoch 32: 2.34048166021239e-05\n",
      "Val loss for epoch 32: 6.485719680786133\n",
      "Train loss for epoch 33: 2.0764269720530137e-05\n",
      "Val loss for epoch 33: 6.492772579193115\n",
      "Train loss for epoch 34: 1.9336996047059074e-05\n",
      "Val loss for epoch 34: 6.491598606109619\n",
      "Train loss for epoch 35: 1.866431011876557e-05\n",
      "Val loss for epoch 35: 6.543587684631348\n",
      "Train loss for epoch 36: 1.626057746761944e-05\n",
      "Val loss for epoch 36: 6.599512100219727\n",
      "Train loss for epoch 37: 1.4863384421914816e-05\n",
      "Val loss for epoch 37: 6.706833362579346\n",
      "Train loss for epoch 38: 1.3391892935032956e-05\n",
      "Val loss for epoch 38: 6.604028701782227\n",
      "Train loss for epoch 39: 1.2517004506662488e-05\n",
      "Val loss for epoch 39: 6.6104536056518555\n",
      "Train loss for epoch 40: 1.1448170880612452e-05\n",
      "Val loss for epoch 40: 6.613150596618652\n",
      "Train loss for epoch 41: 1.0703565749281552e-05\n",
      "Val loss for epoch 41: 6.821582317352295\n",
      "Train loss for epoch 42: 1.0048446711152792e-05\n",
      "Val loss for epoch 42: 6.667486667633057\n",
      "Train loss for epoch 43: 9.218205377692357e-06\n",
      "Val loss for epoch 43: 6.669162273406982\n",
      "Train loss for epoch 44: 8.426452041021548e-06\n",
      "Val loss for epoch 44: 6.778538703918457\n",
      "Train loss for epoch 45: 7.780501618981361e-06\n",
      "Val loss for epoch 45: 6.78234338760376\n",
      "Train loss for epoch 46: 7.269377420016099e-06\n",
      "Val loss for epoch 46: 6.783101558685303\n",
      "Train loss for epoch 47: 6.788991868234007e-06\n",
      "Val loss for epoch 47: 6.7833075523376465\n",
      "Train loss for epoch 48: 6.280582965700887e-06\n",
      "Val loss for epoch 48: 6.797176837921143\n",
      "Train loss for epoch 49: 5.772237273049541e-06\n",
      "Val loss for epoch 49: 6.794558048248291\n",
      "Train loss for epoch 50: 5.393518677010434e-06\n",
      "Val loss for epoch 50: 6.7944817543029785\n"
     ]
    },
    {
     "data": {
      "image/png": "[encoded data removed]",
      "text/plain": [
       "<Figure size 864x288 with 2 Axes>"
      ]
     },
     "metadata": {
      "needs_background": "light"
     },
     "output_type": "display_data"
    }
   ],
   "source": [
    "train_losses, train_accs, val_losses, val_accs, parameter_history = [], [], [], [],[]\n",
    " \n",
    "for epoch in range(num_epochs):\n",
    "    train_loss, train_acc, parameter_history = train(model, optimizer, criterion, train_loader,  device='cuda')\n",
    "    val_loss, val_acc = evaluate(model, optimizer, criterion, val_loader, device='cuda')\n",
    "    train_losses.append(train_loss)\n",
    "    train_accs.append(train_acc)\n",
    "    val_losses.append(val_loss)\n",
    "    val_accs.append(val_acc)\n",
    "    if val_loss <= min(val_losses):\n",
    "        best_epoch = epoch\n",
    "        print(epoch)\n",
    "        print('Train loss for epoch {}: {}'.format(epoch, train_loss))\n",
    "        print('Val loss for epoch {}: {}'.format(epoch, val_loss))\n",
    "        torch.save(model.state_dict(), '{}/{}_CH{}_LOSS{}_REG{}{}_TW{}_TLENGTH{}_EPOCH{}.pt'.format(model_saving_path, model_type, ch, loss_type, reg_type, alpha, timewindow, tlength,epoch))\n",
    "#     elif verbose:\n",
    "    else:\n",
    "        print('Train loss for epoch {}: {}'.format(epoch, train_loss))\n",
    "        print('Val loss for epoch {}: {}'.format(epoch, val_loss))\n",
    "        \n",
    "#     if epoch == num_epochs-1:\n",
    "#         torch.save(model.state_dict(), '{}/{}_CH{}_LOSS{}_REG{}{}_TW{}_EPOCH{}.pt'.format(model_saving_path, model_type, CH, loss_type, reg_type, alpha, timewindow, epoch))\n",
    "\n",
    "plot_loss_acc(train_losses, val_losses, train_accs, val_accs, model_type)"
   ]
  },
  {
   "cell_type": "code",
   "execution_count": 17,
   "metadata": {},
   "outputs": [
    {
     "name": "stdout",
     "output_type": "stream",
     "text": [
      "/home/bijanadmin/Desktop/Goose_and_Jester_data/data_Goose_all_Jester_all_2/convLSTM_models/convLSTM_CHall_LOSSbce_REGnone0_TW10_TLENGTH3_trainresult.pt\n"
     ]
    }
   ],
   "source": [
    "train_result_filename = '{}/{}_CH{}_LOSS{}_REG{}{}_TW{}_TLENGTH{}_trainresult.pt'.format(model_saving_path, model_type, ch, loss_type, reg_type, alpha, timewindow, tlength)\n",
    "print(train_result_filename)"
   ]
  },
  {
   "cell_type": "code",
   "execution_count": 18,
   "metadata": {},
   "outputs": [],
   "source": [
    "train_result = {'model_type': model_type, 'train_losses' : train_losses, 'val_losses' : val_losses, 'train_accs': train_accs, 'val_accs': val_accs}\n",
    "\n",
    "pickle.dump( train_result, open( train_result_filename, \"wb\" ) )"
   ]
  },
  {
   "cell_type": "code",
   "execution_count": 18,
   "metadata": {},
   "outputs": [
    {
     "data": {
      "image/png": "[encoded data removed]",
      "text/plain": [
       "<Figure size 864x288 with 2 Axes>"
      ]
     },
     "metadata": {
      "needs_background": "light"
     },
     "output_type": "display_data"
    }
   ],
   "source": [
    "train_result = pickle.load(open(train_result_filename, \"rb\" ))\n",
    "plot_loss_acc( train_result['train_losses'],  train_result['val_losses'],  train_result['train_accs'],  train_result['val_accs'],  train_result['model_type'])"
   ]
  },
  {
   "cell_type": "code",
   "execution_count": 28,
   "metadata": {
    "scrolled": true
   },
   "outputs": [
    {
     "name": "stdout",
     "output_type": "stream",
     "text": [
      "       epoch\n",
      "alpha       \n",
      "0          1\n"
     ]
    }
   ],
   "source": [
    "model_convLSTM = os.listdir(model_saving_path)\n",
    "results = []\n",
    "best_result = 0\n",
    "reg_alpha = 'REG'+reg_type+str(alpha)+'_'\n",
    "time_length = 'TLENGTH' + str(tlength)\n",
    "for i, s in enumerate(model_convLSTM):\n",
    "    if 'convLSTM_CHall_' in s and reg_alpha in s and 'trainresult' not in s and time_length in s and 'valcm' not in s:\n",
    "        model_name = model_convLSTM[i].split('_')\n",
    "        epoch_name = [ind for ind,item in enumerate(np.array(model_name)) if \"EPOCH\" in item]\n",
    "        res = [int(i) for i in model_name[epoch_name[0]] if i.isdigit()]\n",
    "        if len(res) > 1:\n",
    "            epoch_result = res[0]*10+res[1]\n",
    "        else:\n",
    "            epoch_result = res[0]\n",
    "        if epoch_result>best_result and epoch_result != 50:\n",
    "            best_result = epoch_result\n",
    "\n",
    "results.append([alpha,best_result])\n",
    "\n",
    "    \n",
    "results = pd.DataFrame(np.array(results), columns=['alpha', 'epoch'])\n",
    "best_results = results.groupby('alpha').max('epoch')\n",
    "print(best_results)\n"
   ]
  },
  {
   "cell_type": "code",
   "execution_count": 32,
   "metadata": {},
   "outputs": [
    {
     "name": "stdout",
     "output_type": "stream",
     "text": [
      "/home/bijanadmin/Desktop/Goose_and_Jester_data/data_Goose_all_Jester_all_2/convLSTM_models/convLSTM_CHall_LOSSbce_REGnone0_TW10_TLENGTH3_EPOCH1.pt\n"
     ]
    },
    {
     "name": "stderr",
     "output_type": "stream",
     "text": [
      "<ipython-input-13-894d578093d0>:19: UserWarning: To copy construct from a tensor, it is recommended to use sourceTensor.clone().detach() or sourceTensor.clone().detach().requires_grad_(True), rather than torch.tensor(sourceTensor).\n",
      "  outputs = torch.tensor(outputs).to(device)\n"
     ]
    },
    {
     "name": "stdout",
     "output_type": "stream",
     "text": [
      "validation loss:0.7233622074127197 accuracy:0.8082510168506682\n",
      "/home/bijanadmin/Desktop/Goose_and_Jester_data/data_Goose_all_Jester_all_2/convLSTM_models/convLSTM_CHall_LOSSbce_REGnone0_TW10_TLENGTH3_valcm.pt\n"
     ]
    },
    {
     "data": {
      "image/png": "[encoded data removed]",
      "text/plain": [
       "<Figure size 432x288 with 2 Axes>"
      ]
     },
     "metadata": {
      "needs_background": "light"
     },
     "output_type": "display_data"
    },
    {
     "name": "stdout",
     "output_type": "stream",
     "text": [
      "test loss:0.8488492965698242 accuracy:0.7898832684824902\n",
      "0.83379656\n",
      "/home/bijanadmin/Desktop/Goose_and_Jester_data/data_Goose_all_Jester_all_2/convLSTM_models/convLSTM_CHall_LOSSbce_REGnone0_TW10_TLENGTH3_testcm.pt\n"
     ]
    },
    {
     "data": {
      "image/png": "[encoded data removed]",
      "text/plain": [
       "<Figure size 432x288 with 2 Axes>"
      ]
     },
     "metadata": {
      "needs_background": "light"
     },
     "output_type": "display_data"
    }
   ],
   "source": [
    "T_length = 3\n",
    "for i,(index,row) in enumerate(best_results.iterrows()):\n",
    "\n",
    "    best_epoch = int(row)\n",
    "    alpha = index\n",
    "    \n",
    "    \n",
    "    # load best model\n",
    "    model = convLSTM(input_dim = 62).to(device)\n",
    "    optimizer = torch.optim.Adam(model.parameters(), lr = learning_rate)\n",
    "    model.load_state_dict(torch.load('{}/{}_CH{}_LOSS{}_REG{}{}_TW{}_TLENGTH{}_EPOCH{}.pt'.format(model_saving_path, model_type, ch, loss_type, reg_type, alpha, timewindow, T_length, best_epoch)))\n",
    "    \n",
    "    print('{}/{}_CH{}_LOSS{}_REG{}{}_TW{}_TLENGTH{}_EPOCH{}.pt'.format(model_saving_path, model_type, ch, loss_type, reg_type, alpha, timewindow,T_length, best_epoch))\n",
    "\n",
    "    \n",
    "    ## Calculate validation accuracy and validation loss\n",
    "    val_loss, val_acc, val_preds, val_labels = evaluate(model, optimizer, criterion, val_loader, device='cuda', collect_result = True)\n",
    "    print('validation loss:{} accuracy:{}'.format(val_loss, val_acc))\n",
    "    \n",
    "    ## Confusion matrix-validation\n",
    "    predictions_val = np.concatenate(val_preds)\n",
    "    labels_val = np.concatenate(val_labels)\n",
    "    \n",
    "    val_cm_filename = '{}/{}_CH{}_LOSS{}_REG{}{}_TW{}_TLENGTH{}_valcm.pt'.format(model_saving_path, model_type, ch, loss_type, reg_type, alpha, timewindow, T_length)\n",
    "    print(val_cm_filename)\n",
    "    val_cm_result = {'predictions_val': predictions_val, 'labels_val' : labels_val}\n",
    "\n",
    "    pickle.dump( val_cm_result, open( val_cm_filename, \"wb\" ) )\n",
    "    \n",
    "    \n",
    "    df_val = pd.DataFrame({'predictions': predictions_val, 'labels': labels_val})\n",
    "\n",
    "    cm_val = confusion_matrix(labels_val, predictions_val)\n",
    "    ax = plt.axes()\n",
    "    group_names = ['True Neg','False Pos','False Neg','True Pos']\n",
    "    group_counts = [\"{0:0.0f}\".format(value) for value in\n",
    "                    cm_val.flatten()]\n",
    "\n",
    "    TNR = int(group_counts[0]) / (int(group_counts[0])+int(group_counts[1]))\n",
    "    FPR = 1 - TNR\n",
    "    TPR = int(group_counts[3]) / (int(group_counts[3])+int(group_counts[2]))\n",
    "    FNR = 1-TPR\n",
    "    group_percentages =[TNR, FPR, FNR, TPR]\n",
    "\n",
    "    group_percentages = [\"{0:.2%}\".format(value) for value in\n",
    "                         group_percentages]\n",
    "    labels = [f\"{v1}\\n{v2}\\n{v3}\" for v1, v2, v3 in\n",
    "              zip(group_names,group_counts,group_percentages)]\n",
    "    labels = np.asarray(labels).reshape(2,2)\n",
    "    sn.heatmap(cm_val, annot=labels, fmt='', center = 2000)\n",
    "    ax.set_title('Validation Confusion Matrix')\n",
    "    ax.set_xlabel('Predicted Label')\n",
    "    ax.set_ylabel('True Label')\n",
    "    plt.show()\n",
    "    \n",
    "    \n",
    "    ## Calculate test accuracy and test loss\n",
    "    test_loss, test_acc, test_preds, test_labels = evaluate(model, optimizer, criterion, test_loader, device='cuda', collect_result = True)\n",
    "    print('test loss:{} accuracy:{}'.format(test_loss, test_acc))\n",
    "    print(np.mean(np.concatenate(test_labels)))\n",
    "    \n",
    "    ## Confusion matrix-test\n",
    "    predictions_test = np.concatenate(test_preds)\n",
    "    labels_test = np.concatenate(test_labels)\n",
    "\n",
    "    test_cm_filename = '{}/{}_CH{}_LOSS{}_REG{}{}_TW{}_TLENGTH{}_testcm.pt'.format(model_saving_path, model_type, ch, loss_type, reg_type, alpha, timewindow, T_length)\n",
    "    print(test_cm_filename)\n",
    "    test_cm_result = {'predictions_test': predictions_test, 'labels_test' : labels_test}\n",
    "\n",
    "    pickle.dump( test_cm_result, open( test_cm_filename, \"wb\" ) )\n",
    "\n",
    "\n",
    "    df_test = pd.DataFrame({'predictions': predictions_test, 'labels': labels_test})\n",
    "\n",
    "    cm_test = confusion_matrix(labels_test, predictions_test)\n",
    "    ax = plt.axes()\n",
    "    group_names = ['True Neg','False Pos','False Neg','True Pos']\n",
    "    group_counts = [\"{0:0.0f}\".format(value) for value in\n",
    "                    cm_test.flatten()]\n",
    "\n",
    "    TNR = int(group_counts[0]) / (int(group_counts[0])+int(group_counts[1]))\n",
    "    FPR = 1 - TNR\n",
    "    TPR = int(group_counts[3]) / (int(group_counts[3])+int(group_counts[2]))\n",
    "    FNR = 1-TPR\n",
    "    group_percentages =[TNR, FPR, FNR, TPR]\n",
    "\n",
    "    group_percentages = [\"{0:.2%}\".format(value) for value in\n",
    "                         group_percentages]\n",
    "    labels = [f\"{v1}\\n{v2}\\n{v3}\" for v1, v2, v3 in\n",
    "              zip(group_names,group_counts,group_percentages)]\n",
    "    labels = np.asarray(labels).reshape(2,2)\n",
    "    sn.heatmap(cm_test, annot=labels, fmt='', center = 2000)\n",
    "    ax.set_title('Test Confusion Matrix')\n",
    "    ax.set_xlabel('Predicted Label')\n",
    "    ax.set_ylabel('True Label')\n",
    "    plt.show()\n",
    "    \n"
   ]
  },
  {
   "cell_type": "code",
   "execution_count": null,
   "metadata": {},
   "outputs": [],
   "source": []
  },
  {
   "cell_type": "markdown",
   "metadata": {},
   "source": [
    "## T-length = 5"
   ]
  },
  {
   "cell_type": "code",
   "execution_count": 33,
   "metadata": {},
   "outputs": [],
   "source": [
    "time_window = 10\n",
    "## Load files\n",
    "move_files, sleep_files = create_files_new(load_path, bad_dates, T_length=3, proceed=3)\n",
    "train_files, val_files, test_files = [], [], []\n",
    "\n",
    "## Put files in val, test, and train\n",
    "for f in move_files+sleep_files:\n",
    "    if f:\n",
    "        if f[0][1][3] in val_dates:\n",
    "            val_files.extend(f)\n",
    "        elif f[0][1][3] in test_dates:\n",
    "            test_files.extend(f)\n",
    "        else:\n",
    "            train_files.extend(f)           "
   ]
  },
  {
   "cell_type": "code",
   "execution_count": 34,
   "metadata": {},
   "outputs": [],
   "source": [
    "## Randomly shuffle inside train, val, and test\n",
    "random.shuffle(train_files)\n",
    "random.shuffle(val_files)\n",
    "random.shuffle(test_files)"
   ]
  },
  {
   "cell_type": "code",
   "execution_count": 35,
   "metadata": {},
   "outputs": [],
   "source": [
    "## Upsample train\n",
    "train_files = upsample(train_files)"
   ]
  },
  {
   "cell_type": "code",
   "execution_count": 36,
   "metadata": {},
   "outputs": [
    {
     "data": {
      "text/plain": [
       "(19084, 1721, 1799)"
      ]
     },
     "execution_count": 36,
     "metadata": {},
     "output_type": "execute_result"
    }
   ],
   "source": [
    "len(train_files), len(val_files), len(test_files)"
   ]
  },
  {
   "cell_type": "code",
   "execution_count": 37,
   "metadata": {},
   "outputs": [],
   "source": [
    "## Load files to dataloader\n",
    "T_length = 5\n",
    "\n",
    "train_dataset = SpectrogramDatasetAtt(files=train_files, load_path=load_path, T_length=T_length, all_label=True)\n",
    "valid_dataset = SpectrogramDatasetAtt(files=val_files, load_path=load_path, T_length=T_length, all_label=True)\n",
    "test_dataset = SpectrogramDatasetAtt(files=test_files, load_path=load_path, T_length=T_length, all_label=True)\n",
    "\n",
    "# train_dataset = SpectrogramDatasetAtt(files=train_files, load_path=load_path, T_length=3, all_label=False, CH=CH)\n",
    "# valid_dataset = SpectrogramDatasetAtt(files=val_files, load_path=load_path, T_length=3, all_label=False, CH=CH)\n",
    "# test_dataset = SpectrogramDatasetAtt(files=test_files, load_path=load_path, T_length=3, all_label=False, CH=CH)\n",
    "\n",
    "train_loader = DataLoader(dataset=train_dataset, batch_size=128, shuffle = True)\n",
    "val_loader = DataLoader(dataset=valid_dataset, batch_size=128, shuffle = False)\n",
    "test_loader = DataLoader(dataset=test_dataset, batch_size=128, shuffle = False)"
   ]
  },
  {
   "cell_type": "markdown",
   "metadata": {},
   "source": [
    "### Training"
   ]
  },
  {
   "cell_type": "code",
   "execution_count": 38,
   "metadata": {},
   "outputs": [
    {
     "name": "stdout",
     "output_type": "stream",
     "text": [
      "convLSTM(\n",
      "  (convLSTM): ConvLSTM(\n",
      "    (cell_list): ModuleList(\n",
      "      (0): ConvLSTMCell(\n",
      "        (conv): Conv2d(72, 40, kernel_size=(3, 3), stride=(1, 1), padding=(1, 1))\n",
      "      )\n",
      "    )\n",
      "  )\n",
      "  (fc): Linear(in_features=10000, out_features=1, bias=True)\n",
      ")\n"
     ]
    }
   ],
   "source": [
    "device = torch.device('cuda')\n",
    "\n",
    "tol = 0.01\n",
    "learning_rate = 0.01\n",
    "num_epochs = 51\n",
    "alpha = 0\n",
    "model_type = 'convLSTM'\n",
    "loss_type = 'bce'\n",
    "reg_type = 'none'\n",
    "alpha = 0\n",
    "timewindow = 10\n",
    "ch = 'all'\n",
    "# verbose = False\n",
    "\n",
    "\n",
    "model = convLSTM(input_dim = 62).to(device)\n",
    "print(model)\n",
    "optimizer = torch.optim.Adam(model.parameters(), lr = learning_rate)\n",
    "criterion = nn.BCELoss() # BCE loss"
   ]
  },
  {
   "cell_type": "code",
   "execution_count": 28,
   "metadata": {
    "scrolled": true
   },
   "outputs": [
    {
     "name": "stderr",
     "output_type": "stream",
     "text": [
      "<ipython-input-13-894d578093d0>:19: UserWarning: To copy construct from a tensor, it is recommended to use sourceTensor.clone().detach() or sourceTensor.clone().detach().requires_grad_(True), rather than torch.tensor(sourceTensor).\n",
      "  outputs = torch.tensor(outputs).to(device)\n"
     ]
    },
    {
     "name": "stdout",
     "output_type": "stream",
     "text": [
      "0\n",
      "Train loss for epoch 0: 0.581186056137085\n",
      "Val loss for epoch 0: 0.5625503063201904\n",
      "Train loss for epoch 1: 0.13904094696044922\n",
      "Val loss for epoch 1: 1.3179402351379395\n",
      "Train loss for epoch 2: 0.08955426514148712\n",
      "Val loss for epoch 2: 1.3583027124404907\n",
      "Train loss for epoch 3: 0.06838494539260864\n",
      "Val loss for epoch 3: 2.050678253173828\n",
      "Train loss for epoch 4: 0.04243764281272888\n",
      "Val loss for epoch 4: 2.043999671936035\n",
      "Train loss for epoch 5: 0.01819271594285965\n",
      "Val loss for epoch 5: 1.8641462326049805\n",
      "Train loss for epoch 6: 0.00819711945950985\n",
      "Val loss for epoch 6: 2.4228062629699707\n",
      "Train loss for epoch 7: 0.004339080303907394\n",
      "Val loss for epoch 7: 2.643514394760132\n",
      "Train loss for epoch 8: 0.00604751193895936\n",
      "Val loss for epoch 8: 2.2304484844207764\n",
      "Train loss for epoch 9: 0.004746450111269951\n",
      "Val loss for epoch 9: 2.7195780277252197\n",
      "Train loss for epoch 10: 0.003726536873728037\n",
      "Val loss for epoch 10: 2.6387035846710205\n",
      "Train loss for epoch 11: 0.0034767549950629473\n",
      "Val loss for epoch 11: 3.3319802284240723\n",
      "Train loss for epoch 12: 0.0006459595169872046\n",
      "Val loss for epoch 12: 3.6164684295654297\n",
      "Train loss for epoch 13: 0.0002847420109901577\n",
      "Val loss for epoch 13: 3.7769882678985596\n",
      "Train loss for epoch 14: 0.0001911026774905622\n",
      "Val loss for epoch 14: 3.71578049659729\n",
      "Train loss for epoch 15: 0.00015868802438490093\n",
      "Val loss for epoch 15: 3.715233564376831\n",
      "Train loss for epoch 16: 0.0001387006777804345\n",
      "Val loss for epoch 16: 3.6347293853759766\n",
      "Train loss for epoch 17: 0.00012372589844744653\n",
      "Val loss for epoch 17: 3.6360952854156494\n",
      "Train loss for epoch 18: 0.00010728684719651937\n",
      "Val loss for epoch 18: 3.7009479999542236\n",
      "Train loss for epoch 19: 9.274946205550805e-05\n",
      "Val loss for epoch 19: 3.668804407119751\n",
      "Train loss for epoch 20: 8.494770736433566e-05\n",
      "Val loss for epoch 20: 3.8086867332458496\n",
      "Train loss for epoch 21: 7.824701606296003e-05\n",
      "Val loss for epoch 21: 3.734154224395752\n",
      "Train loss for epoch 22: 7.08499937900342e-05\n",
      "Val loss for epoch 22: 3.7788894176483154\n",
      "Train loss for epoch 23: 6.358751124935225e-05\n",
      "Val loss for epoch 23: 3.7897350788116455\n",
      "Train loss for epoch 24: 5.814242103951983e-05\n",
      "Val loss for epoch 24: 3.7548887729644775\n",
      "Train loss for epoch 25: 5.2363040595082566e-05\n",
      "Val loss for epoch 25: 3.756575345993042\n",
      "Train loss for epoch 26: 4.947667912347242e-05\n",
      "Val loss for epoch 26: 3.961571216583252\n",
      "Train loss for epoch 27: 4.425688530318439e-05\n",
      "Val loss for epoch 27: 4.117776870727539\n",
      "Train loss for epoch 28: 4.064246968482621e-05\n",
      "Val loss for epoch 28: 3.9757566452026367\n",
      "Train loss for epoch 29: 3.879128416883759e-05\n",
      "Val loss for epoch 29: 4.183908939361572\n",
      "Train loss for epoch 30: 3.5542689147405326e-05\n",
      "Val loss for epoch 30: 4.093893051147461\n",
      "Train loss for epoch 31: 3.1791463698027655e-05\n",
      "Val loss for epoch 31: 3.894742965698242\n",
      "Train loss for epoch 32: 2.9895989428041503e-05\n",
      "Val loss for epoch 32: 4.004242897033691\n",
      "Train loss for epoch 33: 2.8198721338412724e-05\n",
      "Val loss for epoch 33: 4.214488506317139\n",
      "Train loss for epoch 34: 2.54817077802727e-05\n",
      "Val loss for epoch 34: 4.321183681488037\n",
      "Train loss for epoch 35: 2.435351962049026e-05\n",
      "Val loss for epoch 35: 4.164148330688477\n",
      "Train loss for epoch 36: 2.164082252420485e-05\n",
      "Val loss for epoch 36: 4.42465877532959\n",
      "Train loss for epoch 37: 2.043666609097272e-05\n",
      "Val loss for epoch 37: 4.42781925201416\n",
      "Train loss for epoch 38: 1.9372720998944715e-05\n",
      "Val loss for epoch 38: 4.429271697998047\n",
      "Train loss for epoch 39: 1.751248782966286e-05\n",
      "Val loss for epoch 39: 4.479226112365723\n",
      "Train loss for epoch 40: 1.6044072253862396e-05\n",
      "Val loss for epoch 40: 4.45672607421875\n",
      "Train loss for epoch 41: 1.4354805898619816e-05\n",
      "Val loss for epoch 41: 4.419226169586182\n",
      "Train loss for epoch 42: 1.377809985569911e-05\n",
      "Val loss for epoch 42: 4.55239200592041\n",
      "Train loss for epoch 43: 1.3218443200457841e-05\n",
      "Val loss for epoch 43: 4.51352071762085\n",
      "Train loss for epoch 44: 1.1576811630220618e-05\n",
      "Val loss for epoch 44: 4.528939723968506\n",
      "Train loss for epoch 45: 1.0972825293720234e-05\n",
      "Val loss for epoch 45: 4.589316368103027\n",
      "Train loss for epoch 46: 9.990437320084311e-06\n",
      "Val loss for epoch 46: 4.504662036895752\n",
      "Train loss for epoch 47: 9.527825568511616e-06\n",
      "Val loss for epoch 47: 4.634467601776123\n",
      "Train loss for epoch 48: 9.0605344666983e-06\n",
      "Val loss for epoch 48: 4.688940048217773\n",
      "Train loss for epoch 49: 8.480095857521519e-06\n",
      "Val loss for epoch 49: 4.669669151306152\n",
      "Train loss for epoch 50: 7.47725698602153e-06\n",
      "Val loss for epoch 50: 4.722782135009766\n"
     ]
    },
    {
     "data": {
      "image/png": "[encoded data removed]",
      "text/plain": [
       "<Figure size 864x288 with 2 Axes>"
      ]
     },
     "metadata": {
      "needs_background": "light"
     },
     "output_type": "display_data"
    }
   ],
   "source": [
    "train_losses, train_accs, val_losses, val_accs, parameter_history = [], [], [], [],[]\n",
    " \n",
    "for epoch in range(num_epochs):\n",
    "    train_loss, train_acc, parameter_history = train(model, optimizer, criterion, train_loader,  device='cuda')\n",
    "    val_loss, val_acc = evaluate(model, optimizer, criterion, val_loader, device='cuda')\n",
    "    train_losses.append(train_loss)\n",
    "    train_accs.append(train_acc)\n",
    "    val_losses.append(val_loss)\n",
    "    val_accs.append(val_acc)\n",
    "    if val_loss <= min(val_losses):\n",
    "        best_epoch = epoch\n",
    "        print(epoch)\n",
    "        print('Train loss for epoch {}: {}'.format(epoch, train_loss))\n",
    "        print('Val loss for epoch {}: {}'.format(epoch, val_loss))\n",
    "        torch.save(model.state_dict(), '{}/{}_CH{}_LOSS{}_REG{}{}_TW{}_TLENGTH{}_EPOCH{}.pt'.format(model_saving_path, model_type, ch, loss_type, reg_type, alpha, timewindow, T_length, epoch))\n",
    "#     elif verbose:\n",
    "    else:\n",
    "        print('Train loss for epoch {}: {}'.format(epoch, train_loss))\n",
    "        print('Val loss for epoch {}: {}'.format(epoch, val_loss))\n",
    "        \n",
    "#     if epoch == num_epochs-1:\n",
    "#         torch.save(model.state_dict(), '{}/{}_CH{}_LOSS{}_REG{}{}_TW{}_EPOCH{}.pt'.format(model_saving_path, model_type, CH, loss_type, reg_type, alpha, timewindow, epoch))\n",
    "\n",
    "plot_loss_acc(train_losses, val_losses, train_accs, val_accs, model_type)"
   ]
  },
  {
   "cell_type": "code",
   "execution_count": 39,
   "metadata": {},
   "outputs": [
    {
     "name": "stdout",
     "output_type": "stream",
     "text": [
      "/home/bijanadmin/Desktop/Goose_and_Jester_data/data_Goose_all_Jester_all_2/convLSTM_models/convLSTM_CHall_LOSSbce_REGnone0_TW10_TLENGTH5_trainresult.pt\n"
     ]
    }
   ],
   "source": [
    "train_result_filename = '{}/{}_CH{}_LOSS{}_REG{}{}_TW{}_TLENGTH{}_trainresult.pt'.format(model_saving_path, model_type, ch, loss_type, reg_type, alpha, timewindow, T_length)\n",
    "print(train_result_filename)"
   ]
  },
  {
   "cell_type": "code",
   "execution_count": 30,
   "metadata": {},
   "outputs": [],
   "source": [
    "train_result = {'model_type': model_type, 'train_losses' : train_losses, 'val_losses' : val_losses, 'train_accs': train_accs, 'val_accs': val_accs}\n",
    "\n",
    "pickle.dump( train_result, open( train_result_filename, \"wb\" ) )"
   ]
  },
  {
   "cell_type": "code",
   "execution_count": 40,
   "metadata": {},
   "outputs": [
    {
     "data": {
      "image/png": "[encoded data removed]",
      "text/plain": [
       "<Figure size 864x288 with 2 Axes>"
      ]
     },
     "metadata": {
      "needs_background": "light"
     },
     "output_type": "display_data"
    }
   ],
   "source": [
    "train_result = pickle.load(open(train_result_filename, \"rb\" ))\n",
    "plot_loss_acc( train_result['train_losses'],  train_result['val_losses'],  train_result['train_accs'],  train_result['val_accs'],  train_result['model_type'])"
   ]
  },
  {
   "cell_type": "code",
   "execution_count": 41,
   "metadata": {
    "scrolled": true
   },
   "outputs": [
    {
     "name": "stdout",
     "output_type": "stream",
     "text": [
      "       epoch\n",
      "alpha       \n",
      "0          0\n"
     ]
    }
   ],
   "source": [
    "model_convLSTM = os.listdir(model_saving_path)\n",
    "results = []\n",
    "best_result = 0\n",
    "reg_alpha = 'REG'+reg_type+str(alpha)+'_'\n",
    "tlength = 'TLENGTH'+str(T_length)\n",
    "for i, s in enumerate(model_convLSTM):\n",
    "    if 'convLSTM_CHall_' in s and reg_alpha in s and 'trainresult' not in s and tlength in s and 'valcm' not in s:\n",
    "        model_name = model_convLSTM[i].split('_')\n",
    "        epoch_name = [ind for ind,item in enumerate(np.array(model_name)) if \"EPOCH\" in item]\n",
    "        res = [int(i) for i in model_name[epoch_name[0]] if i.isdigit()]\n",
    "        if len(res) > 1:\n",
    "            epoch_result = res[0]*10+res[1]\n",
    "        else:\n",
    "            epoch_result = res[0]\n",
    "        if epoch_result>best_result and epoch_result != 50:\n",
    "            best_result = epoch_result\n",
    "\n",
    "results.append([alpha,best_result])\n",
    "\n",
    "    \n",
    "results = pd.DataFrame(np.array(results), columns=['alpha', 'epoch'])\n",
    "best_results = results.groupby('alpha').max('epoch')\n",
    "print(best_results)\n"
   ]
  },
  {
   "cell_type": "code",
   "execution_count": 42,
   "metadata": {},
   "outputs": [
    {
     "name": "stdout",
     "output_type": "stream",
     "text": [
      "/home/bijanadmin/Desktop/Goose_and_Jester_data/data_Goose_all_Jester_all_2/convLSTM_models/convLSTM_CHall_LOSSbce_REGnone0_TW10_TLENGTH5_EPOCH0.pt\n"
     ]
    },
    {
     "name": "stderr",
     "output_type": "stream",
     "text": [
      "<ipython-input-13-894d578093d0>:19: UserWarning: To copy construct from a tensor, it is recommended to use sourceTensor.clone().detach() or sourceTensor.clone().detach().requires_grad_(True), rather than torch.tensor(sourceTensor).\n",
      "  outputs = torch.tensor(outputs).to(device)\n"
     ]
    },
    {
     "name": "stdout",
     "output_type": "stream",
     "text": [
      "validation loss:0.5733516216278076 accuracy:0.8977338756536897\n",
      "/home/bijanadmin/Desktop/Goose_and_Jester_data/data_Goose_all_Jester_all_2/convLSTM_models/convLSTM_CHall_LOSSbce_REGnone0_TW10_TLENGTH5_valcm.pt\n"
     ]
    },
    {
     "data": {
      "image/png": "[encoded data removed]",
      "text/plain": [
       "<Figure size 432x288 with 2 Axes>"
      ]
     },
     "metadata": {
      "needs_background": "light"
     },
     "output_type": "display_data"
    },
    {
     "name": "stdout",
     "output_type": "stream",
     "text": [
      "test loss:0.456884503364563 accuracy:0.8788215675375208\n",
      "0.83379656\n",
      "/home/bijanadmin/Desktop/Goose_and_Jester_data/data_Goose_all_Jester_all_2/convLSTM_models/convLSTM_CHall_LOSSbce_REGnone0_TW10_TLENGTH5_testcm.pt\n"
     ]
    },
    {
     "data": {
      "image/png": "[encoded data removed]",
      "text/plain": [
       "<Figure size 432x288 with 2 Axes>"
      ]
     },
     "metadata": {
      "needs_background": "light"
     },
     "output_type": "display_data"
    }
   ],
   "source": [
    "for i,(index,row) in enumerate(best_results.iterrows()):\n",
    "\n",
    "    best_epoch = int(row)\n",
    "    alpha = index\n",
    "    \n",
    "    \n",
    "    # load best model\n",
    "    model = convLSTM(input_dim = 62).to(device)\n",
    "    optimizer = torch.optim.Adam(model.parameters(), lr = learning_rate)\n",
    "    model.load_state_dict(torch.load('{}/{}_CH{}_LOSS{}_REG{}{}_TW{}_TLENGTH{}_EPOCH{}.pt'.format(model_saving_path, model_type, ch, loss_type, reg_type, alpha, timewindow, T_length, best_epoch)))\n",
    "    \n",
    "    print('{}/{}_CH{}_LOSS{}_REG{}{}_TW{}_TLENGTH{}_EPOCH{}.pt'.format(model_saving_path, model_type, ch, loss_type, reg_type, alpha, timewindow,T_length, best_epoch))\n",
    "\n",
    "    \n",
    "    ## Calculate validation accuracy and validation loss\n",
    "    val_loss, val_acc, val_preds, val_labels = evaluate(model, optimizer, criterion, val_loader, device='cuda', collect_result = True)\n",
    "    print('validation loss:{} accuracy:{}'.format(val_loss, val_acc))\n",
    "    \n",
    "    ## Confusion matrix-validation\n",
    "    predictions_val = np.concatenate(val_preds)\n",
    "    labels_val = np.concatenate(val_labels)\n",
    "    \n",
    "    val_cm_filename = '{}/{}_CH{}_LOSS{}_REG{}{}_TW{}_TLENGTH{}_valcm.pt'.format(model_saving_path, model_type, ch, loss_type, reg_type, alpha, timewindow, T_length)\n",
    "    print(val_cm_filename)\n",
    "    val_cm_result = {'predictions_val': predictions_val, 'labels_val' : labels_val}\n",
    "\n",
    "    pickle.dump( val_cm_result, open( val_cm_filename, \"wb\" ) )\n",
    "    \n",
    "    \n",
    "    df_val = pd.DataFrame({'predictions': predictions_val, 'labels': labels_val})\n",
    "\n",
    "    cm_val = confusion_matrix(labels_val, predictions_val)\n",
    "    ax = plt.axes()\n",
    "    group_names = ['True Neg','False Pos','False Neg','True Pos']\n",
    "    group_counts = [\"{0:0.0f}\".format(value) for value in\n",
    "                    cm_val.flatten()]\n",
    "\n",
    "    TNR = int(group_counts[0]) / (int(group_counts[0])+int(group_counts[1]))\n",
    "    FPR = 1 - TNR\n",
    "    TPR = int(group_counts[3]) / (int(group_counts[3])+int(group_counts[2]))\n",
    "    FNR = 1-TPR\n",
    "    group_percentages =[TNR, FPR, FNR, TPR]\n",
    "\n",
    "    group_percentages = [\"{0:.2%}\".format(value) for value in\n",
    "                         group_percentages]\n",
    "    labels = [f\"{v1}\\n{v2}\\n{v3}\" for v1, v2, v3 in\n",
    "              zip(group_names,group_counts,group_percentages)]\n",
    "    labels = np.asarray(labels).reshape(2,2)\n",
    "    sn.heatmap(cm_val, annot=labels, fmt='', center = 2000)\n",
    "    ax.set_title('Validation Confusion Matrix')\n",
    "    ax.set_xlabel('Predicted Label')\n",
    "    ax.set_ylabel('True Label')\n",
    "    plt.show()\n",
    "    \n",
    "    \n",
    "    ## Calculate test accuracy and test loss\n",
    "    test_loss, test_acc, test_preds, test_labels = evaluate(model, optimizer, criterion, test_loader, device='cuda', collect_result = True)\n",
    "    print('test loss:{} accuracy:{}'.format(test_loss, test_acc))\n",
    "    print(np.mean(np.concatenate(test_labels)))\n",
    "    \n",
    "    ## Confusion matrix-test\n",
    "    predictions_test = np.concatenate(test_preds)\n",
    "    labels_test = np.concatenate(test_labels)\n",
    "\n",
    "    test_cm_filename = '{}/{}_CH{}_LOSS{}_REG{}{}_TW{}_TLENGTH{}_testcm.pt'.format(model_saving_path, model_type, ch, loss_type, reg_type, alpha, timewindow, T_length)\n",
    "    print(test_cm_filename)\n",
    "    test_cm_result = {'predictions_test': predictions_test, 'labels_test' : labels_test}\n",
    "\n",
    "    pickle.dump( test_cm_result, open( test_cm_filename, \"wb\" ) )\n",
    "\n",
    "\n",
    "    df_test = pd.DataFrame({'predictions': predictions_test, 'labels': labels_test})\n",
    "\n",
    "    cm_test = confusion_matrix(labels_test, predictions_test)\n",
    "    ax = plt.axes()\n",
    "    group_names = ['True Neg','False Pos','False Neg','True Pos']\n",
    "    group_counts = [\"{0:0.0f}\".format(value) for value in\n",
    "                    cm_test.flatten()]\n",
    "\n",
    "    TNR = int(group_counts[0]) / (int(group_counts[0])+int(group_counts[1]))\n",
    "    FPR = 1 - TNR\n",
    "    TPR = int(group_counts[3]) / (int(group_counts[3])+int(group_counts[2]))\n",
    "    FNR = 1-TPR\n",
    "    group_percentages =[TNR, FPR, FNR, TPR]\n",
    "\n",
    "    group_percentages = [\"{0:.2%}\".format(value) for value in\n",
    "                         group_percentages]\n",
    "    labels = [f\"{v1}\\n{v2}\\n{v3}\" for v1, v2, v3 in\n",
    "              zip(group_names,group_counts,group_percentages)]\n",
    "    labels = np.asarray(labels).reshape(2,2)\n",
    "    sn.heatmap(cm_test, annot=labels, fmt='', center = 2000)\n",
    "    ax.set_title('Test Confusion Matrix')\n",
    "    ax.set_xlabel('Predicted Label')\n",
    "    ax.set_ylabel('True Label')\n",
    "    plt.show()\n",
    "    \n"
   ]
  },
  {
   "cell_type": "code",
   "execution_count": null,
   "metadata": {},
   "outputs": [],
   "source": []
  },
  {
   "cell_type": "code",
   "execution_count": null,
   "metadata": {},
   "outputs": [],
   "source": []
  },
  {
   "cell_type": "markdown",
   "metadata": {},
   "source": [
    "## T-length = 10"
   ]
  },
  {
   "cell_type": "code",
   "execution_count": 43,
   "metadata": {},
   "outputs": [],
   "source": [
    "time_window = 10\n",
    "## Load files\n",
    "move_files, sleep_files = create_files_new(load_path, bad_dates, T_length=3, proceed=3)\n",
    "train_files, val_files, test_files = [], [], []\n",
    "\n",
    "## Put files in val, test, and train\n",
    "for f in move_files+sleep_files:\n",
    "    if f:\n",
    "        if f[0][1][3] in val_dates:\n",
    "            val_files.extend(f)\n",
    "        elif f[0][1][3] in test_dates:\n",
    "            test_files.extend(f)\n",
    "        else:\n",
    "            train_files.extend(f)           "
   ]
  },
  {
   "cell_type": "code",
   "execution_count": 44,
   "metadata": {},
   "outputs": [],
   "source": [
    "## Randomly shuffle inside train, val, and test\n",
    "random.shuffle(train_files)\n",
    "random.shuffle(val_files)\n",
    "random.shuffle(test_files)"
   ]
  },
  {
   "cell_type": "code",
   "execution_count": 45,
   "metadata": {},
   "outputs": [],
   "source": [
    "## Upsample train\n",
    "train_files = upsample(train_files)"
   ]
  },
  {
   "cell_type": "code",
   "execution_count": 46,
   "metadata": {},
   "outputs": [
    {
     "data": {
      "text/plain": [
       "(19084, 1721, 1799)"
      ]
     },
     "execution_count": 46,
     "metadata": {},
     "output_type": "execute_result"
    }
   ],
   "source": [
    "len(train_files), len(val_files), len(test_files)"
   ]
  },
  {
   "cell_type": "code",
   "execution_count": 47,
   "metadata": {},
   "outputs": [],
   "source": [
    "## Load files to dataloader\n",
    "T_length = 10\n",
    "\n",
    "train_dataset = SpectrogramDatasetAtt(files=train_files, load_path=load_path, T_length=T_length, all_label=True)\n",
    "valid_dataset = SpectrogramDatasetAtt(files=val_files, load_path=load_path, T_length=T_length, all_label=True)\n",
    "test_dataset = SpectrogramDatasetAtt(files=test_files, load_path=load_path, T_length=T_length, all_label=True)\n",
    "\n",
    "# train_dataset = SpectrogramDatasetAtt(files=train_files, load_path=load_path, T_length=3, all_label=False, CH=CH)\n",
    "# valid_dataset = SpectrogramDatasetAtt(files=val_files, load_path=load_path, T_length=3, all_label=False, CH=CH)\n",
    "# test_dataset = SpectrogramDatasetAtt(files=test_files, load_path=load_path, T_length=3, all_label=False, CH=CH)\n",
    "\n",
    "train_loader = DataLoader(dataset=train_dataset, batch_size=128, shuffle = True)\n",
    "val_loader = DataLoader(dataset=valid_dataset, batch_size=128, shuffle = False)\n",
    "test_loader = DataLoader(dataset=test_dataset, batch_size=128, shuffle = False)"
   ]
  },
  {
   "cell_type": "markdown",
   "metadata": {},
   "source": [
    "### Training"
   ]
  },
  {
   "cell_type": "code",
   "execution_count": 48,
   "metadata": {},
   "outputs": [
    {
     "name": "stdout",
     "output_type": "stream",
     "text": [
      "convLSTM(\n",
      "  (convLSTM): ConvLSTM(\n",
      "    (cell_list): ModuleList(\n",
      "      (0): ConvLSTMCell(\n",
      "        (conv): Conv2d(72, 40, kernel_size=(3, 3), stride=(1, 1), padding=(1, 1))\n",
      "      )\n",
      "    )\n",
      "  )\n",
      "  (fc): Linear(in_features=10000, out_features=1, bias=True)\n",
      ")\n"
     ]
    }
   ],
   "source": [
    "device = torch.device('cuda')\n",
    "\n",
    "tol = 0.01\n",
    "learning_rate = 0.01\n",
    "num_epochs = 51\n",
    "alpha = 0\n",
    "model_type = 'convLSTM'\n",
    "loss_type = 'bce'\n",
    "reg_type = 'none'\n",
    "alpha = 0\n",
    "timewindow = 10\n",
    "ch = 'all'\n",
    "# verbose = False\n",
    "\n",
    "\n",
    "model = convLSTM(input_dim = 62).to(device)\n",
    "print(model)\n",
    "optimizer = torch.optim.Adam(model.parameters(), lr = learning_rate)\n",
    "criterion = nn.BCELoss() # BCE loss"
   ]
  },
  {
   "cell_type": "code",
   "execution_count": 40,
   "metadata": {
    "scrolled": true
   },
   "outputs": [
    {
     "name": "stderr",
     "output_type": "stream",
     "text": [
      "<ipython-input-13-894d578093d0>:19: UserWarning: To copy construct from a tensor, it is recommended to use sourceTensor.clone().detach() or sourceTensor.clone().detach().requires_grad_(True), rather than torch.tensor(sourceTensor).\n",
      "  outputs = torch.tensor(outputs).to(device)\n"
     ]
    },
    {
     "name": "stdout",
     "output_type": "stream",
     "text": [
      "0\n",
      "Train loss for epoch 0: 0.3802734613418579\n",
      "Val loss for epoch 0: 0.991221010684967\n",
      "1\n",
      "Train loss for epoch 1: 0.11997436732053757\n",
      "Val loss for epoch 1: 0.5980918407440186\n",
      "Train loss for epoch 2: 0.06384022533893585\n",
      "Val loss for epoch 2: 0.8013508915901184\n",
      "Train loss for epoch 3: 0.0346946194767952\n",
      "Val loss for epoch 3: 0.9768140316009521\n",
      "Train loss for epoch 4: 0.016431964933872223\n",
      "Val loss for epoch 4: 1.1909425258636475\n",
      "Train loss for epoch 5: 0.010563865303993225\n",
      "Val loss for epoch 5: 1.5315110683441162\n",
      "Train loss for epoch 6: 0.005528037436306477\n",
      "Val loss for epoch 6: 1.6185696125030518\n",
      "Train loss for epoch 7: 0.0030898756813257933\n",
      "Val loss for epoch 7: 2.026939868927002\n",
      "Train loss for epoch 8: 0.001762310741469264\n",
      "Val loss for epoch 8: 1.9462437629699707\n",
      "Train loss for epoch 9: 0.0009624275844544172\n",
      "Val loss for epoch 9: 2.066157341003418\n",
      "Train loss for epoch 10: 0.0018105616327375174\n",
      "Val loss for epoch 10: 2.261998414993286\n",
      "Train loss for epoch 11: 0.000753373431507498\n",
      "Val loss for epoch 11: 2.5931825637817383\n",
      "Train loss for epoch 12: 0.2980801463127136\n",
      "Val loss for epoch 12: 2.6598050594329834\n",
      "Train loss for epoch 13: 0.12043050676584244\n",
      "Val loss for epoch 13: 3.7501063346862793\n",
      "Train loss for epoch 14: 0.037279821932315826\n",
      "Val loss for epoch 14: 3.393148899078369\n",
      "Train loss for epoch 15: 0.011824386194348335\n",
      "Val loss for epoch 15: 4.414402008056641\n",
      "Train loss for epoch 16: 0.0031599674839526415\n",
      "Val loss for epoch 16: 4.831674098968506\n",
      "Train loss for epoch 17: 0.0012551120016723871\n",
      "Val loss for epoch 17: 5.255923748016357\n",
      "Train loss for epoch 18: 0.00036372608155943453\n",
      "Val loss for epoch 18: 4.983652114868164\n",
      "Train loss for epoch 19: 0.00020568928448483348\n",
      "Val loss for epoch 19: 5.201846122741699\n",
      "Train loss for epoch 20: 0.00015553254343103617\n",
      "Val loss for epoch 20: 5.216028213500977\n",
      "Train loss for epoch 21: 0.0001289393985643983\n",
      "Val loss for epoch 21: 5.133769512176514\n",
      "Train loss for epoch 22: 0.00010344991460442543\n",
      "Val loss for epoch 22: 5.061319351196289\n",
      "Train loss for epoch 23: 9.685381519375369e-05\n",
      "Val loss for epoch 23: 5.281064033508301\n",
      "Train loss for epoch 24: 8.483175770379603e-05\n",
      "Val loss for epoch 24: 5.238505840301514\n",
      "Train loss for epoch 25: 6.917168502695858e-05\n",
      "Val loss for epoch 25: 5.286309242248535\n",
      "Train loss for epoch 26: 6.200372445164248e-05\n",
      "Val loss for epoch 26: 5.240357398986816\n",
      "Train loss for epoch 27: 6.159475742606446e-05\n",
      "Val loss for epoch 27: 5.430179119110107\n",
      "Train loss for epoch 28: 4.9754238716559485e-05\n",
      "Val loss for epoch 28: 5.485062599182129\n",
      "Train loss for epoch 29: 4.632801574189216e-05\n",
      "Val loss for epoch 29: 5.313597202301025\n",
      "Train loss for epoch 30: 4.188878301647492e-05\n",
      "Val loss for epoch 30: 5.411752700805664\n",
      "Train loss for epoch 31: 3.80787969334051e-05\n",
      "Val loss for epoch 31: 5.274255752563477\n",
      "Train loss for epoch 32: 3.7973677535774186e-05\n",
      "Val loss for epoch 32: 5.323709011077881\n",
      "Train loss for epoch 33: 3.3447107853135094e-05\n",
      "Val loss for epoch 33: 5.612269878387451\n",
      "Train loss for epoch 34: 3.0152394174365327e-05\n",
      "Val loss for epoch 34: 5.422550678253174\n",
      "Train loss for epoch 35: 2.8536591344163753e-05\n",
      "Val loss for epoch 35: 5.482985973358154\n",
      "Train loss for epoch 36: 3.2924905099207535e-05\n",
      "Val loss for epoch 36: 5.6620893478393555\n",
      "Train loss for epoch 37: 3.0141578463371843e-05\n",
      "Val loss for epoch 37: 5.4794793128967285\n",
      "Train loss for epoch 38: 2.2649717720923945e-05\n",
      "Val loss for epoch 38: 5.767523288726807\n",
      "Train loss for epoch 39: 2.1315030608093366e-05\n",
      "Val loss for epoch 39: 5.731161117553711\n",
      "Train loss for epoch 40: 2.002996734518092e-05\n",
      "Val loss for epoch 40: 5.497772693634033\n",
      "Train loss for epoch 41: 1.7991460481425747e-05\n",
      "Val loss for epoch 41: 5.738285541534424\n",
      "Train loss for epoch 42: 1.6846157450345345e-05\n",
      "Val loss for epoch 42: 5.646128177642822\n",
      "Train loss for epoch 43: 1.521823196526384e-05\n",
      "Val loss for epoch 43: 5.502171516418457\n",
      "Train loss for epoch 44: 1.5602223356836475e-05\n",
      "Val loss for epoch 44: 5.698670864105225\n",
      "Train loss for epoch 45: 1.3880244296160527e-05\n",
      "Val loss for epoch 45: 5.624889850616455\n",
      "Train loss for epoch 46: 1.2729675290756859e-05\n",
      "Val loss for epoch 46: 5.62186861038208\n",
      "Train loss for epoch 47: 1.19405121949967e-05\n",
      "Val loss for epoch 47: 5.858635902404785\n",
      "Train loss for epoch 48: 1.1167982847837266e-05\n",
      "Val loss for epoch 48: 5.52366304397583\n",
      "Train loss for epoch 49: 1.057330155163072e-05\n",
      "Val loss for epoch 49: 5.77304744720459\n",
      "Train loss for epoch 50: 9.584747203916777e-06\n",
      "Val loss for epoch 50: 5.588528633117676\n"
     ]
    },
    {
     "data": {
      "image/png": "[encoded data removed]",
      "text/plain": [
       "<Figure size 864x288 with 2 Axes>"
      ]
     },
     "metadata": {
      "needs_background": "light"
     },
     "output_type": "display_data"
    }
   ],
   "source": [
    "train_losses, train_accs, val_losses, val_accs, parameter_history = [], [], [], [],[]\n",
    " \n",
    "for epoch in range(num_epochs):\n",
    "    train_loss, train_acc, parameter_history = train(model, optimizer, criterion, train_loader,  device='cuda')\n",
    "    val_loss, val_acc = evaluate(model, optimizer, criterion, val_loader, device='cuda')\n",
    "    train_losses.append(train_loss)\n",
    "    train_accs.append(train_acc)\n",
    "    val_losses.append(val_loss)\n",
    "    val_accs.append(val_acc)\n",
    "    if val_loss <= min(val_losses):\n",
    "        best_epoch = epoch\n",
    "        print(epoch)\n",
    "        print('Train loss for epoch {}: {}'.format(epoch, train_loss))\n",
    "        print('Val loss for epoch {}: {}'.format(epoch, val_loss))\n",
    "        torch.save(model.state_dict(), '{}/{}_CH{}_LOSS{}_REG{}{}_TW{}_TLENGTH{}_EPOCH{}.pt'.format(model_saving_path, model_type, ch, loss_type, reg_type, alpha, timewindow, T_length, epoch))\n",
    "#     elif verbose:\n",
    "    else:\n",
    "        print('Train loss for epoch {}: {}'.format(epoch, train_loss))\n",
    "        print('Val loss for epoch {}: {}'.format(epoch, val_loss))\n",
    "        \n",
    "#     if epoch == num_epochs-1:\n",
    "#         torch.save(model.state_dict(), '{}/{}_CH{}_LOSS{}_REG{}{}_TW{}_EPOCH{}.pt'.format(model_saving_path, model_type, CH, loss_type, reg_type, alpha, timewindow, epoch))\n",
    "\n",
    "plot_loss_acc(train_losses, val_losses, train_accs, val_accs, model_type)"
   ]
  },
  {
   "cell_type": "code",
   "execution_count": 49,
   "metadata": {},
   "outputs": [
    {
     "name": "stdout",
     "output_type": "stream",
     "text": [
      "/home/bijanadmin/Desktop/Goose_and_Jester_data/data_Goose_all_Jester_all_2/convLSTM_models/convLSTM_CHall_LOSSbce_REGnone0_TW10_TLENGTH10_trainresult.pt\n"
     ]
    }
   ],
   "source": [
    "train_result_filename = '{}/{}_CH{}_LOSS{}_REG{}{}_TW{}_TLENGTH{}_trainresult.pt'.format(model_saving_path, model_type, ch, loss_type, reg_type, alpha, timewindow, T_length)\n",
    "print(train_result_filename)"
   ]
  },
  {
   "cell_type": "code",
   "execution_count": 42,
   "metadata": {},
   "outputs": [],
   "source": [
    "train_result = {'model_type': model_type, 'train_losses' : train_losses, 'val_losses' : val_losses, 'train_accs': train_accs, 'val_accs': val_accs}\n",
    "\n",
    "pickle.dump( train_result, open( train_result_filename, \"wb\" ) )"
   ]
  },
  {
   "cell_type": "code",
   "execution_count": 50,
   "metadata": {},
   "outputs": [
    {
     "data": {
      "image/png": "[encoded data removed]",
      "text/plain": [
       "<Figure size 864x288 with 2 Axes>"
      ]
     },
     "metadata": {
      "needs_background": "light"
     },
     "output_type": "display_data"
    }
   ],
   "source": [
    "train_result = pickle.load(open(train_result_filename, \"rb\" ))\n",
    "plot_loss_acc( train_result['train_losses'],  train_result['val_losses'],  train_result['train_accs'],  train_result['val_accs'],  train_result['model_type'])"
   ]
  },
  {
   "cell_type": "code",
   "execution_count": 51,
   "metadata": {
    "scrolled": true
   },
   "outputs": [
    {
     "name": "stdout",
     "output_type": "stream",
     "text": [
      "       epoch\n",
      "alpha       \n",
      "0          1\n"
     ]
    }
   ],
   "source": [
    "model_convLSTM = os.listdir(model_saving_path)\n",
    "results = []\n",
    "best_result = 0\n",
    "reg_alpha = 'REG'+reg_type+str(alpha)+'_'\n",
    "tlength = 'TLENGTH'+str(T_length)\n",
    "for i, s in enumerate(model_convLSTM):\n",
    "    if 'convLSTM_CHall_' in s and reg_alpha in s and 'trainresult' not in s and tlength in s and 'valcm' not in s:\n",
    "        model_name = model_convLSTM[i].split('_')\n",
    "        epoch_name = [ind for ind,item in enumerate(np.array(model_name)) if \"EPOCH\" in item]\n",
    "        res = [int(i) for i in model_name[epoch_name[0]] if i.isdigit()]\n",
    "        if len(res) > 1:\n",
    "            epoch_result = res[0]*10+res[1]\n",
    "        else:\n",
    "            epoch_result = res[0]\n",
    "        if epoch_result>best_result and epoch_result != 50:\n",
    "            best_result = epoch_result\n",
    "\n",
    "results.append([alpha,best_result])\n",
    "\n",
    "    \n",
    "results = pd.DataFrame(np.array(results), columns=['alpha', 'epoch'])\n",
    "best_results = results.groupby('alpha').max('epoch')\n",
    "print(best_results)\n"
   ]
  },
  {
   "cell_type": "code",
   "execution_count": 52,
   "metadata": {},
   "outputs": [
    {
     "name": "stdout",
     "output_type": "stream",
     "text": [
      "/home/bijanadmin/Desktop/Goose_and_Jester_data/data_Goose_all_Jester_all_2/convLSTM_models/convLSTM_CHall_LOSSbce_REGnone0_TW10_TLENGTH10_EPOCH1.pt\n"
     ]
    },
    {
     "name": "stderr",
     "output_type": "stream",
     "text": [
      "<ipython-input-13-894d578093d0>:19: UserWarning: To copy construct from a tensor, it is recommended to use sourceTensor.clone().detach() or sourceTensor.clone().detach().requires_grad_(True), rather than torch.tensor(sourceTensor).\n",
      "  outputs = torch.tensor(outputs).to(device)\n"
     ]
    },
    {
     "name": "stdout",
     "output_type": "stream",
     "text": [
      "validation loss:0.5922431945800781 accuracy:0.821034282393957\n",
      "/home/bijanadmin/Desktop/Goose_and_Jester_data/data_Goose_all_Jester_all_2/convLSTM_models/convLSTM_CHall_LOSSbce_REGnone0_TW10_TLENGTH10_valcm.pt\n"
     ]
    },
    {
     "data": {
      "image/png": "[encoded data removed]",
      "text/plain": [
       "<Figure size 432x288 with 2 Axes>"
      ]
     },
     "metadata": {
      "needs_background": "light"
     },
     "output_type": "display_data"
    },
    {
     "name": "stdout",
     "output_type": "stream",
     "text": [
      "test loss:0.5790156722068787 accuracy:0.8121178432462479\n",
      "0.83379656\n",
      "/home/bijanadmin/Desktop/Goose_and_Jester_data/data_Goose_all_Jester_all_2/convLSTM_models/convLSTM_CHall_LOSSbce_REGnone0_TW10_TLENGTH10_testcm.pt\n"
     ]
    },
    {
     "data": {
      "image/png": "[encoded data removed]",
      "text/plain": [
       "<Figure size 432x288 with 2 Axes>"
      ]
     },
     "metadata": {
      "needs_background": "light"
     },
     "output_type": "display_data"
    }
   ],
   "source": [
    "for i,(index,row) in enumerate(best_results.iterrows()):\n",
    "\n",
    "    best_epoch = int(row)\n",
    "    alpha = index\n",
    "    \n",
    "    \n",
    "    # load best model\n",
    "    model = convLSTM(input_dim = 62).to(device)\n",
    "    optimizer = torch.optim.Adam(model.parameters(), lr = learning_rate)\n",
    "    model.load_state_dict(torch.load('{}/{}_CH{}_LOSS{}_REG{}{}_TW{}_TLENGTH{}_EPOCH{}.pt'.format(model_saving_path, model_type, ch, loss_type, reg_type, alpha, timewindow, T_length, best_epoch)))\n",
    "    \n",
    "    print('{}/{}_CH{}_LOSS{}_REG{}{}_TW{}_TLENGTH{}_EPOCH{}.pt'.format(model_saving_path, model_type, ch, loss_type, reg_type, alpha, timewindow,T_length, best_epoch))\n",
    "\n",
    "    \n",
    "    ## Calculate validation accuracy and validation loss\n",
    "    val_loss, val_acc, val_preds, val_labels = evaluate(model, optimizer, criterion, val_loader, device='cuda', collect_result = True)\n",
    "    print('validation loss:{} accuracy:{}'.format(val_loss, val_acc))\n",
    "    \n",
    "    ## Confusion matrix-validation\n",
    "    predictions_val = np.concatenate(val_preds)\n",
    "    labels_val = np.concatenate(val_labels)\n",
    "    \n",
    "    val_cm_filename = '{}/{}_CH{}_LOSS{}_REG{}{}_TW{}_TLENGTH{}_valcm.pt'.format(model_saving_path, model_type, ch, loss_type, reg_type, alpha, timewindow, T_length)\n",
    "    print(val_cm_filename)\n",
    "    val_cm_result = {'predictions_val': predictions_val, 'labels_val' : labels_val}\n",
    "\n",
    "    pickle.dump( val_cm_result, open( val_cm_filename, \"wb\" ) )\n",
    "    \n",
    "    \n",
    "    df_val = pd.DataFrame({'predictions': predictions_val, 'labels': labels_val})\n",
    "\n",
    "    cm_val = confusion_matrix(labels_val, predictions_val)\n",
    "    ax = plt.axes()\n",
    "    group_names = ['True Neg','False Pos','False Neg','True Pos']\n",
    "    group_counts = [\"{0:0.0f}\".format(value) for value in\n",
    "                    cm_val.flatten()]\n",
    "\n",
    "    TNR = int(group_counts[0]) / (int(group_counts[0])+int(group_counts[1]))\n",
    "    FPR = 1 - TNR\n",
    "    TPR = int(group_counts[3]) / (int(group_counts[3])+int(group_counts[2]))\n",
    "    FNR = 1-TPR\n",
    "    group_percentages =[TNR, FPR, FNR, TPR]\n",
    "\n",
    "    group_percentages = [\"{0:.2%}\".format(value) for value in\n",
    "                         group_percentages]\n",
    "    labels = [f\"{v1}\\n{v2}\\n{v3}\" for v1, v2, v3 in\n",
    "              zip(group_names,group_counts,group_percentages)]\n",
    "    labels = np.asarray(labels).reshape(2,2)\n",
    "    sn.heatmap(cm_val, annot=labels, fmt='', center = 2000)\n",
    "    ax.set_title('Validation Confusion Matrix')\n",
    "    ax.set_xlabel('Predicted Label')\n",
    "    ax.set_ylabel('True Label')\n",
    "    plt.show()\n",
    "    \n",
    "    \n",
    "    ## Calculate test accuracy and test loss\n",
    "    test_loss, test_acc, test_preds, test_labels = evaluate(model, optimizer, criterion, test_loader, device='cuda', collect_result = True)\n",
    "    print('test loss:{} accuracy:{}'.format(test_loss, test_acc))\n",
    "    print(np.mean(np.concatenate(test_labels)))\n",
    "    \n",
    "    ## Confusion matrix-test\n",
    "    predictions_test = np.concatenate(test_preds)\n",
    "    labels_test = np.concatenate(test_labels)\n",
    "\n",
    "    test_cm_filename = '{}/{}_CH{}_LOSS{}_REG{}{}_TW{}_TLENGTH{}_testcm.pt'.format(model_saving_path, model_type, ch, loss_type, reg_type, alpha, timewindow, T_length)\n",
    "    print(test_cm_filename)\n",
    "    test_cm_result = {'predictions_test': predictions_test, 'labels_test' : labels_test}\n",
    "\n",
    "    pickle.dump( test_cm_result, open( test_cm_filename, \"wb\" ) )\n",
    "\n",
    "\n",
    "    df_test = pd.DataFrame({'predictions': predictions_test, 'labels': labels_test})\n",
    "\n",
    "    cm_test = confusion_matrix(labels_test, predictions_test)\n",
    "    ax = plt.axes()\n",
    "    group_names = ['True Neg','False Pos','False Neg','True Pos']\n",
    "    group_counts = [\"{0:0.0f}\".format(value) for value in\n",
    "                    cm_test.flatten()]\n",
    "\n",
    "    TNR = int(group_counts[0]) / (int(group_counts[0])+int(group_counts[1]))\n",
    "    FPR = 1 - TNR\n",
    "    TPR = int(group_counts[3]) / (int(group_counts[3])+int(group_counts[2]))\n",
    "    FNR = 1-TPR\n",
    "    group_percentages =[TNR, FPR, FNR, TPR]\n",
    "\n",
    "    group_percentages = [\"{0:.2%}\".format(value) for value in\n",
    "                         group_percentages]\n",
    "    labels = [f\"{v1}\\n{v2}\\n{v3}\" for v1, v2, v3 in\n",
    "              zip(group_names,group_counts,group_percentages)]\n",
    "    labels = np.asarray(labels).reshape(2,2)\n",
    "    sn.heatmap(cm_test, annot=labels, fmt='', center = 2000)\n",
    "    ax.set_title('Test Confusion Matrix')\n",
    "    ax.set_xlabel('Predicted Label')\n",
    "    ax.set_ylabel('True Label')\n",
    "    plt.show()\n",
    "    \n"
   ]
  },
  {
   "cell_type": "code",
   "execution_count": null,
   "metadata": {},
   "outputs": [],
   "source": []
  }
 ],
 "metadata": {
  "kernelspec": {
   "display_name": "Python 3",
   "language": "python",
   "name": "python3"
  },
  "language_info": {
   "codemirror_mode": {
    "name": "ipython",
    "version": 3
   },
   "file_extension": ".py",
   "mimetype": "text/x-python",
   "name": "python",
   "nbconvert_exporter": "python",
   "pygments_lexer": "ipython3",
   "version": "3.8.5"
  }
 },
 "nbformat": 4,
 "nbformat_minor": 4
}
