{
 "cells": [
  {
   "cell_type": "code",
   "execution_count": 34,
   "metadata": {},
   "outputs": [],
   "source": [
    "import numpy as np\n",
    "import pandas as pd\n",
    "import matplotlib.pyplot as plt\n",
    "import torch\n",
    "from torch.utils.data import Dataset, DataLoader\n",
    "import torch.nn as nn \n",
    "import torch.nn.functional as F\n",
    "from scipy.io import loadmat\n",
    "import os\n",
    "from os import listdir\n",
    "import pandas as pd\n",
    "from skimage import io\n",
    "from PIL import Image\n",
    "from sklearn.metrics import confusion_matrix\n",
    "import seaborn as sn\n",
    "import pickle\n",
    "import operator\n",
    "import pdb\n",
    "import random\n",
    "from random import sample\n",
    "\n",
    "from utils import *"
   ]
  },
  {
   "cell_type": "markdown",
   "metadata": {},
   "source": [
    "### Define \n",
    "channel, width of each spectrogram in the time direction and bad dates (with artifacts), validation dates, test dates, paths"
   ]
  },
  {
   "cell_type": "code",
   "execution_count": 35,
   "metadata": {},
   "outputs": [],
   "source": [
    "CH = 23\n",
    "time_window = 10 # width of the spectrogram in the time direction \n",
    "T_length = 3 # how many spectrograms grouped together\n",
    "proceed = 1 # Parameter controlling overlap across spectrogram. 1 = max overalp, T_length-1 = no overlap\n",
    "device = torch.device('cuda')\n",
    "bad_dates = ['180326', '180328', '171019', '180715', '180716', '180717']"
   ]
  },
  {
   "cell_type": "code",
   "execution_count": 36,
   "metadata": {},
   "outputs": [],
   "source": [
    "val_dates = ['180327','180329']\n",
    "test_dates = ['180330','180331']\n",
    "load_path = '/home/bijanadmin/Desktop/Goose_data/data_Goose_1st_2/'\n",
    "# save_path = '/mnt/pesaranlab/People/Capstone_students/Yue/model/model_presentation_yue/model_Goose_1st'"
   ]
  },
  {
   "cell_type": "code",
   "execution_count": 37,
   "metadata": {},
   "outputs": [
    {
     "name": "stdout",
     "output_type": "stream",
     "text": [
      "180324_003_62_time1036.0_sleep.npy\n"
     ]
    },
    {
     "data": {
      "text/plain": [
       "'sleep'"
      ]
     },
     "execution_count": 37,
     "metadata": {},
     "output_type": "execute_result"
    }
   ],
   "source": [
    "sleep_files = os.listdir(load_path+'sleep/')\n",
    "move_files = os.listdir(load_path+'move/')\n",
    "all_files = sleep_files+move_files\n",
    "f = all_files[0]\n",
    "print(f)\n",
    "f.split('_')[-1].split('.')[0]"
   ]
  },
  {
   "cell_type": "markdown",
   "metadata": {},
   "source": [
    "### Clear GPU cache"
   ]
  },
  {
   "cell_type": "code",
   "execution_count": 38,
   "metadata": {},
   "outputs": [
    {
     "name": "stdout",
     "output_type": "stream",
     "text": [
      "cuda\n"
     ]
    }
   ],
   "source": [
    "print(device)\n",
    "torch.cuda.empty_cache()"
   ]
  },
  {
   "cell_type": "markdown",
   "metadata": {},
   "source": [
    "### Function to create the data set and make it into grouped spectrograms (windows)\n",
    "The function assigns the label 1 to sleep and label 0 to movement, creates a dictionary to store the data set and groups the data into sets of spectrograms by calling the function create_files_new_helper"
   ]
  },
  {
   "cell_type": "code",
   "execution_count": 39,
   "metadata": {},
   "outputs": [],
   "source": [
    "def create_files_new(load_path, bad_dates, T_length=10, proceed=1): \n",
    "    sleep_files = os.listdir(load_path+'sleep/')\n",
    "    move_files = os.listdir(load_path+'move/')\n",
    "    all_files = sleep_files+move_files\n",
    "    \n",
    "    dic = {}\n",
    "    for f in all_files:\n",
    "        mvmt_type = f.split('_')[-1].split('.')[0]\n",
    "        date = f.split('_')[0]\n",
    "        rec = f.split('_')[1].split('_')[0]\n",
    "        time = float(f.split('_')[3][4:])\n",
    "        if date in bad_dates:\n",
    "            continue\n",
    "        if mvmt_type == 'sleep':\n",
    "            label = 1\n",
    "        else:\n",
    "            label = 0\n",
    "        if date in dic:\n",
    "            if rec in dic[date]:\n",
    "                dic[date][rec].append([f, label, mvmt_type, date, rec, time])\n",
    "            else:\n",
    "                dic[date][rec] = [[f, label, mvmt_type, date, rec, time]]\n",
    "        else:\n",
    "            dic[date] = {rec: [[f, label, mvmt_type, date, rec, time]]}\n",
    "        \n",
    "    for d in dic:\n",
    "        for r in dic[d]:\n",
    "            dic[d][r] = sorted(dic[d][r], key=operator.itemgetter(3, 4, 5))\n",
    "    \n",
    "    move_data, sleep_data = [], []\n",
    "    for d in dic:\n",
    "        for r in dic[d]:\n",
    "            sleep_grouped, move_grouped = create_files_new_helper(dic[d][r], T_length=T_length, proceed=proceed)\n",
    "            sleep_data.append(sleep_grouped)\n",
    "            move_data.append(move_grouped)\n",
    "    \n",
    "    return move_data, sleep_data"
   ]
  },
  {
   "cell_type": "markdown",
   "metadata": {},
   "source": [
    "### Function to group  a set of spectrogram windows together\n",
    "T_length = number of spectrograms grouped together <br>\n",
    "time_window = width of each spectrogram in the time direction <br>\n",
    "proceed =  number of time overlaps across different windows. <br> Proceed = 1, max overlap. Proceed = time_window-1, no overlap"
   ]
  },
  {
   "cell_type": "code",
   "execution_count": 40,
   "metadata": {},
   "outputs": [],
   "source": [
    "def create_files_new_helper(L, T_length, proceed):\n",
    "    L_labels = np.array([L[i][1] for i in range(len(L))])\n",
    "    L_times = np.array([L[i][-1] for i in range(len(L))])\n",
    "    \n",
    "    L_new_sleep, L_new_move = [], []\n",
    "    start = 0\n",
    "    while start <= len(L)-T_length:\n",
    "        end = start + T_length\n",
    "        #pdb.pm()\n",
    "        if sum(L_times[start+1:end]-L_times[start:end-1]-time_window) != 0:\n",
    "            start += 1\n",
    "            continue\n",
    "        if sum(L_labels[start:end]) == T_length:\n",
    "            L_new_sleep.append(L[start:end])\n",
    "        elif sum(L_labels[start:end]) == 0:\n",
    "            L_new_move.append(L[start:end])\n",
    "        start += proceed\n",
    "        \n",
    "    return L_new_sleep, L_new_move"
   ]
  },
  {
   "cell_type": "markdown",
   "metadata": {},
   "source": [
    "### Split the data into train, validation, and test"
   ]
  },
  {
   "cell_type": "code",
   "execution_count": 41,
   "metadata": {},
   "outputs": [],
   "source": [
    "move_files, sleep_files = create_files_new(load_path, bad_dates, T_length=T_length, proceed=proceed)\n",
    "train_files, val_files, test_files = [], [], []\n",
    "for f in move_files+sleep_files:\n",
    "    if f:\n",
    "        if f[0][1][3] in val_dates:\n",
    "            val_files.extend(f)\n",
    "        elif f[0][1][3] in test_dates:\n",
    "            test_files.extend(f)\n",
    "        else:\n",
    "            train_files.extend(f)           "
   ]
  },
  {
   "cell_type": "markdown",
   "metadata": {},
   "source": [
    "### Shuffle data sets "
   ]
  },
  {
   "cell_type": "code",
   "execution_count": 42,
   "metadata": {},
   "outputs": [],
   "source": [
    "# random shuffle the data across groups\n",
    "random.shuffle(train_files)\n",
    "random.shuffle(val_files)\n",
    "random.shuffle(test_files)"
   ]
  },
  {
   "cell_type": "code",
   "execution_count": 43,
   "metadata": {},
   "outputs": [
    {
     "data": {
      "text/plain": [
       "202440"
      ]
     },
     "execution_count": 43,
     "metadata": {},
     "output_type": "execute_result"
    }
   ],
   "source": [
    "len(train_files)*10 + len(val_files)*10 + len(test_files)*10"
   ]
  },
  {
   "cell_type": "markdown",
   "metadata": {},
   "source": [
    "### Upsample smaller TRAINING data set (movement) in order to have a balanced sleep/movement data set"
   ]
  },
  {
   "cell_type": "code",
   "execution_count": 44,
   "metadata": {},
   "outputs": [],
   "source": [
    "def upsample(train_files):\n",
    "    train_sleep = [i for i in train_files if i[0][1] == 1]\n",
    "    train_move = [i for i in train_files if i[0][1] == 0]\n",
    "    diff = abs(len(train_sleep)-len(train_move))\n",
    "    train_new = []\n",
    "    d = 0\n",
    "    while d < diff:\n",
    "        if len(train_sleep) > len(train_move):\n",
    "            ind = random.randint(0, len(train_move)-1)\n",
    "            x = train_move[ind]\n",
    "            d += 1\n",
    "        else:\n",
    "            ind = random.randint(0, len(train_sleep)-1)\n",
    "            x = train_sleep[ind]\n",
    "            d += 1\n",
    "        train_new.append(x)   \n",
    "    train_files = train_sleep+train_move+train_new\n",
    "    return train_files"
   ]
  },
  {
   "cell_type": "code",
   "execution_count": 45,
   "metadata": {},
   "outputs": [],
   "source": [
    "train_files = upsample(train_files)"
   ]
  },
  {
   "cell_type": "markdown",
   "metadata": {},
   "source": [
    "### Downsample validation "
   ]
  },
  {
   "cell_type": "code",
   "execution_count": 46,
   "metadata": {},
   "outputs": [],
   "source": [
    "## Balance val \n",
    "sleep_files = []\n",
    "move_files = []\n",
    "for t in range(len(val_files)):\n",
    "    if 'sleep' in val_files[t][0]:\n",
    "        sleep_files.append(val_files[t])\n",
    "    if 'move' in val_files[t][0]:\n",
    "        move_files.append(val_files[t])\n",
    "\n",
    "sleep_sample = sample(sleep_files, len(move_files))\n",
    "val_2_files = sleep_sample+move_files"
   ]
  },
  {
   "cell_type": "code",
   "execution_count": 47,
   "metadata": {},
   "outputs": [
    {
     "name": "stdout",
     "output_type": "stream",
     "text": [
      "training data volume:  17266\n",
      "validation data volume:  2004\n",
      "rate val/train 0.12\n"
     ]
    }
   ],
   "source": [
    "print('training data volume: ',len(train_files))\n",
    "print('validation data volume: ',len(val_2_files))\n",
    "print('rate val/train {:.2f}'.format(len(val_2_files)/len(train_files)))"
   ]
  },
  {
   "cell_type": "markdown",
   "metadata": {},
   "source": [
    "### Load Data Set - Class"
   ]
  },
  {
   "cell_type": "code",
   "execution_count": 136,
   "metadata": {},
   "outputs": [],
   "source": [
    "class SpectrogramDatasetAtt(Dataset):\n",
    "    def __init__(self, files, load_path, T_length, all_label=False, CH=None):\n",
    "        self.CH = CH\n",
    "        self.files = files\n",
    "        self.load_path = load_path\n",
    "        self.T_length = T_length\n",
    "        self.all_label = all_label\n",
    "  \n",
    "    def __len__(self):\n",
    "        return len(self.files)\n",
    "    \n",
    "    def __getitem__(self, idx):\n",
    "        group = self.files[idx]\n",
    "        specs, labels, dates, recs, times = [], [], [], [], []\n",
    "        \n",
    "        for i in range(len(group)): # for each window in the group \n",
    "            f, label, mvmt_type, date, rec, time = group[i]\n",
    "            spec = torch.from_numpy(np.load(self.load_path+mvmt_type+'/'+f)) # load the spectrogram file\n",
    "            if self.CH is not None: \n",
    "                # get spectrogram for specific channel\n",
    "                spec = torch.transpose(spec[self.CH,:,:].unsqueeze(0), 2, 1) # careful with the dimensions order here \n",
    "            else:\n",
    "                # get spectrograms for 62 channels \n",
    "                spec = torch.transpose(spec, 2, 1) # careful with the dimension order here \n",
    "            # append spectrograms and metadata\n",
    "            specs.append(spec)\n",
    "            labels.append(torch.Tensor([label]))\n",
    "            dates.append(date)\n",
    "            recs.append(rec)\n",
    "            times.append(time)\n",
    "            if i == (self.T_length-1)/2: # what happens if T_length is even?\n",
    "                label_mid = torch.Tensor([label])\n",
    "                date_mid = date\n",
    "                rec_mid = rec\n",
    "                time_mid = time\n",
    "        if self.all_label:\n",
    "            return specs, labels, dates, recs, times\n",
    "        else:\n",
    "            return specs, label_mid, date_mid, rec_mid, time_mid"
   ]
  },
  {
   "cell_type": "code",
   "execution_count": 48,
   "metadata": {},
   "outputs": [],
   "source": [
    "class SpectrogramDatasetAtt(Dataset):\n",
    "    def __init__(self, files, load_path, T_length, all_label=False, CH=None):\n",
    "        self.CH = CH\n",
    "        self.files = files\n",
    "        self.load_path = load_path\n",
    "        self.T_length = T_length\n",
    "        self.all_label = all_label\n",
    "  \n",
    "    def __len__(self):\n",
    "        return len(self.files)\n",
    "    \n",
    "    def __getitem__(self, idx):\n",
    "        group = self.files[idx]\n",
    "        specs, labels, dates, recs, times = [], [], [], [], []\n",
    "        for i in range(len(group)):\n",
    "            f, label, mvmt_type, date, rec, time = group[i]\n",
    "            spec = torch.from_numpy(np.load(self.load_path+mvmt_type+'/'+f))\n",
    "            if self.CH is not None:\n",
    "                spec = torch.transpose(spec[self.CH,:,:].unsqueeze(0), 2, 1)\n",
    "            else:\n",
    "                spec = torch.transpose(spec, 2, 1)\n",
    "            specs.append(spec)\n",
    "            labels.append(torch.Tensor([label]))\n",
    "            dates.append(date)\n",
    "            recs.append(rec)\n",
    "            times.append(time)\n",
    "            if (self.all_label==False) and (i == (self.T_length-1)/2):\n",
    "                labels = torch.Tensor([label])\n",
    "                dates = date\n",
    "                recs = rec\n",
    "                times = time\n",
    "            \n",
    "        return specs, labels, dates, recs, times"
   ]
  },
  {
   "cell_type": "markdown",
   "metadata": {},
   "source": [
    "### Data Loaders"
   ]
  },
  {
   "cell_type": "code",
   "execution_count": 137,
   "metadata": {},
   "outputs": [],
   "source": [
    "train_dataset = SpectrogramDatasetAtt(files=train_files, load_path=load_path, T_length=3, all_label=False, CH=CH)\n",
    "valid_dataset = SpectrogramDatasetAtt(files=val_files, load_path=load_path, T_length=3, all_label=False, CH=CH)\n",
    "test_dataset = SpectrogramDatasetAtt(files=test_files, load_path=load_path, T_length=3, all_label=False, CH=CH)\n",
    "\n",
    "train_loader = DataLoader(dataset=train_dataset, batch_size=128, shuffle = False)\n",
    "val_loader = DataLoader(dataset=valid_dataset, batch_size=128, shuffle = False)\n",
    "test_loader = DataLoader(dataset=test_dataset, batch_size=128, shuffle = False)"
   ]
  },
  {
   "cell_type": "code",
   "execution_count": 148,
   "metadata": {},
   "outputs": [
    {
     "data": {
      "text/plain": [
       "tensor([[1., 1., 1., 1., 1., 1., 1., 1., 1., 1., 1., 1., 1., 1., 1., 1., 1., 1.,\n",
       "         1., 1., 1., 1., 1., 1., 1., 1., 1., 1., 1., 1., 1., 1., 1., 1., 1., 1.,\n",
       "         1., 1., 1., 1., 1., 1., 1., 1., 1., 1., 1., 1., 1., 1., 1., 1., 1., 1.,\n",
       "         1., 1., 1., 1., 1., 1., 1., 1., 1., 1., 1., 1., 1., 1., 1., 1., 1., 1.,\n",
       "         1., 1., 1., 1., 1., 1., 1., 1., 1., 1., 1., 1., 1., 1., 1., 1., 1., 1.,\n",
       "         1., 1., 1., 1., 1., 1., 1., 1., 1., 1., 1., 1., 1., 1., 1., 1., 1., 1.,\n",
       "         1., 1., 1., 1., 1., 1., 1., 1., 1., 1., 1., 1., 1., 1., 1., 1., 1., 1.,\n",
       "         1., 1.]])"
      ]
     },
     "execution_count": 148,
     "metadata": {},
     "output_type": "execute_result"
    }
   ],
   "source": [
    "for specs, labels, dates, recs, times in train_loader:\n",
    "    break\n",
    "specs[0].shape\n",
    "labels.T"
   ]
  },
  {
   "cell_type": "markdown",
   "metadata": {},
   "source": [
    "### Print inputs"
   ]
  },
  {
   "cell_type": "code",
   "execution_count": 52,
   "metadata": {},
   "outputs": [
    {
     "data": {
      "image/png": "[encoded data removed]",
      "text/plain": [
       "<Figure size 432x288 with 1 Axes>"
      ]
     },
     "metadata": {
      "needs_background": "light"
     },
     "output_type": "display_data"
    }
   ],
   "source": [
    "# check if input makes sense\n",
    "plt.imshow(specs[0][0, 0, :, :])\n",
    "plt.yticks(ticks=[0, 20, 40, 60, 80, 99], labels=[round(np.logspace(0, 2.45, 100)[i]) for i in [0, 20, 40, 60, 80, 99]])\n",
    "plt.xticks(ticks=[0, 9], labels=[1, 10])\n",
    "plt.show()"
   ]
  },
  {
   "cell_type": "markdown",
   "metadata": {},
   "source": [
    "### Positional encoding"
   ]
  },
  {
   "cell_type": "code",
   "execution_count": 53,
   "metadata": {},
   "outputs": [],
   "source": [
    "def position_encoding_init(n_position, emb_dim):\n",
    "    position_enc = np.array([\n",
    "        [pos / np.power(10000, 2 * (j // 2) / emb_dim) for j in range(emb_dim)]\n",
    "        if pos != 0 else np.zeros(emb_dim) for pos in range(n_position)])\n",
    "    \n",
    "    position_enc[1:, 0::2] = np.sin(position_enc[1:, 0::2]) # apply sin on 0th,2nd,4th...emb_dim\n",
    "    position_enc[1:, 1::2] = np.cos(position_enc[1:, 1::2]) # apply cos on 1st,3rd,5th...emb_dim\n",
    "    return torch.from_numpy(position_enc).type(torch.FloatTensor)"
   ]
  },
  {
   "cell_type": "code",
   "execution_count": 54,
   "metadata": {},
   "outputs": [
    {
     "data": {
      "image/png": "[encoded data removed]",
      "text/plain": [
       "<Figure size 432x288 with 2 Axes>"
      ]
     },
     "metadata": {
      "needs_background": "light"
     },
     "output_type": "display_data"
    }
   ],
   "source": [
    "a = position_encoding_init(10, 30).numpy().T\n",
    "plt.imshow(a)\n",
    "plt.colorbar()\n",
    "plt.show()"
   ]
  },
  {
   "cell_type": "markdown",
   "metadata": {},
   "source": [
    "### Accuracy function "
   ]
  },
  {
   "cell_type": "code",
   "execution_count": 55,
   "metadata": {},
   "outputs": [],
   "source": [
    "def get_accuracy(model, loader, device='cuda'):\n",
    "    correct = 0\n",
    "    total = 0\n",
    "    with torch.no_grad():\n",
    "        for data, labels, _, _, _ in loader:\n",
    "            labels = torch.stack(labels).transpose(1,0)\n",
    "            labels = labels.to(device).float()\n",
    "            data = torch.stack(data).transpose(1,0)\n",
    "            data = data.to(device).float()\n",
    "            data_pos = torch.LongTensor([list(range(T_length))]).to(device)\n",
    "            outputs = model(data, data_pos)\n",
    "            \n",
    "            predictions = (outputs > 0.5) * 1.0\n",
    "            predictions = predictions.flatten().detach().cpu().numpy()\n",
    "            labels = labels.flatten().cpu().numpy()\n",
    "            total += len(labels)\n",
    "            correct += (predictions == labels).sum()\n",
    "            \n",
    "    accuracy = correct / total\n",
    "    return accuracy"
   ]
  },
  {
   "cell_type": "markdown",
   "metadata": {},
   "source": [
    "### Train and evaluate functions"
   ]
  },
  {
   "cell_type": "code",
   "execution_count": 149,
   "metadata": {},
   "outputs": [],
   "source": [
    "def train(model, optimizer, criterion, loader, T_length, device='cuda'):\n",
    "    model.train()\n",
    "    epoch_losses = 0\n",
    "    epoch_lens = 0\n",
    "    \n",
    "    # criterion = nn.BCELoss()\n",
    "    \n",
    "    for batch_idx, (data, labels, _, _, _) in enumerate(loader):\n",
    "        pdb.set_trace()\n",
    "        labels = torch.stack(labels).transpose(1,0)\n",
    "        pdb.set_trace()\n",
    "        labels = labels.to(device).float()\n",
    "        data = torch.stack(data).transpose(1,0)\n",
    "        data = data.to(device).float()\n",
    "        data_pos = torch.LongTensor([list(range(T_length))]).to(device)\n",
    "        outputs = model(data, data_pos)\n",
    "        pdb.set_trace()\n",
    "        loss = criterion(outputs, labels)\n",
    "        epoch_losses += loss\n",
    "        epoch_lens += 1\n",
    "\n",
    "        optimizer.zero_grad()\n",
    "        loss.backward() # Will back propogation work correctly?\n",
    "        optimizer.step()\n",
    "    \n",
    "    epoch_accs = get_accuracy(model, loader, device=device)\n",
    "    return epoch_losses/epoch_lens, epoch_accs\n",
    "\n",
    "def evaluate(model, optimizer, criterion, loader, T_length, device='cuda'):\n",
    "    model.eval()\n",
    "    epoch_losses = 0\n",
    "    epoch_lens = 0\n",
    "    \n",
    "    with torch.no_grad():\n",
    "        for batch_idx, (data, labels, _, _, _) in enumerate(loader):\n",
    "            labels = torch.stack(labels).transpose(1,0)\n",
    "            labels = labels.to(device).float()\n",
    "            data = torch.stack(data).transpose(1,0)\n",
    "            data = data.to(device).float()\n",
    "            data_pos = torch.LongTensor([list(range(T_length))]).to(device)\n",
    "            outputs = model(data, data_pos)\n",
    "            loss = criterion(outputs, labels)\n",
    "            epoch_losses += loss\n",
    "            epoch_lens += 1\n",
    "    \n",
    "    epoch_accs = get_accuracy(model, loader, device=device)\n",
    "    return epoch_losses/epoch_lens, epoch_accs"
   ]
  },
  {
   "cell_type": "markdown",
   "metadata": {},
   "source": [
    "### CNN and Attention class"
   ]
  },
  {
   "cell_type": "code",
   "execution_count": 150,
   "metadata": {},
   "outputs": [],
   "source": [
    "# https://pytorch.org/tutorials/intermediate/seq2seq_translation_tutorial.html\n",
    "# https://github.com/heykeetae/Self-Attention-GAN/blob/master/sagan_models.py\n",
    "\n",
    "class CNN(nn.Module):\n",
    "    def __init__(self, p_dropout, out_dim):\n",
    "        super(CNN, self).__init__()\n",
    "        \n",
    "        # CNN\n",
    "        self.conv1 = nn.Conv2d(in_channels=1, out_channels=2, kernel_size=(3,3), stride=(1,1), padding=(1,1))\n",
    "        self.conv2 = nn.Conv2d(in_channels=2, out_channels=4, kernel_size=(3,3), stride=(1,1), padding=(1,1))\n",
    "        self.pool = nn.MaxPool2d(2,2)\n",
    "        self.dropout = nn.Dropout(p_dropout)\n",
    "        self.bn1 = nn.BatchNorm2d(2)\n",
    "        self.bn2 = nn.BatchNorm2d(4)\n",
    "        self.fc1 = nn.Linear(4*25*2, out_dim)\n",
    "              \n",
    "    def forward(self, x):\n",
    "        # CNN\n",
    "        x = x.float()\n",
    "        x = self.pool(F.relu(self.bn1(self.conv1(x))))\n",
    "        x = self.pool(F.relu(self.bn2(self.conv2(x))))\n",
    "        x = x.view(x.shape[0],-1) \n",
    "        x = self.dropout(x)\n",
    "        x = self.fc1(x) # last CNN MLP output becomes the input of the Attention module \n",
    "        \n",
    "        return x\n",
    "    \n",
    "\n",
    "class Attention1(nn.Module):\n",
    "    def __init__(self, att_dim, T_length, p_dropout_att, all_label=False):\n",
    "        super(Attention1, self).__init__()\n",
    "        \n",
    "        # Positional Encoding\n",
    "        self.position_enc = nn.Embedding(T_length, att_dim)\n",
    "        self.position_enc.weight.data = position_encoding_init(T_length, att_dim)\n",
    "\n",
    "        # Attention\n",
    "        self.query = nn.Linear(att_dim, att_dim)\n",
    "        self.tanh = nn.Tanh()\n",
    "        self.softmax = nn.Softmax(dim=-1) # every slice along dim will sum to 1\n",
    "        self.ff1 = nn.Linear(att_dim, att_dim)\n",
    "        self.relu = nn.ReLU()\n",
    "        self.ff2 = nn.Linear(att_dim, att_dim)\n",
    "        \n",
    "        self.fc = nn.Linear(att_dim, 1) # paper uses 2 layers\n",
    "        \n",
    "        self.dropout = nn.Dropout(p_dropout_att)\n",
    "       \n",
    "        self.T_length = T_length\n",
    "        self.all_label = all_label\n",
    "        \n",
    "    def forward(self, x, x_pos):\n",
    "        x = x.float()        \n",
    "#         x += self.position_enc(x_pos)\n",
    "        \n",
    "        Q = self.query(x)  # Q = X*W + B\n",
    "#         Q = self.dropout(Q)\n",
    "        \n",
    "        energy =  torch.bmm(Q, x.permute(0, 2, 1)) # Q*X_T\n",
    "        attention = self.softmax(self.tanh(energy)) # alpha\n",
    "#         attention = self.softmax(energy)\n",
    "        x_att = torch.bmm(attention, x) # Attention \n",
    "\n",
    "        x_att = self.dropout(x_att)\n",
    "#         x_output = torch.sigmoid(self.fc(x_att))\n",
    "#         x_att = self.ff2(self.relu(self.ff1(x_att)))\n",
    "#         x_att = self.dropout(x_att)\n",
    "        x_output = torch.sigmoid(self.fc(x_att))\n",
    "      \n",
    "        if self.all_label:\n",
    "            return x_output\n",
    "        return x_output[:, int((self.T_length-1)/2), :]\n",
    "\n",
    "class CNN_ATT(nn.Module):\n",
    "    def __init__(self, p_dropout, p_dropout_att, att_dim, T_length, all_label):\n",
    "        super(CNN_ATT, self).__init__()\n",
    "        self.cnn = CNN(p_dropout, att_dim)\n",
    "        self.att = Attention1(att_dim, T_length, all_label)\n",
    "        self.T_length = T_length\n",
    "        self.att_dim = att_dim\n",
    "    \n",
    "    def forward(self, x, x_pos):\n",
    "        CNN_outputs = torch.zeros(x.shape[0], x.shape[1], self.att_dim, device='cuda') # create tensor to store CNN outputs \n",
    "        for t in range(self.T_length):\n",
    "            x_t = x[:, t, :].float()\n",
    "            CNN_outputs[:, t, :] = self.cnn(x_t)\n",
    "        Att_outputs = self.att(CNN_outputs, x_pos)\n",
    "        \n",
    "        return Att_outputs"
   ]
  },
  {
   "cell_type": "markdown",
   "metadata": {},
   "source": [
    "### Specify models and training parameters"
   ]
  },
  {
   "cell_type": "code",
   "execution_count": 151,
   "metadata": {},
   "outputs": [
    {
     "data": {
      "text/plain": [
       "CNN_ATT(\n",
       "  (cnn): CNN(\n",
       "    (conv1): Conv2d(1, 2, kernel_size=(3, 3), stride=(1, 1), padding=(1, 1))\n",
       "    (conv2): Conv2d(2, 4, kernel_size=(3, 3), stride=(1, 1), padding=(1, 1))\n",
       "    (pool): MaxPool2d(kernel_size=2, stride=2, padding=0, dilation=1, ceil_mode=False)\n",
       "    (dropout): Dropout(p=0.2, inplace=False)\n",
       "    (bn1): BatchNorm2d(2, eps=1e-05, momentum=0.1, affine=True, track_running_stats=True)\n",
       "    (bn2): BatchNorm2d(4, eps=1e-05, momentum=0.1, affine=True, track_running_stats=True)\n",
       "    (fc1): Linear(in_features=200, out_features=128, bias=True)\n",
       "  )\n",
       "  (att): Attention1(\n",
       "    (position_enc): Embedding(3, 128)\n",
       "    (query): Linear(in_features=128, out_features=128, bias=True)\n",
       "    (tanh): Tanh()\n",
       "    (softmax): Softmax(dim=-1)\n",
       "    (ff1): Linear(in_features=128, out_features=128, bias=True)\n",
       "    (relu): ReLU()\n",
       "    (ff2): Linear(in_features=128, out_features=128, bias=True)\n",
       "    (fc): Linear(in_features=128, out_features=1, bias=True)\n",
       "    (dropout): Dropout(p=False, inplace=False)\n",
       "  )\n",
       ")"
      ]
     },
     "execution_count": 151,
     "metadata": {},
     "output_type": "execute_result"
    }
   ],
   "source": [
    "learning_rate = 0.001\n",
    "num_epochs = 31\n",
    "model_type = 'CNN-Attention'\n",
    "loss_type = 'bce'\n",
    "p_dropout = 0.2\n",
    "p_dropout_att = 0.2\n",
    "att_dim = 128\n",
    "T_length = 3\n",
    "all_label = False\n",
    "verbose = True\n",
    "\n",
    "model = CNN_ATT(p_dropout, p_dropout_att, att_dim, T_length, all_label).to(device)\n",
    "optimizer = torch.optim.Adam(model.parameters(), lr = learning_rate)\n",
    "criterion = nn.BCELoss() # BCE loss\n",
    "model"
   ]
  },
  {
   "cell_type": "markdown",
   "metadata": {},
   "source": [
    "### Initialize the weights"
   ]
  },
  {
   "cell_type": "code",
   "execution_count": 152,
   "metadata": {},
   "outputs": [
    {
     "data": {
      "text/plain": [
       "CNN_ATT(\n",
       "  (cnn): CNN(\n",
       "    (conv1): Conv2d(1, 2, kernel_size=(3, 3), stride=(1, 1), padding=(1, 1))\n",
       "    (conv2): Conv2d(2, 4, kernel_size=(3, 3), stride=(1, 1), padding=(1, 1))\n",
       "    (pool): MaxPool2d(kernel_size=2, stride=2, padding=0, dilation=1, ceil_mode=False)\n",
       "    (dropout): Dropout(p=0.2, inplace=False)\n",
       "    (bn1): BatchNorm2d(2, eps=1e-05, momentum=0.1, affine=True, track_running_stats=True)\n",
       "    (bn2): BatchNorm2d(4, eps=1e-05, momentum=0.1, affine=True, track_running_stats=True)\n",
       "    (fc1): Linear(in_features=200, out_features=128, bias=True)\n",
       "  )\n",
       "  (att): Attention1(\n",
       "    (position_enc): Embedding(3, 128)\n",
       "    (query): Linear(in_features=128, out_features=128, bias=True)\n",
       "    (tanh): Tanh()\n",
       "    (softmax): Softmax(dim=-1)\n",
       "    (ff1): Linear(in_features=128, out_features=128, bias=True)\n",
       "    (relu): ReLU()\n",
       "    (ff2): Linear(in_features=128, out_features=128, bias=True)\n",
       "    (fc): Linear(in_features=128, out_features=1, bias=True)\n",
       "    (dropout): Dropout(p=False, inplace=False)\n",
       "  )\n",
       ")"
      ]
     },
     "execution_count": 152,
     "metadata": {},
     "output_type": "execute_result"
    }
   ],
   "source": [
    "def weights_init(m):\n",
    "    if isinstance(m, nn.Linear):\n",
    "        torch.nn.init.xavier_uniform_(m.weight.data) # initialize all the Feed Forward (MLP) layer\n",
    "    if isinstance(m, nn.Conv2d):\n",
    "        torch.nn.init.xavier_uniform_(m.weight.data) # initialize convolutional layers \n",
    "    \n",
    "torch.manual_seed(90)\n",
    "model.apply(weights_init)\n",
    "# torch.nn.init.xavier_uniform_(model.cnn.conv1.weight)\n",
    "# model.cnn.conv2.weight\n",
    "# model.att.query.weight"
   ]
  },
  {
   "cell_type": "code",
   "execution_count": null,
   "metadata": {},
   "outputs": [
    {
     "name": "stdout",
     "output_type": "stream",
     "text": [
      "> \u001b[0;32m<ipython-input-149-f5176acede31>\u001b[0m(10)\u001b[0;36mtrain\u001b[0;34m()\u001b[0m\n",
      "\u001b[0;32m      8 \u001b[0;31m    \u001b[0;32mfor\u001b[0m \u001b[0mbatch_idx\u001b[0m\u001b[0;34m,\u001b[0m \u001b[0;34m(\u001b[0m\u001b[0mdata\u001b[0m\u001b[0;34m,\u001b[0m \u001b[0mlabels\u001b[0m\u001b[0;34m,\u001b[0m \u001b[0m_\u001b[0m\u001b[0;34m,\u001b[0m \u001b[0m_\u001b[0m\u001b[0;34m,\u001b[0m \u001b[0m_\u001b[0m\u001b[0;34m)\u001b[0m \u001b[0;32min\u001b[0m \u001b[0menumerate\u001b[0m\u001b[0;34m(\u001b[0m\u001b[0mloader\u001b[0m\u001b[0;34m)\u001b[0m\u001b[0;34m:\u001b[0m\u001b[0;34m\u001b[0m\u001b[0;34m\u001b[0m\u001b[0m\n",
      "\u001b[0m\u001b[0;32m      9 \u001b[0;31m        \u001b[0mpdb\u001b[0m\u001b[0;34m.\u001b[0m\u001b[0mset_trace\u001b[0m\u001b[0;34m(\u001b[0m\u001b[0;34m)\u001b[0m\u001b[0;34m\u001b[0m\u001b[0;34m\u001b[0m\u001b[0m\n",
      "\u001b[0m\u001b[0;32m---> 10 \u001b[0;31m        \u001b[0mlabels\u001b[0m \u001b[0;34m=\u001b[0m \u001b[0mtorch\u001b[0m\u001b[0;34m.\u001b[0m\u001b[0mstack\u001b[0m\u001b[0;34m(\u001b[0m\u001b[0mlabels\u001b[0m\u001b[0;34m)\u001b[0m\u001b[0;34m.\u001b[0m\u001b[0mtranspose\u001b[0m\u001b[0;34m(\u001b[0m\u001b[0;36m1\u001b[0m\u001b[0;34m,\u001b[0m\u001b[0;36m0\u001b[0m\u001b[0;34m)\u001b[0m\u001b[0;34m\u001b[0m\u001b[0;34m\u001b[0m\u001b[0m\n",
      "\u001b[0m\u001b[0;32m     11 \u001b[0;31m        \u001b[0mpdb\u001b[0m\u001b[0;34m.\u001b[0m\u001b[0mset_trace\u001b[0m\u001b[0;34m(\u001b[0m\u001b[0;34m)\u001b[0m\u001b[0;34m\u001b[0m\u001b[0;34m\u001b[0m\u001b[0m\n",
      "\u001b[0m\u001b[0;32m     12 \u001b[0;31m        \u001b[0mlabels\u001b[0m \u001b[0;34m=\u001b[0m \u001b[0mlabels\u001b[0m\u001b[0;34m.\u001b[0m\u001b[0mto\u001b[0m\u001b[0;34m(\u001b[0m\u001b[0mdevice\u001b[0m\u001b[0;34m)\u001b[0m\u001b[0;34m.\u001b[0m\u001b[0mfloat\u001b[0m\u001b[0;34m(\u001b[0m\u001b[0;34m)\u001b[0m\u001b[0;34m\u001b[0m\u001b[0;34m\u001b[0m\u001b[0m\n",
      "\u001b[0m\n",
      "ipdb> labels.T\n",
      "tensor([[1., 1., 1., 1., 1., 1., 1., 1., 1., 1., 1., 1., 1., 1., 1., 1., 1., 1.,\n",
      "         1., 1., 1., 1., 1., 1., 1., 1., 1., 1., 1., 1., 1., 1., 1., 1., 1., 1.,\n",
      "         1., 1., 1., 1., 1., 1., 1., 1., 1., 1., 1., 1., 1., 1., 1., 1., 1., 1.,\n",
      "         1., 1., 1., 1., 1., 1., 1., 1., 1., 1., 1., 1., 1., 1., 1., 1., 1., 1.,\n",
      "         1., 1., 1., 1., 1., 1., 1., 1., 1., 1., 1., 1., 1., 1., 1., 1., 1., 1.,\n",
      "         1., 1., 1., 1., 1., 1., 1., 1., 1., 1., 1., 1., 1., 1., 1., 1., 1., 1.,\n",
      "         1., 1., 1., 1., 1., 1., 1., 1., 1., 1., 1., 1., 1., 1., 1., 1., 1., 1.,\n",
      "         1., 1.]])\n",
      "ipdb> torch.stack(labels)\n",
      "*** TypeError: stack(): argument 'tensors' (position 1) must be tuple of Tensors, not Tensor\n",
      "ipdb> labels.T\n",
      "tensor([[1., 1., 1., 1., 1., 1., 1., 1., 1., 1., 1., 1., 1., 1., 1., 1., 1., 1.,\n",
      "         1., 1., 1., 1., 1., 1., 1., 1., 1., 1., 1., 1., 1., 1., 1., 1., 1., 1.,\n",
      "         1., 1., 1., 1., 1., 1., 1., 1., 1., 1., 1., 1., 1., 1., 1., 1., 1., 1.,\n",
      "         1., 1., 1., 1., 1., 1., 1., 1., 1., 1., 1., 1., 1., 1., 1., 1., 1., 1.,\n",
      "         1., 1., 1., 1., 1., 1., 1., 1., 1., 1., 1., 1., 1., 1., 1., 1., 1., 1.,\n",
      "         1., 1., 1., 1., 1., 1., 1., 1., 1., 1., 1., 1., 1., 1., 1., 1., 1., 1.,\n",
      "         1., 1., 1., 1., 1., 1., 1., 1., 1., 1., 1., 1., 1., 1., 1., 1., 1., 1.,\n",
      "         1., 1.]])\n",
      "ipdb> labels.T.shape\n",
      "torch.Size([1, 128])\n"
     ]
    }
   ],
   "source": [
    "# Attention1 (separate dates, upsample only train, all labels for Attention1)\n",
    "train_losses, train_accs, val_losses, val_accs = [], [], [], []\n",
    "for epoch in range(num_epochs):\n",
    "    train_loss, train_acc = train(model, optimizer, criterion, train_loader, T_length=T_length, device='cuda')\n",
    "    val_loss, val_acc = evaluate(model, optimizer, criterion, val_loader, T_length=T_length, device='cuda')\n",
    "    train_losses.append(train_loss)\n",
    "    train_accs.append(train_acc)\n",
    "    val_losses.append(val_loss)\n",
    "    val_accs.append(val_acc)\n",
    "    if val_loss <= min(val_losses):\n",
    "        best_epoch = epoch\n",
    "        print(epoch)\n",
    "        print('Train loss for epoch {}: {}'.format(epoch, train_loss))\n",
    "        print('Val loss for epoch {}: {}'.format(epoch, val_loss))\n",
    "        # torch.save(model_CNN.state_dict(), '{}/{}_CH{}_LOSS{}_TW{}_TLEN{}_DROP{}_ATTDIM{}_EPOCH{}.pt'.format(path, model_type, CH, loss_type, time_window, T_length, p_dropout, att_dim, epoch))\n",
    "        # torch.save(model_Att.state_dict(), '{}/{}_CH{}_LOSS{}_TW{}_TLEN{}_DROP{}_ATTDIM{}_EPOCH{}.pt'.format(path, model_type, CH, loss_type, time_window, T_length, p_dropout, att_dim, epoch))\n",
    "    elif verbose:\n",
    "        print('Train loss for epoch {}: {}'.format(epoch, train_loss))\n",
    "        print('Val loss for epoch {}: {}'.format(epoch, val_loss))\n",
    "    if epoch % 10 == 0:\n",
    "        plot_loss_acc(train_losses, val_losses, train_accs, val_accs, model_type)\n",
    "        \n",
    "    # if epoch == num_epochs-1:\n",
    "        # torch.save(model.state_dict(), '{}/{}_CH{}_LOSS{}_TW{}_TLEN{}_DROP{}_ATTDIM{}_EPOCH{}.pt'.format(path, model_type, CH, loss_type, time_window, T_length, p_dropout, att_dim, epoch))\n",
    "        # torch.save(model_CNN.state_dict(), '{}/{}_CH{}_LOSS{}_TW{}_TLEN{}_DROP{}_ATTDIM{}_EPOCH{}.pt'.format(path, model_type, CH, loss_type, time_window, T_length, p_dropout, att_dim, epoch))\n",
    "\n",
    "plot_loss_acc(train_losses, val_losses, train_accs, val_accs, model_type)"
   ]
  },
  {
   "cell_type": "code",
   "execution_count": 124,
   "metadata": {},
   "outputs": [
    {
     "data": {
      "image/png": "[encoded data removed]",
      "text/plain": [
       "<Figure size 864x288 with 2 Axes>"
      ]
     },
     "metadata": {
      "needs_background": "light"
     },
     "output_type": "display_data"
    }
   ],
   "source": [
    "fig = plot_loss_acc(train_losses, val_losses, train_accs, val_accs, model_type)\n",
    "fig.savefig(load_path + 'figures/Goose_1st/'+'CNN_Attention_short_model_with_pos_enc_no_Q_drop.jpg')"
   ]
  },
  {
   "cell_type": "code",
   "execution_count": null,
   "metadata": {},
   "outputs": [],
   "source": []
  }
 ],
 "metadata": {
  "kernelspec": {
   "display_name": "Python 3",
   "language": "python",
   "name": "python3"
  },
  "language_info": {
   "codemirror_mode": {
    "name": "ipython",
    "version": 3
   },
   "file_extension": ".py",
   "mimetype": "text/x-python",
   "name": "python",
   "nbconvert_exporter": "python",
   "pygments_lexer": "ipython3",
   "version": "3.8.5"
  }
 },
 "nbformat": 4,
 "nbformat_minor": 4
}
